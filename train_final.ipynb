{
 "cells": [
  {
   "cell_type": "markdown",
   "metadata": {
    "editable": true,
    "id": "64YSZEYHvLWz",
    "tags": []
   },
   "source": [
    "# Road Segmentation Project\n"
   ]
  },
  {
   "cell_type": "code",
   "execution_count": 1,
   "metadata": {
    "id": "mywPp16Gv3fI"
   },
   "outputs": [],
   "source": [
    "# Imports\n",
    "import math\n",
    "import os\n",
    "import re\n",
    "import cv2\n",
    "import torch\n",
    "import numpy as np\n",
    "import parameters as params\n",
    "import utils\n",
    "import trainer\n",
    "from processing import augment\n",
    "import matplotlib.pyplot as plt\n",
    "import segmentation_models_pytorch as smp\n",
    "from glob import glob\n",
    "from random import sample\n",
    "from PIL import Image\n",
    "from torch import nn\n",
    "from train import train\n",
    "from torch.optim.lr_scheduler import ReduceLROnPlateau\n",
    "from sklearn.model_selection import train_test_split\n",
    "from utils.datasets import ImageDataset\n",
    "#from utils.dataset import ImageDataset, load_all_data\n",
    "from utils.losses import DiceBCELoss\n",
    "from utils import utils "
   ]
  },
  {
   "cell_type": "code",
   "execution_count": 2,
   "metadata": {},
   "outputs": [],
   "source": [
    "# Loading data\n",
    "device = 'cuda' if torch.cuda.is_available() else 'cpu'\n",
    "images_org = utils.load_images(os.path.join(params.ROOT_PATH, 'training', 'images'), False)\n",
    "masks_org = utils.load_images(os.path.join(params.ROOT_PATH, 'training', 'groundtruth'), True)"
   ]
  },
  {
   "cell_type": "code",
   "execution_count": 3,
   "metadata": {},
   "outputs": [],
   "source": [
    "## Uptraining\n",
    "import sys\n",
    "import wandb\n",
    "from pathlib import Path\n",
    "from tqdm import tqdm\n",
    "\n",
    "CHECKPOINT_PATH = Path(\"checkpoints\")\n",
    "DATA_PATH = Path(\"data\")\n"
   ]
  },
  {
   "cell_type": "code",
   "execution_count": 4,
   "metadata": {
    "scrolled": true
   },
   "outputs": [
    {
     "name": "stderr",
     "output_type": "stream",
     "text": [
      "ERROR:wandb.jupyter:Failed to detect the name of this notebook, you can set it manually with the WANDB_NOTEBOOK_NAME environment variable to enable code saving.\n",
      "\u001b[34m\u001b[1mwandb\u001b[0m: Currently logged in as: \u001b[33mbgueney\u001b[0m (\u001b[33mbesteguney\u001b[0m). Use \u001b[1m`wandb login --relogin`\u001b[0m to force relogin\n"
     ]
    },
    {
     "data": {
      "text/html": [
       "wandb version 0.17.5 is available!  To upgrade, please run:\n",
       " $ pip install wandb --upgrade"
      ],
      "text/plain": [
       "<IPython.core.display.HTML object>"
      ]
     },
     "metadata": {},
     "output_type": "display_data"
    },
    {
     "data": {
      "text/html": [
       "Tracking run with wandb version 0.17.4"
      ],
      "text/plain": [
       "<IPython.core.display.HTML object>"
      ]
     },
     "metadata": {},
     "output_type": "display_data"
    },
    {
     "data": {
      "text/html": [
       "Run data is saved locally in <code>/home/bgueney/CIL-2024/wandb/run-20240721_142507-01wuvgk1</code>"
      ],
      "text/plain": [
       "<IPython.core.display.HTML object>"
      ]
     },
     "metadata": {},
     "output_type": "display_data"
    },
    {
     "data": {
      "text/html": [
       "Syncing run <strong><a href='https://wandb.ai/besteguney/CIL/runs/01wuvgk1' target=\"_blank\">clean-fire-91</a></strong> to <a href='https://wandb.ai/besteguney/CIL' target=\"_blank\">Weights & Biases</a> (<a href='https://wandb.me/run' target=\"_blank\">docs</a>)<br/>"
      ],
      "text/plain": [
       "<IPython.core.display.HTML object>"
      ]
     },
     "metadata": {},
     "output_type": "display_data"
    },
    {
     "data": {
      "text/html": [
       " View project at <a href='https://wandb.ai/besteguney/CIL' target=\"_blank\">https://wandb.ai/besteguney/CIL</a>"
      ],
      "text/plain": [
       "<IPython.core.display.HTML object>"
      ]
     },
     "metadata": {},
     "output_type": "display_data"
    },
    {
     "data": {
      "text/html": [
       " View run at <a href='https://wandb.ai/besteguney/CIL/runs/01wuvgk1' target=\"_blank\">https://wandb.ai/besteguney/CIL/runs/01wuvgk1</a>"
      ],
      "text/plain": [
       "<IPython.core.display.HTML object>"
      ]
     },
     "metadata": {},
     "output_type": "display_data"
    },
    {
     "name": "stderr",
     "output_type": "stream",
     "text": [
      "Epoch 1/40 Training: 100%|██████████| 86/86 [00:12<00:00,  6.73it/s, loss=0.65, acc=0.193, f1_score=0.416] \n",
      "Epoch 1/40 Validation: 100%|██████████| 5/5 [00:00<00:00, 17.65it/s, val_loss=0.56] \n"
     ]
    },
    {
     "name": "stdout",
     "output_type": "stream",
     "text": [
      "\t- loss = 0.6499349121437517\n",
      "  \t- val_loss = 0.5598637342453003\n",
      "  \t- acc = 0.1928956199350745\n",
      "  \t- val_acc = 0.2765001118183136\n",
      "  \t- f1_score = 0.41601959182772524\n",
      "  \t- val_f1_score = 0.5780626654624939\n",
      " \n"
     ]
    },
    {
     "name": "stderr",
     "output_type": "stream",
     "text": [
      "Epoch 2/40 Training: 100%|██████████| 86/86 [00:11<00:00,  7.23it/s, loss=0.546, acc=0.41, f1_score=0.608] \n",
      "Epoch 2/40 Validation: 100%|██████████| 5/5 [00:00<00:00, 21.26it/s, val_loss=0.474]\n"
     ]
    },
    {
     "name": "stdout",
     "output_type": "stream",
     "text": [
      "\t- loss = 0.5461209146089332\n",
      "  \t- val_loss = 0.47441973686218264\n",
      "  \t- acc = 0.41038217932678933\n",
      "  \t- val_acc = 0.6683534979820251\n",
      "  \t- f1_score = 0.6080390779778014\n",
      "  \t- val_f1_score = 0.7136200189590454\n",
      " \n"
     ]
    },
    {
     "name": "stderr",
     "output_type": "stream",
     "text": [
      "Epoch 3/40 Training: 100%|██████████| 86/86 [00:12<00:00,  7.15it/s, loss=0.491, acc=0.683, f1_score=0.669]\n",
      "Epoch 3/40 Validation: 100%|██████████| 5/5 [00:00<00:00, 22.44it/s, val_loss=0.462]\n"
     ]
    },
    {
     "name": "stdout",
     "output_type": "stream",
     "text": [
      "\t- loss = 0.4914928279643835\n",
      "  \t- val_loss = 0.4620865821838379\n",
      "  \t- acc = 0.6831225330053374\n",
      "  \t- val_acc = 0.6844699501991272\n",
      "  \t- f1_score = 0.6692769880904708\n",
      "  \t- val_f1_score = 0.7055099368095398\n",
      " \n"
     ]
    },
    {
     "name": "stderr",
     "output_type": "stream",
     "text": [
      "Epoch 4/40 Training: 100%|██████████| 86/86 [00:12<00:00,  7.10it/s, loss=0.436, acc=0.776, f1_score=0.714]\n",
      "Epoch 4/40 Validation: 100%|██████████| 5/5 [00:00<00:00, 19.11it/s, val_loss=0.392]\n"
     ]
    },
    {
     "name": "stdout",
     "output_type": "stream",
     "text": [
      "\t- loss = 0.4357698823130408\n",
      "  \t- val_loss = 0.39168444871902464\n",
      "  \t- acc = 0.7762826112813728\n",
      "  \t- val_acc = 0.8128449559211731\n",
      "  \t- f1_score = 0.7140458070261534\n",
      "  \t- val_f1_score = 0.752538549900055\n",
      " \n"
     ]
    },
    {
     "name": "stderr",
     "output_type": "stream",
     "text": [
      "Epoch 5/40 Training: 100%|██████████| 86/86 [00:12<00:00,  6.96it/s, loss=0.371, acc=0.857, f1_score=0.75] \n",
      "Epoch 5/40 Validation: 100%|██████████| 5/5 [00:00<00:00, 19.88it/s, val_loss=0.362]\n"
     ]
    },
    {
     "name": "stdout",
     "output_type": "stream",
     "text": [
      "\t- loss = 0.37148461508196456\n",
      "  \t- val_loss = 0.36177008152008056\n",
      "  \t- acc = 0.857266403214876\n",
      "  \t- val_acc = 0.8550677299499512\n",
      "  \t- f1_score = 0.7504369983839434\n",
      "  \t- val_f1_score = 0.743729293346405\n",
      " \n"
     ]
    },
    {
     "name": "stderr",
     "output_type": "stream",
     "text": [
      "Epoch 6/40 Training: 100%|██████████| 86/86 [00:12<00:00,  7.03it/s, loss=0.323, acc=0.899, f1_score=0.769]\n",
      "Epoch 6/40 Validation: 100%|██████████| 5/5 [00:00<00:00, 21.25it/s, val_loss=0.299]\n"
     ]
    },
    {
     "name": "stdout",
     "output_type": "stream",
     "text": [
      "\t- loss = 0.32327064663864846\n",
      "  \t- val_loss = 0.29930160045623777\n",
      "  \t- acc = 0.8989223456659983\n",
      "  \t- val_acc = 0.9053399085998535\n",
      "  \t- f1_score = 0.7686307333236517\n",
      "  \t- val_f1_score = 0.7726030945777893\n",
      " \n"
     ]
    },
    {
     "name": "stderr",
     "output_type": "stream",
     "text": [
      "Epoch 7/40 Training: 100%|██████████| 86/86 [00:12<00:00,  7.16it/s, loss=0.285, acc=0.911, f1_score=0.782]\n",
      "Epoch 7/40 Validation: 100%|██████████| 5/5 [00:00<00:00, 20.81it/s, val_loss=0.274]\n"
     ]
    },
    {
     "name": "stdout",
     "output_type": "stream",
     "text": [
      "\t- loss = 0.28496115221533663\n",
      "  \t- val_loss = 0.27437639236450195\n",
      "  \t- acc = 0.9114508760529895\n",
      "  \t- val_acc = 0.9161205291748047\n",
      "  \t- f1_score = 0.7820315717957741\n",
      "  \t- val_f1_score = 0.7776636481285095\n",
      " \n"
     ]
    },
    {
     "name": "stderr",
     "output_type": "stream",
     "text": [
      "Epoch 8/40 Training: 100%|██████████| 86/86 [00:12<00:00,  6.99it/s, loss=0.239, acc=0.927, f1_score=0.814]\n",
      "Epoch 8/40 Validation: 100%|██████████| 5/5 [00:00<00:00, 17.29it/s, val_loss=0.244]\n"
     ]
    },
    {
     "name": "stdout",
     "output_type": "stream",
     "text": [
      "\t- loss = 0.23948271607243737\n",
      "  \t- val_loss = 0.24426398277282715\n",
      "  \t- acc = 0.9274733946766964\n",
      "  \t- val_acc = 0.9181256413459777\n",
      "  \t- f1_score = 0.8140864399976508\n",
      "  \t- val_f1_score = 0.7925020575523376\n",
      " \n"
     ]
    },
    {
     "name": "stderr",
     "output_type": "stream",
     "text": [
      "Epoch 9/40 Training: 100%|██████████| 86/86 [00:12<00:00,  7.07it/s, loss=0.214, acc=0.936, f1_score=0.83] \n",
      "Epoch 9/40 Validation: 100%|██████████| 5/5 [00:00<00:00, 20.05it/s, val_loss=0.233]\n"
     ]
    },
    {
     "name": "stdout",
     "output_type": "stream",
     "text": [
      "\t- loss = 0.21414951252382855\n",
      "  \t- val_loss = 0.23303232192993165\n",
      "  \t- acc = 0.9361368098924326\n",
      "  \t- val_acc = 0.9234316229820252\n",
      "  \t- f1_score = 0.8297190472137096\n",
      "  \t- val_f1_score = 0.7996151328086853\n",
      " \n"
     ]
    },
    {
     "name": "stderr",
     "output_type": "stream",
     "text": [
      "Epoch 10/40 Training: 100%|██████████| 86/86 [00:12<00:00,  6.95it/s, loss=0.186, acc=0.944, f1_score=0.848]\n",
      "Epoch 10/40 Validation: 100%|██████████| 5/5 [00:00<00:00, 20.85it/s, val_loss=0.231]\n"
     ]
    },
    {
     "name": "stdout",
     "output_type": "stream",
     "text": [
      "\t- loss = 0.18648571053216623\n",
      "  \t- val_loss = 0.23070755004882812\n",
      "  \t- acc = 0.9438323635001515\n",
      "  \t- val_acc = 0.9179696679115296\n",
      "  \t- f1_score = 0.8483743729979493\n",
      "  \t- val_f1_score = 0.7970181941986084\n",
      " \n"
     ]
    },
    {
     "name": "stderr",
     "output_type": "stream",
     "text": [
      "Epoch 11/40 Training: 100%|██████████| 86/86 [00:12<00:00,  7.12it/s, loss=0.171, acc=0.948, f1_score=0.858]\n",
      "Epoch 11/40 Validation: 100%|██████████| 5/5 [00:00<00:00, 21.09it/s, val_loss=0.224]\n"
     ]
    },
    {
     "name": "stdout",
     "output_type": "stream",
     "text": [
      "\t- loss = 0.17082510022229927\n",
      "  \t- val_loss = 0.2241693377494812\n",
      "  \t- acc = 0.9477578803550365\n",
      "  \t- val_acc = 0.9300785779953002\n",
      "  \t- f1_score = 0.8576273821121039\n",
      "  \t- val_f1_score = 0.794470489025116\n",
      " \n"
     ]
    },
    {
     "name": "stderr",
     "output_type": "stream",
     "text": [
      "Epoch 12/40 Training: 100%|██████████| 86/86 [00:12<00:00,  7.12it/s, loss=0.163, acc=0.949, f1_score=0.86] \n",
      "Epoch 12/40 Validation: 100%|██████████| 5/5 [00:00<00:00, 21.42it/s, val_loss=0.21] \n"
     ]
    },
    {
     "name": "stdout",
     "output_type": "stream",
     "text": [
      "\t- loss = 0.1634708400382552\n",
      "  \t- val_loss = 0.20998529195785523\n",
      "  \t- acc = 0.948783571636954\n",
      "  \t- val_acc = 0.9258974432945252\n",
      "  \t- f1_score = 0.860003202460533\n",
      "  \t- val_f1_score = 0.8089346289634705\n",
      " \n"
     ]
    },
    {
     "name": "stderr",
     "output_type": "stream",
     "text": [
      "Epoch 13/40 Training: 100%|██████████| 86/86 [00:11<00:00,  7.20it/s, loss=0.144, acc=0.955, f1_score=0.875]\n",
      "Epoch 13/40 Validation: 100%|██████████| 5/5 [00:00<00:00, 18.26it/s, val_loss=0.209]\n"
     ]
    },
    {
     "name": "stdout",
     "output_type": "stream",
     "text": [
      "\t- loss = 0.14408967591995417\n",
      "  \t- val_loss = 0.2085631012916565\n",
      "  \t- acc = 0.954865347507388\n",
      "  \t- val_acc = 0.9312554240226746\n",
      "  \t- f1_score = 0.875404917223509\n",
      "  \t- val_f1_score = 0.80466228723526\n",
      " \n"
     ]
    },
    {
     "name": "stderr",
     "output_type": "stream",
     "text": [
      "Epoch 14/40 Training: 100%|██████████| 86/86 [00:12<00:00,  7.03it/s, loss=0.132, acc=0.959, f1_score=0.885]\n",
      "Epoch 14/40 Validation: 100%|██████████| 5/5 [00:00<00:00, 19.79it/s, val_loss=0.215]\n"
     ]
    },
    {
     "name": "stdout",
     "output_type": "stream",
     "text": [
      "\t- loss = 0.13239722889523173\n",
      "  \t- val_loss = 0.21521826982498168\n",
      "  \t- acc = 0.9585024887739226\n",
      "  \t- val_acc = 0.9280901789665222\n",
      "  \t- f1_score = 0.8846174367638522\n",
      "  \t- val_f1_score = 0.7960843920707703\n",
      " \n"
     ]
    },
    {
     "name": "stderr",
     "output_type": "stream",
     "text": [
      "Epoch 15/40 Training: 100%|██████████| 86/86 [00:12<00:00,  6.78it/s, loss=0.121, acc=0.961, f1_score=0.893]\n",
      "Epoch 15/40 Validation: 100%|██████████| 5/5 [00:00<00:00, 21.38it/s, val_loss=0.204]\n"
     ]
    },
    {
     "name": "stdout",
     "output_type": "stream",
     "text": [
      "\t- loss = 0.12118368786434795\n",
      "  \t- val_loss = 0.20448585748672485\n",
      "  \t- acc = 0.9614849832168845\n",
      "  \t- val_acc = 0.926379406452179\n",
      "  \t- f1_score = 0.8933870993381323\n",
      "  \t- val_f1_score = 0.8068224310874939\n",
      " \n"
     ]
    },
    {
     "name": "stderr",
     "output_type": "stream",
     "text": [
      "Epoch 16/40 Training: 100%|██████████| 86/86 [00:12<00:00,  6.97it/s, loss=0.116, acc=0.963, f1_score=0.897]\n",
      "Epoch 16/40 Validation: 100%|██████████| 5/5 [00:00<00:00, 21.28it/s, val_loss=0.199]\n"
     ]
    },
    {
     "name": "stdout",
     "output_type": "stream",
     "text": [
      "\t- loss = 0.11633235839910286\n",
      "  \t- val_loss = 0.19892420768737792\n",
      "  \t- acc = 0.9630776789299277\n",
      "  \t- val_acc = 0.9327722549438476\n",
      "  \t- f1_score = 0.8965574440567993\n",
      "  \t- val_f1_score = 0.8080604314804077\n",
      " \n"
     ]
    },
    {
     "name": "stderr",
     "output_type": "stream",
     "text": [
      "Epoch 17/40 Training: 100%|██████████| 86/86 [00:11<00:00,  7.17it/s, loss=0.11, acc=0.964, f1_score=0.901] \n",
      "Epoch 17/40 Validation: 100%|██████████| 5/5 [00:00<00:00, 21.43it/s, val_loss=0.206]\n"
     ]
    },
    {
     "name": "stdout",
     "output_type": "stream",
     "text": [
      "\t- loss = 0.10971186465995256\n",
      "  \t- val_loss = 0.20610121488571168\n",
      "  \t- acc = 0.9644798068113105\n",
      "  \t- val_acc = 0.9303114175796509\n",
      "  \t- f1_score = 0.9013694760411285\n",
      "  \t- val_f1_score = 0.7999026060104371\n",
      " \n"
     ]
    },
    {
     "name": "stderr",
     "output_type": "stream",
     "text": [
      "Epoch 18/40 Training: 100%|██████████| 86/86 [00:11<00:00,  7.25it/s, loss=0.104, acc=0.966, f1_score=0.906] \n",
      "Epoch 18/40 Validation: 100%|██████████| 5/5 [00:00<00:00, 21.21it/s, val_loss=0.207]\n"
     ]
    },
    {
     "name": "stdout",
     "output_type": "stream",
     "text": [
      "\t- loss = 0.10394234574118326\n",
      "  \t- val_loss = 0.20713322162628173\n",
      "  \t- acc = 0.9664626606675082\n",
      "  \t- val_acc = 0.9219129681587219\n",
      "  \t- f1_score = 0.9056192262228145\n",
      "  \t- val_f1_score = 0.8001610159873962\n",
      " \n"
     ]
    },
    {
     "name": "stderr",
     "output_type": "stream",
     "text": [
      "Epoch 19/40 Training: 100%|██████████| 86/86 [00:12<00:00,  6.96it/s, loss=0.101, acc=0.967, f1_score=0.907] \n",
      "Epoch 19/40 Validation: 100%|██████████| 5/5 [00:00<00:00, 15.86it/s, val_loss=0.195]\n"
     ]
    },
    {
     "name": "stdout",
     "output_type": "stream",
     "text": [
      "\t- loss = 0.10146534442901611\n",
      "  \t- val_loss = 0.19513726234436035\n",
      "  \t- acc = 0.9670502980088078\n",
      "  \t- val_acc = 0.9305089950561524\n",
      "  \t- f1_score = 0.906897704961688\n",
      "  \t- val_f1_score = 0.8103563547134399\n",
      " \n"
     ]
    },
    {
     "name": "stderr",
     "output_type": "stream",
     "text": [
      "Epoch 20/40 Training: 100%|██████████| 86/86 [00:12<00:00,  6.89it/s, loss=0.0946, acc=0.969, f1_score=0.913]\n",
      "Epoch 20/40 Validation: 100%|██████████| 5/5 [00:00<00:00, 18.93it/s, val_loss=0.2]  \n"
     ]
    },
    {
     "name": "stdout",
     "output_type": "stream",
     "text": [
      "\t- loss = 0.09458293193994566\n",
      "  \t- val_loss = 0.20007739067077637\n",
      "  \t- acc = 0.96899054494015\n",
      "  \t- val_acc = 0.9260828137397766\n",
      "  \t- f1_score = 0.9129727635272714\n",
      "  \t- val_f1_score = 0.8059409737586976\n",
      " \n"
     ]
    },
    {
     "name": "stderr",
     "output_type": "stream",
     "text": [
      "Epoch 21/40 Training: 100%|██████████| 86/86 [00:12<00:00,  7.01it/s, loss=0.0916, acc=0.97, f1_score=0.915] \n",
      "Epoch 21/40 Validation: 100%|██████████| 5/5 [00:00<00:00, 21.53it/s, val_loss=0.271]\n"
     ]
    },
    {
     "name": "stdout",
     "output_type": "stream",
     "text": [
      "\t- loss = 0.09157006893047066\n",
      "  \t- val_loss = 0.27094885110855105\n",
      "  \t- acc = 0.9703045612157777\n",
      "  \t- val_acc = 0.8774970293045044\n",
      "  \t- f1_score = 0.9154470043126927\n",
      "  \t- val_f1_score = 0.7357767581939697\n",
      " \n"
     ]
    },
    {
     "name": "stderr",
     "output_type": "stream",
     "text": [
      "Epoch 22/40 Training: 100%|██████████| 86/86 [00:12<00:00,  7.08it/s, loss=0.0922, acc=0.97, f1_score=0.914] \n",
      "Epoch 22/40 Validation: 100%|██████████| 5/5 [00:00<00:00, 22.00it/s, val_loss=0.202]\n"
     ]
    },
    {
     "name": "stdout",
     "output_type": "stream",
     "text": [
      "\t- loss = 0.092228946990745\n",
      "  \t- val_loss = 0.2016948103904724\n",
      "  \t- acc = 0.9695456714131111\n",
      "  \t- val_acc = 0.931294322013855\n",
      "  \t- f1_score = 0.9138355996719626\n",
      "  \t- val_f1_score = 0.8018688440322876\n",
      " \n"
     ]
    },
    {
     "name": "stderr",
     "output_type": "stream",
     "text": [
      "Epoch 23/40 Training: 100%|██████████| 86/86 [00:12<00:00,  7.04it/s, loss=0.0862, acc=0.971, f1_score=0.919]\n",
      "Epoch 23/40 Validation: 100%|██████████| 5/5 [00:00<00:00, 22.06it/s, val_loss=0.197]\n"
     ]
    },
    {
     "name": "stdout",
     "output_type": "stream",
     "text": [
      "\t- loss = 0.08623311893884526\n",
      "  \t- val_loss = 0.19653027057647704\n",
      "  \t- acc = 0.971412317697392\n",
      "  \t- val_acc = 0.9303457736968994\n",
      "  \t- f1_score = 0.919401851504348\n",
      "  \t- val_f1_score = 0.8073893427848816\n",
      " \n"
     ]
    },
    {
     "name": "stderr",
     "output_type": "stream",
     "text": [
      "Epoch 24/40 Training: 100%|██████████| 86/86 [00:12<00:00,  7.00it/s, loss=0.0782, acc=0.974, f1_score=0.927]\n",
      "Epoch 24/40 Validation: 100%|██████████| 5/5 [00:00<00:00, 21.60it/s, val_loss=0.208]\n"
     ]
    },
    {
     "name": "stdout",
     "output_type": "stream",
     "text": [
      "\t- loss = 0.07817141884981199\n",
      "  \t- val_loss = 0.2075154423713684\n",
      "  \t- acc = 0.9740732097348501\n",
      "  \t- val_acc = 0.9294641613960266\n",
      "  \t- f1_score = 0.9269979020883871\n",
      "  \t- val_f1_score = 0.7954017162322998\n",
      " \n"
     ]
    },
    {
     "name": "stderr",
     "output_type": "stream",
     "text": [
      "Epoch 25/40 Training: 100%|██████████| 86/86 [00:12<00:00,  7.08it/s, loss=0.0767, acc=0.975, f1_score=0.928]\n",
      "Epoch 25/40 Validation: 100%|██████████| 5/5 [00:00<00:00, 21.40it/s, val_loss=0.192]\n"
     ]
    },
    {
     "name": "stdout",
     "output_type": "stream",
     "text": [
      "\t- loss = 0.0766753166220909\n",
      "  \t- val_loss = 0.1921325445175171\n",
      "  \t- acc = 0.9746974089811015\n",
      "  \t- val_acc = 0.9309972763061524\n",
      "  \t- f1_score = 0.9282992405946865\n",
      "  \t- val_f1_score = 0.8114290952682495\n",
      " \n"
     ]
    },
    {
     "name": "stderr",
     "output_type": "stream",
     "text": [
      "Epoch 26/40 Training: 100%|██████████| 86/86 [00:12<00:00,  7.03it/s, loss=0.0754, acc=0.975, f1_score=0.929]\n",
      "Epoch 26/40 Validation: 100%|██████████| 5/5 [00:00<00:00, 16.91it/s, val_loss=0.203]\n"
     ]
    },
    {
     "name": "stdout",
     "output_type": "stream",
     "text": [
      "\t- loss = 0.07536802804747293\n",
      "  \t- val_loss = 0.20294970273971558\n",
      "  \t- acc = 0.9753402228965316\n",
      "  \t- val_acc = 0.9286042332649231\n",
      "  \t- f1_score = 0.9292341761810835\n",
      "  \t- val_f1_score = 0.7998230218887329\n",
      " \n"
     ]
    },
    {
     "name": "stderr",
     "output_type": "stream",
     "text": [
      "Epoch 27/40 Training: 100%|██████████| 86/86 [00:12<00:00,  6.89it/s, loss=0.0739, acc=0.975, f1_score=0.93] \n",
      "Epoch 27/40 Validation: 100%|██████████| 5/5 [00:00<00:00, 21.86it/s, val_loss=0.196]\n"
     ]
    },
    {
     "name": "stdout",
     "output_type": "stream",
     "text": [
      "\t- loss = 0.07388632588608321\n",
      "  \t- val_loss = 0.19580402374267578\n",
      "  \t- acc = 0.9753103131471679\n",
      "  \t- val_acc = 0.9323264837265015\n",
      "  \t- f1_score = 0.9302596858767576\n",
      "  \t- val_f1_score = 0.8065173149108886\n",
      " \n"
     ]
    },
    {
     "name": "stderr",
     "output_type": "stream",
     "text": [
      "Epoch 28/40 Training: 100%|██████████| 86/86 [00:12<00:00,  7.15it/s, loss=0.0715, acc=0.976, f1_score=0.933]\n",
      "Epoch 28/40 Validation: 100%|██████████| 5/5 [00:00<00:00, 21.58it/s, val_loss=0.196]\n"
     ]
    },
    {
     "name": "stdout",
     "output_type": "stream",
     "text": [
      "\t- loss = 0.07148122926091038\n",
      "  \t- val_loss = 0.19601185321807862\n",
      "  \t- acc = 0.9763638952443766\n",
      "  \t- val_acc = 0.9279468774795532\n",
      "  \t- f1_score = 0.932526056156602\n",
      "  \t- val_f1_score = 0.8071884870529175\n",
      " \n"
     ]
    },
    {
     "name": "stderr",
     "output_type": "stream",
     "text": [
      "Epoch 29/40 Training: 100%|██████████| 86/86 [00:12<00:00,  7.04it/s, loss=0.0698, acc=0.977, f1_score=0.934]\n",
      "Epoch 29/40 Validation: 100%|██████████| 5/5 [00:00<00:00, 15.10it/s, val_loss=0.189]\n"
     ]
    },
    {
     "name": "stdout",
     "output_type": "stream",
     "text": [
      "\t- loss = 0.06976803374844928\n",
      "  \t- val_loss = 0.18856074810028076\n",
      "  \t- acc = 0.9767564431179402\n",
      "  \t- val_acc = 0.9337746143341065\n",
      "  \t- f1_score = 0.9339084195536237\n",
      "  \t- val_f1_score = 0.8141136050224305\n",
      " \n"
     ]
    },
    {
     "name": "stderr",
     "output_type": "stream",
     "text": [
      "Epoch 30/40 Training: 100%|██████████| 86/86 [00:12<00:00,  6.90it/s, loss=0.0678, acc=0.978, f1_score=0.936]\n",
      "Epoch 30/40 Validation: 100%|██████████| 5/5 [00:00<00:00, 21.94it/s, val_loss=0.19] \n"
     ]
    },
    {
     "name": "stdout",
     "output_type": "stream",
     "text": [
      "\t- loss = 0.06775287902632425\n",
      "  \t- val_loss = 0.19037208557128907\n",
      "  \t- acc = 0.977683110985645\n",
      "  \t- val_acc = 0.9309574961662292\n",
      "  \t- f1_score = 0.9359656960465187\n",
      "  \t- val_f1_score = 0.8119976401329041\n",
      " \n"
     ]
    },
    {
     "name": "stderr",
     "output_type": "stream",
     "text": [
      "Epoch 31/40 Training: 100%|██████████| 86/86 [00:12<00:00,  6.83it/s, loss=0.0631, acc=0.979, f1_score=0.94] \n",
      "Epoch 31/40 Validation: 100%|██████████| 5/5 [00:00<00:00, 19.51it/s, val_loss=0.186]\n"
     ]
    },
    {
     "name": "stdout",
     "output_type": "stream",
     "text": [
      "\t- loss = 0.06310044818146285\n",
      "  \t- val_loss = 0.18614956140518188\n",
      "  \t- acc = 0.9789335748483968\n",
      "  \t- val_acc = 0.9339206337928772\n",
      "  \t- f1_score = 0.9402288489563521\n",
      "  \t- val_f1_score = 0.8160466074943542\n",
      " \n"
     ]
    },
    {
     "name": "stderr",
     "output_type": "stream",
     "text": [
      "Epoch 32/40 Training: 100%|██████████| 86/86 [00:12<00:00,  7.06it/s, loss=0.0641, acc=0.978, f1_score=0.939]\n",
      "Epoch 32/40 Validation: 100%|██████████| 5/5 [00:00<00:00, 21.49it/s, val_loss=0.19] \n"
     ]
    },
    {
     "name": "stdout",
     "output_type": "stream",
     "text": [
      "\t- loss = 0.06414384481518767\n",
      "  \t- val_loss = 0.1895695447921753\n",
      "  \t- acc = 0.9784644253032152\n",
      "  \t- val_acc = 0.9281376719474792\n",
      "  \t- f1_score = 0.938869027897369\n",
      "  \t- val_f1_score = 0.8133219003677368\n",
      " \n"
     ]
    },
    {
     "name": "stderr",
     "output_type": "stream",
     "text": [
      "Epoch 33/40 Training: 100%|██████████| 86/86 [00:12<00:00,  7.08it/s, loss=0.0622, acc=0.979, f1_score=0.941]\n",
      "Epoch 33/40 Validation: 100%|██████████| 5/5 [00:00<00:00, 20.97it/s, val_loss=0.196]\n"
     ]
    },
    {
     "name": "stdout",
     "output_type": "stream",
     "text": [
      "\t- loss = 0.06218356379242831\n",
      "  \t- val_loss = 0.19596998691558837\n",
      "  \t- acc = 0.9792014512904855\n",
      "  \t- val_acc = 0.9312513589859008\n",
      "  \t- f1_score = 0.9408052771590477\n",
      "  \t- val_f1_score = 0.8063821911811828\n",
      " \n"
     ]
    },
    {
     "name": "stderr",
     "output_type": "stream",
     "text": [
      "Epoch 34/40 Training: 100%|██████████| 86/86 [00:12<00:00,  7.15it/s, loss=0.0615, acc=0.98, f1_score=0.941] \n",
      "Epoch 34/40 Validation: 100%|██████████| 5/5 [00:00<00:00, 21.17it/s, val_loss=0.195]\n"
     ]
    },
    {
     "name": "stdout",
     "output_type": "stream",
     "text": [
      "\t- loss = 0.06149320893509443\n",
      "  \t- val_loss = 0.19511737823486328\n",
      "  \t- acc = 0.9795983627785084\n",
      "  \t- val_acc = 0.9312020778656006\n",
      "  \t- f1_score = 0.9412559617397397\n",
      "  \t- val_f1_score = 0.8064621329307556\n",
      " \n"
     ]
    },
    {
     "name": "stderr",
     "output_type": "stream",
     "text": [
      "Epoch 35/40 Training: 100%|██████████| 86/86 [00:12<00:00,  7.15it/s, loss=0.06, acc=0.98, f1_score=0.943]   \n",
      "Epoch 35/40 Validation: 100%|██████████| 5/5 [00:00<00:00, 22.11it/s, val_loss=0.187]\n"
     ]
    },
    {
     "name": "stdout",
     "output_type": "stream",
     "text": [
      "\t- loss = 0.059972781081532325\n",
      "  \t- val_loss = 0.1870883584022522\n",
      "  \t- acc = 0.9799647033214569\n",
      "  \t- val_acc = 0.9332736611366272\n",
      "  \t- f1_score = 0.9426526337168938\n",
      "  \t- val_f1_score = 0.8147203803062439\n",
      " \n"
     ]
    },
    {
     "name": "stderr",
     "output_type": "stream",
     "text": [
      "Epoch 36/40 Training: 100%|██████████| 86/86 [00:12<00:00,  7.14it/s, loss=0.061, acc=0.979, f1_score=0.941] \n",
      "Epoch 36/40 Validation: 100%|██████████| 5/5 [00:00<00:00, 21.33it/s, val_loss=0.197]\n"
     ]
    },
    {
     "name": "stdout",
     "output_type": "stream",
     "text": [
      "\t- loss = 0.061038008262944775\n",
      "  \t- val_loss = 0.19730411767959594\n",
      "  \t- acc = 0.9794614127902097\n",
      "  \t- val_acc = 0.9304181218147278\n",
      "  \t- f1_score = 0.9413657881492792\n",
      "  \t- val_f1_score = 0.8042950868606568\n",
      " \n"
     ]
    },
    {
     "name": "stderr",
     "output_type": "stream",
     "text": [
      "Epoch 37/40 Training: 100%|██████████| 86/86 [00:12<00:00,  7.11it/s, loss=0.0599, acc=0.98, f1_score=0.942] \n",
      "Epoch 37/40 Validation: 100%|██████████| 5/5 [00:00<00:00, 21.87it/s, val_loss=0.19] \n"
     ]
    },
    {
     "name": "stdout",
     "output_type": "stream",
     "text": [
      "\t- loss = 0.059920561175013695\n",
      "  \t- val_loss = 0.19006916284561157\n",
      "  \t- acc = 0.9795934211376102\n",
      "  \t- val_acc = 0.9304682970046997\n",
      "  \t- f1_score = 0.9423163373802983\n",
      "  \t- val_f1_score = 0.8120249390602112\n",
      " \n"
     ]
    },
    {
     "name": "stderr",
     "output_type": "stream",
     "text": [
      "Epoch 38/40 Training: 100%|██████████| 86/86 [00:12<00:00,  6.76it/s, loss=0.0579, acc=0.98, f1_score=0.944] \n",
      "Epoch 38/40 Validation: 100%|██████████| 5/5 [00:00<00:00, 21.58it/s, val_loss=0.186]\n"
     ]
    },
    {
     "name": "stdout",
     "output_type": "stream",
     "text": [
      "\t- loss = 0.05794541918954184\n",
      "  \t- val_loss = 0.186043119430542\n",
      "  \t- acc = 0.9802991865679275\n",
      "  \t- val_acc = 0.9326795816421509\n",
      "  \t- f1_score = 0.9442212817280792\n",
      "  \t- val_f1_score = 0.815872049331665\n",
      " \n"
     ]
    },
    {
     "name": "stderr",
     "output_type": "stream",
     "text": [
      "Epoch 39/40 Training: 100%|██████████| 86/86 [00:12<00:00,  6.80it/s, loss=0.0544, acc=0.981, f1_score=0.948]\n",
      "Epoch 39/40 Validation: 100%|██████████| 5/5 [00:00<00:00, 13.29it/s, val_loss=0.197]\n"
     ]
    },
    {
     "name": "stdout",
     "output_type": "stream",
     "text": [
      "\t- loss = 0.05443415669507758\n",
      "  \t- val_loss = 0.19719380140304565\n",
      "  \t- acc = 0.981456832830296\n",
      "  \t- val_acc = 0.9323346376419067\n",
      "  \t- f1_score = 0.9476720108542331\n",
      "  \t- val_f1_score = 0.8041820406913758\n",
      " \n"
     ]
    },
    {
     "name": "stderr",
     "output_type": "stream",
     "text": [
      "Epoch 40/40 Training: 100%|██████████| 86/86 [00:12<00:00,  7.04it/s, loss=0.0539, acc=0.982, f1_score=0.948]\n",
      "Epoch 40/40 Validation: 100%|██████████| 5/5 [00:00<00:00, 20.74it/s, val_loss=0.189]\n"
     ]
    },
    {
     "name": "stdout",
     "output_type": "stream",
     "text": [
      "\t- loss = 0.053924201532851816\n",
      "  \t- val_loss = 0.18930282592773437\n",
      "  \t- acc = 0.9818069844744927\n",
      "  \t- val_acc = 0.933419692516327\n",
      "  \t- f1_score = 0.9480974986109623\n",
      "  \t- val_f1_score = 0.8120941519737244\n",
      " \n"
     ]
    },
    {
     "data": {
      "text/plain": [
       "{0: {'loss': 0.6499349121437517,\n",
       "  'val_loss': 0.5598637342453003,\n",
       "  'acc': 0.1928956199350745,\n",
       "  'val_acc': 0.2765001118183136,\n",
       "  'f1_score': 0.41601959182772524,\n",
       "  'val_f1_score': 0.5780626654624939},\n",
       " 1: {'loss': 0.5461209146089332,\n",
       "  'val_loss': 0.47441973686218264,\n",
       "  'acc': 0.41038217932678933,\n",
       "  'val_acc': 0.6683534979820251,\n",
       "  'f1_score': 0.6080390779778014,\n",
       "  'val_f1_score': 0.7136200189590454},\n",
       " 2: {'loss': 0.4914928279643835,\n",
       "  'val_loss': 0.4620865821838379,\n",
       "  'acc': 0.6831225330053374,\n",
       "  'val_acc': 0.6844699501991272,\n",
       "  'f1_score': 0.6692769880904708,\n",
       "  'val_f1_score': 0.7055099368095398},\n",
       " 3: {'loss': 0.4357698823130408,\n",
       "  'val_loss': 0.39168444871902464,\n",
       "  'acc': 0.7762826112813728,\n",
       "  'val_acc': 0.8128449559211731,\n",
       "  'f1_score': 0.7140458070261534,\n",
       "  'val_f1_score': 0.752538549900055},\n",
       " 4: {'loss': 0.37148461508196456,\n",
       "  'val_loss': 0.36177008152008056,\n",
       "  'acc': 0.857266403214876,\n",
       "  'val_acc': 0.8550677299499512,\n",
       "  'f1_score': 0.7504369983839434,\n",
       "  'val_f1_score': 0.743729293346405},\n",
       " 5: {'loss': 0.32327064663864846,\n",
       "  'val_loss': 0.29930160045623777,\n",
       "  'acc': 0.8989223456659983,\n",
       "  'val_acc': 0.9053399085998535,\n",
       "  'f1_score': 0.7686307333236517,\n",
       "  'val_f1_score': 0.7726030945777893},\n",
       " 6: {'loss': 0.28496115221533663,\n",
       "  'val_loss': 0.27437639236450195,\n",
       "  'acc': 0.9114508760529895,\n",
       "  'val_acc': 0.9161205291748047,\n",
       "  'f1_score': 0.7820315717957741,\n",
       "  'val_f1_score': 0.7776636481285095},\n",
       " 7: {'loss': 0.23948271607243737,\n",
       "  'val_loss': 0.24426398277282715,\n",
       "  'acc': 0.9274733946766964,\n",
       "  'val_acc': 0.9181256413459777,\n",
       "  'f1_score': 0.8140864399976508,\n",
       "  'val_f1_score': 0.7925020575523376},\n",
       " 8: {'loss': 0.21414951252382855,\n",
       "  'val_loss': 0.23303232192993165,\n",
       "  'acc': 0.9361368098924326,\n",
       "  'val_acc': 0.9234316229820252,\n",
       "  'f1_score': 0.8297190472137096,\n",
       "  'val_f1_score': 0.7996151328086853},\n",
       " 9: {'loss': 0.18648571053216623,\n",
       "  'val_loss': 0.23070755004882812,\n",
       "  'acc': 0.9438323635001515,\n",
       "  'val_acc': 0.9179696679115296,\n",
       "  'f1_score': 0.8483743729979493,\n",
       "  'val_f1_score': 0.7970181941986084},\n",
       " 10: {'loss': 0.17082510022229927,\n",
       "  'val_loss': 0.2241693377494812,\n",
       "  'acc': 0.9477578803550365,\n",
       "  'val_acc': 0.9300785779953002,\n",
       "  'f1_score': 0.8576273821121039,\n",
       "  'val_f1_score': 0.794470489025116},\n",
       " 11: {'loss': 0.1634708400382552,\n",
       "  'val_loss': 0.20998529195785523,\n",
       "  'acc': 0.948783571636954,\n",
       "  'val_acc': 0.9258974432945252,\n",
       "  'f1_score': 0.860003202460533,\n",
       "  'val_f1_score': 0.8089346289634705},\n",
       " 12: {'loss': 0.14408967591995417,\n",
       "  'val_loss': 0.2085631012916565,\n",
       "  'acc': 0.954865347507388,\n",
       "  'val_acc': 0.9312554240226746,\n",
       "  'f1_score': 0.875404917223509,\n",
       "  'val_f1_score': 0.80466228723526},\n",
       " 13: {'loss': 0.13239722889523173,\n",
       "  'val_loss': 0.21521826982498168,\n",
       "  'acc': 0.9585024887739226,\n",
       "  'val_acc': 0.9280901789665222,\n",
       "  'f1_score': 0.8846174367638522,\n",
       "  'val_f1_score': 0.7960843920707703},\n",
       " 14: {'loss': 0.12118368786434795,\n",
       "  'val_loss': 0.20448585748672485,\n",
       "  'acc': 0.9614849832168845,\n",
       "  'val_acc': 0.926379406452179,\n",
       "  'f1_score': 0.8933870993381323,\n",
       "  'val_f1_score': 0.8068224310874939},\n",
       " 15: {'loss': 0.11633235839910286,\n",
       "  'val_loss': 0.19892420768737792,\n",
       "  'acc': 0.9630776789299277,\n",
       "  'val_acc': 0.9327722549438476,\n",
       "  'f1_score': 0.8965574440567993,\n",
       "  'val_f1_score': 0.8080604314804077},\n",
       " 16: {'loss': 0.10971186465995256,\n",
       "  'val_loss': 0.20610121488571168,\n",
       "  'acc': 0.9644798068113105,\n",
       "  'val_acc': 0.9303114175796509,\n",
       "  'f1_score': 0.9013694760411285,\n",
       "  'val_f1_score': 0.7999026060104371},\n",
       " 17: {'loss': 0.10394234574118326,\n",
       "  'val_loss': 0.20713322162628173,\n",
       "  'acc': 0.9664626606675082,\n",
       "  'val_acc': 0.9219129681587219,\n",
       "  'f1_score': 0.9056192262228145,\n",
       "  'val_f1_score': 0.8001610159873962},\n",
       " 18: {'loss': 0.10146534442901611,\n",
       "  'val_loss': 0.19513726234436035,\n",
       "  'acc': 0.9670502980088078,\n",
       "  'val_acc': 0.9305089950561524,\n",
       "  'f1_score': 0.906897704961688,\n",
       "  'val_f1_score': 0.8103563547134399},\n",
       " 19: {'loss': 0.09458293193994566,\n",
       "  'val_loss': 0.20007739067077637,\n",
       "  'acc': 0.96899054494015,\n",
       "  'val_acc': 0.9260828137397766,\n",
       "  'f1_score': 0.9129727635272714,\n",
       "  'val_f1_score': 0.8059409737586976},\n",
       " 20: {'loss': 0.09157006893047066,\n",
       "  'val_loss': 0.27094885110855105,\n",
       "  'acc': 0.9703045612157777,\n",
       "  'val_acc': 0.8774970293045044,\n",
       "  'f1_score': 0.9154470043126927,\n",
       "  'val_f1_score': 0.7357767581939697},\n",
       " 21: {'loss': 0.092228946990745,\n",
       "  'val_loss': 0.2016948103904724,\n",
       "  'acc': 0.9695456714131111,\n",
       "  'val_acc': 0.931294322013855,\n",
       "  'f1_score': 0.9138355996719626,\n",
       "  'val_f1_score': 0.8018688440322876},\n",
       " 22: {'loss': 0.08623311893884526,\n",
       "  'val_loss': 0.19653027057647704,\n",
       "  'acc': 0.971412317697392,\n",
       "  'val_acc': 0.9303457736968994,\n",
       "  'f1_score': 0.919401851504348,\n",
       "  'val_f1_score': 0.8073893427848816},\n",
       " 23: {'loss': 0.07817141884981199,\n",
       "  'val_loss': 0.2075154423713684,\n",
       "  'acc': 0.9740732097348501,\n",
       "  'val_acc': 0.9294641613960266,\n",
       "  'f1_score': 0.9269979020883871,\n",
       "  'val_f1_score': 0.7954017162322998},\n",
       " 24: {'loss': 0.0766753166220909,\n",
       "  'val_loss': 0.1921325445175171,\n",
       "  'acc': 0.9746974089811015,\n",
       "  'val_acc': 0.9309972763061524,\n",
       "  'f1_score': 0.9282992405946865,\n",
       "  'val_f1_score': 0.8114290952682495},\n",
       " 25: {'loss': 0.07536802804747293,\n",
       "  'val_loss': 0.20294970273971558,\n",
       "  'acc': 0.9753402228965316,\n",
       "  'val_acc': 0.9286042332649231,\n",
       "  'f1_score': 0.9292341761810835,\n",
       "  'val_f1_score': 0.7998230218887329},\n",
       " 26: {'loss': 0.07388632588608321,\n",
       "  'val_loss': 0.19580402374267578,\n",
       "  'acc': 0.9753103131471679,\n",
       "  'val_acc': 0.9323264837265015,\n",
       "  'f1_score': 0.9302596858767576,\n",
       "  'val_f1_score': 0.8065173149108886},\n",
       " 27: {'loss': 0.07148122926091038,\n",
       "  'val_loss': 0.19601185321807862,\n",
       "  'acc': 0.9763638952443766,\n",
       "  'val_acc': 0.9279468774795532,\n",
       "  'f1_score': 0.932526056156602,\n",
       "  'val_f1_score': 0.8071884870529175},\n",
       " 28: {'loss': 0.06976803374844928,\n",
       "  'val_loss': 0.18856074810028076,\n",
       "  'acc': 0.9767564431179402,\n",
       "  'val_acc': 0.9337746143341065,\n",
       "  'f1_score': 0.9339084195536237,\n",
       "  'val_f1_score': 0.8141136050224305},\n",
       " 29: {'loss': 0.06775287902632425,\n",
       "  'val_loss': 0.19037208557128907,\n",
       "  'acc': 0.977683110985645,\n",
       "  'val_acc': 0.9309574961662292,\n",
       "  'f1_score': 0.9359656960465187,\n",
       "  'val_f1_score': 0.8119976401329041},\n",
       " 30: {'loss': 0.06310044818146285,\n",
       "  'val_loss': 0.18614956140518188,\n",
       "  'acc': 0.9789335748483968,\n",
       "  'val_acc': 0.9339206337928772,\n",
       "  'f1_score': 0.9402288489563521,\n",
       "  'val_f1_score': 0.8160466074943542},\n",
       " 31: {'loss': 0.06414384481518767,\n",
       "  'val_loss': 0.1895695447921753,\n",
       "  'acc': 0.9784644253032152,\n",
       "  'val_acc': 0.9281376719474792,\n",
       "  'f1_score': 0.938869027897369,\n",
       "  'val_f1_score': 0.8133219003677368},\n",
       " 32: {'loss': 0.06218356379242831,\n",
       "  'val_loss': 0.19596998691558837,\n",
       "  'acc': 0.9792014512904855,\n",
       "  'val_acc': 0.9312513589859008,\n",
       "  'f1_score': 0.9408052771590477,\n",
       "  'val_f1_score': 0.8063821911811828},\n",
       " 33: {'loss': 0.06149320893509443,\n",
       "  'val_loss': 0.19511737823486328,\n",
       "  'acc': 0.9795983627785084,\n",
       "  'val_acc': 0.9312020778656006,\n",
       "  'f1_score': 0.9412559617397397,\n",
       "  'val_f1_score': 0.8064621329307556},\n",
       " 34: {'loss': 0.059972781081532325,\n",
       "  'val_loss': 0.1870883584022522,\n",
       "  'acc': 0.9799647033214569,\n",
       "  'val_acc': 0.9332736611366272,\n",
       "  'f1_score': 0.9426526337168938,\n",
       "  'val_f1_score': 0.8147203803062439},\n",
       " 35: {'loss': 0.061038008262944775,\n",
       "  'val_loss': 0.19730411767959594,\n",
       "  'acc': 0.9794614127902097,\n",
       "  'val_acc': 0.9304181218147278,\n",
       "  'f1_score': 0.9413657881492792,\n",
       "  'val_f1_score': 0.8042950868606568},\n",
       " 36: {'loss': 0.059920561175013695,\n",
       "  'val_loss': 0.19006916284561157,\n",
       "  'acc': 0.9795934211376102,\n",
       "  'val_acc': 0.9304682970046997,\n",
       "  'f1_score': 0.9423163373802983,\n",
       "  'val_f1_score': 0.8120249390602112},\n",
       " 37: {'loss': 0.05794541918954184,\n",
       "  'val_loss': 0.186043119430542,\n",
       "  'acc': 0.9802991865679275,\n",
       "  'val_acc': 0.9326795816421509,\n",
       "  'f1_score': 0.9442212817280792,\n",
       "  'val_f1_score': 0.815872049331665},\n",
       " 38: {'loss': 0.05443415669507758,\n",
       "  'val_loss': 0.19719380140304565,\n",
       "  'acc': 0.981456832830296,\n",
       "  'val_acc': 0.9323346376419067,\n",
       "  'f1_score': 0.9476720108542331,\n",
       "  'val_f1_score': 0.8041820406913758},\n",
       " 39: {'loss': 0.053924201532851816,\n",
       "  'val_loss': 0.18930282592773437,\n",
       "  'acc': 0.9818069844744927,\n",
       "  'val_acc': 0.933419692516327,\n",
       "  'f1_score': 0.9480974986109623,\n",
       "  'val_f1_score': 0.8120941519737244}}"
      ]
     },
     "execution_count": 4,
     "metadata": {},
     "output_type": "execute_result"
    }
   ],
   "source": [
    "train_images, val_images, train_masks, val_masks = train_test_split(\n",
    "        images_org, masks_org, test_size=0.1, random_state=42, shuffle=True\n",
    "    )\n",
    "\n",
    "images_aug, masks_aug = augment.augment_data(train_images, train_masks, 1)\n",
    "\n",
    "images_aug = np.stack([img/255.0 for img in images_aug]).astype(np.float32)\n",
    "masks_aug = np.stack([mask/255.0 for mask in masks_aug]).astype(np.float32)\n",
    "\n",
    "val_images = np.stack([img/255.0 for img in val_images]).astype(np.float32)\n",
    "val_masks = np.stack([mask/255.0 for mask in val_masks]).astype(np.float32)\n",
    "\n",
    "# reshape the image to simplify the handling of skip connections and maxpooling\n",
    "train_dataset = ImageDataset(images_aug, masks_aug, device, use_patches=False, resize_to=(384, 384))\n",
    "val_dataset = ImageDataset(val_images, val_masks, device, use_patches=False, resize_to=(384, 384))\n",
    "\n",
    "    \n",
    "train_dataloader = torch.utils.data.DataLoader(train_dataset, batch_size=3, shuffle=True)\n",
    "val_dataloader = torch.utils.data.DataLoader(val_dataset, batch_size=3, shuffle=True)\n",
    "    \n",
    "model = smp.Unet(\n",
    "    encoder_name=\"vgg19\",        # choose encoder, e.g. mobilenet_v2 or efficientnet-b7\n",
    "    encoder_weights=\"imagenet\",     # use `imagenet` pre-trained weights for encoder initialization\n",
    "    in_channels=3,                  # model input channels (1 for gray-scale images, 3 for RGB, etc.)\n",
    "    classes=1,                      # model output channels (number of classes in your dataset)\n",
    ")\n",
    "model = model.to(device)\n",
    "loss_fn = smp.losses.DiceLoss(smp.losses.BINARY_MODE, from_logits=True)\n",
    "metric_fns = {'acc': trainer.accuracy_fn,\n",
    "'f1_score': trainer.f1_score_fn}\n",
    "optimizer = torch.optim.Adam(model.parameters(), lr=1e-4)\n",
    "#scheduler = ReduceLROnPlateau(optimizer)\n",
    "train(model, optimizer, train_dataloader, val_dataloader, loss_fn, 40, None, 0, metric_fns)"
   ]
  },
  {
   "cell_type": "code",
   "execution_count": 5,
   "metadata": {},
   "outputs": [],
   "source": [
    "model_backs = []\n",
    "model_backs.append(model)"
   ]
  },
  {
   "cell_type": "code",
   "execution_count": 6,
   "metadata": {
    "scrolled": true
   },
   "outputs": [
    {
     "data": {
      "text/html": [
       "Finishing last run (ID:01wuvgk1) before initializing another..."
      ],
      "text/plain": [
       "<IPython.core.display.HTML object>"
      ]
     },
     "metadata": {},
     "output_type": "display_data"
    },
    {
     "data": {
      "application/vnd.jupyter.widget-view+json": {
       "model_id": "",
       "version_major": 2,
       "version_minor": 0
      },
      "text/plain": [
       "VBox(children=(Label(value='0.003 MB of 0.003 MB uploaded\\r'), FloatProgress(value=1.0, max=1.0)))"
      ]
     },
     "metadata": {},
     "output_type": "display_data"
    },
    {
     "data": {
      "text/html": [
       "<style>\n",
       "    table.wandb td:nth-child(1) { padding: 0 10px; text-align: left ; width: auto;} td:nth-child(2) {text-align: left ; width: 100%}\n",
       "    .wandb-row { display: flex; flex-direction: row; flex-wrap: wrap; justify-content: flex-start; width: 100% }\n",
       "    .wandb-col { display: flex; flex-direction: column; flex-basis: 100%; flex: 1; padding: 10px; }\n",
       "    </style>\n",
       "<div class=\"wandb-row\"><div class=\"wandb-col\"><h3>Run history:</h3><br/><table class=\"wandb\"><tr><td>acc</td><td>▁▃▅▆▇▇▇█████████████████████████████████</td></tr><tr><td>f1_score</td><td>▁▄▄▅▅▆▆▆▆▇▇▇▇▇▇▇▇▇▇█████████████████████</td></tr><tr><td>loss</td><td>█▇▆▅▅▄▄▃▃▃▂▂▂▂▂▂▂▂▂▁▁▁▁▁▁▁▁▁▁▁▁▁▁▁▁▁▁▁▁▁</td></tr><tr><td>val_acc</td><td>▁▅▅▇▇███████████████▇███████████████████</td></tr><tr><td>val_f1_score</td><td>▁▅▅▆▆▇▇▇█▇▇██▇██████▆██▇████████████████</td></tr><tr><td>val_loss</td><td>█▆▆▅▄▃▃▂▂▂▂▁▁▂▁▁▁▁▁▁▃▁▁▁▁▁▁▁▁▁▁▁▁▁▁▁▁▁▁▁</td></tr></table><br/></div><div class=\"wandb-col\"><h3>Run summary:</h3><br/><table class=\"wandb\"><tr><td>acc</td><td>0.98181</td></tr><tr><td>f1_score</td><td>0.9481</td></tr><tr><td>loss</td><td>0.05392</td></tr><tr><td>val_acc</td><td>0.93342</td></tr><tr><td>val_f1_score</td><td>0.81209</td></tr><tr><td>val_loss</td><td>0.1893</td></tr></table><br/></div></div>"
      ],
      "text/plain": [
       "<IPython.core.display.HTML object>"
      ]
     },
     "metadata": {},
     "output_type": "display_data"
    },
    {
     "data": {
      "text/html": [
       " View run <strong style=\"color:#cdcd00\">clean-fire-91</strong> at: <a href='https://wandb.ai/besteguney/CIL/runs/01wuvgk1' target=\"_blank\">https://wandb.ai/besteguney/CIL/runs/01wuvgk1</a><br/> View project at: <a href='https://wandb.ai/besteguney/CIL' target=\"_blank\">https://wandb.ai/besteguney/CIL</a><br/>Synced 5 W&B file(s), 0 media file(s), 0 artifact file(s) and 0 other file(s)"
      ],
      "text/plain": [
       "<IPython.core.display.HTML object>"
      ]
     },
     "metadata": {},
     "output_type": "display_data"
    },
    {
     "data": {
      "text/html": [
       "Find logs at: <code>./wandb/run-20240721_142507-01wuvgk1/logs</code>"
      ],
      "text/plain": [
       "<IPython.core.display.HTML object>"
      ]
     },
     "metadata": {},
     "output_type": "display_data"
    },
    {
     "data": {
      "text/html": [
       "The new W&B backend becomes opt-out in version 0.18.0; try it out with `wandb.require(\"core\")`! See https://wandb.me/wandb-core for more information."
      ],
      "text/plain": [
       "<IPython.core.display.HTML object>"
      ]
     },
     "metadata": {},
     "output_type": "display_data"
    },
    {
     "data": {
      "text/html": [
       "Successfully finished last run (ID:01wuvgk1). Initializing new run:<br/>"
      ],
      "text/plain": [
       "<IPython.core.display.HTML object>"
      ]
     },
     "metadata": {},
     "output_type": "display_data"
    },
    {
     "data": {
      "application/vnd.jupyter.widget-view+json": {
       "model_id": "95756016bdf44a558259ce0b0de75b75",
       "version_major": 2,
       "version_minor": 0
      },
      "text/plain": [
       "VBox(children=(Label(value='Waiting for wandb.init()...\\r'), FloatProgress(value=0.011113039755986796, max=1.0…"
      ]
     },
     "metadata": {},
     "output_type": "display_data"
    },
    {
     "data": {
      "text/html": [
       "wandb version 0.17.5 is available!  To upgrade, please run:\n",
       " $ pip install wandb --upgrade"
      ],
      "text/plain": [
       "<IPython.core.display.HTML object>"
      ]
     },
     "metadata": {},
     "output_type": "display_data"
    },
    {
     "data": {
      "text/html": [
       "Tracking run with wandb version 0.17.4"
      ],
      "text/plain": [
       "<IPython.core.display.HTML object>"
      ]
     },
     "metadata": {},
     "output_type": "display_data"
    },
    {
     "data": {
      "text/html": [
       "Run data is saved locally in <code>/home/bgueney/CIL-2024/wandb/run-20240721_143452-ogzbe253</code>"
      ],
      "text/plain": [
       "<IPython.core.display.HTML object>"
      ]
     },
     "metadata": {},
     "output_type": "display_data"
    },
    {
     "data": {
      "text/html": [
       "Syncing run <strong><a href='https://wandb.ai/besteguney/CIL/runs/ogzbe253' target=\"_blank\">ethereal-dawn-92</a></strong> to <a href='https://wandb.ai/besteguney/CIL' target=\"_blank\">Weights & Biases</a> (<a href='https://wandb.me/run' target=\"_blank\">docs</a>)<br/>"
      ],
      "text/plain": [
       "<IPython.core.display.HTML object>"
      ]
     },
     "metadata": {},
     "output_type": "display_data"
    },
    {
     "data": {
      "text/html": [
       " View project at <a href='https://wandb.ai/besteguney/CIL' target=\"_blank\">https://wandb.ai/besteguney/CIL</a>"
      ],
      "text/plain": [
       "<IPython.core.display.HTML object>"
      ]
     },
     "metadata": {},
     "output_type": "display_data"
    },
    {
     "data": {
      "text/html": [
       " View run at <a href='https://wandb.ai/besteguney/CIL/runs/ogzbe253' target=\"_blank\">https://wandb.ai/besteguney/CIL/runs/ogzbe253</a>"
      ],
      "text/plain": [
       "<IPython.core.display.HTML object>"
      ]
     },
     "metadata": {},
     "output_type": "display_data"
    },
    {
     "name": "stderr",
     "output_type": "stream",
     "text": [
      "Epoch 1/40 Training: 100%|██████████| 86/86 [00:15<00:00,  5.52it/s, loss=0.63, acc=0.421, f1_score=0.449] \n",
      "Epoch 1/40 Validation: 100%|██████████| 5/5 [00:00<00:00, 20.34it/s, val_loss=0.578]\n"
     ]
    },
    {
     "name": "stdout",
     "output_type": "stream",
     "text": [
      "\t- loss = 0.6299140508784804\n",
      "  \t- val_loss = 0.5776807427406311\n",
      "  \t- acc = 0.4212282986141915\n",
      "  \t- val_acc = 0.4159803628921509\n",
      "  \t- f1_score = 0.44902481398610183\n",
      "  \t- val_f1_score = 0.4779277503490448\n",
      " \n"
     ]
    },
    {
     "name": "stderr",
     "output_type": "stream",
     "text": [
      "Epoch 2/40 Training: 100%|██████████| 86/86 [00:14<00:00,  5.85it/s, loss=0.458, acc=0.766, f1_score=0.64] \n",
      "Epoch 2/40 Validation: 100%|██████████| 5/5 [00:00<00:00, 20.88it/s, val_loss=0.448]\n"
     ]
    },
    {
     "name": "stdout",
     "output_type": "stream",
     "text": [
      "\t- loss = 0.4582691767881083\n",
      "  \t- val_loss = 0.448132848739624\n",
      "  \t- acc = 0.7664944266164025\n",
      "  \t- val_acc = 0.726689088344574\n",
      "  \t- f1_score = 0.6398790000483047\n",
      "  \t- val_f1_score = 0.6112017869949341\n",
      " \n"
     ]
    },
    {
     "name": "stderr",
     "output_type": "stream",
     "text": [
      "Epoch 3/40 Training: 100%|██████████| 86/86 [00:14<00:00,  5.85it/s, loss=0.376, acc=0.852, f1_score=0.7]  \n",
      "Epoch 3/40 Validation: 100%|██████████| 5/5 [00:00<00:00, 20.44it/s, val_loss=0.356]\n"
     ]
    },
    {
     "name": "stdout",
     "output_type": "stream",
     "text": [
      "\t- loss = 0.375850658084071\n",
      "  \t- val_loss = 0.35616310834884646\n",
      "  \t- acc = 0.8521170276542043\n",
      "  \t- val_acc = 0.8239949584007263\n",
      "  \t- f1_score = 0.6997198847144149\n",
      "  \t- val_f1_score = 0.6986963391304016\n",
      " \n"
     ]
    },
    {
     "name": "stderr",
     "output_type": "stream",
     "text": [
      "Epoch 4/40 Training: 100%|██████████| 86/86 [00:14<00:00,  5.80it/s, loss=0.318, acc=0.886, f1_score=0.741]\n",
      "Epoch 4/40 Validation: 100%|██████████| 5/5 [00:00<00:00, 21.15it/s, val_loss=0.293]\n"
     ]
    },
    {
     "name": "stdout",
     "output_type": "stream",
     "text": [
      "\t- loss = 0.31776328419530114\n",
      "  \t- val_loss = 0.2934208631515503\n",
      "  \t- acc = 0.8861315382081408\n",
      "  \t- val_acc = 0.8926626801490783\n",
      "  \t- f1_score = 0.7406432233577551\n",
      "  \t- val_f1_score = 0.753587543964386\n",
      " \n"
     ]
    },
    {
     "name": "stderr",
     "output_type": "stream",
     "text": [
      "Epoch 5/40 Training: 100%|██████████| 86/86 [00:14<00:00,  5.76it/s, loss=0.279, acc=0.904, f1_score=0.766]\n",
      "Epoch 5/40 Validation: 100%|██████████| 5/5 [00:00<00:00, 20.68it/s, val_loss=0.264]\n"
     ]
    },
    {
     "name": "stdout",
     "output_type": "stream",
     "text": [
      "\t- loss = 0.27855242754137793\n",
      "  \t- val_loss = 0.26383707523345945\n",
      "  \t- acc = 0.9039075929065084\n",
      "  \t- val_acc = 0.9059484481811524\n",
      "  \t- f1_score = 0.7656888303368591\n",
      "  \t- val_f1_score = 0.7715983986854553\n",
      " \n"
     ]
    },
    {
     "name": "stderr",
     "output_type": "stream",
     "text": [
      "Epoch 6/40 Training: 100%|██████████| 86/86 [00:15<00:00,  5.73it/s, loss=0.247, acc=0.916, f1_score=0.787]\n",
      "Epoch 6/40 Validation: 100%|██████████| 5/5 [00:00<00:00, 20.46it/s, val_loss=0.241]\n"
     ]
    },
    {
     "name": "stdout",
     "output_type": "stream",
     "text": [
      "\t- loss = 0.24680022514143654\n",
      "  \t- val_loss = 0.24103626012802123\n",
      "  \t- acc = 0.9159616169541381\n",
      "  \t- val_acc = 0.9198667287826539\n",
      "  \t- f1_score = 0.7869556397199631\n",
      "  \t- val_f1_score = 0.7873705983161926\n",
      " \n"
     ]
    },
    {
     "name": "stderr",
     "output_type": "stream",
     "text": [
      "Epoch 7/40 Training: 100%|██████████| 86/86 [00:15<00:00,  5.49it/s, loss=0.228, acc=0.924, f1_score=0.8]  \n",
      "Epoch 7/40 Validation: 100%|██████████| 5/5 [00:00<00:00, 19.05it/s, val_loss=0.241]\n"
     ]
    },
    {
     "name": "stdout",
     "output_type": "stream",
     "text": [
      "\t- loss = 0.22774371643399083\n",
      "  \t- val_loss = 0.2405943751335144\n",
      "  \t- acc = 0.9240314745625784\n",
      "  \t- val_acc = 0.9147248506546021\n",
      "  \t- f1_score = 0.7999518984972045\n",
      "  \t- val_f1_score = 0.7798473477363587\n",
      " \n"
     ]
    },
    {
     "name": "stderr",
     "output_type": "stream",
     "text": [
      "Epoch 8/40 Training: 100%|██████████| 86/86 [00:14<00:00,  5.77it/s, loss=0.208, acc=0.931, f1_score=0.814]\n",
      "Epoch 8/40 Validation: 100%|██████████| 5/5 [00:00<00:00, 16.53it/s, val_loss=0.247]\n"
     ]
    },
    {
     "name": "stdout",
     "output_type": "stream",
     "text": [
      "\t- loss = 0.20805387164271155\n",
      "  \t- val_loss = 0.2469915270805359\n",
      "  \t- acc = 0.9305976462918658\n",
      "  \t- val_acc = 0.9095513343811035\n",
      "  \t- f1_score = 0.8140808440918146\n",
      "  \t- val_f1_score = 0.7691915512084961\n",
      " \n"
     ]
    },
    {
     "name": "stderr",
     "output_type": "stream",
     "text": [
      "Epoch 9/40 Training: 100%|██████████| 86/86 [00:15<00:00,  5.61it/s, loss=0.195, acc=0.935, f1_score=0.824]\n",
      "Epoch 9/40 Validation: 100%|██████████| 5/5 [00:00<00:00, 21.26it/s, val_loss=0.234]\n"
     ]
    },
    {
     "name": "stdout",
     "output_type": "stream",
     "text": [
      "\t- loss = 0.19503184875776602\n",
      "  \t- val_loss = 0.23363929986953735\n",
      "  \t- acc = 0.935450307851614\n",
      "  \t- val_acc = 0.9156146049499512\n",
      "  \t- f1_score = 0.8238082666729771\n",
      "  \t- val_f1_score = 0.7819396615028381\n",
      " \n"
     ]
    },
    {
     "name": "stderr",
     "output_type": "stream",
     "text": [
      "Epoch 10/40 Training: 100%|██████████| 86/86 [00:15<00:00,  5.45it/s, loss=0.18, acc=0.94, f1_score=0.836]  \n",
      "Epoch 10/40 Validation: 100%|██████████| 5/5 [00:00<00:00, 20.82it/s, val_loss=0.224]\n"
     ]
    },
    {
     "name": "stdout",
     "output_type": "stream",
     "text": [
      "\t- loss = 0.18033346741698508\n",
      "  \t- val_loss = 0.22411026954650878\n",
      "  \t- acc = 0.9398246788701345\n",
      "  \t- val_acc = 0.9150725364685058\n",
      "  \t- f1_score = 0.8357224644616593\n",
      "  \t- val_f1_score = 0.7897318005561829\n",
      " \n"
     ]
    },
    {
     "name": "stderr",
     "output_type": "stream",
     "text": [
      "Epoch 11/40 Training: 100%|██████████| 86/86 [00:15<00:00,  5.70it/s, loss=0.173, acc=0.942, f1_score=0.84] \n",
      "Epoch 11/40 Validation: 100%|██████████| 5/5 [00:00<00:00, 20.76it/s, val_loss=0.22] \n"
     ]
    },
    {
     "name": "stdout",
     "output_type": "stream",
     "text": [
      "\t- loss = 0.173289195742718\n",
      "  \t- val_loss = 0.2204594373703003\n",
      "  \t- acc = 0.9423408147900604\n",
      "  \t- val_acc = 0.9197903156280518\n",
      "  \t- f1_score = 0.8403486609458923\n",
      "  \t- val_f1_score = 0.7902560114860535\n",
      " \n"
     ]
    },
    {
     "name": "stderr",
     "output_type": "stream",
     "text": [
      "Epoch 12/40 Training: 100%|██████████| 86/86 [00:15<00:00,  5.69it/s, loss=0.165, acc=0.945, f1_score=0.846]\n",
      "Epoch 12/40 Validation: 100%|██████████| 5/5 [00:00<00:00, 15.92it/s, val_loss=0.212]\n"
     ]
    },
    {
     "name": "stdout",
     "output_type": "stream",
     "text": [
      "\t- loss = 0.16522380986879037\n",
      "  \t- val_loss = 0.21152063608169555\n",
      "  \t- acc = 0.9454242996005124\n",
      "  \t- val_acc = 0.9230857729911804\n",
      "  \t- f1_score = 0.8461983363295711\n",
      "  \t- val_f1_score = 0.7963865876197815\n",
      " \n"
     ]
    },
    {
     "name": "stderr",
     "output_type": "stream",
     "text": [
      "Epoch 13/40 Training: 100%|██████████| 86/86 [00:14<00:00,  5.79it/s, loss=0.155, acc=0.948, f1_score=0.855]\n",
      "Epoch 13/40 Validation: 100%|██████████| 5/5 [00:00<00:00, 20.67it/s, val_loss=0.217]\n"
     ]
    },
    {
     "name": "stdout",
     "output_type": "stream",
     "text": [
      "\t- loss = 0.15490016895671224\n",
      "  \t- val_loss = 0.2169926643371582\n",
      "  \t- acc = 0.9484322376029436\n",
      "  \t- val_acc = 0.922061276435852\n",
      "  \t- f1_score = 0.8553326878436777\n",
      "  \t- val_f1_score = 0.7893017530441284\n",
      " \n"
     ]
    },
    {
     "name": "stderr",
     "output_type": "stream",
     "text": [
      "Epoch 14/40 Training: 100%|██████████| 86/86 [00:14<00:00,  5.84it/s, loss=0.147, acc=0.951, f1_score=0.862]\n",
      "Epoch 14/40 Validation: 100%|██████████| 5/5 [00:00<00:00, 20.85it/s, val_loss=0.223]\n"
     ]
    },
    {
     "name": "stdout",
     "output_type": "stream",
     "text": [
      "\t- loss = 0.1470400607863138\n",
      "  \t- val_loss = 0.22268723249435424\n",
      "  \t- acc = 0.9505221538765486\n",
      "  \t- val_acc = 0.9267899036407471\n",
      "  \t- f1_score = 0.8620036715684936\n",
      "  \t- val_f1_score = 0.7825131416320801\n",
      " \n"
     ]
    },
    {
     "name": "stderr",
     "output_type": "stream",
     "text": [
      "Epoch 15/40 Training: 100%|██████████| 86/86 [00:14<00:00,  5.79it/s, loss=0.141, acc=0.953, f1_score=0.867]\n",
      "Epoch 15/40 Validation: 100%|██████████| 5/5 [00:00<00:00, 21.15it/s, val_loss=0.207]\n"
     ]
    },
    {
     "name": "stdout",
     "output_type": "stream",
     "text": [
      "\t- loss = 0.14118977896002835\n",
      "  \t- val_loss = 0.20748326778411866\n",
      "  \t- acc = 0.9527603214563325\n",
      "  \t- val_acc = 0.9255072832107544\n",
      "  \t- f1_score = 0.8667671749758166\n",
      "  \t- val_f1_score = 0.7970812916755676\n",
      " \n"
     ]
    },
    {
     "name": "stderr",
     "output_type": "stream",
     "text": [
      "Epoch 16/40 Training: 100%|██████████| 86/86 [00:14<00:00,  5.78it/s, loss=0.137, acc=0.954, f1_score=0.871]\n",
      "Epoch 16/40 Validation: 100%|██████████| 5/5 [00:00<00:00, 20.87it/s, val_loss=0.211]\n"
     ]
    },
    {
     "name": "stdout",
     "output_type": "stream",
     "text": [
      "\t- loss = 0.13677444014438364\n",
      "  \t- val_loss = 0.211423659324646\n",
      "  \t- acc = 0.9540549405785494\n",
      "  \t- val_acc = 0.9213410496711731\n",
      "  \t- f1_score = 0.8705822977908823\n",
      "  \t- val_f1_score = 0.7945165038108826\n",
      " \n"
     ]
    },
    {
     "name": "stderr",
     "output_type": "stream",
     "text": [
      "Epoch 17/40 Training: 100%|██████████| 86/86 [00:14<00:00,  5.81it/s, loss=0.133, acc=0.956, f1_score=0.874]\n",
      "Epoch 17/40 Validation: 100%|██████████| 5/5 [00:00<00:00, 20.50it/s, val_loss=0.212]\n"
     ]
    },
    {
     "name": "stdout",
     "output_type": "stream",
     "text": [
      "\t- loss = 0.13262525270151537\n",
      "  \t- val_loss = 0.21151180267333985\n",
      "  \t- acc = 0.9556783368421156\n",
      "  \t- val_acc = 0.9243869423866272\n",
      "  \t- f1_score = 0.8740693490172542\n",
      "  \t- val_f1_score = 0.7934931755065918\n",
      " \n"
     ]
    },
    {
     "name": "stderr",
     "output_type": "stream",
     "text": [
      "Epoch 18/40 Training: 100%|██████████| 86/86 [00:15<00:00,  5.72it/s, loss=0.133, acc=0.956, f1_score=0.872]\n",
      "Epoch 18/40 Validation: 100%|██████████| 5/5 [00:00<00:00, 20.55it/s, val_loss=0.206]\n"
     ]
    },
    {
     "name": "stdout",
     "output_type": "stream",
     "text": [
      "\t- loss = 0.13341725981512734\n",
      "  \t- val_loss = 0.2060794472694397\n",
      "  \t- acc = 0.9555510892424472\n",
      "  \t- val_acc = 0.9228140473365783\n",
      "  \t- f1_score = 0.8724918199139972\n",
      "  \t- val_f1_score = 0.7986096739768982\n",
      " \n"
     ]
    },
    {
     "name": "stderr",
     "output_type": "stream",
     "text": [
      "Epoch 19/40 Training: 100%|██████████| 86/86 [00:15<00:00,  5.67it/s, loss=0.125, acc=0.958, f1_score=0.88] \n",
      "Epoch 19/40 Validation: 100%|██████████| 5/5 [00:00<00:00, 13.25it/s, val_loss=0.208]\n"
     ]
    },
    {
     "name": "stdout",
     "output_type": "stream",
     "text": [
      "\t- loss = 0.12524614223214084\n",
      "  \t- val_loss = 0.20799224376678466\n",
      "  \t- acc = 0.9579280698022177\n",
      "  \t- val_acc = 0.9273238778114319\n",
      "  \t- f1_score = 0.8802098153635513\n",
      "  \t- val_f1_score = 0.7954049706459045\n",
      " \n"
     ]
    },
    {
     "name": "stderr",
     "output_type": "stream",
     "text": [
      "Epoch 20/40 Training: 100%|██████████| 86/86 [00:15<00:00,  5.41it/s, loss=0.123, acc=0.959, f1_score=0.883]\n",
      "Epoch 20/40 Validation: 100%|██████████| 5/5 [00:00<00:00, 20.93it/s, val_loss=0.206]\n"
     ]
    },
    {
     "name": "stdout",
     "output_type": "stream",
     "text": [
      "\t- loss = 0.12258703972018042\n",
      "  \t- val_loss = 0.20579038858413695\n",
      "  \t- acc = 0.9588058251281117\n",
      "  \t- val_acc = 0.927238404750824\n",
      "  \t- f1_score = 0.8825577649959299\n",
      "  \t- val_f1_score = 0.7977893233299256\n",
      " \n"
     ]
    },
    {
     "name": "stderr",
     "output_type": "stream",
     "text": [
      "Epoch 21/40 Training: 100%|██████████| 86/86 [00:15<00:00,  5.64it/s, loss=0.118, acc=0.96, f1_score=0.887] \n",
      "Epoch 21/40 Validation: 100%|██████████| 5/5 [00:00<00:00, 20.31it/s, val_loss=0.21] \n"
     ]
    },
    {
     "name": "stdout",
     "output_type": "stream",
     "text": [
      "\t- loss = 0.11789357038431389\n",
      "  \t- val_loss = 0.20957205295562745\n",
      "  \t- acc = 0.9603778075340182\n",
      "  \t- val_acc = 0.9262297511100769\n",
      "  \t- f1_score = 0.8867288973442343\n",
      "  \t- val_f1_score = 0.7932703137397766\n",
      " \n"
     ]
    },
    {
     "name": "stderr",
     "output_type": "stream",
     "text": [
      "Epoch 22/40 Training: 100%|██████████| 86/86 [00:15<00:00,  5.65it/s, loss=0.116, acc=0.961, f1_score=0.888]\n",
      "Epoch 22/40 Validation: 100%|██████████| 5/5 [00:00<00:00, 20.72it/s, val_loss=0.205]\n"
     ]
    },
    {
     "name": "stdout",
     "output_type": "stream",
     "text": [
      "\t- loss = 0.11643747812093691\n",
      "  \t- val_loss = 0.20549983978271485\n",
      "  \t- acc = 0.9609514363976412\n",
      "  \t- val_acc = 0.9258942842483521\n",
      "  \t- f1_score = 0.8879684001900429\n",
      "  \t- val_f1_score = 0.7981068134307862\n",
      " \n"
     ]
    },
    {
     "name": "stderr",
     "output_type": "stream",
     "text": [
      "Epoch 23/40 Training: 100%|██████████| 86/86 [00:15<00:00,  5.67it/s, loss=0.111, acc=0.963, f1_score=0.893]\n",
      "Epoch 23/40 Validation: 100%|██████████| 5/5 [00:00<00:00, 20.95it/s, val_loss=0.21] \n"
     ]
    },
    {
     "name": "stdout",
     "output_type": "stream",
     "text": [
      "\t- loss = 0.11117636949517005\n",
      "  \t- val_loss = 0.21040083169937135\n",
      "  \t- acc = 0.962638737850411\n",
      "  \t- val_acc = 0.92681884765625\n",
      "  \t- f1_score = 0.8928139140439588\n",
      "  \t- val_f1_score = 0.792036509513855\n",
      " \n"
     ]
    },
    {
     "name": "stderr",
     "output_type": "stream",
     "text": [
      "Epoch 24/40 Training: 100%|██████████| 86/86 [00:15<00:00,  5.56it/s, loss=0.112, acc=0.962, f1_score=0.892] \n",
      "Epoch 24/40 Validation: 100%|██████████| 5/5 [00:00<00:00, 19.40it/s, val_loss=0.204]\n"
     ]
    },
    {
     "name": "stdout",
     "output_type": "stream",
     "text": [
      "\t- loss = 0.11158318367115287\n",
      "  \t- val_loss = 0.20397400856018066\n",
      "  \t- acc = 0.962451979171398\n",
      "  \t- val_acc = 0.9276493787765503\n",
      "  \t- f1_score = 0.8920030760210614\n",
      "  \t- val_f1_score = 0.7990614414215088\n",
      " \n"
     ]
    },
    {
     "name": "stderr",
     "output_type": "stream",
     "text": [
      "Epoch 25/40 Training: 100%|██████████| 86/86 [00:14<00:00,  5.83it/s, loss=0.108, acc=0.964, f1_score=0.895] \n",
      "Epoch 25/40 Validation: 100%|██████████| 5/5 [00:00<00:00, 20.82it/s, val_loss=0.2]  \n"
     ]
    },
    {
     "name": "stdout",
     "output_type": "stream",
     "text": [
      "\t- loss = 0.10813184533008309\n",
      "  \t- val_loss = 0.20013099908828735\n",
      "  \t- acc = 0.9635452198427777\n",
      "  \t- val_acc = 0.9295712947845459\n",
      "  \t- f1_score = 0.8953104185503583\n",
      "  \t- val_f1_score = 0.8020736336708069\n",
      " \n"
     ]
    },
    {
     "name": "stderr",
     "output_type": "stream",
     "text": [
      "Epoch 26/40 Training: 100%|██████████| 86/86 [00:15<00:00,  5.68it/s, loss=0.104, acc=0.965, f1_score=0.899] \n",
      "Epoch 26/40 Validation: 100%|██████████| 5/5 [00:00<00:00, 20.82it/s, val_loss=0.202]\n"
     ]
    },
    {
     "name": "stdout",
     "output_type": "stream",
     "text": [
      "\t- loss = 0.10408051831777705\n",
      "  \t- val_loss = 0.20167542695999147\n",
      "  \t- acc = 0.9648558455844258\n",
      "  \t- val_acc = 0.9294320702552795\n",
      "  \t- f1_score = 0.8989632843538772\n",
      "  \t- val_f1_score = 0.8002707958221436\n",
      " \n"
     ]
    },
    {
     "name": "stderr",
     "output_type": "stream",
     "text": [
      "Epoch 27/40 Training: 100%|██████████| 86/86 [00:15<00:00,  5.55it/s, loss=0.103, acc=0.965, f1_score=0.9]   \n",
      "Epoch 27/40 Validation: 100%|██████████| 5/5 [00:00<00:00, 20.30it/s, val_loss=0.209]\n"
     ]
    },
    {
     "name": "stdout",
     "output_type": "stream",
     "text": [
      "\t- loss = 0.10331130374309629\n",
      "  \t- val_loss = 0.20892412662506105\n",
      "  \t- acc = 0.9650199461814969\n",
      "  \t- val_acc = 0.9250994682312011\n",
      "  \t- f1_score = 0.8996472629003747\n",
      "  \t- val_f1_score = 0.7936328887939453\n",
      " \n"
     ]
    },
    {
     "name": "stderr",
     "output_type": "stream",
     "text": [
      "Epoch 28/40 Training: 100%|██████████| 86/86 [00:14<00:00,  5.78it/s, loss=0.0989, acc=0.966, f1_score=0.904]\n",
      "Epoch 28/40 Validation: 100%|██████████| 5/5 [00:00<00:00, 20.53it/s, val_loss=0.203]\n"
     ]
    },
    {
     "name": "stdout",
     "output_type": "stream",
     "text": [
      "\t- loss = 0.09892310652621956\n",
      "  \t- val_loss = 0.2027368426322937\n",
      "  \t- acc = 0.9663078667119492\n",
      "  \t- val_acc = 0.92833571434021\n",
      "  \t- f1_score = 0.9038511764171512\n",
      "  \t- val_f1_score = 0.7995704412460327\n",
      " \n"
     ]
    },
    {
     "name": "stderr",
     "output_type": "stream",
     "text": [
      "Epoch 29/40 Training: 100%|██████████| 86/86 [00:14<00:00,  5.79it/s, loss=0.0983, acc=0.967, f1_score=0.904]\n",
      "Epoch 29/40 Validation: 100%|██████████| 5/5 [00:00<00:00, 20.53it/s, val_loss=0.2]  \n"
     ]
    },
    {
     "name": "stdout",
     "output_type": "stream",
     "text": [
      "\t- loss = 0.09831363794415496\n",
      "  \t- val_loss = 0.20033830404281616\n",
      "  \t- acc = 0.9667605016120645\n",
      "  \t- val_acc = 0.9284139037132263\n",
      "  \t- f1_score = 0.9044920594193214\n",
      "  \t- val_f1_score = 0.8024016141891479\n",
      " \n"
     ]
    },
    {
     "name": "stderr",
     "output_type": "stream",
     "text": [
      "Epoch 30/40 Training: 100%|██████████| 86/86 [00:15<00:00,  5.52it/s, loss=0.0975, acc=0.967, f1_score=0.905]\n",
      "Epoch 30/40 Validation: 100%|██████████| 5/5 [00:00<00:00, 18.09it/s, val_loss=0.202]\n"
     ]
    },
    {
     "name": "stdout",
     "output_type": "stream",
     "text": [
      "\t- loss = 0.09754665091980336\n",
      "  \t- val_loss = 0.20208289623260497\n",
      "  \t- acc = 0.9667060617790666\n",
      "  \t- val_acc = 0.9294912815093994\n",
      "  \t- f1_score = 0.9051572437896285\n",
      "  \t- val_f1_score = 0.79979567527771\n",
      " \n"
     ]
    },
    {
     "name": "stderr",
     "output_type": "stream",
     "text": [
      "Epoch 31/40 Training: 100%|██████████| 86/86 [00:15<00:00,  5.55it/s, loss=0.0939, acc=0.968, f1_score=0.909]\n",
      "Epoch 31/40 Validation: 100%|██████████| 5/5 [00:00<00:00, 20.69it/s, val_loss=0.201]\n"
     ]
    },
    {
     "name": "stdout",
     "output_type": "stream",
     "text": [
      "\t- loss = 0.09385128423225048\n",
      "  \t- val_loss = 0.201290762424469\n",
      "  \t- acc = 0.9678324564944866\n",
      "  \t- val_acc = 0.9286725163459778\n",
      "  \t- f1_score = 0.908536774474521\n",
      "  \t- val_f1_score = 0.8004883885383606\n",
      " \n"
     ]
    },
    {
     "name": "stderr",
     "output_type": "stream",
     "text": [
      "Epoch 32/40 Training: 100%|██████████| 86/86 [00:15<00:00,  5.57it/s, loss=0.0929, acc=0.968, f1_score=0.909]\n",
      "Epoch 32/40 Validation: 100%|██████████| 5/5 [00:00<00:00, 21.05it/s, val_loss=0.2]  \n"
     ]
    },
    {
     "name": "stdout",
     "output_type": "stream",
     "text": [
      "\t- loss = 0.09290189521257268\n",
      "  \t- val_loss = 0.19970626831054689\n",
      "  \t- acc = 0.9681934346986372\n",
      "  \t- val_acc = 0.9290563464164734\n",
      "  \t- f1_score = 0.9093454327694205\n",
      "  \t- val_f1_score = 0.8021395087242127\n",
      " \n"
     ]
    },
    {
     "name": "stderr",
     "output_type": "stream",
     "text": [
      "Epoch 33/40 Training: 100%|██████████| 86/86 [00:15<00:00,  5.64it/s, loss=0.093, acc=0.968, f1_score=0.909] \n",
      "Epoch 33/40 Validation: 100%|██████████| 5/5 [00:00<00:00, 18.61it/s, val_loss=0.198]\n"
     ]
    },
    {
     "name": "stdout",
     "output_type": "stream",
     "text": [
      "\t- loss = 0.09300664344499278\n",
      "  \t- val_loss = 0.1980627417564392\n",
      "  \t- acc = 0.9682812046173007\n",
      "  \t- val_acc = 0.9284369587898255\n",
      "  \t- f1_score = 0.9091914899127428\n",
      "  \t- val_f1_score = 0.8040586948394776\n",
      " \n"
     ]
    },
    {
     "name": "stderr",
     "output_type": "stream",
     "text": [
      "Epoch 34/40 Training: 100%|██████████| 86/86 [00:14<00:00,  5.74it/s, loss=0.0913, acc=0.969, f1_score=0.911]\n",
      "Epoch 34/40 Validation: 100%|██████████| 5/5 [00:00<00:00, 21.07it/s, val_loss=0.197]\n"
     ]
    },
    {
     "name": "stdout",
     "output_type": "stream",
     "text": [
      "\t- loss = 0.09130807602128317\n",
      "  \t- val_loss = 0.19722613096237182\n",
      "  \t- acc = 0.9690675104773322\n",
      "  \t- val_acc = 0.9306500434875489\n",
      "  \t- f1_score = 0.9108274537463521\n",
      "  \t- val_f1_score = 0.8041555285453796\n",
      " \n"
     ]
    },
    {
     "name": "stderr",
     "output_type": "stream",
     "text": [
      "Epoch 35/40 Training: 100%|██████████| 86/86 [00:15<00:00,  5.73it/s, loss=0.0875, acc=0.97, f1_score=0.915] \n",
      "Epoch 35/40 Validation: 100%|██████████| 5/5 [00:00<00:00, 18.40it/s, val_loss=0.199]\n"
     ]
    },
    {
     "name": "stdout",
     "output_type": "stream",
     "text": [
      "\t- loss = 0.08747552300608435\n",
      "  \t- val_loss = 0.1990580677986145\n",
      "  \t- acc = 0.9700509614722673\n",
      "  \t- val_acc = 0.9289781451225281\n",
      "  \t- f1_score = 0.9145248899626177\n",
      "  \t- val_f1_score = 0.8023129343986511\n",
      " \n"
     ]
    },
    {
     "name": "stderr",
     "output_type": "stream",
     "text": [
      "Epoch 36/40 Training: 100%|██████████| 86/86 [00:15<00:00,  5.46it/s, loss=0.088, acc=0.97, f1_score=0.914]  \n",
      "Epoch 36/40 Validation: 100%|██████████| 5/5 [00:00<00:00, 16.05it/s, val_loss=0.2]  \n"
     ]
    },
    {
     "name": "stdout",
     "output_type": "stream",
     "text": [
      "\t- loss = 0.08800076260123142\n",
      "  \t- val_loss = 0.2000042676925659\n",
      "  \t- acc = 0.969826531964679\n",
      "  \t- val_acc = 0.9272863388061523\n",
      "  \t- f1_score = 0.9138744667518971\n",
      "  \t- val_f1_score = 0.8020567536354065\n",
      " \n"
     ]
    },
    {
     "name": "stderr",
     "output_type": "stream",
     "text": [
      "Epoch 37/40 Training: 100%|██████████| 86/86 [00:15<00:00,  5.49it/s, loss=0.0863, acc=0.97, f1_score=0.916] \n",
      "Epoch 37/40 Validation: 100%|██████████| 5/5 [00:00<00:00, 20.19it/s, val_loss=0.196]\n"
     ]
    },
    {
     "name": "stdout",
     "output_type": "stream",
     "text": [
      "\t- loss = 0.08625531473825145\n",
      "  \t- val_loss = 0.19640038013458253\n",
      "  \t- acc = 0.970356005568837\n",
      "  \t- val_acc = 0.9296413898468018\n",
      "  \t- f1_score = 0.9156040348285852\n",
      "  \t- val_f1_score = 0.8054317116737366\n",
      " \n"
     ]
    },
    {
     "name": "stderr",
     "output_type": "stream",
     "text": [
      "Epoch 38/40 Training: 100%|██████████| 86/86 [00:14<00:00,  5.80it/s, loss=0.0852, acc=0.971, f1_score=0.917]\n",
      "Epoch 38/40 Validation: 100%|██████████| 5/5 [00:00<00:00, 21.03it/s, val_loss=0.196]\n"
     ]
    },
    {
     "name": "stdout",
     "output_type": "stream",
     "text": [
      "\t- loss = 0.0851699945538543\n",
      "  \t- val_loss = 0.19609518051147462\n",
      "  \t- acc = 0.9710252084011255\n",
      "  \t- val_acc = 0.9303150415420532\n",
      "  \t- f1_score = 0.9166123645250187\n",
      "  \t- val_f1_score = 0.8053420543670654\n",
      " \n"
     ]
    },
    {
     "name": "stderr",
     "output_type": "stream",
     "text": [
      "Epoch 39/40 Training: 100%|██████████| 86/86 [00:14<00:00,  5.85it/s, loss=0.0843, acc=0.971, f1_score=0.917]\n",
      "Epoch 39/40 Validation: 100%|██████████| 5/5 [00:00<00:00, 21.06it/s, val_loss=0.198]\n"
     ]
    },
    {
     "name": "stdout",
     "output_type": "stream",
     "text": [
      "\t- loss = 0.08432532257811967\n",
      "  \t- val_loss = 0.19826749563217164\n",
      "  \t- acc = 0.9710673724496087\n",
      "  \t- val_acc = 0.9282140731811523\n",
      "  \t- f1_score = 0.9173839272454728\n",
      "  \t- val_f1_score = 0.8037587165832519\n",
      " \n"
     ]
    },
    {
     "name": "stderr",
     "output_type": "stream",
     "text": [
      "Epoch 40/40 Training: 100%|██████████| 86/86 [00:15<00:00,  5.69it/s, loss=0.0833, acc=0.972, f1_score=0.918]\n",
      "Epoch 40/40 Validation: 100%|██████████| 5/5 [00:00<00:00, 20.51it/s, val_loss=0.196]\n"
     ]
    },
    {
     "name": "stdout",
     "output_type": "stream",
     "text": [
      "\t- loss = 0.08327106403750043\n",
      "  \t- val_loss = 0.19599637985229493\n",
      "  \t- acc = 0.9717368656812713\n",
      "  \t- val_acc = 0.9291802287101746\n",
      "  \t- f1_score = 0.9183181926261547\n",
      "  \t- val_f1_score = 0.8058395028114319\n",
      " \n"
     ]
    },
    {
     "data": {
      "text/plain": [
       "{0: {'loss': 0.6299140508784804,\n",
       "  'val_loss': 0.5776807427406311,\n",
       "  'acc': 0.4212282986141915,\n",
       "  'val_acc': 0.4159803628921509,\n",
       "  'f1_score': 0.44902481398610183,\n",
       "  'val_f1_score': 0.4779277503490448},\n",
       " 1: {'loss': 0.4582691767881083,\n",
       "  'val_loss': 0.448132848739624,\n",
       "  'acc': 0.7664944266164025,\n",
       "  'val_acc': 0.726689088344574,\n",
       "  'f1_score': 0.6398790000483047,\n",
       "  'val_f1_score': 0.6112017869949341},\n",
       " 2: {'loss': 0.375850658084071,\n",
       "  'val_loss': 0.35616310834884646,\n",
       "  'acc': 0.8521170276542043,\n",
       "  'val_acc': 0.8239949584007263,\n",
       "  'f1_score': 0.6997198847144149,\n",
       "  'val_f1_score': 0.6986963391304016},\n",
       " 3: {'loss': 0.31776328419530114,\n",
       "  'val_loss': 0.2934208631515503,\n",
       "  'acc': 0.8861315382081408,\n",
       "  'val_acc': 0.8926626801490783,\n",
       "  'f1_score': 0.7406432233577551,\n",
       "  'val_f1_score': 0.753587543964386},\n",
       " 4: {'loss': 0.27855242754137793,\n",
       "  'val_loss': 0.26383707523345945,\n",
       "  'acc': 0.9039075929065084,\n",
       "  'val_acc': 0.9059484481811524,\n",
       "  'f1_score': 0.7656888303368591,\n",
       "  'val_f1_score': 0.7715983986854553},\n",
       " 5: {'loss': 0.24680022514143654,\n",
       "  'val_loss': 0.24103626012802123,\n",
       "  'acc': 0.9159616169541381,\n",
       "  'val_acc': 0.9198667287826539,\n",
       "  'f1_score': 0.7869556397199631,\n",
       "  'val_f1_score': 0.7873705983161926},\n",
       " 6: {'loss': 0.22774371643399083,\n",
       "  'val_loss': 0.2405943751335144,\n",
       "  'acc': 0.9240314745625784,\n",
       "  'val_acc': 0.9147248506546021,\n",
       "  'f1_score': 0.7999518984972045,\n",
       "  'val_f1_score': 0.7798473477363587},\n",
       " 7: {'loss': 0.20805387164271155,\n",
       "  'val_loss': 0.2469915270805359,\n",
       "  'acc': 0.9305976462918658,\n",
       "  'val_acc': 0.9095513343811035,\n",
       "  'f1_score': 0.8140808440918146,\n",
       "  'val_f1_score': 0.7691915512084961},\n",
       " 8: {'loss': 0.19503184875776602,\n",
       "  'val_loss': 0.23363929986953735,\n",
       "  'acc': 0.935450307851614,\n",
       "  'val_acc': 0.9156146049499512,\n",
       "  'f1_score': 0.8238082666729771,\n",
       "  'val_f1_score': 0.7819396615028381},\n",
       " 9: {'loss': 0.18033346741698508,\n",
       "  'val_loss': 0.22411026954650878,\n",
       "  'acc': 0.9398246788701345,\n",
       "  'val_acc': 0.9150725364685058,\n",
       "  'f1_score': 0.8357224644616593,\n",
       "  'val_f1_score': 0.7897318005561829},\n",
       " 10: {'loss': 0.173289195742718,\n",
       "  'val_loss': 0.2204594373703003,\n",
       "  'acc': 0.9423408147900604,\n",
       "  'val_acc': 0.9197903156280518,\n",
       "  'f1_score': 0.8403486609458923,\n",
       "  'val_f1_score': 0.7902560114860535},\n",
       " 11: {'loss': 0.16522380986879037,\n",
       "  'val_loss': 0.21152063608169555,\n",
       "  'acc': 0.9454242996005124,\n",
       "  'val_acc': 0.9230857729911804,\n",
       "  'f1_score': 0.8461983363295711,\n",
       "  'val_f1_score': 0.7963865876197815},\n",
       " 12: {'loss': 0.15490016895671224,\n",
       "  'val_loss': 0.2169926643371582,\n",
       "  'acc': 0.9484322376029436,\n",
       "  'val_acc': 0.922061276435852,\n",
       "  'f1_score': 0.8553326878436777,\n",
       "  'val_f1_score': 0.7893017530441284},\n",
       " 13: {'loss': 0.1470400607863138,\n",
       "  'val_loss': 0.22268723249435424,\n",
       "  'acc': 0.9505221538765486,\n",
       "  'val_acc': 0.9267899036407471,\n",
       "  'f1_score': 0.8620036715684936,\n",
       "  'val_f1_score': 0.7825131416320801},\n",
       " 14: {'loss': 0.14118977896002835,\n",
       "  'val_loss': 0.20748326778411866,\n",
       "  'acc': 0.9527603214563325,\n",
       "  'val_acc': 0.9255072832107544,\n",
       "  'f1_score': 0.8667671749758166,\n",
       "  'val_f1_score': 0.7970812916755676},\n",
       " 15: {'loss': 0.13677444014438364,\n",
       "  'val_loss': 0.211423659324646,\n",
       "  'acc': 0.9540549405785494,\n",
       "  'val_acc': 0.9213410496711731,\n",
       "  'f1_score': 0.8705822977908823,\n",
       "  'val_f1_score': 0.7945165038108826},\n",
       " 16: {'loss': 0.13262525270151537,\n",
       "  'val_loss': 0.21151180267333985,\n",
       "  'acc': 0.9556783368421156,\n",
       "  'val_acc': 0.9243869423866272,\n",
       "  'f1_score': 0.8740693490172542,\n",
       "  'val_f1_score': 0.7934931755065918},\n",
       " 17: {'loss': 0.13341725981512734,\n",
       "  'val_loss': 0.2060794472694397,\n",
       "  'acc': 0.9555510892424472,\n",
       "  'val_acc': 0.9228140473365783,\n",
       "  'f1_score': 0.8724918199139972,\n",
       "  'val_f1_score': 0.7986096739768982},\n",
       " 18: {'loss': 0.12524614223214084,\n",
       "  'val_loss': 0.20799224376678466,\n",
       "  'acc': 0.9579280698022177,\n",
       "  'val_acc': 0.9273238778114319,\n",
       "  'f1_score': 0.8802098153635513,\n",
       "  'val_f1_score': 0.7954049706459045},\n",
       " 19: {'loss': 0.12258703972018042,\n",
       "  'val_loss': 0.20579038858413695,\n",
       "  'acc': 0.9588058251281117,\n",
       "  'val_acc': 0.927238404750824,\n",
       "  'f1_score': 0.8825577649959299,\n",
       "  'val_f1_score': 0.7977893233299256},\n",
       " 20: {'loss': 0.11789357038431389,\n",
       "  'val_loss': 0.20957205295562745,\n",
       "  'acc': 0.9603778075340182,\n",
       "  'val_acc': 0.9262297511100769,\n",
       "  'f1_score': 0.8867288973442343,\n",
       "  'val_f1_score': 0.7932703137397766},\n",
       " 21: {'loss': 0.11643747812093691,\n",
       "  'val_loss': 0.20549983978271485,\n",
       "  'acc': 0.9609514363976412,\n",
       "  'val_acc': 0.9258942842483521,\n",
       "  'f1_score': 0.8879684001900429,\n",
       "  'val_f1_score': 0.7981068134307862},\n",
       " 22: {'loss': 0.11117636949517005,\n",
       "  'val_loss': 0.21040083169937135,\n",
       "  'acc': 0.962638737850411,\n",
       "  'val_acc': 0.92681884765625,\n",
       "  'f1_score': 0.8928139140439588,\n",
       "  'val_f1_score': 0.792036509513855},\n",
       " 23: {'loss': 0.11158318367115287,\n",
       "  'val_loss': 0.20397400856018066,\n",
       "  'acc': 0.962451979171398,\n",
       "  'val_acc': 0.9276493787765503,\n",
       "  'f1_score': 0.8920030760210614,\n",
       "  'val_f1_score': 0.7990614414215088},\n",
       " 24: {'loss': 0.10813184533008309,\n",
       "  'val_loss': 0.20013099908828735,\n",
       "  'acc': 0.9635452198427777,\n",
       "  'val_acc': 0.9295712947845459,\n",
       "  'f1_score': 0.8953104185503583,\n",
       "  'val_f1_score': 0.8020736336708069},\n",
       " 25: {'loss': 0.10408051831777705,\n",
       "  'val_loss': 0.20167542695999147,\n",
       "  'acc': 0.9648558455844258,\n",
       "  'val_acc': 0.9294320702552795,\n",
       "  'f1_score': 0.8989632843538772,\n",
       "  'val_f1_score': 0.8002707958221436},\n",
       " 26: {'loss': 0.10331130374309629,\n",
       "  'val_loss': 0.20892412662506105,\n",
       "  'acc': 0.9650199461814969,\n",
       "  'val_acc': 0.9250994682312011,\n",
       "  'f1_score': 0.8996472629003747,\n",
       "  'val_f1_score': 0.7936328887939453},\n",
       " 27: {'loss': 0.09892310652621956,\n",
       "  'val_loss': 0.2027368426322937,\n",
       "  'acc': 0.9663078667119492,\n",
       "  'val_acc': 0.92833571434021,\n",
       "  'f1_score': 0.9038511764171512,\n",
       "  'val_f1_score': 0.7995704412460327},\n",
       " 28: {'loss': 0.09831363794415496,\n",
       "  'val_loss': 0.20033830404281616,\n",
       "  'acc': 0.9667605016120645,\n",
       "  'val_acc': 0.9284139037132263,\n",
       "  'f1_score': 0.9044920594193214,\n",
       "  'val_f1_score': 0.8024016141891479},\n",
       " 29: {'loss': 0.09754665091980336,\n",
       "  'val_loss': 0.20208289623260497,\n",
       "  'acc': 0.9667060617790666,\n",
       "  'val_acc': 0.9294912815093994,\n",
       "  'f1_score': 0.9051572437896285,\n",
       "  'val_f1_score': 0.79979567527771},\n",
       " 30: {'loss': 0.09385128423225048,\n",
       "  'val_loss': 0.201290762424469,\n",
       "  'acc': 0.9678324564944866,\n",
       "  'val_acc': 0.9286725163459778,\n",
       "  'f1_score': 0.908536774474521,\n",
       "  'val_f1_score': 0.8004883885383606},\n",
       " 31: {'loss': 0.09290189521257268,\n",
       "  'val_loss': 0.19970626831054689,\n",
       "  'acc': 0.9681934346986372,\n",
       "  'val_acc': 0.9290563464164734,\n",
       "  'f1_score': 0.9093454327694205,\n",
       "  'val_f1_score': 0.8021395087242127},\n",
       " 32: {'loss': 0.09300664344499278,\n",
       "  'val_loss': 0.1980627417564392,\n",
       "  'acc': 0.9682812046173007,\n",
       "  'val_acc': 0.9284369587898255,\n",
       "  'f1_score': 0.9091914899127428,\n",
       "  'val_f1_score': 0.8040586948394776},\n",
       " 33: {'loss': 0.09130807602128317,\n",
       "  'val_loss': 0.19722613096237182,\n",
       "  'acc': 0.9690675104773322,\n",
       "  'val_acc': 0.9306500434875489,\n",
       "  'f1_score': 0.9108274537463521,\n",
       "  'val_f1_score': 0.8041555285453796},\n",
       " 34: {'loss': 0.08747552300608435,\n",
       "  'val_loss': 0.1990580677986145,\n",
       "  'acc': 0.9700509614722673,\n",
       "  'val_acc': 0.9289781451225281,\n",
       "  'f1_score': 0.9145248899626177,\n",
       "  'val_f1_score': 0.8023129343986511},\n",
       " 35: {'loss': 0.08800076260123142,\n",
       "  'val_loss': 0.2000042676925659,\n",
       "  'acc': 0.969826531964679,\n",
       "  'val_acc': 0.9272863388061523,\n",
       "  'f1_score': 0.9138744667518971,\n",
       "  'val_f1_score': 0.8020567536354065},\n",
       " 36: {'loss': 0.08625531473825145,\n",
       "  'val_loss': 0.19640038013458253,\n",
       "  'acc': 0.970356005568837,\n",
       "  'val_acc': 0.9296413898468018,\n",
       "  'f1_score': 0.9156040348285852,\n",
       "  'val_f1_score': 0.8054317116737366},\n",
       " 37: {'loss': 0.0851699945538543,\n",
       "  'val_loss': 0.19609518051147462,\n",
       "  'acc': 0.9710252084011255,\n",
       "  'val_acc': 0.9303150415420532,\n",
       "  'f1_score': 0.9166123645250187,\n",
       "  'val_f1_score': 0.8053420543670654},\n",
       " 38: {'loss': 0.08432532257811967,\n",
       "  'val_loss': 0.19826749563217164,\n",
       "  'acc': 0.9710673724496087,\n",
       "  'val_acc': 0.9282140731811523,\n",
       "  'f1_score': 0.9173839272454728,\n",
       "  'val_f1_score': 0.8037587165832519},\n",
       " 39: {'loss': 0.08327106403750043,\n",
       "  'val_loss': 0.19599637985229493,\n",
       "  'acc': 0.9717368656812713,\n",
       "  'val_acc': 0.9291802287101746,\n",
       "  'f1_score': 0.9183181926261547,\n",
       "  'val_f1_score': 0.8058395028114319}}"
      ]
     },
     "execution_count": 6,
     "metadata": {},
     "output_type": "execute_result"
    }
   ],
   "source": [
    "train_images, val_images, train_masks, val_masks = train_test_split(\n",
    "        images_org, masks_org, test_size=0.1, random_state=42, shuffle=True\n",
    "    )\n",
    "\n",
    "images_aug, masks_aug = augment.augment_data(train_images, train_masks, 1)\n",
    "\n",
    "images_aug = np.stack([img/255.0 for img in images_aug]).astype(np.float32)\n",
    "masks_aug = np.stack([mask/255.0 for mask in masks_aug]).astype(np.float32)\n",
    "\n",
    "val_images = np.stack([img/255.0 for img in val_images]).astype(np.float32)\n",
    "val_masks = np.stack([mask/255.0 for mask in val_masks]).astype(np.float32)\n",
    "\n",
    "# reshape the image to simplify the handling of skip connections and maxpooling\n",
    "train_dataset = ImageDataset(images_aug, masks_aug, device, use_patches=False, resize_to=(384, 384))\n",
    "val_dataset = ImageDataset(val_images, val_masks, device, use_patches=False, resize_to=(384, 384))\n",
    "\n",
    "    \n",
    "train_dataloader = torch.utils.data.DataLoader(train_dataset, batch_size=3, shuffle=True)\n",
    "val_dataloader = torch.utils.data.DataLoader(val_dataset, batch_size=3, shuffle=True)\n",
    "    \n",
    "model = smp.Unet(\n",
    "    encoder_name=\"efficientnet-b4\",        # choose encoder, e.g. mobilenet_v2 or efficientnet-b7\n",
    "    encoder_weights=\"imagenet\",     # use `imagenet` pre-trained weights for encoder initialization\n",
    "    in_channels=3,                  # model input channels (1 for gray-scale images, 3 for RGB, etc.)\n",
    "    classes=1,                      # model output channels (number of classes in your dataset)\n",
    ")\n",
    "model = model.to(device)\n",
    "loss_fn = smp.losses.DiceLoss(smp.losses.BINARY_MODE, from_logits=True)\n",
    "metric_fns = {'acc': trainer.accuracy_fn,\n",
    "'f1_score': trainer.f1_score_fn}\n",
    "optimizer = torch.optim.Adam(model.parameters(), lr=1e-4)\n",
    "#scheduler = ReduceLROnPlateau(optimizer)\n",
    "train(model, optimizer, train_dataloader, val_dataloader, loss_fn, 40, None, 0, metric_fns)"
   ]
  },
  {
   "cell_type": "code",
   "execution_count": 7,
   "metadata": {},
   "outputs": [],
   "source": [
    "model_backs.append(model)"
   ]
  },
  {
   "cell_type": "code",
   "execution_count": 8,
   "metadata": {},
   "outputs": [
    {
     "data": {
      "text/plain": [
       "<All keys matched successfully>"
      ]
     },
     "execution_count": 8,
     "metadata": {},
     "output_type": "execute_result"
    }
   ],
   "source": [
    "model4 = smp.Unet(\n",
    "    encoder_name=\"resnet50\",        # choose encoder, e.g. mobilenet_v2 or efficientnet-b7\n",
    "    encoder_weights=\"imagenet\",     # use `imagenet` pre-trained weights for encoder initialization\n",
    "    in_channels=3,                  # model input channels (1 for gray-scale images, 3 for RGB, etc.)\n",
    "    classes=1,                      # model output channels (number of classes in your dataset)\n",
    ")\n",
    "model4 = model4.to(device)\n",
    "\n",
    "checkpoint = torch.load('checkpoints/lively-surf-85/epoch_40.pt')\n",
    "model4.load_state_dict(checkpoint['model_state_dict'])"
   ]
  },
  {
   "cell_type": "code",
   "execution_count": 9,
   "metadata": {},
   "outputs": [],
   "source": [
    "model_backs.append(model4)"
   ]
  },
  {
   "cell_type": "code",
   "execution_count": 10,
   "metadata": {
    "scrolled": true
   },
   "outputs": [
    {
     "data": {
      "text/html": [
       "Finishing last run (ID:ogzbe253) before initializing another..."
      ],
      "text/plain": [
       "<IPython.core.display.HTML object>"
      ]
     },
     "metadata": {},
     "output_type": "display_data"
    },
    {
     "data": {
      "application/vnd.jupyter.widget-view+json": {
       "model_id": "",
       "version_major": 2,
       "version_minor": 0
      },
      "text/plain": [
       "VBox(children=(Label(value='0.003 MB of 0.003 MB uploaded\\r'), FloatProgress(value=1.0, max=1.0)))"
      ]
     },
     "metadata": {},
     "output_type": "display_data"
    },
    {
     "data": {
      "text/html": [
       "<style>\n",
       "    table.wandb td:nth-child(1) { padding: 0 10px; text-align: left ; width: auto;} td:nth-child(2) {text-align: left ; width: 100%}\n",
       "    .wandb-row { display: flex; flex-direction: row; flex-wrap: wrap; justify-content: flex-start; width: 100% }\n",
       "    .wandb-col { display: flex; flex-direction: column; flex-basis: 100%; flex: 1; padding: 10px; }\n",
       "    </style>\n",
       "<div class=\"wandb-row\"><div class=\"wandb-col\"><h3>Run history:</h3><br/><table class=\"wandb\"><tr><td>acc</td><td>▁▅▆▇▇▇▇▇████████████████████████████████</td></tr><tr><td>f1_score</td><td>▁▄▅▅▆▆▆▆▇▇▇▇▇▇▇▇▇▇▇▇████████████████████</td></tr><tr><td>loss</td><td>█▆▅▄▄▃▃▃▂▂▂▂▂▂▂▂▂▂▂▂▁▁▁▁▁▁▁▁▁▁▁▁▁▁▁▁▁▁▁▁</td></tr><tr><td>val_acc</td><td>▁▅▇▇████████████████████████████████████</td></tr><tr><td>val_f1_score</td><td>▁▄▆▇▇█▇▇▇███████████████████████████████</td></tr><tr><td>val_loss</td><td>█▆▄▃▂▂▂▂▂▂▁▁▁▁▁▁▁▁▁▁▁▁▁▁▁▁▁▁▁▁▁▁▁▁▁▁▁▁▁▁</td></tr></table><br/></div><div class=\"wandb-col\"><h3>Run summary:</h3><br/><table class=\"wandb\"><tr><td>acc</td><td>0.97174</td></tr><tr><td>f1_score</td><td>0.91832</td></tr><tr><td>loss</td><td>0.08327</td></tr><tr><td>val_acc</td><td>0.92918</td></tr><tr><td>val_f1_score</td><td>0.80584</td></tr><tr><td>val_loss</td><td>0.196</td></tr></table><br/></div></div>"
      ],
      "text/plain": [
       "<IPython.core.display.HTML object>"
      ]
     },
     "metadata": {},
     "output_type": "display_data"
    },
    {
     "data": {
      "text/html": [
       " View run <strong style=\"color:#cdcd00\">ethereal-dawn-92</strong> at: <a href='https://wandb.ai/besteguney/CIL/runs/ogzbe253' target=\"_blank\">https://wandb.ai/besteguney/CIL/runs/ogzbe253</a><br/> View project at: <a href='https://wandb.ai/besteguney/CIL' target=\"_blank\">https://wandb.ai/besteguney/CIL</a><br/>Synced 5 W&B file(s), 0 media file(s), 0 artifact file(s) and 0 other file(s)"
      ],
      "text/plain": [
       "<IPython.core.display.HTML object>"
      ]
     },
     "metadata": {},
     "output_type": "display_data"
    },
    {
     "data": {
      "text/html": [
       "Find logs at: <code>./wandb/run-20240721_143452-ogzbe253/logs</code>"
      ],
      "text/plain": [
       "<IPython.core.display.HTML object>"
      ]
     },
     "metadata": {},
     "output_type": "display_data"
    },
    {
     "data": {
      "text/html": [
       "The new W&B backend becomes opt-out in version 0.18.0; try it out with `wandb.require(\"core\")`! See https://wandb.me/wandb-core for more information."
      ],
      "text/plain": [
       "<IPython.core.display.HTML object>"
      ]
     },
     "metadata": {},
     "output_type": "display_data"
    },
    {
     "data": {
      "text/html": [
       "Successfully finished last run (ID:ogzbe253). Initializing new run:<br/>"
      ],
      "text/plain": [
       "<IPython.core.display.HTML object>"
      ]
     },
     "metadata": {},
     "output_type": "display_data"
    },
    {
     "data": {
      "application/vnd.jupyter.widget-view+json": {
       "model_id": "c4411c8e2d934107838c2b0e39e9b400",
       "version_major": 2,
       "version_minor": 0
      },
      "text/plain": [
       "VBox(children=(Label(value='Waiting for wandb.init()...\\r'), FloatProgress(value=0.011112563581102424, max=1.0…"
      ]
     },
     "metadata": {},
     "output_type": "display_data"
    },
    {
     "data": {
      "text/html": [
       "wandb version 0.17.5 is available!  To upgrade, please run:\n",
       " $ pip install wandb --upgrade"
      ],
      "text/plain": [
       "<IPython.core.display.HTML object>"
      ]
     },
     "metadata": {},
     "output_type": "display_data"
    },
    {
     "data": {
      "text/html": [
       "Tracking run with wandb version 0.17.4"
      ],
      "text/plain": [
       "<IPython.core.display.HTML object>"
      ]
     },
     "metadata": {},
     "output_type": "display_data"
    },
    {
     "data": {
      "text/html": [
       "Run data is saved locally in <code>/home/bgueney/CIL-2024/wandb/run-20240721_144922-okokzn2h</code>"
      ],
      "text/plain": [
       "<IPython.core.display.HTML object>"
      ]
     },
     "metadata": {},
     "output_type": "display_data"
    },
    {
     "data": {
      "text/html": [
       "Syncing run <strong><a href='https://wandb.ai/besteguney/CIL/runs/okokzn2h' target=\"_blank\">electric-water-93</a></strong> to <a href='https://wandb.ai/besteguney/CIL' target=\"_blank\">Weights & Biases</a> (<a href='https://wandb.me/run' target=\"_blank\">docs</a>)<br/>"
      ],
      "text/plain": [
       "<IPython.core.display.HTML object>"
      ]
     },
     "metadata": {},
     "output_type": "display_data"
    },
    {
     "data": {
      "text/html": [
       " View project at <a href='https://wandb.ai/besteguney/CIL' target=\"_blank\">https://wandb.ai/besteguney/CIL</a>"
      ],
      "text/plain": [
       "<IPython.core.display.HTML object>"
      ]
     },
     "metadata": {},
     "output_type": "display_data"
    },
    {
     "data": {
      "text/html": [
       " View run at <a href='https://wandb.ai/besteguney/CIL/runs/okokzn2h' target=\"_blank\">https://wandb.ai/besteguney/CIL/runs/okokzn2h</a>"
      ],
      "text/plain": [
       "<IPython.core.display.HTML object>"
      ]
     },
     "metadata": {},
     "output_type": "display_data"
    },
    {
     "name": "stderr",
     "output_type": "stream",
     "text": [
      "Epoch 1/15 Training: 100%|██████████| 129/129 [00:17<00:00,  7.44it/s, loss=0.154, acc=0.947, f1_score=0.847]\n",
      "Epoch 1/15 Validation: 100%|██████████| 5/5 [00:00<00:00, 22.27it/s, val_loss=0.181]\n"
     ]
    },
    {
     "name": "stdout",
     "output_type": "stream",
     "text": [
      "\t- loss = 0.15414152450339738\n",
      "  \t- val_loss = 0.18103957176208496\n",
      "  \t- acc = 0.9473700186078863\n",
      "  \t- val_acc = 0.9356160640716553\n",
      "  \t- f1_score = 0.8473773289096448\n",
      "  \t- val_f1_score = 0.820695436000824\n",
      " \n"
     ]
    },
    {
     "name": "stderr",
     "output_type": "stream",
     "text": [
      "Epoch 2/15 Training: 100%|██████████| 129/129 [00:17<00:00,  7.43it/s, loss=0.14, acc=0.952, f1_score=0.861] \n",
      "Epoch 2/15 Validation: 100%|██████████| 5/5 [00:00<00:00, 21.53it/s, val_loss=0.187]\n"
     ]
    },
    {
     "name": "stdout",
     "output_type": "stream",
     "text": [
      "\t- loss = 0.140454442464104\n",
      "  \t- val_loss = 0.18684723377227783\n",
      "  \t- acc = 0.9519195672153502\n",
      "  \t- val_acc = 0.9350540637969971\n",
      "  \t- f1_score = 0.8610599073328713\n",
      "  \t- val_f1_score = 0.8148595452308655\n",
      " \n"
     ]
    },
    {
     "name": "stderr",
     "output_type": "stream",
     "text": [
      "Epoch 3/15 Training: 100%|██████████| 129/129 [00:17<00:00,  7.41it/s, loss=0.133, acc=0.955, f1_score=0.868]\n",
      "Epoch 3/15 Validation: 100%|██████████| 5/5 [00:00<00:00, 21.55it/s, val_loss=0.181]\n"
     ]
    },
    {
     "name": "stdout",
     "output_type": "stream",
     "text": [
      "\t- loss = 0.13343124334202255\n",
      "  \t- val_loss = 0.1807571530342102\n",
      "  \t- acc = 0.9547795269840448\n",
      "  \t- val_acc = 0.9347312688827515\n",
      "  \t- f1_score = 0.8679865922114646\n",
      "  \t- val_f1_score = 0.8211920619010925\n",
      " \n"
     ]
    },
    {
     "name": "stderr",
     "output_type": "stream",
     "text": [
      "Epoch 4/15 Training: 100%|██████████| 129/129 [00:17<00:00,  7.19it/s, loss=0.125, acc=0.957, f1_score=0.876]\n",
      "Epoch 4/15 Validation: 100%|██████████| 5/5 [00:00<00:00, 21.49it/s, val_loss=0.184]\n"
     ]
    },
    {
     "name": "stdout",
     "output_type": "stream",
     "text": [
      "\t- loss = 0.12545090220695318\n",
      "  \t- val_loss = 0.18402328491210937\n",
      "  \t- acc = 0.9568023769430412\n",
      "  \t- val_acc = 0.93636474609375\n",
      "  \t- f1_score = 0.876087350900783\n",
      "  \t- val_f1_score = 0.8175813436508179\n",
      " \n"
     ]
    },
    {
     "name": "stderr",
     "output_type": "stream",
     "text": [
      "Epoch 5/15 Training: 100%|██████████| 129/129 [00:17<00:00,  7.32it/s, loss=0.121, acc=0.959, f1_score=0.88] \n",
      "Epoch 5/15 Validation: 100%|██████████| 5/5 [00:00<00:00, 15.15it/s, val_loss=0.181]\n"
     ]
    },
    {
     "name": "stdout",
     "output_type": "stream",
     "text": [
      "\t- loss = 0.12134914989619291\n",
      "  \t- val_loss = 0.18108530044555665\n",
      "  \t- acc = 0.9587578912113988\n",
      "  \t- val_acc = 0.9361608386039734\n",
      "  \t- f1_score = 0.8800895061603812\n",
      "  \t- val_f1_score = 0.820396363735199\n",
      " \n"
     ]
    },
    {
     "name": "stderr",
     "output_type": "stream",
     "text": [
      "Epoch 6/15 Training: 100%|██████████| 129/129 [00:17<00:00,  7.25it/s, loss=0.115, acc=0.961, f1_score=0.886]\n",
      "Epoch 6/15 Validation: 100%|██████████| 5/5 [00:00<00:00, 22.28it/s, val_loss=0.181]\n"
     ]
    },
    {
     "name": "stdout",
     "output_type": "stream",
     "text": [
      "\t- loss = 0.11548781718394553\n",
      "  \t- val_loss = 0.18077765703201293\n",
      "  \t- acc = 0.9605671074963356\n",
      "  \t- val_acc = 0.9361165404319763\n",
      "  \t- f1_score = 0.8859829149504964\n",
      "  \t- val_f1_score = 0.820849335193634\n",
      " \n"
     ]
    },
    {
     "name": "stderr",
     "output_type": "stream",
     "text": [
      "Epoch 7/15 Training: 100%|██████████| 129/129 [00:18<00:00,  7.07it/s, loss=0.109, acc=0.962, f1_score=0.892]\n",
      "Epoch 7/15 Validation: 100%|██████████| 5/5 [00:00<00:00, 20.93it/s, val_loss=0.184]\n"
     ]
    },
    {
     "name": "stdout",
     "output_type": "stream",
     "text": [
      "\t- loss = 0.10949113618495852\n",
      "  \t- val_loss = 0.18445098400115967\n",
      "  \t- acc = 0.9622428865395776\n",
      "  \t- val_acc = 0.9355934500694275\n",
      "  \t- f1_score = 0.8920057198798009\n",
      "  \t- val_f1_score = 0.8169069528579712\n",
      " \n"
     ]
    },
    {
     "name": "stderr",
     "output_type": "stream",
     "text": [
      "Epoch 8/15 Training: 100%|██████████| 129/129 [00:17<00:00,  7.35it/s, loss=0.109, acc=0.963, f1_score=0.892]\n",
      "Epoch 8/15 Validation: 100%|██████████| 5/5 [00:00<00:00, 22.16it/s, val_loss=0.184]\n"
     ]
    },
    {
     "name": "stdout",
     "output_type": "stream",
     "text": [
      "\t- loss = 0.10944924705712371\n",
      "  \t- val_loss = 0.1835784435272217\n",
      "  \t- acc = 0.9633321073628212\n",
      "  \t- val_acc = 0.9330620646476746\n",
      "  \t- f1_score = 0.8921691641327023\n",
      "  \t- val_f1_score = 0.8184544801712036\n",
      " \n"
     ]
    },
    {
     "name": "stderr",
     "output_type": "stream",
     "text": [
      "Epoch 9/15 Training: 100%|██████████| 129/129 [00:17<00:00,  7.37it/s, loss=0.104, acc=0.965, f1_score=0.897]\n",
      "Epoch 9/15 Validation: 100%|██████████| 5/5 [00:00<00:00, 21.35it/s, val_loss=0.185]\n"
     ]
    },
    {
     "name": "stdout",
     "output_type": "stream",
     "text": [
      "\t- loss = 0.10408790351808533\n",
      "  \t- val_loss = 0.18479669094085693\n",
      "  \t- acc = 0.9645255951918372\n",
      "  \t- val_acc = 0.935745370388031\n",
      "  \t- f1_score = 0.8973387419715408\n",
      "  \t- val_f1_score = 0.8166274309158326\n",
      " \n"
     ]
    },
    {
     "name": "stderr",
     "output_type": "stream",
     "text": [
      "Epoch 10/15 Training: 100%|██████████| 129/129 [00:18<00:00,  7.07it/s, loss=0.0998, acc=0.966, f1_score=0.902]\n",
      "Epoch 10/15 Validation: 100%|██████████| 5/5 [00:00<00:00, 21.72it/s, val_loss=0.186]\n"
     ]
    },
    {
     "name": "stdout",
     "output_type": "stream",
     "text": [
      "\t- loss = 0.09978744780370431\n",
      "  \t- val_loss = 0.18552476167678833\n",
      "  \t- acc = 0.9659429294194362\n",
      "  \t- val_acc = 0.9356558442115783\n",
      "  \t- f1_score = 0.9016612269157587\n",
      "  \t- val_f1_score = 0.8156833410263061\n",
      " \n"
     ]
    },
    {
     "name": "stderr",
     "output_type": "stream",
     "text": [
      "Epoch 11/15 Training: 100%|██████████| 129/129 [00:17<00:00,  7.24it/s, loss=0.0976, acc=0.967, f1_score=0.904]\n",
      "Epoch 11/15 Validation: 100%|██████████| 5/5 [00:00<00:00, 20.85it/s, val_loss=0.181]\n"
     ]
    },
    {
     "name": "stdout",
     "output_type": "stream",
     "text": [
      "\t- loss = 0.09760535779849504\n",
      "  \t- val_loss = 0.18142118453979492\n",
      "  \t- acc = 0.9670669214670048\n",
      "  \t- val_acc = 0.9352625012397766\n",
      "  \t- f1_score = 0.9038699213848558\n",
      "  \t- val_f1_score = 0.8198860168457032\n",
      " \n"
     ]
    },
    {
     "name": "stderr",
     "output_type": "stream",
     "text": [
      "Epoch 12/15 Training: 100%|██████████| 129/129 [00:18<00:00,  7.05it/s, loss=0.0931, acc=0.968, f1_score=0.908]\n",
      "Epoch 12/15 Validation: 100%|██████████| 5/5 [00:00<00:00, 21.74it/s, val_loss=0.182]\n"
     ]
    },
    {
     "name": "stdout",
     "output_type": "stream",
     "text": [
      "\t- loss = 0.09314349778862886\n",
      "  \t- val_loss = 0.182020902633667\n",
      "  \t- acc = 0.9682660721993261\n",
      "  \t- val_acc = 0.935632336139679\n",
      "  \t- f1_score = 0.9082739482554354\n",
      "  \t- val_f1_score = 0.8192247033119202\n",
      " \n"
     ]
    },
    {
     "name": "stderr",
     "output_type": "stream",
     "text": [
      "Epoch 13/15 Training: 100%|██████████| 129/129 [00:18<00:00,  7.08it/s, loss=0.0905, acc=0.969, f1_score=0.911]\n",
      "Epoch 13/15 Validation: 100%|██████████| 5/5 [00:00<00:00, 21.93it/s, val_loss=0.185]\n"
     ]
    },
    {
     "name": "stdout",
     "output_type": "stream",
     "text": [
      "\t- loss = 0.09053647379542507\n",
      "  \t- val_loss = 0.1854583740234375\n",
      "  \t- acc = 0.9693137458128522\n",
      "  \t- val_acc = 0.9350920557975769\n",
      "  \t- f1_score = 0.9109197351359581\n",
      "  \t- val_f1_score = 0.8160092234611511\n",
      " \n"
     ]
    },
    {
     "name": "stderr",
     "output_type": "stream",
     "text": [
      "Epoch 14/15 Training: 100%|██████████| 129/129 [00:18<00:00,  7.12it/s, loss=0.088, acc=0.97, f1_score=0.913] \n",
      "Epoch 14/15 Validation: 100%|██████████| 5/5 [00:00<00:00, 21.19it/s, val_loss=0.183]\n"
     ]
    },
    {
     "name": "stdout",
     "output_type": "stream",
     "text": [
      "\t- loss = 0.08803263098694557\n",
      "  \t- val_loss = 0.1826099395751953\n",
      "  \t- acc = 0.9702897478443707\n",
      "  \t- val_acc = 0.9354759097099304\n",
      "  \t- f1_score = 0.9133851052254669\n",
      "  \t- val_f1_score = 0.8184287667274475\n",
      " \n"
     ]
    },
    {
     "name": "stderr",
     "output_type": "stream",
     "text": [
      "Epoch 15/15 Training: 100%|██████████| 129/129 [00:18<00:00,  6.96it/s, loss=0.0843, acc=0.971, f1_score=0.917]\n",
      "Epoch 15/15 Validation: 100%|██████████| 5/5 [00:00<00:00, 21.63it/s, val_loss=0.184]\n"
     ]
    },
    {
     "name": "stdout",
     "output_type": "stream",
     "text": [
      "\t- loss = 0.08426985907000165\n",
      "  \t- val_loss = 0.1840658187866211\n",
      "  \t- acc = 0.9711882416592088\n",
      "  \t- val_acc = 0.9347104787826538\n",
      "  \t- f1_score = 0.917157746562662\n",
      "  \t- val_f1_score = 0.8172940731048584\n",
      " \n"
     ]
    },
    {
     "data": {
      "text/html": [
       "Finishing last run (ID:okokzn2h) before initializing another..."
      ],
      "text/plain": [
       "<IPython.core.display.HTML object>"
      ]
     },
     "metadata": {},
     "output_type": "display_data"
    },
    {
     "data": {
      "application/vnd.jupyter.widget-view+json": {
       "model_id": "",
       "version_major": 2,
       "version_minor": 0
      },
      "text/plain": [
       "VBox(children=(Label(value='0.003 MB of 0.003 MB uploaded\\r'), FloatProgress(value=1.0, max=1.0)))"
      ]
     },
     "metadata": {},
     "output_type": "display_data"
    },
    {
     "data": {
      "text/html": [
       "<style>\n",
       "    table.wandb td:nth-child(1) { padding: 0 10px; text-align: left ; width: auto;} td:nth-child(2) {text-align: left ; width: 100%}\n",
       "    .wandb-row { display: flex; flex-direction: row; flex-wrap: wrap; justify-content: flex-start; width: 100% }\n",
       "    .wandb-col { display: flex; flex-direction: column; flex-basis: 100%; flex: 1; padding: 10px; }\n",
       "    </style>\n",
       "<div class=\"wandb-row\"><div class=\"wandb-col\"><h3>Run history:</h3><br/><table class=\"wandb\"><tr><td>acc</td><td>▁▂▃▄▄▅▅▆▆▆▇▇▇██</td></tr><tr><td>f1_score</td><td>▁▂▃▄▄▅▅▅▆▆▇▇▇██</td></tr><tr><td>loss</td><td>█▇▆▅▅▄▄▄▃▃▂▂▂▁▁</td></tr><tr><td>val_acc</td><td>▆▅▅██▇▆▁▇▆▆▆▅▆▄</td></tr><tr><td>val_f1_score</td><td>▇▁█▄▇█▃▅▃▂▇▆▂▅▄</td></tr><tr><td>val_loss</td><td>▁█▁▅▁▁▅▄▆▆▂▂▆▃▅</td></tr></table><br/></div><div class=\"wandb-col\"><h3>Run summary:</h3><br/><table class=\"wandb\"><tr><td>acc</td><td>0.97119</td></tr><tr><td>f1_score</td><td>0.91716</td></tr><tr><td>loss</td><td>0.08427</td></tr><tr><td>val_acc</td><td>0.93471</td></tr><tr><td>val_f1_score</td><td>0.81729</td></tr><tr><td>val_loss</td><td>0.18407</td></tr></table><br/></div></div>"
      ],
      "text/plain": [
       "<IPython.core.display.HTML object>"
      ]
     },
     "metadata": {},
     "output_type": "display_data"
    },
    {
     "data": {
      "text/html": [
       " View run <strong style=\"color:#cdcd00\">electric-water-93</strong> at: <a href='https://wandb.ai/besteguney/CIL/runs/okokzn2h' target=\"_blank\">https://wandb.ai/besteguney/CIL/runs/okokzn2h</a><br/> View project at: <a href='https://wandb.ai/besteguney/CIL' target=\"_blank\">https://wandb.ai/besteguney/CIL</a><br/>Synced 5 W&B file(s), 0 media file(s), 0 artifact file(s) and 0 other file(s)"
      ],
      "text/plain": [
       "<IPython.core.display.HTML object>"
      ]
     },
     "metadata": {},
     "output_type": "display_data"
    },
    {
     "data": {
      "text/html": [
       "Find logs at: <code>./wandb/run-20240721_144922-okokzn2h/logs</code>"
      ],
      "text/plain": [
       "<IPython.core.display.HTML object>"
      ]
     },
     "metadata": {},
     "output_type": "display_data"
    },
    {
     "data": {
      "text/html": [
       "The new W&B backend becomes opt-out in version 0.18.0; try it out with `wandb.require(\"core\")`! See https://wandb.me/wandb-core for more information."
      ],
      "text/plain": [
       "<IPython.core.display.HTML object>"
      ]
     },
     "metadata": {},
     "output_type": "display_data"
    },
    {
     "data": {
      "text/html": [
       "Successfully finished last run (ID:okokzn2h). Initializing new run:<br/>"
      ],
      "text/plain": [
       "<IPython.core.display.HTML object>"
      ]
     },
     "metadata": {},
     "output_type": "display_data"
    },
    {
     "data": {
      "application/vnd.jupyter.widget-view+json": {
       "model_id": "d1a1cbee6dd047d5b3db3997fbee3e2f",
       "version_major": 2,
       "version_minor": 0
      },
      "text/plain": [
       "VBox(children=(Label(value='Waiting for wandb.init()...\\r'), FloatProgress(value=0.011112719774246216, max=1.0…"
      ]
     },
     "metadata": {},
     "output_type": "display_data"
    },
    {
     "data": {
      "text/html": [
       "wandb version 0.17.5 is available!  To upgrade, please run:\n",
       " $ pip install wandb --upgrade"
      ],
      "text/plain": [
       "<IPython.core.display.HTML object>"
      ]
     },
     "metadata": {},
     "output_type": "display_data"
    },
    {
     "data": {
      "text/html": [
       "Tracking run with wandb version 0.17.4"
      ],
      "text/plain": [
       "<IPython.core.display.HTML object>"
      ]
     },
     "metadata": {},
     "output_type": "display_data"
    },
    {
     "data": {
      "text/html": [
       "Run data is saved locally in <code>/home/bgueney/CIL-2024/wandb/run-20240721_145405-hw8wsai8</code>"
      ],
      "text/plain": [
       "<IPython.core.display.HTML object>"
      ]
     },
     "metadata": {},
     "output_type": "display_data"
    },
    {
     "data": {
      "text/html": [
       "Syncing run <strong><a href='https://wandb.ai/besteguney/CIL/runs/hw8wsai8' target=\"_blank\">sage-shadow-94</a></strong> to <a href='https://wandb.ai/besteguney/CIL' target=\"_blank\">Weights & Biases</a> (<a href='https://wandb.me/run' target=\"_blank\">docs</a>)<br/>"
      ],
      "text/plain": [
       "<IPython.core.display.HTML object>"
      ]
     },
     "metadata": {},
     "output_type": "display_data"
    },
    {
     "data": {
      "text/html": [
       " View project at <a href='https://wandb.ai/besteguney/CIL' target=\"_blank\">https://wandb.ai/besteguney/CIL</a>"
      ],
      "text/plain": [
       "<IPython.core.display.HTML object>"
      ]
     },
     "metadata": {},
     "output_type": "display_data"
    },
    {
     "data": {
      "text/html": [
       " View run at <a href='https://wandb.ai/besteguney/CIL/runs/hw8wsai8' target=\"_blank\">https://wandb.ai/besteguney/CIL/runs/hw8wsai8</a>"
      ],
      "text/plain": [
       "<IPython.core.display.HTML object>"
      ]
     },
     "metadata": {},
     "output_type": "display_data"
    },
    {
     "name": "stderr",
     "output_type": "stream",
     "text": [
      "Epoch 1/15 Training: 100%|██████████| 129/129 [00:23<00:00,  5.47it/s, loss=0.181, acc=0.938, f1_score=0.821]\n",
      "Epoch 1/15 Validation: 100%|██████████| 5/5 [00:00<00:00, 20.52it/s, val_loss=0.193]\n"
     ]
    },
    {
     "name": "stdout",
     "output_type": "stream",
     "text": [
      "\t- loss = 0.18051156424736792\n",
      "  \t- val_loss = 0.1925315260887146\n",
      "  \t- acc = 0.9376931352208752\n",
      "  \t- val_acc = 0.9312273979187011\n",
      "  \t- f1_score = 0.8206740945808647\n",
      "  \t- val_f1_score = 0.8089903354644775\n",
      " \n"
     ]
    },
    {
     "name": "stderr",
     "output_type": "stream",
     "text": [
      "Epoch 2/15 Training: 100%|██████████| 129/129 [00:22<00:00,  5.64it/s, loss=0.172, acc=0.941, f1_score=0.829]\n",
      "Epoch 2/15 Validation: 100%|██████████| 5/5 [00:00<00:00, 19.57it/s, val_loss=0.192]\n"
     ]
    },
    {
     "name": "stdout",
     "output_type": "stream",
     "text": [
      "\t- loss = 0.17222957001175992\n",
      "  \t- val_loss = 0.191966450214386\n",
      "  \t- acc = 0.94093767016433\n",
      "  \t- val_acc = 0.9307318925857544\n",
      "  \t- f1_score = 0.8289675583211027\n",
      "  \t- val_f1_score = 0.8097371697425843\n",
      " \n"
     ]
    },
    {
     "name": "stderr",
     "output_type": "stream",
     "text": [
      "Epoch 3/15 Training: 100%|██████████| 129/129 [00:22<00:00,  5.71it/s, loss=0.169, acc=0.942, f1_score=0.832]\n",
      "Epoch 3/15 Validation: 100%|██████████| 5/5 [00:00<00:00, 17.10it/s, val_loss=0.192]\n"
     ]
    },
    {
     "name": "stdout",
     "output_type": "stream",
     "text": [
      "\t- loss = 0.168980759705684\n",
      "  \t- val_loss = 0.1920293927192688\n",
      "  \t- acc = 0.9422008871108063\n",
      "  \t- val_acc = 0.9325787663459778\n",
      "  \t- f1_score = 0.8322060242179752\n",
      "  \t- val_f1_score = 0.809485936164856\n",
      " \n"
     ]
    },
    {
     "name": "stderr",
     "output_type": "stream",
     "text": [
      "Epoch 4/15 Training: 100%|██████████| 129/129 [00:22<00:00,  5.70it/s, loss=0.164, acc=0.944, f1_score=0.837]\n",
      "Epoch 4/15 Validation: 100%|██████████| 5/5 [00:00<00:00, 19.39it/s, val_loss=0.191]\n"
     ]
    },
    {
     "name": "stdout",
     "output_type": "stream",
     "text": [
      "\t- loss = 0.16386245988136114\n",
      "  \t- val_loss = 0.19053374528884887\n",
      "  \t- acc = 0.9438316817431487\n",
      "  \t- val_acc = 0.932080078125\n",
      "  \t- f1_score = 0.8372640776079755\n",
      "  \t- val_f1_score = 0.8109226703643799\n",
      " \n"
     ]
    },
    {
     "name": "stderr",
     "output_type": "stream",
     "text": [
      "Epoch 5/15 Training: 100%|██████████| 129/129 [00:22<00:00,  5.64it/s, loss=0.158, acc=0.945, f1_score=0.843]\n",
      "Epoch 5/15 Validation: 100%|██████████| 5/5 [00:00<00:00, 19.63it/s, val_loss=0.19] \n"
     ]
    },
    {
     "name": "stdout",
     "output_type": "stream",
     "text": [
      "\t- loss = 0.15826094566389573\n",
      "  \t- val_loss = 0.18959906101226806\n",
      "  \t- acc = 0.9454803822576537\n",
      "  \t- val_acc = 0.9325154662132263\n",
      "  \t- f1_score = 0.8428645281828651\n",
      "  \t- val_f1_score = 0.8119766712188721\n",
      " \n"
     ]
    },
    {
     "name": "stderr",
     "output_type": "stream",
     "text": [
      "Epoch 6/15 Training: 100%|██████████| 129/129 [00:22<00:00,  5.79it/s, loss=0.156, acc=0.946, f1_score=0.845]\n",
      "Epoch 6/15 Validation: 100%|██████████| 5/5 [00:00<00:00, 20.14it/s, val_loss=0.189]\n"
     ]
    },
    {
     "name": "stdout",
     "output_type": "stream",
     "text": [
      "\t- loss = 0.15586984712024068\n",
      "  \t- val_loss = 0.1887560725212097\n",
      "  \t- acc = 0.9462708428848622\n",
      "  \t- val_acc = 0.9318187594413757\n",
      "  \t- f1_score = 0.8452892335810402\n",
      "  \t- val_f1_score = 0.8127403736114502\n",
      " \n"
     ]
    },
    {
     "name": "stderr",
     "output_type": "stream",
     "text": [
      "Epoch 7/15 Training: 100%|██████████| 129/129 [00:22<00:00,  5.69it/s, loss=0.154, acc=0.948, f1_score=0.847]\n",
      "Epoch 7/15 Validation: 100%|██████████| 5/5 [00:00<00:00, 20.04it/s, val_loss=0.186]\n"
     ]
    },
    {
     "name": "stdout",
     "output_type": "stream",
     "text": [
      "\t- loss = 0.15392103952954905\n",
      "  \t- val_loss = 0.18618650436401368\n",
      "  \t- acc = 0.947508877561998\n",
      "  \t- val_acc = 0.9325882434844971\n",
      "  \t- f1_score = 0.8472969855448996\n",
      "  \t- val_f1_score = 0.8152676939964294\n",
      " \n"
     ]
    },
    {
     "name": "stderr",
     "output_type": "stream",
     "text": [
      "Epoch 8/15 Training: 100%|██████████| 129/129 [00:22<00:00,  5.72it/s, loss=0.15, acc=0.949, f1_score=0.851] \n",
      "Epoch 8/15 Validation: 100%|██████████| 5/5 [00:00<00:00, 18.00it/s, val_loss=0.187]\n"
     ]
    },
    {
     "name": "stdout",
     "output_type": "stream",
     "text": [
      "\t- loss = 0.1504239102666692\n",
      "  \t- val_loss = 0.18710625171661377\n",
      "  \t- acc = 0.9486326755479325\n",
      "  \t- val_acc = 0.9318088173866272\n",
      "  \t- f1_score = 0.8507517539253531\n",
      "  \t- val_f1_score = 0.8144867658615113\n",
      " \n"
     ]
    },
    {
     "name": "stderr",
     "output_type": "stream",
     "text": [
      "Epoch 9/15 Training: 100%|██████████| 129/129 [00:22<00:00,  5.68it/s, loss=0.146, acc=0.95, f1_score=0.855] \n",
      "Epoch 9/15 Validation: 100%|██████████| 5/5 [00:00<00:00, 17.94it/s, val_loss=0.189]\n"
     ]
    },
    {
     "name": "stdout",
     "output_type": "stream",
     "text": [
      "\t- loss = 0.14621371077012646\n",
      "  \t- val_loss = 0.18860410451889037\n",
      "  \t- acc = 0.9497332369634347\n",
      "  \t- val_acc = 0.931930422782898\n",
      "  \t- f1_score = 0.8549092652261719\n",
      "  \t- val_f1_score = 0.8128022909164428\n",
      " \n"
     ]
    },
    {
     "name": "stderr",
     "output_type": "stream",
     "text": [
      "Epoch 10/15 Training: 100%|██████████| 129/129 [00:22<00:00,  5.69it/s, loss=0.143, acc=0.951, f1_score=0.858]\n",
      "Epoch 10/15 Validation: 100%|██████████| 5/5 [00:00<00:00, 20.10it/s, val_loss=0.187]\n"
     ]
    },
    {
     "name": "stdout",
     "output_type": "stream",
     "text": [
      "\t- loss = 0.14295385419860368\n",
      "  \t- val_loss = 0.18733760118484497\n",
      "  \t- acc = 0.9508988787961561\n",
      "  \t- val_acc = 0.9324991941452027\n",
      "  \t- f1_score = 0.858243697373442\n",
      "  \t- val_f1_score = 0.8140686869621276\n",
      " \n"
     ]
    },
    {
     "name": "stderr",
     "output_type": "stream",
     "text": [
      "Epoch 11/15 Training: 100%|██████████| 129/129 [00:23<00:00,  5.59it/s, loss=0.142, acc=0.952, f1_score=0.859]\n",
      "Epoch 11/15 Validation: 100%|██████████| 5/5 [00:00<00:00, 21.00it/s, val_loss=0.188]\n"
     ]
    },
    {
     "name": "stdout",
     "output_type": "stream",
     "text": [
      "\t- loss = 0.14201246490774228\n",
      "  \t- val_loss = 0.187981915473938\n",
      "  \t- acc = 0.9515173074811004\n",
      "  \t- val_acc = 0.9322564125061035\n",
      "  \t- f1_score = 0.8590740958849589\n",
      "  \t- val_f1_score = 0.8134114384651184\n",
      " \n"
     ]
    },
    {
     "name": "stderr",
     "output_type": "stream",
     "text": [
      "Epoch 12/15 Training: 100%|██████████| 129/129 [00:22<00:00,  5.62it/s, loss=0.141, acc=0.952, f1_score=0.861]\n",
      "Epoch 12/15 Validation: 100%|██████████| 5/5 [00:00<00:00, 20.54it/s, val_loss=0.19] \n"
     ]
    },
    {
     "name": "stdout",
     "output_type": "stream",
     "text": [
      "\t- loss = 0.1405468777168629\n",
      "  \t- val_loss = 0.1898740530014038\n",
      "  \t- acc = 0.9521947235100029\n",
      "  \t- val_acc = 0.9324200630187989\n",
      "  \t- f1_score = 0.8606060958185862\n",
      "  \t- val_f1_score = 0.8117209672927856\n",
      " \n"
     ]
    },
    {
     "name": "stderr",
     "output_type": "stream",
     "text": [
      "Epoch 13/15 Training: 100%|██████████| 129/129 [00:23<00:00,  5.54it/s, loss=0.136, acc=0.953, f1_score=0.865]\n",
      "Epoch 13/15 Validation: 100%|██████████| 5/5 [00:00<00:00, 15.91it/s, val_loss=0.189]\n"
     ]
    },
    {
     "name": "stdout",
     "output_type": "stream",
     "text": [
      "\t- loss = 0.13629131076871887\n",
      "  \t- val_loss = 0.1894703507423401\n",
      "  \t- acc = 0.9531064329221267\n",
      "  \t- val_acc = 0.9322261095046998\n",
      "  \t- f1_score = 0.864809049192325\n",
      "  \t- val_f1_score = 0.8119584560394287\n",
      " \n"
     ]
    },
    {
     "name": "stderr",
     "output_type": "stream",
     "text": [
      "Epoch 14/15 Training: 100%|██████████| 129/129 [00:22<00:00,  5.67it/s, loss=0.134, acc=0.954, f1_score=0.867]\n",
      "Epoch 14/15 Validation: 100%|██████████| 5/5 [00:00<00:00, 19.67it/s, val_loss=0.188]\n"
     ]
    },
    {
     "name": "stdout",
     "output_type": "stream",
     "text": [
      "\t- loss = 0.13365311308424602\n",
      "  \t- val_loss = 0.18791428804397584\n",
      "  \t- acc = 0.9539765193480854\n",
      "  \t- val_acc = 0.932380735874176\n",
      "  \t- f1_score = 0.8674433887466904\n",
      "  \t- val_f1_score = 0.8135589480400085\n",
      " \n"
     ]
    },
    {
     "name": "stderr",
     "output_type": "stream",
     "text": [
      "Epoch 15/15 Training: 100%|██████████| 129/129 [00:23<00:00,  5.49it/s, loss=0.132, acc=0.955, f1_score=0.869]\n",
      "Epoch 15/15 Validation: 100%|██████████| 5/5 [00:00<00:00, 16.65it/s, val_loss=0.186]\n"
     ]
    },
    {
     "name": "stdout",
     "output_type": "stream",
     "text": [
      "\t- loss = 0.13224588577137436\n",
      "  \t- val_loss = 0.18642971515655518\n",
      "  \t- acc = 0.9545953199844952\n",
      "  \t- val_acc = 0.931680428981781\n",
      "  \t- f1_score = 0.8687960648721502\n",
      "  \t- val_f1_score = 0.8150432586669922\n",
      " \n"
     ]
    },
    {
     "data": {
      "text/html": [
       "Finishing last run (ID:hw8wsai8) before initializing another..."
      ],
      "text/plain": [
       "<IPython.core.display.HTML object>"
      ]
     },
     "metadata": {},
     "output_type": "display_data"
    },
    {
     "data": {
      "application/vnd.jupyter.widget-view+json": {
       "model_id": "",
       "version_major": 2,
       "version_minor": 0
      },
      "text/plain": [
       "VBox(children=(Label(value='0.003 MB of 0.003 MB uploaded\\r'), FloatProgress(value=1.0, max=1.0)))"
      ]
     },
     "metadata": {},
     "output_type": "display_data"
    },
    {
     "data": {
      "text/html": [
       "<style>\n",
       "    table.wandb td:nth-child(1) { padding: 0 10px; text-align: left ; width: auto;} td:nth-child(2) {text-align: left ; width: 100%}\n",
       "    .wandb-row { display: flex; flex-direction: row; flex-wrap: wrap; justify-content: flex-start; width: 100% }\n",
       "    .wandb-col { display: flex; flex-direction: column; flex-basis: 100%; flex: 1; padding: 10px; }\n",
       "    </style>\n",
       "<div class=\"wandb-row\"><div class=\"wandb-col\"><h3>Run history:</h3><br/><table class=\"wandb\"><tr><td>acc</td><td>▁▂▃▄▄▅▅▆▆▆▇▇▇██</td></tr><tr><td>f1_score</td><td>▁▂▃▃▄▅▅▅▆▆▇▇▇██</td></tr><tr><td>loss</td><td>█▇▆▆▅▄▄▄▃▃▂▂▂▁▁</td></tr><tr><td>val_acc</td><td>▃▁█▆█▅█▅▆█▇▇▇▇▅</td></tr><tr><td>val_f1_score</td><td>▁▂▂▃▄▅█▇▅▇▆▄▄▆█</td></tr><tr><td>val_loss</td><td>█▇▇▆▅▄▁▂▄▂▃▅▅▃▁</td></tr></table><br/></div><div class=\"wandb-col\"><h3>Run summary:</h3><br/><table class=\"wandb\"><tr><td>acc</td><td>0.9546</td></tr><tr><td>f1_score</td><td>0.8688</td></tr><tr><td>loss</td><td>0.13225</td></tr><tr><td>val_acc</td><td>0.93168</td></tr><tr><td>val_f1_score</td><td>0.81504</td></tr><tr><td>val_loss</td><td>0.18643</td></tr></table><br/></div></div>"
      ],
      "text/plain": [
       "<IPython.core.display.HTML object>"
      ]
     },
     "metadata": {},
     "output_type": "display_data"
    },
    {
     "data": {
      "text/html": [
       " View run <strong style=\"color:#cdcd00\">sage-shadow-94</strong> at: <a href='https://wandb.ai/besteguney/CIL/runs/hw8wsai8' target=\"_blank\">https://wandb.ai/besteguney/CIL/runs/hw8wsai8</a><br/> View project at: <a href='https://wandb.ai/besteguney/CIL' target=\"_blank\">https://wandb.ai/besteguney/CIL</a><br/>Synced 5 W&B file(s), 0 media file(s), 0 artifact file(s) and 0 other file(s)"
      ],
      "text/plain": [
       "<IPython.core.display.HTML object>"
      ]
     },
     "metadata": {},
     "output_type": "display_data"
    },
    {
     "data": {
      "text/html": [
       "Find logs at: <code>./wandb/run-20240721_145405-hw8wsai8/logs</code>"
      ],
      "text/plain": [
       "<IPython.core.display.HTML object>"
      ]
     },
     "metadata": {},
     "output_type": "display_data"
    },
    {
     "data": {
      "text/html": [
       "The new W&B backend becomes opt-out in version 0.18.0; try it out with `wandb.require(\"core\")`! See https://wandb.me/wandb-core for more information."
      ],
      "text/plain": [
       "<IPython.core.display.HTML object>"
      ]
     },
     "metadata": {},
     "output_type": "display_data"
    },
    {
     "data": {
      "text/html": [
       "Successfully finished last run (ID:hw8wsai8). Initializing new run:<br/>"
      ],
      "text/plain": [
       "<IPython.core.display.HTML object>"
      ]
     },
     "metadata": {},
     "output_type": "display_data"
    },
    {
     "data": {
      "application/vnd.jupyter.widget-view+json": {
       "model_id": "c254b7a3877c41a5b84cf0f2911f23d5",
       "version_major": 2,
       "version_minor": 0
      },
      "text/plain": [
       "VBox(children=(Label(value='Waiting for wandb.init()...\\r'), FloatProgress(value=0.011112782980004947, max=1.0…"
      ]
     },
     "metadata": {},
     "output_type": "display_data"
    },
    {
     "data": {
      "text/html": [
       "wandb version 0.17.5 is available!  To upgrade, please run:\n",
       " $ pip install wandb --upgrade"
      ],
      "text/plain": [
       "<IPython.core.display.HTML object>"
      ]
     },
     "metadata": {},
     "output_type": "display_data"
    },
    {
     "data": {
      "text/html": [
       "Tracking run with wandb version 0.17.4"
      ],
      "text/plain": [
       "<IPython.core.display.HTML object>"
      ]
     },
     "metadata": {},
     "output_type": "display_data"
    },
    {
     "data": {
      "text/html": [
       "Run data is saved locally in <code>/home/bgueney/CIL-2024/wandb/run-20240721_150004-l9y3ldz5</code>"
      ],
      "text/plain": [
       "<IPython.core.display.HTML object>"
      ]
     },
     "metadata": {},
     "output_type": "display_data"
    },
    {
     "data": {
      "text/html": [
       "Syncing run <strong><a href='https://wandb.ai/besteguney/CIL/runs/l9y3ldz5' target=\"_blank\">neat-serenity-95</a></strong> to <a href='https://wandb.ai/besteguney/CIL' target=\"_blank\">Weights & Biases</a> (<a href='https://wandb.me/run' target=\"_blank\">docs</a>)<br/>"
      ],
      "text/plain": [
       "<IPython.core.display.HTML object>"
      ]
     },
     "metadata": {},
     "output_type": "display_data"
    },
    {
     "data": {
      "text/html": [
       " View project at <a href='https://wandb.ai/besteguney/CIL' target=\"_blank\">https://wandb.ai/besteguney/CIL</a>"
      ],
      "text/plain": [
       "<IPython.core.display.HTML object>"
      ]
     },
     "metadata": {},
     "output_type": "display_data"
    },
    {
     "data": {
      "text/html": [
       " View run at <a href='https://wandb.ai/besteguney/CIL/runs/l9y3ldz5' target=\"_blank\">https://wandb.ai/besteguney/CIL/runs/l9y3ldz5</a>"
      ],
      "text/plain": [
       "<IPython.core.display.HTML object>"
      ]
     },
     "metadata": {},
     "output_type": "display_data"
    },
    {
     "name": "stderr",
     "output_type": "stream",
     "text": [
      "Epoch 1/15 Training: 100%|██████████| 129/129 [00:15<00:00,  8.51it/s, loss=0.15, acc=0.948, f1_score=0.851] \n",
      "Epoch 1/15 Validation: 100%|██████████| 5/5 [00:00<00:00, 31.00it/s, val_loss=0.191]\n"
     ]
    },
    {
     "name": "stdout",
     "output_type": "stream",
     "text": [
      "\t- loss = 0.1501157653424167\n",
      "  \t- val_loss = 0.1913607358932495\n",
      "  \t- acc = 0.948028913302015\n",
      "  \t- val_acc = 0.9299072265625\n",
      "  \t- f1_score = 0.8511824922044148\n",
      "  \t- val_f1_score = 0.8099876880645752\n",
      " \n"
     ]
    },
    {
     "name": "stderr",
     "output_type": "stream",
     "text": [
      "Epoch 2/15 Training: 100%|██████████| 129/129 [00:13<00:00,  9.55it/s, loss=0.136, acc=0.952, f1_score=0.865]\n",
      "Epoch 2/15 Validation: 100%|██████████| 5/5 [00:00<00:00, 26.10it/s, val_loss=0.189]\n"
     ]
    },
    {
     "name": "stdout",
     "output_type": "stream",
     "text": [
      "\t- loss = 0.13609539445980576\n",
      "  \t- val_loss = 0.18850528001785277\n",
      "  \t- acc = 0.9522685690443645\n",
      "  \t- val_acc = 0.9315190076828003\n",
      "  \t- f1_score = 0.8652549459952716\n",
      "  \t- val_f1_score = 0.8129172921180725\n",
      " \n"
     ]
    },
    {
     "name": "stderr",
     "output_type": "stream",
     "text": [
      "Epoch 3/15 Training: 100%|██████████| 129/129 [00:14<00:00,  9.08it/s, loss=0.132, acc=0.955, f1_score=0.87] \n",
      "Epoch 3/15 Validation: 100%|██████████| 5/5 [00:00<00:00, 31.20it/s, val_loss=0.188]\n"
     ]
    },
    {
     "name": "stdout",
     "output_type": "stream",
     "text": [
      "\t- loss = 0.13153513827065164\n",
      "  \t- val_loss = 0.1879613995552063\n",
      "  \t- acc = 0.9546009413031644\n",
      "  \t- val_acc = 0.9308218598365784\n",
      "  \t- f1_score = 0.8697355352630911\n",
      "  \t- val_f1_score = 0.8134133577346802\n",
      " \n"
     ]
    },
    {
     "name": "stderr",
     "output_type": "stream",
     "text": [
      "Epoch 4/15 Training: 100%|██████████| 129/129 [00:13<00:00,  9.23it/s, loss=0.126, acc=0.957, f1_score=0.876]\n",
      "Epoch 4/15 Validation: 100%|██████████| 5/5 [00:00<00:00, 27.67it/s, val_loss=0.192]\n"
     ]
    },
    {
     "name": "stdout",
     "output_type": "stream",
     "text": [
      "\t- loss = 0.1255156531814457\n",
      "  \t- val_loss = 0.1923541784286499\n",
      "  \t- acc = 0.9565169520156328\n",
      "  \t- val_acc = 0.9309968233108521\n",
      "  \t- f1_score = 0.8757888194202452\n",
      "  \t- val_f1_score = 0.809161901473999\n",
      " \n"
     ]
    },
    {
     "name": "stderr",
     "output_type": "stream",
     "text": [
      "Epoch 5/15 Training: 100%|██████████| 129/129 [00:13<00:00,  9.31it/s, loss=0.119, acc=0.958, f1_score=0.882]\n",
      "Epoch 5/15 Validation: 100%|██████████| 5/5 [00:00<00:00, 31.23it/s, val_loss=0.197]\n"
     ]
    },
    {
     "name": "stdout",
     "output_type": "stream",
     "text": [
      "\t- loss = 0.11938091442566509\n",
      "  \t- val_loss = 0.1965343952178955\n",
      "  \t- acc = 0.958495747673419\n",
      "  \t- val_acc = 0.9310718655586243\n",
      "  \t- f1_score = 0.8819340546001759\n",
      "  \t- val_f1_score = 0.8048782348632812\n",
      " \n"
     ]
    },
    {
     "name": "stderr",
     "output_type": "stream",
     "text": [
      "Epoch 6/15 Training: 100%|██████████| 129/129 [00:14<00:00,  9.18it/s, loss=0.116, acc=0.96, f1_score=0.886]\n",
      "Epoch 6/15 Validation: 100%|██████████| 5/5 [00:00<00:00, 23.07it/s, val_loss=0.187]\n"
     ]
    },
    {
     "name": "stdout",
     "output_type": "stream",
     "text": [
      "\t- loss = 0.11560904055602791\n",
      "  \t- val_loss = 0.1871513843536377\n",
      "  \t- acc = 0.9600762336753136\n",
      "  \t- val_acc = 0.9303824067115783\n",
      "  \t- f1_score = 0.8857054349988006\n",
      "  \t- val_f1_score = 0.814329981803894\n",
      " \n"
     ]
    },
    {
     "name": "stderr",
     "output_type": "stream",
     "text": [
      "Epoch 7/15 Training: 100%|██████████| 129/129 [00:14<00:00,  9.09it/s, loss=0.112, acc=0.962, f1_score=0.89] \n",
      "Epoch 7/15 Validation: 100%|██████████| 5/5 [00:00<00:00, 31.52it/s, val_loss=0.193]\n"
     ]
    },
    {
     "name": "stdout",
     "output_type": "stream",
     "text": [
      "\t- loss = 0.1115068188009336\n",
      "  \t- val_loss = 0.19254724979400634\n",
      "  \t- acc = 0.9615585637647052\n",
      "  \t- val_acc = 0.9309457421302796\n",
      "  \t- f1_score = 0.8897392939227496\n",
      "  \t- val_f1_score = 0.8087193489074707\n",
      " \n"
     ]
    },
    {
     "name": "stderr",
     "output_type": "stream",
     "text": [
      "Epoch 8/15 Training: 100%|██████████| 129/129 [00:13<00:00,  9.50it/s, loss=0.11, acc=0.962, f1_score=0.892] \n",
      "Epoch 8/15 Validation: 100%|██████████| 5/5 [00:00<00:00, 25.56it/s, val_loss=0.19] \n"
     ]
    },
    {
     "name": "stdout",
     "output_type": "stream",
     "text": [
      "\t- loss = 0.10963449228641599\n",
      "  \t- val_loss = 0.19046399593353272\n",
      "  \t- acc = 0.9623828451762828\n",
      "  \t- val_acc = 0.9297788381576538\n",
      "  \t- f1_score = 0.8916250342546508\n",
      "  \t- val_f1_score = 0.8108346939086915\n",
      " \n"
     ]
    },
    {
     "name": "stderr",
     "output_type": "stream",
     "text": [
      "Epoch 9/15 Training: 100%|██████████| 129/129 [00:14<00:00,  9.20it/s, loss=0.106, acc=0.963, f1_score=0.895]\n",
      "Epoch 9/15 Validation: 100%|██████████| 5/5 [00:00<00:00, 28.02it/s, val_loss=0.198]\n"
     ]
    },
    {
     "name": "stdout",
     "output_type": "stream",
     "text": [
      "\t- loss = 0.10602687449418297\n",
      "  \t- val_loss = 0.1978924036026001\n",
      "  \t- acc = 0.963472840397857\n",
      "  \t- val_acc = 0.9305062770843506\n",
      "  \t- f1_score = 0.8953428638073825\n",
      "  \t- val_f1_score = 0.8034524321556091\n",
      " \n"
     ]
    },
    {
     "name": "stderr",
     "output_type": "stream",
     "text": [
      "Epoch 10/15 Training: 100%|██████████| 129/129 [00:14<00:00,  8.87it/s, loss=0.102, acc=0.965, f1_score=0.899]\n",
      "Epoch 10/15 Validation: 100%|██████████| 5/5 [00:00<00:00, 27.76it/s, val_loss=0.188]\n"
     ]
    },
    {
     "name": "stdout",
     "output_type": "stream",
     "text": [
      "\t- loss = 0.10218855068665142\n",
      "  \t- val_loss = 0.18775153160095215\n",
      "  \t- acc = 0.9646345224491385\n",
      "  \t- val_acc = 0.9308575630187989\n",
      "  \t- f1_score = 0.8991075851196466\n",
      "  \t- val_f1_score = 0.8135351419448853\n",
      " \n"
     ]
    },
    {
     "name": "stderr",
     "output_type": "stream",
     "text": [
      "Epoch 11/15 Training: 100%|██████████| 129/129 [00:14<00:00,  9.09it/s, loss=0.102, acc=0.965, f1_score=0.9]  \n",
      "Epoch 11/15 Validation: 100%|██████████| 5/5 [00:00<00:00, 28.82it/s, val_loss=0.193]\n"
     ]
    },
    {
     "name": "stdout",
     "output_type": "stream",
     "text": [
      "\t- loss = 0.10174513047979783\n",
      "  \t- val_loss = 0.1934495449066162\n",
      "  \t- acc = 0.9652002795722133\n",
      "  \t- val_acc = 0.9301486611366272\n",
      "  \t- f1_score = 0.8995675310608029\n",
      "  \t- val_f1_score = 0.8077644109725952\n",
      " \n"
     ]
    },
    {
     "name": "stderr",
     "output_type": "stream",
     "text": [
      "Epoch 12/15 Training: 100%|██████████| 129/129 [00:14<00:00,  9.00it/s, loss=0.0964, acc=0.967, f1_score=0.905]\n",
      "Epoch 12/15 Validation: 100%|██████████| 5/5 [00:00<00:00, 29.81it/s, val_loss=0.194]\n"
     ]
    },
    {
     "name": "stdout",
     "output_type": "stream",
     "text": [
      "\t- loss = 0.09639808004216631\n",
      "  \t- val_loss = 0.1941504955291748\n",
      "  \t- acc = 0.9665721405384152\n",
      "  \t- val_acc = 0.9300672888755799\n",
      "  \t- f1_score = 0.9048841050428937\n",
      "  \t- val_f1_score = 0.8071391463279725\n",
      " \n"
     ]
    },
    {
     "name": "stderr",
     "output_type": "stream",
     "text": [
      "Epoch 13/15 Training: 100%|██████████| 129/129 [00:14<00:00,  9.20it/s, loss=0.0957, acc=0.967, f1_score=0.906]\n",
      "Epoch 13/15 Validation: 100%|██████████| 5/5 [00:00<00:00, 30.20it/s, val_loss=0.195]\n"
     ]
    },
    {
     "name": "stdout",
     "output_type": "stream",
     "text": [
      "\t- loss = 0.09572081695231356\n",
      "  \t- val_loss = 0.1951848030090332\n",
      "  \t- acc = 0.9672885088957557\n",
      "  \t- val_acc = 0.9290147662162781\n",
      "  \t- f1_score = 0.9055876916693163\n",
      "  \t- val_f1_score = 0.8060663104057312\n",
      " \n"
     ]
    },
    {
     "name": "stderr",
     "output_type": "stream",
     "text": [
      "Epoch 14/15 Training: 100%|██████████| 129/129 [00:13<00:00,  9.25it/s, loss=0.0922, acc=0.968, f1_score=0.909]\n",
      "Epoch 14/15 Validation: 100%|██████████| 5/5 [00:00<00:00, 26.73it/s, val_loss=0.195]\n"
     ]
    },
    {
     "name": "stdout",
     "output_type": "stream",
     "text": [
      "\t- loss = 0.09220765912255575\n",
      "  \t- val_loss = 0.19454236030578614\n",
      "  \t- acc = 0.9680398226708404\n",
      "  \t- val_acc = 0.9296563029289245\n",
      "  \t- f1_score = 0.909054697484009\n",
      "  \t- val_f1_score = 0.8067293643951416\n",
      " \n"
     ]
    },
    {
     "name": "stderr",
     "output_type": "stream",
     "text": [
      "Epoch 15/15 Training: 100%|██████████| 129/129 [00:14<00:00,  8.85it/s, loss=0.0901, acc=0.969, f1_score=0.911]\n",
      "Epoch 15/15 Validation: 100%|██████████| 5/5 [00:00<00:00, 29.45it/s, val_loss=0.196]\n"
     ]
    },
    {
     "name": "stdout",
     "output_type": "stream",
     "text": [
      "\t- loss = 0.0901086270347122\n",
      "  \t- val_loss = 0.1955119013786316\n",
      "  \t- acc = 0.9688183346460032\n",
      "  \t- val_acc = 0.9304104447364807\n",
      "  \t- f1_score = 0.9111074089079865\n",
      "  \t- val_f1_score = 0.805574107170105\n",
      " \n"
     ]
    }
   ],
   "source": [
    "models = []\n",
    "for model_b in model_backs:\n",
    "    train_images, val_images, train_masks, val_masks = train_test_split(\n",
    "        images_org, masks_org, test_size=0.1, random_state=42, shuffle=True\n",
    "    )\n",
    "\n",
    "    images_aug, masks_aug = augment.augment_data(train_images, train_masks, 2)\n",
    "    \n",
    "    images_aug = np.stack([img/255.0 for img in images_aug]).astype(np.float32)\n",
    "    masks_aug = np.stack([mask/255.0 for mask in masks_aug]).astype(np.float32)\n",
    "    \n",
    "    val_images = np.stack([img/255.0 for img in val_images]).astype(np.float32)\n",
    "    val_masks = np.stack([mask/255.0 for mask in val_masks]).astype(np.float32)\n",
    "    \n",
    "    # reshape the image to simplify the handling of skip connections and maxpooling\n",
    "    train_dataset = ImageDataset(images_aug, masks_aug, device, use_patches=False, resize_to=(384, 384))\n",
    "    val_dataset = ImageDataset(val_images, val_masks, device, use_patches=False, resize_to=(384, 384))\n",
    "    \n",
    "        \n",
    "    train_dataloader = torch.utils.data.DataLoader(train_dataset, batch_size=3, shuffle=True)\n",
    "    val_dataloader = torch.utils.data.DataLoader(val_dataset, batch_size=3, shuffle=True)\n",
    "        \n",
    "    loss_fn = smp.losses.DiceLoss(smp.losses.BINARY_MODE, from_logits=True)\n",
    "    metric_fns = {'acc': trainer.accuracy_fn,\n",
    "    'f1_score': trainer.f1_score_fn}\n",
    "    optimizer = torch.optim.Adam(model_b.parameters(), lr=1e-5)\n",
    "    #scheduler = ReduceLROnPlateau(optimizer)\n",
    "    train(model_b, optimizer, train_dataloader, val_dataloader, loss_fn, 15, None, 0, metric_fns)\n",
    "    models.append(model_b)"
   ]
  },
  {
   "cell_type": "code",
   "execution_count": 13,
   "metadata": {
    "scrolled": true
   },
   "outputs": [
    {
     "name": "stderr",
     "output_type": "stream",
     "text": [
      "Downloading: \"https://github.com/lukemelas/EfficientNet-PyTorch/releases/download/1.0/efficientnet-b5-b6417697.pth\" to /home/bgueney/.cache/torch/hub/checkpoints/efficientnet-b5-b6417697.pth\n",
      "100%|██████████| 117M/117M [00:00<00:00, 234MB/s]  \n"
     ]
    },
    {
     "data": {
      "text/html": [
       "Finishing last run (ID:l9y3ldz5) before initializing another..."
      ],
      "text/plain": [
       "<IPython.core.display.HTML object>"
      ]
     },
     "metadata": {},
     "output_type": "display_data"
    },
    {
     "data": {
      "application/vnd.jupyter.widget-view+json": {
       "model_id": "",
       "version_major": 2,
       "version_minor": 0
      },
      "text/plain": [
       "VBox(children=(Label(value='0.003 MB of 0.003 MB uploaded\\r'), FloatProgress(value=1.0, max=1.0)))"
      ]
     },
     "metadata": {},
     "output_type": "display_data"
    },
    {
     "data": {
      "text/html": [
       "<style>\n",
       "    table.wandb td:nth-child(1) { padding: 0 10px; text-align: left ; width: auto;} td:nth-child(2) {text-align: left ; width: 100%}\n",
       "    .wandb-row { display: flex; flex-direction: row; flex-wrap: wrap; justify-content: flex-start; width: 100% }\n",
       "    .wandb-col { display: flex; flex-direction: column; flex-basis: 100%; flex: 1; padding: 10px; }\n",
       "    </style>\n",
       "<div class=\"wandb-row\"><div class=\"wandb-col\"><h3>Run history:</h3><br/><table class=\"wandb\"><tr><td>acc</td><td>▁▂▃▄▅▅▆▆▆▇▇▇▇██</td></tr><tr><td>f1_score</td><td>▁▃▃▄▅▅▆▆▆▇▇▇▇██</td></tr><tr><td>loss</td><td>█▆▆▅▄▄▃▃▃▂▂▂▂▁▁</td></tr><tr><td>val_acc</td><td>▃█▆▇▇▅▆▃▅▆▄▄▁▃▅</td></tr><tr><td>val_f1_score</td><td>▅▇▇▅▂█▄▆▁▇▄▃▃▃▂</td></tr><tr><td>val_loss</td><td>▄▂▂▄▇▁▅▃█▁▅▆▆▆▆</td></tr></table><br/></div><div class=\"wandb-col\"><h3>Run summary:</h3><br/><table class=\"wandb\"><tr><td>acc</td><td>0.96882</td></tr><tr><td>f1_score</td><td>0.91111</td></tr><tr><td>loss</td><td>0.09011</td></tr><tr><td>val_acc</td><td>0.93041</td></tr><tr><td>val_f1_score</td><td>0.80557</td></tr><tr><td>val_loss</td><td>0.19551</td></tr></table><br/></div></div>"
      ],
      "text/plain": [
       "<IPython.core.display.HTML object>"
      ]
     },
     "metadata": {},
     "output_type": "display_data"
    },
    {
     "data": {
      "text/html": [
       " View run <strong style=\"color:#cdcd00\">neat-serenity-95</strong> at: <a href='https://wandb.ai/besteguney/CIL/runs/l9y3ldz5' target=\"_blank\">https://wandb.ai/besteguney/CIL/runs/l9y3ldz5</a><br/> View project at: <a href='https://wandb.ai/besteguney/CIL' target=\"_blank\">https://wandb.ai/besteguney/CIL</a><br/>Synced 5 W&B file(s), 0 media file(s), 0 artifact file(s) and 0 other file(s)"
      ],
      "text/plain": [
       "<IPython.core.display.HTML object>"
      ]
     },
     "metadata": {},
     "output_type": "display_data"
    },
    {
     "data": {
      "text/html": [
       "Find logs at: <code>./wandb/run-20240721_150004-l9y3ldz5/logs</code>"
      ],
      "text/plain": [
       "<IPython.core.display.HTML object>"
      ]
     },
     "metadata": {},
     "output_type": "display_data"
    },
    {
     "data": {
      "text/html": [
       "The new W&B backend becomes opt-out in version 0.18.0; try it out with `wandb.require(\"core\")`! See https://wandb.me/wandb-core for more information."
      ],
      "text/plain": [
       "<IPython.core.display.HTML object>"
      ]
     },
     "metadata": {},
     "output_type": "display_data"
    },
    {
     "data": {
      "text/html": [
       "Successfully finished last run (ID:l9y3ldz5). Initializing new run:<br/>"
      ],
      "text/plain": [
       "<IPython.core.display.HTML object>"
      ]
     },
     "metadata": {},
     "output_type": "display_data"
    },
    {
     "data": {
      "application/vnd.jupyter.widget-view+json": {
       "model_id": "0384fd7b0b814f508bbef28e1357ef53",
       "version_major": 2,
       "version_minor": 0
      },
      "text/plain": [
       "VBox(children=(Label(value='Waiting for wandb.init()...\\r'), FloatProgress(value=0.011112881534629398, max=1.0…"
      ]
     },
     "metadata": {},
     "output_type": "display_data"
    },
    {
     "data": {
      "text/html": [
       "wandb version 0.17.5 is available!  To upgrade, please run:\n",
       " $ pip install wandb --upgrade"
      ],
      "text/plain": [
       "<IPython.core.display.HTML object>"
      ]
     },
     "metadata": {},
     "output_type": "display_data"
    },
    {
     "data": {
      "text/html": [
       "Tracking run with wandb version 0.17.4"
      ],
      "text/plain": [
       "<IPython.core.display.HTML object>"
      ]
     },
     "metadata": {},
     "output_type": "display_data"
    },
    {
     "data": {
      "text/html": [
       "Run data is saved locally in <code>/home/bgueney/CIL-2024/wandb/run-20240721_151112-hw6o1g4v</code>"
      ],
      "text/plain": [
       "<IPython.core.display.HTML object>"
      ]
     },
     "metadata": {},
     "output_type": "display_data"
    },
    {
     "data": {
      "text/html": [
       "Syncing run <strong><a href='https://wandb.ai/besteguney/CIL/runs/hw6o1g4v' target=\"_blank\">resilient-sea-96</a></strong> to <a href='https://wandb.ai/besteguney/CIL' target=\"_blank\">Weights & Biases</a> (<a href='https://wandb.me/run' target=\"_blank\">docs</a>)<br/>"
      ],
      "text/plain": [
       "<IPython.core.display.HTML object>"
      ]
     },
     "metadata": {},
     "output_type": "display_data"
    },
    {
     "data": {
      "text/html": [
       " View project at <a href='https://wandb.ai/besteguney/CIL' target=\"_blank\">https://wandb.ai/besteguney/CIL</a>"
      ],
      "text/plain": [
       "<IPython.core.display.HTML object>"
      ]
     },
     "metadata": {},
     "output_type": "display_data"
    },
    {
     "data": {
      "text/html": [
       " View run at <a href='https://wandb.ai/besteguney/CIL/runs/hw6o1g4v' target=\"_blank\">https://wandb.ai/besteguney/CIL/runs/hw6o1g4v</a>"
      ],
      "text/plain": [
       "<IPython.core.display.HTML object>"
      ]
     },
     "metadata": {},
     "output_type": "display_data"
    },
    {
     "name": "stderr",
     "output_type": "stream",
     "text": [
      "Epoch 1/40 Training: 100%|██████████| 86/86 [00:20<00:00,  4.29it/s, loss=0.64, acc=0.441, f1_score=0.426] \n",
      "Epoch 1/40 Validation: 100%|██████████| 5/5 [00:00<00:00, 14.60it/s, val_loss=0.634]\n"
     ]
    },
    {
     "name": "stdout",
     "output_type": "stream",
     "text": [
      "\t- loss = 0.639579470074454\n",
      "  \t- val_loss = 0.6344097256660461\n",
      "  \t- acc = 0.4413619880066362\n",
      "  \t- val_acc = 0.23751039505004884\n",
      "  \t- f1_score = 0.4261844920990772\n",
      "  \t- val_f1_score = 0.38510274291038515\n",
      " \n"
     ]
    },
    {
     "name": "stderr",
     "output_type": "stream",
     "text": [
      "Epoch 2/40 Training: 100%|██████████| 86/86 [00:19<00:00,  4.41it/s, loss=0.45, acc=0.774, f1_score=0.646] \n",
      "Epoch 2/40 Validation: 100%|██████████| 5/5 [00:00<00:00, 12.37it/s, val_loss=0.473]\n"
     ]
    },
    {
     "name": "stdout",
     "output_type": "stream",
     "text": [
      "\t- loss = 0.45008578688599343\n",
      "  \t- val_loss = 0.4734496474266052\n",
      "  \t- acc = 0.7740393412667651\n",
      "  \t- val_acc = 0.6798999905586243\n",
      "  \t- f1_score = 0.645991576965465\n",
      "  \t- val_f1_score = 0.6050542831420899\n",
      " \n"
     ]
    },
    {
     "name": "stderr",
     "output_type": "stream",
     "text": [
      "Epoch 3/40 Training: 100%|██████████| 86/86 [00:18<00:00,  4.53it/s, loss=0.353, acc=0.868, f1_score=0.712]\n",
      "Epoch 3/40 Validation: 100%|██████████| 5/5 [00:00<00:00, 16.18it/s, val_loss=0.359]\n"
     ]
    },
    {
     "name": "stdout",
     "output_type": "stream",
     "text": [
      "\t- loss = 0.35334257123082186\n",
      "  \t- val_loss = 0.35922138690948485\n",
      "  \t- acc = 0.8682587222997532\n",
      "  \t- val_acc = 0.8302069783210755\n",
      "  \t- f1_score = 0.7122495857089065\n",
      "  \t- val_f1_score = 0.6900831699371338\n",
      " \n"
     ]
    },
    {
     "name": "stderr",
     "output_type": "stream",
     "text": [
      "Epoch 4/40 Training: 100%|██████████| 86/86 [00:19<00:00,  4.50it/s, loss=0.295, acc=0.9, f1_score=0.753]  \n",
      "Epoch 4/40 Validation: 100%|██████████| 5/5 [00:00<00:00, 15.88it/s, val_loss=0.299]\n"
     ]
    },
    {
     "name": "stdout",
     "output_type": "stream",
     "text": [
      "\t- loss = 0.29488367258116255\n",
      "  \t- val_loss = 0.29930208921432494\n",
      "  \t- acc = 0.8996204609094665\n",
      "  \t- val_acc = 0.8850934147834778\n",
      "  \t- f1_score = 0.7534336697223575\n",
      "  \t- val_f1_score = 0.7356496334075928\n",
      " \n"
     ]
    },
    {
     "name": "stderr",
     "output_type": "stream",
     "text": [
      "Epoch 5/40 Training: 100%|██████████| 86/86 [00:19<00:00,  4.48it/s, loss=0.257, acc=0.915, f1_score=0.78] \n",
      "Epoch 5/40 Validation: 100%|██████████| 5/5 [00:00<00:00, 14.42it/s, val_loss=0.255]\n"
     ]
    },
    {
     "name": "stdout",
     "output_type": "stream",
     "text": [
      "\t- loss = 0.2568742709104405\n",
      "  \t- val_loss = 0.2554072022438049\n",
      "  \t- acc = 0.9152830818364787\n",
      "  \t- val_acc = 0.9122897863388062\n",
      "  \t- f1_score = 0.7795874892279159\n",
      "  \t- val_f1_score = 0.7690145373344421\n",
      " \n"
     ]
    },
    {
     "name": "stderr",
     "output_type": "stream",
     "text": [
      "Epoch 6/40 Training: 100%|██████████| 86/86 [00:19<00:00,  4.50it/s, loss=0.23, acc=0.924, f1_score=0.798] \n",
      "Epoch 6/40 Validation: 100%|██████████| 5/5 [00:00<00:00, 16.03it/s, val_loss=0.25] \n"
     ]
    },
    {
     "name": "stdout",
     "output_type": "stream",
     "text": [
      "\t- loss = 0.23001899830130643\n",
      "  \t- val_loss = 0.2502612113952637\n",
      "  \t- acc = 0.9238824352275493\n",
      "  \t- val_acc = 0.9066469669342041\n",
      "  \t- f1_score = 0.7976476972879365\n",
      "  \t- val_f1_score = 0.7718922019004821\n",
      " \n"
     ]
    },
    {
     "name": "stderr",
     "output_type": "stream",
     "text": [
      "Epoch 7/40 Training: 100%|██████████| 86/86 [00:19<00:00,  4.44it/s, loss=0.209, acc=0.931, f1_score=0.813]\n",
      "Epoch 7/40 Validation: 100%|██████████| 5/5 [00:00<00:00, 16.19it/s, val_loss=0.235]\n"
     ]
    },
    {
     "name": "stdout",
     "output_type": "stream",
     "text": [
      "\t- loss = 0.20944284145222153\n",
      "  \t- val_loss = 0.2347620725631714\n",
      "  \t- acc = 0.930815632260123\n",
      "  \t- val_acc = 0.9226521730422974\n",
      "  \t- f1_score = 0.8127857086270355\n",
      "  \t- val_f1_score = 0.7812332153320313\n",
      " \n"
     ]
    },
    {
     "name": "stderr",
     "output_type": "stream",
     "text": [
      "Epoch 8/40 Training: 100%|██████████| 86/86 [00:19<00:00,  4.51it/s, loss=0.192, acc=0.937, f1_score=0.826]\n",
      "Epoch 8/40 Validation: 100%|██████████| 5/5 [00:00<00:00, 16.26it/s, val_loss=0.231]\n"
     ]
    },
    {
     "name": "stdout",
     "output_type": "stream",
     "text": [
      "\t- loss = 0.19205696222394011\n",
      "  \t- val_loss = 0.2311195969581604\n",
      "  \t- acc = 0.9367310730523841\n",
      "  \t- val_acc = 0.9202614068984986\n",
      "  \t- f1_score = 0.8256006282429362\n",
      "  \t- val_f1_score = 0.7821071147918701\n",
      " \n"
     ]
    },
    {
     "name": "stderr",
     "output_type": "stream",
     "text": [
      "Epoch 9/40 Training: 100%|██████████| 86/86 [00:19<00:00,  4.46it/s, loss=0.18, acc=0.94, f1_score=0.835]  \n",
      "Epoch 9/40 Validation: 100%|██████████| 5/5 [00:00<00:00, 16.30it/s, val_loss=0.228]\n"
     ]
    },
    {
     "name": "stdout",
     "output_type": "stream",
     "text": [
      "\t- loss = 0.17998750403869984\n",
      "  \t- val_loss = 0.2280051589012146\n",
      "  \t- acc = 0.9404189163862273\n",
      "  \t- val_acc = 0.9183892130851745\n",
      "  \t- f1_score = 0.8349337778812231\n",
      "  \t- val_f1_score = 0.7842369794845581\n",
      " \n"
     ]
    },
    {
     "name": "stderr",
     "output_type": "stream",
     "text": [
      "Epoch 10/40 Training: 100%|██████████| 86/86 [00:19<00:00,  4.50it/s, loss=0.169, acc=0.944, f1_score=0.844]\n",
      "Epoch 10/40 Validation: 100%|██████████| 5/5 [00:00<00:00, 13.80it/s, val_loss=0.226]\n"
     ]
    },
    {
     "name": "stdout",
     "output_type": "stream",
     "text": [
      "\t- loss = 0.1689548818177955\n",
      "  \t- val_loss = 0.22574982643127442\n",
      "  \t- acc = 0.9440173340398211\n",
      "  \t- val_acc = 0.9215214610099792\n",
      "  \t- f1_score = 0.8436371094958727\n",
      "  \t- val_f1_score = 0.7835192561149598\n",
      " \n"
     ]
    },
    {
     "name": "stderr",
     "output_type": "stream",
     "text": [
      "Epoch 11/40 Training: 100%|██████████| 86/86 [00:19<00:00,  4.46it/s, loss=0.163, acc=0.946, f1_score=0.848]\n",
      "Epoch 11/40 Validation: 100%|██████████| 5/5 [00:00<00:00, 16.14it/s, val_loss=0.22] \n"
     ]
    },
    {
     "name": "stdout",
     "output_type": "stream",
     "text": [
      "\t- loss = 0.16298342652099077\n",
      "  \t- val_loss = 0.22042529582977294\n",
      "  \t- acc = 0.9455199789169223\n",
      "  \t- val_acc = 0.9254769802093505\n",
      "  \t- f1_score = 0.8484086179456045\n",
      "  \t- val_f1_score = 0.7880110263824462\n",
      " \n"
     ]
    },
    {
     "name": "stderr",
     "output_type": "stream",
     "text": [
      "Epoch 12/40 Training: 100%|██████████| 86/86 [00:19<00:00,  4.48it/s, loss=0.155, acc=0.949, f1_score=0.855]\n",
      "Epoch 12/40 Validation: 100%|██████████| 5/5 [00:00<00:00, 14.96it/s, val_loss=0.219]\n"
     ]
    },
    {
     "name": "stdout",
     "output_type": "stream",
     "text": [
      "\t- loss = 0.15467202732729357\n",
      "  \t- val_loss = 0.21920665502548217\n",
      "  \t- acc = 0.9486627093581266\n",
      "  \t- val_acc = 0.9251564502716064\n",
      "  \t- f1_score = 0.8551015846951063\n",
      "  \t- val_f1_score = 0.7873794078826905\n",
      " \n"
     ]
    },
    {
     "name": "stderr",
     "output_type": "stream",
     "text": [
      "Epoch 13/40 Training: 100%|██████████| 86/86 [00:19<00:00,  4.46it/s, loss=0.145, acc=0.952, f1_score=0.864]\n",
      "Epoch 13/40 Validation: 100%|██████████| 5/5 [00:00<00:00, 15.97it/s, val_loss=0.216]\n"
     ]
    },
    {
     "name": "stdout",
     "output_type": "stream",
     "text": [
      "\t- loss = 0.14481877379639205\n",
      "  \t- val_loss = 0.21590743064880372\n",
      "  \t- acc = 0.9516981694587442\n",
      "  \t- val_acc = 0.9246437549591064\n",
      "  \t- f1_score = 0.8637478365454563\n",
      "  \t- val_f1_score = 0.7906068801879883\n",
      " \n"
     ]
    },
    {
     "name": "stderr",
     "output_type": "stream",
     "text": [
      "Epoch 14/40 Training: 100%|██████████| 86/86 [00:19<00:00,  4.34it/s, loss=0.142, acc=0.953, f1_score=0.866]\n",
      "Epoch 14/40 Validation: 100%|██████████| 5/5 [00:00<00:00, 15.46it/s, val_loss=0.215]\n"
     ]
    },
    {
     "name": "stdout",
     "output_type": "stream",
     "text": [
      "\t- loss = 0.14193597713182138\n",
      "  \t- val_loss = 0.21509346961975098\n",
      "  \t- acc = 0.9531989749087844\n",
      "  \t- val_acc = 0.9230401039123535\n",
      "  \t- f1_score = 0.8656904440979625\n",
      "  \t- val_f1_score = 0.7906406641006469\n",
      " \n"
     ]
    },
    {
     "name": "stderr",
     "output_type": "stream",
     "text": [
      "Epoch 15/40 Training: 100%|██████████| 86/86 [00:19<00:00,  4.40it/s, loss=0.133, acc=0.954, f1_score=0.873]\n",
      "Epoch 15/40 Validation: 100%|██████████| 5/5 [00:00<00:00, 15.74it/s, val_loss=0.216]\n"
     ]
    },
    {
     "name": "stdout",
     "output_type": "stream",
     "text": [
      "\t- loss = 0.1334552453007809\n",
      "  \t- val_loss = 0.21571918725967407\n",
      "  \t- acc = 0.9544519546420075\n",
      "  \t- val_acc = 0.9250429511070252\n",
      "  \t- f1_score = 0.8734942182551982\n",
      "  \t- val_f1_score = 0.7888385415077209\n",
      " \n"
     ]
    },
    {
     "name": "stderr",
     "output_type": "stream",
     "text": [
      "Epoch 16/40 Training: 100%|██████████| 86/86 [00:19<00:00,  4.48it/s, loss=0.133, acc=0.956, f1_score=0.873]\n",
      "Epoch 16/40 Validation: 100%|██████████| 5/5 [00:00<00:00, 15.65it/s, val_loss=0.213]\n"
     ]
    },
    {
     "name": "stdout",
     "output_type": "stream",
     "text": [
      "\t- loss = 0.1333369626555332\n",
      "  \t- val_loss = 0.21286238431930543\n",
      "  \t- acc = 0.9556983161804288\n",
      "  \t- val_acc = 0.924235486984253\n",
      "  \t- f1_score = 0.8729038585064023\n",
      "  \t- val_f1_score = 0.7912266731262207\n",
      " \n"
     ]
    },
    {
     "name": "stderr",
     "output_type": "stream",
     "text": [
      "Epoch 17/40 Training: 100%|██████████| 86/86 [00:19<00:00,  4.37it/s, loss=0.127, acc=0.957, f1_score=0.878]\n",
      "Epoch 17/40 Validation: 100%|██████████| 5/5 [00:00<00:00, 15.80it/s, val_loss=0.204]\n"
     ]
    },
    {
     "name": "stdout",
     "output_type": "stream",
     "text": [
      "\t- loss = 0.12732449243235033\n",
      "  \t- val_loss = 0.20398598909378052\n",
      "  \t- acc = 0.9569522190925687\n",
      "  \t- val_acc = 0.9292240858078002\n",
      "  \t- f1_score = 0.8782479735307915\n",
      "  \t- val_f1_score = 0.7992916822433471\n",
      " \n"
     ]
    },
    {
     "name": "stderr",
     "output_type": "stream",
     "text": [
      "Epoch 18/40 Training: 100%|██████████| 86/86 [00:19<00:00,  4.49it/s, loss=0.121, acc=0.959, f1_score=0.884]\n",
      "Epoch 18/40 Validation: 100%|██████████| 5/5 [00:00<00:00, 15.99it/s, val_loss=0.207]\n"
     ]
    },
    {
     "name": "stdout",
     "output_type": "stream",
     "text": [
      "\t- loss = 0.12085255148798921\n",
      "  \t- val_loss = 0.20652825832366944\n",
      "  \t- acc = 0.958857130865718\n",
      "  \t- val_acc = 0.9301215410232544\n",
      "  \t- f1_score = 0.8844306635302167\n",
      "  \t- val_f1_score = 0.7967767119407654\n",
      " \n"
     ]
    },
    {
     "name": "stderr",
     "output_type": "stream",
     "text": [
      "Epoch 19/40 Training: 100%|██████████| 86/86 [00:19<00:00,  4.44it/s, loss=0.124, acc=0.958, f1_score=0.88] \n",
      "Epoch 19/40 Validation: 100%|██████████| 5/5 [00:00<00:00, 15.75it/s, val_loss=0.21] \n"
     ]
    },
    {
     "name": "stdout",
     "output_type": "stream",
     "text": [
      "\t- loss = 0.12436324288678724\n",
      "  \t- val_loss = 0.21021103858947754\n",
      "  \t- acc = 0.9584360094957574\n",
      "  \t- val_acc = 0.9252572536468506\n",
      "  \t- f1_score = 0.8804934918880463\n",
      "  \t- val_f1_score = 0.7930206656455994\n",
      " \n"
     ]
    },
    {
     "name": "stderr",
     "output_type": "stream",
     "text": [
      "Epoch 20/40 Training: 100%|██████████| 86/86 [00:19<00:00,  4.43it/s, loss=0.117, acc=0.96, f1_score=0.887] \n",
      "Epoch 20/40 Validation: 100%|██████████| 5/5 [00:00<00:00, 15.99it/s, val_loss=0.203]\n"
     ]
    },
    {
     "name": "stdout",
     "output_type": "stream",
     "text": [
      "\t- loss = 0.1172801879949348\n",
      "  \t- val_loss = 0.20292693376541138\n",
      "  \t- acc = 0.9601259134536566\n",
      "  \t- val_acc = 0.9288126707077027\n",
      "  \t- f1_score = 0.8871931073277496\n",
      "  \t- val_f1_score = 0.7995220065116883\n",
      " \n"
     ]
    },
    {
     "name": "stderr",
     "output_type": "stream",
     "text": [
      "Epoch 21/40 Training: 100%|██████████| 86/86 [00:19<00:00,  4.45it/s, loss=0.118, acc=0.961, f1_score=0.886]\n",
      "Epoch 21/40 Validation: 100%|██████████| 5/5 [00:00<00:00, 15.63it/s, val_loss=0.211]\n"
     ]
    },
    {
     "name": "stdout",
     "output_type": "stream",
     "text": [
      "\t- loss = 0.11835852126742519\n",
      "  \t- val_loss = 0.2105431318283081\n",
      "  \t- acc = 0.9607074018134627\n",
      "  \t- val_acc = 0.9282610893249512\n",
      "  \t- f1_score = 0.8861115346121233\n",
      "  \t- val_f1_score = 0.7919694542884826\n",
      " \n"
     ]
    },
    {
     "name": "stderr",
     "output_type": "stream",
     "text": [
      "Epoch 22/40 Training: 100%|██████████| 86/86 [00:19<00:00,  4.49it/s, loss=0.111, acc=0.962, f1_score=0.893] \n",
      "Epoch 22/40 Validation: 100%|██████████| 5/5 [00:00<00:00, 15.36it/s, val_loss=0.202]\n"
     ]
    },
    {
     "name": "stdout",
     "output_type": "stream",
     "text": [
      "\t- loss = 0.11139409417329832\n",
      "  \t- val_loss = 0.2022675633430481\n",
      "  \t- acc = 0.9621459911035937\n",
      "  \t- val_acc = 0.9271719574928283\n",
      "  \t- f1_score = 0.8926218041153842\n",
      "  \t- val_f1_score = 0.8011083126068115\n",
      " \n"
     ]
    },
    {
     "name": "stderr",
     "output_type": "stream",
     "text": [
      "Epoch 23/40 Training: 100%|██████████| 86/86 [00:19<00:00,  4.44it/s, loss=0.108, acc=0.963, f1_score=0.896]\n",
      "Epoch 23/40 Validation: 100%|██████████| 5/5 [00:00<00:00, 16.23it/s, val_loss=0.203]\n"
     ]
    },
    {
     "name": "stdout",
     "output_type": "stream",
     "text": [
      "\t- loss = 0.10778880535170089\n",
      "  \t- val_loss = 0.2033021092414856\n",
      "  \t- acc = 0.9634311684342318\n",
      "  \t- val_acc = 0.9277212619781494\n",
      "  \t- f1_score = 0.8959252792735433\n",
      "  \t- val_f1_score = 0.799236512184143\n",
      " \n"
     ]
    },
    {
     "name": "stderr",
     "output_type": "stream",
     "text": [
      "Epoch 24/40 Training: 100%|██████████| 86/86 [00:19<00:00,  4.40it/s, loss=0.106, acc=0.964, f1_score=0.897] \n",
      "Epoch 24/40 Validation: 100%|██████████| 5/5 [00:00<00:00, 15.60it/s, val_loss=0.202]\n"
     ]
    },
    {
     "name": "stdout",
     "output_type": "stream",
     "text": [
      "\t- loss = 0.10601384903109351\n",
      "  \t- val_loss = 0.20228137969970703\n",
      "  \t- acc = 0.9641101755375086\n",
      "  \t- val_acc = 0.9297593712806702\n",
      "  \t- f1_score = 0.8974631588126338\n",
      "  \t- val_f1_score = 0.7991965055465698\n",
      " \n"
     ]
    },
    {
     "name": "stderr",
     "output_type": "stream",
     "text": [
      "Epoch 25/40 Training: 100%|██████████| 86/86 [00:19<00:00,  4.50it/s, loss=0.101, acc=0.966, f1_score=0.902] \n",
      "Epoch 25/40 Validation: 100%|██████████| 5/5 [00:00<00:00, 16.11it/s, val_loss=0.206]\n"
     ]
    },
    {
     "name": "stdout",
     "output_type": "stream",
     "text": [
      "\t- loss = 0.10128668713015179\n",
      "  \t- val_loss = 0.20556750297546386\n",
      "  \t- acc = 0.9657291880873746\n",
      "  \t- val_acc = 0.9291341066360473\n",
      "  \t- f1_score = 0.902110006920127\n",
      "  \t- val_f1_score = 0.7965374112129211\n",
      " \n"
     ]
    },
    {
     "name": "stderr",
     "output_type": "stream",
     "text": [
      "Epoch 26/40 Training: 100%|██████████| 86/86 [00:19<00:00,  4.44it/s, loss=0.1, acc=0.966, f1_score=0.903]   \n",
      "Epoch 26/40 Validation: 100%|██████████| 5/5 [00:00<00:00, 16.04it/s, val_loss=0.209]\n"
     ]
    },
    {
     "name": "stdout",
     "output_type": "stream",
     "text": [
      "\t- loss = 0.10049685281376507\n",
      "  \t- val_loss = 0.2086895227432251\n",
      "  \t- acc = 0.9658200817052708\n",
      "  \t- val_acc = 0.9288759708404541\n",
      "  \t- f1_score = 0.9026954971080603\n",
      "  \t- val_f1_score = 0.792844271659851\n",
      " \n"
     ]
    },
    {
     "name": "stderr",
     "output_type": "stream",
     "text": [
      "Epoch 27/40 Training: 100%|██████████| 86/86 [00:19<00:00,  4.50it/s, loss=0.0978, acc=0.967, f1_score=0.905]\n",
      "Epoch 27/40 Validation: 100%|██████████| 5/5 [00:00<00:00, 16.09it/s, val_loss=0.203]\n"
     ]
    },
    {
     "name": "stdout",
     "output_type": "stream",
     "text": [
      "\t- loss = 0.09777521879173988\n",
      "  \t- val_loss = 0.2027724266052246\n",
      "  \t- acc = 0.9667504069417022\n",
      "  \t- val_acc = 0.9302797794342041\n",
      "  \t- f1_score = 0.9052015591499417\n",
      "  \t- val_f1_score = 0.7985697627067566\n",
      " \n"
     ]
    },
    {
     "name": "stderr",
     "output_type": "stream",
     "text": [
      "Epoch 28/40 Training: 100%|██████████| 86/86 [00:19<00:00,  4.42it/s, loss=0.0983, acc=0.967, f1_score=0.905]\n",
      "Epoch 28/40 Validation: 100%|██████████| 5/5 [00:00<00:00, 15.42it/s, val_loss=0.208]\n"
     ]
    },
    {
     "name": "stdout",
     "output_type": "stream",
     "text": [
      "\t- loss = 0.09833365401556325\n",
      "  \t- val_loss = 0.20820741653442382\n",
      "  \t- acc = 0.966768702102262\n",
      "  \t- val_acc = 0.9277484059333801\n",
      "  \t- f1_score = 0.9046267790849819\n",
      "  \t- val_f1_score = 0.7933899998664856\n",
      " \n"
     ]
    },
    {
     "name": "stderr",
     "output_type": "stream",
     "text": [
      "Epoch 29/40 Training: 100%|██████████| 86/86 [00:19<00:00,  4.42it/s, loss=0.0946, acc=0.968, f1_score=0.908]\n",
      "Epoch 29/40 Validation: 100%|██████████| 5/5 [00:00<00:00, 14.69it/s, val_loss=0.205]\n"
     ]
    },
    {
     "name": "stdout",
     "output_type": "stream",
     "text": [
      "\t- loss = 0.09456665432730386\n",
      "  \t- val_loss = 0.20549285411834717\n",
      "  \t- acc = 0.9678248326445735\n",
      "  \t- val_acc = 0.9302671194076538\n",
      "  \t- f1_score = 0.9082365146903104\n",
      "  \t- val_f1_score = 0.7957466125488282\n",
      " \n"
     ]
    },
    {
     "name": "stderr",
     "output_type": "stream",
     "text": [
      "Epoch 30/40 Training: 100%|██████████| 86/86 [00:19<00:00,  4.38it/s, loss=0.0921, acc=0.968, f1_score=0.91] \n",
      "Epoch 30/40 Validation: 100%|██████████| 5/5 [00:00<00:00, 16.29it/s, val_loss=0.203]\n"
     ]
    },
    {
     "name": "stdout",
     "output_type": "stream",
     "text": [
      "\t- loss = 0.09213348322136458\n",
      "  \t- val_loss = 0.20255979299545288\n",
      "  \t- acc = 0.9683818768623264\n",
      "  \t- val_acc = 0.9295807957649231\n",
      "  \t- f1_score = 0.9103858048139617\n",
      "  \t- val_f1_score = 0.7988657712936401\n",
      " \n"
     ]
    },
    {
     "name": "stderr",
     "output_type": "stream",
     "text": [
      "Epoch 31/40 Training: 100%|██████████| 86/86 [00:19<00:00,  4.42it/s, loss=0.0916, acc=0.969, f1_score=0.911]\n",
      "Epoch 31/40 Validation: 100%|██████████| 5/5 [00:00<00:00, 15.70it/s, val_loss=0.202]\n"
     ]
    },
    {
     "name": "stdout",
     "output_type": "stream",
     "text": [
      "\t- loss = 0.09159177403117336\n",
      "  \t- val_loss = 0.20215750932693483\n",
      "  \t- acc = 0.9687581575194071\n",
      "  \t- val_acc = 0.9279283285140991\n",
      "  \t- f1_score = 0.9108674096506696\n",
      "  \t- val_f1_score = 0.7996618866920471\n",
      " \n"
     ]
    },
    {
     "name": "stderr",
     "output_type": "stream",
     "text": [
      "Epoch 32/40 Training: 100%|██████████| 86/86 [00:19<00:00,  4.48it/s, loss=0.0894, acc=0.97, f1_score=0.913] \n",
      "Epoch 32/40 Validation: 100%|██████████| 5/5 [00:00<00:00, 14.80it/s, val_loss=0.199]\n"
     ]
    },
    {
     "name": "stdout",
     "output_type": "stream",
     "text": [
      "\t- loss = 0.08941696965417197\n",
      "  \t- val_loss = 0.19921798706054689\n",
      "  \t- acc = 0.9696215321851331\n",
      "  \t- val_acc = 0.931230115890503\n",
      "  \t- f1_score = 0.9130076856114143\n",
      "  \t- val_f1_score = 0.8021455049514771\n",
      " \n"
     ]
    },
    {
     "name": "stderr",
     "output_type": "stream",
     "text": [
      "Epoch 33/40 Training: 100%|██████████| 86/86 [00:19<00:00,  4.35it/s, loss=0.0888, acc=0.97, f1_score=0.913] \n",
      "Epoch 33/40 Validation: 100%|██████████| 5/5 [00:00<00:00, 14.79it/s, val_loss=0.195]\n"
     ]
    },
    {
     "name": "stdout",
     "output_type": "stream",
     "text": [
      "\t- loss = 0.08883702616358913\n",
      "  \t- val_loss = 0.19494067430496215\n",
      "  \t- acc = 0.969644294921742\n",
      "  \t- val_acc = 0.9299664616584777\n",
      "  \t- f1_score = 0.9134422069372132\n",
      "  \t- val_f1_score = 0.806416642665863\n",
      " \n"
     ]
    },
    {
     "name": "stderr",
     "output_type": "stream",
     "text": [
      "Epoch 34/40 Training: 100%|██████████| 86/86 [00:19<00:00,  4.46it/s, loss=0.0883, acc=0.97, f1_score=0.914] \n",
      "Epoch 34/40 Validation: 100%|██████████| 5/5 [00:00<00:00, 15.81it/s, val_loss=0.201]\n"
     ]
    },
    {
     "name": "stdout",
     "output_type": "stream",
     "text": [
      "\t- loss = 0.08825553503147392\n",
      "  \t- val_loss = 0.20112498998641967\n",
      "  \t- acc = 0.970012976679691\n",
      "  \t- val_acc = 0.9284125566482544\n",
      "  \t- f1_score = 0.9139041325380636\n",
      "  \t- val_f1_score = 0.800628387928009\n",
      " \n"
     ]
    },
    {
     "name": "stderr",
     "output_type": "stream",
     "text": [
      "Epoch 35/40 Training: 100%|██████████| 86/86 [00:19<00:00,  4.39it/s, loss=0.0867, acc=0.97, f1_score=0.915] \n",
      "Epoch 35/40 Validation: 100%|██████████| 5/5 [00:00<00:00, 14.84it/s, val_loss=0.202]\n"
     ]
    },
    {
     "name": "stdout",
     "output_type": "stream",
     "text": [
      "\t- loss = 0.08672599529111108\n",
      "  \t- val_loss = 0.20169568061828613\n",
      "  \t- acc = 0.9702412146468495\n",
      "  \t- val_acc = 0.9279541134834289\n",
      "  \t- f1_score = 0.9153012342231218\n",
      "  \t- val_f1_score = 0.7999285340309144\n",
      " \n"
     ]
    },
    {
     "name": "stderr",
     "output_type": "stream",
     "text": [
      "Epoch 36/40 Training: 100%|██████████| 86/86 [00:19<00:00,  4.48it/s, loss=0.0828, acc=0.971, f1_score=0.919]\n",
      "Epoch 36/40 Validation: 100%|██████████| 5/5 [00:00<00:00, 16.13it/s, val_loss=0.201]\n"
     ]
    },
    {
     "name": "stdout",
     "output_type": "stream",
     "text": [
      "\t- loss = 0.08283616914305576\n",
      "  \t- val_loss = 0.20058374404907225\n",
      "  \t- acc = 0.9714234880236692\n",
      "  \t- val_acc = 0.930732786655426\n",
      "  \t- f1_score = 0.9191070774266886\n",
      "  \t- val_f1_score = 0.8007962584495545\n",
      " \n"
     ]
    },
    {
     "name": "stderr",
     "output_type": "stream",
     "text": [
      "Epoch 37/40 Training: 100%|██████████| 86/86 [00:19<00:00,  4.49it/s, loss=0.0822, acc=0.972, f1_score=0.92] \n",
      "Epoch 37/40 Validation: 100%|██████████| 5/5 [00:00<00:00, 11.81it/s, val_loss=0.204]\n"
     ]
    },
    {
     "name": "stdout",
     "output_type": "stream",
     "text": [
      "\t- loss = 0.0821914859982424\n",
      "  \t- val_loss = 0.20378830432891845\n",
      "  \t- acc = 0.9718146975650344\n",
      "  \t- val_acc = 0.9298534274101258\n",
      "  \t- f1_score = 0.9196710101393766\n",
      "  \t- val_f1_score = 0.7974027395248413\n",
      " \n"
     ]
    },
    {
     "name": "stderr",
     "output_type": "stream",
     "text": [
      "Epoch 38/40 Training: 100%|██████████| 86/86 [00:19<00:00,  4.43it/s, loss=0.0807, acc=0.972, f1_score=0.921]\n",
      "Epoch 38/40 Validation: 100%|██████████| 5/5 [00:00<00:00, 16.10it/s, val_loss=0.196]\n"
     ]
    },
    {
     "name": "stdout",
     "output_type": "stream",
     "text": [
      "\t- loss = 0.08069510515346083\n",
      "  \t- val_loss = 0.19589039087295532\n",
      "  \t- acc = 0.9723133091316667\n",
      "  \t- val_acc = 0.9300021767616272\n",
      "  \t- f1_score = 0.9211523810098338\n",
      "  \t- val_f1_score = 0.8054389119148254\n",
      " \n"
     ]
    },
    {
     "name": "stderr",
     "output_type": "stream",
     "text": [
      "Epoch 39/40 Training: 100%|██████████| 86/86 [00:19<00:00,  4.44it/s, loss=0.0802, acc=0.972, f1_score=0.922]\n",
      "Epoch 39/40 Validation: 100%|██████████| 5/5 [00:00<00:00, 16.11it/s, val_loss=0.203]\n"
     ]
    },
    {
     "name": "stdout",
     "output_type": "stream",
     "text": [
      "\t- loss = 0.08021542014077652\n",
      "  \t- val_loss = 0.20250754356384276\n",
      "  \t- acc = 0.9724932077319123\n",
      "  \t- val_acc = 0.9304940700531006\n",
      "  \t- f1_score = 0.9215279089850049\n",
      "  \t- val_f1_score = 0.7986833214759826\n",
      " \n"
     ]
    },
    {
     "name": "stderr",
     "output_type": "stream",
     "text": [
      "Epoch 40/40 Training: 100%|██████████| 86/86 [00:19<00:00,  4.45it/s, loss=0.0797, acc=0.973, f1_score=0.922]\n",
      "Epoch 40/40 Validation: 100%|██████████| 5/5 [00:00<00:00, 15.84it/s, val_loss=0.2]  \n"
     ]
    },
    {
     "name": "stdout",
     "output_type": "stream",
     "text": [
      "\t- loss = 0.07970453278962956\n",
      "  \t- val_loss = 0.19997992515563964\n",
      "  \t- acc = 0.9727806164774784\n",
      "  \t- val_acc = 0.9289966702461243\n",
      "  \t- f1_score = 0.92197010406228\n",
      "  \t- val_f1_score = 0.8014433145523071\n",
      " \n"
     ]
    }
   ],
   "source": [
    "train_images, val_images, train_masks, val_masks = train_test_split(\n",
    "        images_org, masks_org, test_size=0.1, random_state=42, shuffle=True\n",
    "    )\n",
    "\n",
    "images_aug, masks_aug = augment.augment_data(train_images, train_masks, 1)\n",
    "\n",
    "images_aug = np.stack([img/255.0 for img in images_aug]).astype(np.float32)\n",
    "masks_aug = np.stack([mask/255.0 for mask in masks_aug]).astype(np.float32)\n",
    "\n",
    "val_images = np.stack([img/255.0 for img in val_images]).astype(np.float32)\n",
    "val_masks = np.stack([mask/255.0 for mask in val_masks]).astype(np.float32)\n",
    "\n",
    "# reshape the image to simplify the handling of skip connections and maxpooling\n",
    "train_dataset = ImageDataset(images_aug, masks_aug, device, use_patches=False, resize_to=(384, 384))\n",
    "val_dataset = ImageDataset(val_images, val_masks, device, use_patches=False, resize_to=(384, 384))\n",
    "\n",
    "    \n",
    "train_dataloader = torch.utils.data.DataLoader(train_dataset, batch_size=3, shuffle=True)\n",
    "val_dataloader = torch.utils.data.DataLoader(val_dataset, batch_size=3, shuffle=True)\n",
    "    \n",
    "model = smp.Unet(\n",
    "    encoder_name=\"efficientnet-b5\",        # choose encoder, e.g. mobilenet_v2 or efficientnet-b7\n",
    "    encoder_weights=\"imagenet\",     # use `imagenet` pre-trained weights for encoder initialization\n",
    "    in_channels=3,                  # model input channels (1 for gray-scale images, 3 for RGB, etc.)\n",
    "    classes=1,                      # model output channels (number of classes in your dataset)\n",
    ")\n",
    "model = model.to(device)\n",
    "loss_fn = smp.losses.DiceLoss(smp.losses.BINARY_MODE, from_logits=True)\n",
    "metric_fns = {'acc': trainer.accuracy_fn,\n",
    "'f1_score': trainer.f1_score_fn}\n",
    "optimizer = torch.optim.Adam(model.parameters(), lr=1e-4)\n",
    "#scheduler = ReduceLROnPlateau(optimizer)\n",
    "train(model, optimizer, train_dataloader, val_dataloader, loss_fn, 40, None, 0, metric_fns)\n",
    "model_backs.append(model)"
   ]
  },
  {
   "cell_type": "code",
   "execution_count": 15,
   "metadata": {
    "scrolled": true
   },
   "outputs": [
    {
     "data": {
      "text/html": [
       "wandb version 0.17.5 is available!  To upgrade, please run:\n",
       " $ pip install wandb --upgrade"
      ],
      "text/plain": [
       "<IPython.core.display.HTML object>"
      ]
     },
     "metadata": {},
     "output_type": "display_data"
    },
    {
     "data": {
      "text/html": [
       "Tracking run with wandb version 0.17.4"
      ],
      "text/plain": [
       "<IPython.core.display.HTML object>"
      ]
     },
     "metadata": {},
     "output_type": "display_data"
    },
    {
     "data": {
      "text/html": [
       "Run data is saved locally in <code>/home/bgueney/CIL-2024/wandb/run-20240721_152939-170zycon</code>"
      ],
      "text/plain": [
       "<IPython.core.display.HTML object>"
      ]
     },
     "metadata": {},
     "output_type": "display_data"
    },
    {
     "data": {
      "text/html": [
       "Syncing run <strong><a href='https://wandb.ai/besteguney/CIL/runs/170zycon' target=\"_blank\">breezy-gorge-97</a></strong> to <a href='https://wandb.ai/besteguney/CIL' target=\"_blank\">Weights & Biases</a> (<a href='https://wandb.me/run' target=\"_blank\">docs</a>)<br/>"
      ],
      "text/plain": [
       "<IPython.core.display.HTML object>"
      ]
     },
     "metadata": {},
     "output_type": "display_data"
    },
    {
     "data": {
      "text/html": [
       " View project at <a href='https://wandb.ai/besteguney/CIL' target=\"_blank\">https://wandb.ai/besteguney/CIL</a>"
      ],
      "text/plain": [
       "<IPython.core.display.HTML object>"
      ]
     },
     "metadata": {},
     "output_type": "display_data"
    },
    {
     "data": {
      "text/html": [
       " View run at <a href='https://wandb.ai/besteguney/CIL/runs/170zycon' target=\"_blank\">https://wandb.ai/besteguney/CIL/runs/170zycon</a>"
      ],
      "text/plain": [
       "<IPython.core.display.HTML object>"
      ]
     },
     "metadata": {},
     "output_type": "display_data"
    },
    {
     "name": "stderr",
     "output_type": "stream",
     "text": [
      "Epoch 1/40 Training: 100%|██████████| 86/86 [00:12<00:00,  6.62it/s, loss=0.623, acc=0.442, f1_score=0.452]\n",
      "Epoch 1/40 Validation: 100%|██████████| 5/5 [00:00<00:00, 17.26it/s, val_loss=0.514]\n"
     ]
    },
    {
     "name": "stdout",
     "output_type": "stream",
     "text": [
      "\t- loss = 0.6232163178366285\n",
      "  \t- val_loss = 0.5135270953178406\n",
      "  \t- acc = 0.44188283730384914\n",
      "  \t- val_acc = 0.7211579561233521\n",
      "  \t- f1_score = 0.452154844826044\n",
      "  \t- val_f1_score = 0.5887404799461364\n",
      " \n"
     ]
    },
    {
     "name": "stderr",
     "output_type": "stream",
     "text": [
      "Epoch 2/40 Training: 100%|██████████| 86/86 [00:13<00:00,  6.47it/s, loss=0.489, acc=0.744, f1_score=0.603]\n",
      "Epoch 2/40 Validation: 100%|██████████| 5/5 [00:00<00:00, 16.47it/s, val_loss=0.44] \n"
     ]
    },
    {
     "name": "stdout",
     "output_type": "stream",
     "text": [
      "\t- loss = 0.4890970525353454\n",
      "  \t- val_loss = 0.43988810777664183\n",
      "  \t- acc = 0.7435898940230525\n",
      "  \t- val_acc = 0.7746817350387574\n",
      "  \t- f1_score = 0.6030351838400198\n",
      "  \t- val_f1_score = 0.6500019073486328\n",
      " \n"
     ]
    },
    {
     "name": "stderr",
     "output_type": "stream",
     "text": [
      "Epoch 3/40 Training: 100%|██████████| 86/86 [00:12<00:00,  6.69it/s, loss=0.419, acc=0.823, f1_score=0.665]\n",
      "Epoch 3/40 Validation: 100%|██████████| 5/5 [00:00<00:00, 17.23it/s, val_loss=0.372]\n"
     ]
    },
    {
     "name": "stdout",
     "output_type": "stream",
     "text": [
      "\t- loss = 0.4189642702424249\n",
      "  \t- val_loss = 0.3723899722099304\n",
      "  \t- acc = 0.8227623735749444\n",
      "  \t- val_acc = 0.8632392048835754\n",
      "  \t- f1_score = 0.6648806257303371\n",
      "  \t- val_f1_score = 0.7075195789337159\n",
      " \n"
     ]
    },
    {
     "name": "stderr",
     "output_type": "stream",
     "text": [
      "Epoch 4/40 Training: 100%|██████████| 86/86 [00:12<00:00,  6.62it/s, loss=0.354, acc=0.872, f1_score=0.716]\n",
      "Epoch 4/40 Validation: 100%|██████████| 5/5 [00:00<00:00, 16.05it/s, val_loss=0.339]\n"
     ]
    },
    {
     "name": "stdout",
     "output_type": "stream",
     "text": [
      "\t- loss = 0.3544074712797653\n",
      "  \t- val_loss = 0.33912508487701415\n",
      "  \t- acc = 0.8718297252821368\n",
      "  \t- val_acc = 0.8824245929718018\n",
      "  \t- f1_score = 0.7156944656094839\n",
      "  \t- val_f1_score = 0.7201265215873718\n",
      " \n"
     ]
    },
    {
     "name": "stderr",
     "output_type": "stream",
     "text": [
      "Epoch 5/40 Training: 100%|██████████| 86/86 [00:13<00:00,  6.41it/s, loss=0.31, acc=0.896, f1_score=0.746] \n",
      "Epoch 5/40 Validation: 100%|██████████| 5/5 [00:00<00:00, 16.63it/s, val_loss=0.308]\n"
     ]
    },
    {
     "name": "stdout",
     "output_type": "stream",
     "text": [
      "\t- loss = 0.3097605892392092\n",
      "  \t- val_loss = 0.30750694274902346\n",
      "  \t- acc = 0.8959212892277296\n",
      "  \t- val_acc = 0.8675668120384217\n",
      "  \t- f1_score = 0.7456831516221513\n",
      "  \t- val_f1_score = 0.7319665670394897\n",
      " \n"
     ]
    },
    {
     "name": "stderr",
     "output_type": "stream",
     "text": [
      "Epoch 6/40 Training: 100%|██████████| 86/86 [00:13<00:00,  6.58it/s, loss=0.267, acc=0.913, f1_score=0.777]\n",
      "Epoch 6/40 Validation: 100%|██████████| 5/5 [00:00<00:00, 14.68it/s, val_loss=0.28] \n"
     ]
    },
    {
     "name": "stdout",
     "output_type": "stream",
     "text": [
      "\t- loss = 0.26739656232124154\n",
      "  \t- val_loss = 0.2797823786735535\n",
      "  \t- acc = 0.9133200409800507\n",
      "  \t- val_acc = 0.894917345046997\n",
      "  \t- f1_score = 0.7772170610206072\n",
      "  \t- val_f1_score = 0.7535333871841431\n",
      " \n"
     ]
    },
    {
     "name": "stderr",
     "output_type": "stream",
     "text": [
      "Epoch 7/40 Training: 100%|██████████| 86/86 [00:12<00:00,  6.68it/s, loss=0.233, acc=0.925, f1_score=0.801]\n",
      "Epoch 7/40 Validation: 100%|██████████| 5/5 [00:00<00:00, 17.50it/s, val_loss=0.258]\n"
     ]
    },
    {
     "name": "stdout",
     "output_type": "stream",
     "text": [
      "\t- loss = 0.23333515053571657\n",
      "  \t- val_loss = 0.2582143425941467\n",
      "  \t- acc = 0.9246329173099163\n",
      "  \t- val_acc = 0.9093297958374024\n",
      "  \t- f1_score = 0.8014340199703394\n",
      "  \t- val_f1_score = 0.7663601517677308\n",
      " \n"
     ]
    },
    {
     "name": "stderr",
     "output_type": "stream",
     "text": [
      "Epoch 8/40 Training: 100%|██████████| 86/86 [00:13<00:00,  6.58it/s, loss=0.215, acc=0.931, f1_score=0.813]\n",
      "Epoch 8/40 Validation: 100%|██████████| 5/5 [00:00<00:00, 16.48it/s, val_loss=0.251]\n"
     ]
    },
    {
     "name": "stdout",
     "output_type": "stream",
     "text": [
      "\t- loss = 0.21519333886545758\n",
      "  \t- val_loss = 0.25133159160614016\n",
      "  \t- acc = 0.9309992873391439\n",
      "  \t- val_acc = 0.9149730563163757\n",
      "  \t- f1_score = 0.8131045879319657\n",
      "  \t- val_f1_score = 0.7680513978004455\n",
      " \n"
     ]
    },
    {
     "name": "stderr",
     "output_type": "stream",
     "text": [
      "Epoch 9/40 Training: 100%|██████████| 86/86 [00:14<00:00,  6.10it/s, loss=0.203, acc=0.935, f1_score=0.821]\n",
      "Epoch 9/40 Validation: 100%|██████████| 5/5 [00:00<00:00, 15.49it/s, val_loss=0.248]\n"
     ]
    },
    {
     "name": "stdout",
     "output_type": "stream",
     "text": [
      "\t- loss = 0.2027407454889874\n",
      "  \t- val_loss = 0.24799896478652955\n",
      "  \t- acc = 0.9353275042633677\n",
      "  \t- val_acc = 0.9102588891983032\n",
      "  \t- f1_score = 0.8209735238274862\n",
      "  \t- val_f1_score = 0.7694678783416748\n",
      " \n"
     ]
    },
    {
     "name": "stderr",
     "output_type": "stream",
     "text": [
      "Epoch 10/40 Training: 100%|██████████| 86/86 [00:13<00:00,  6.59it/s, loss=0.182, acc=0.941, f1_score=0.838]\n",
      "Epoch 10/40 Validation: 100%|██████████| 5/5 [00:00<00:00, 16.97it/s, val_loss=0.24] \n"
     ]
    },
    {
     "name": "stdout",
     "output_type": "stream",
     "text": [
      "\t- loss = 0.181616228680278\n",
      "  \t- val_loss = 0.2399998426437378\n",
      "  \t- acc = 0.9411817761354668\n",
      "  \t- val_acc = 0.9202284216880798\n",
      "  \t- f1_score = 0.837548239979633\n",
      "  \t- val_f1_score = 0.7728239536285401\n",
      " \n"
     ]
    },
    {
     "name": "stderr",
     "output_type": "stream",
     "text": [
      "Epoch 11/40 Training: 100%|██████████| 86/86 [00:12<00:00,  6.65it/s, loss=0.17, acc=0.945, f1_score=0.846] \n",
      "Epoch 11/40 Validation: 100%|██████████| 5/5 [00:00<00:00, 17.37it/s, val_loss=0.23] \n"
     ]
    },
    {
     "name": "stdout",
     "output_type": "stream",
     "text": [
      "\t- loss = 0.1702086426490961\n",
      "  \t- val_loss = 0.23045659065246582\n",
      "  \t- acc = 0.9448864432268365\n",
      "  \t- val_acc = 0.9158393144607544\n",
      "  \t- f1_score = 0.8461917292240054\n",
      "  \t- val_f1_score = 0.7824282765388488\n",
      " \n"
     ]
    },
    {
     "name": "stderr",
     "output_type": "stream",
     "text": [
      "Epoch 12/40 Training: 100%|██████████| 86/86 [00:13<00:00,  6.59it/s, loss=0.16, acc=0.948, f1_score=0.854] \n",
      "Epoch 12/40 Validation: 100%|██████████| 5/5 [00:00<00:00, 16.20it/s, val_loss=0.223]\n"
     ]
    },
    {
     "name": "stdout",
     "output_type": "stream",
     "text": [
      "\t- loss = 0.16038275735322818\n",
      "  \t- val_loss = 0.22292284965515136\n",
      "  \t- acc = 0.9482082551301911\n",
      "  \t- val_acc = 0.9170066595077515\n",
      "  \t- f1_score = 0.8539410420628482\n",
      "  \t- val_f1_score = 0.7874890327453613\n",
      " \n"
     ]
    },
    {
     "name": "stderr",
     "output_type": "stream",
     "text": [
      "Epoch 13/40 Training: 100%|██████████| 86/86 [00:12<00:00,  6.68it/s, loss=0.151, acc=0.951, f1_score=0.861]\n",
      "Epoch 13/40 Validation: 100%|██████████| 5/5 [00:00<00:00, 13.53it/s, val_loss=0.232]\n"
     ]
    },
    {
     "name": "stdout",
     "output_type": "stream",
     "text": [
      "\t- loss = 0.1507820445437764\n",
      "  \t- val_loss = 0.2324441432952881\n",
      "  \t- acc = 0.950852956882743\n",
      "  \t- val_acc = 0.9205042004585267\n",
      "  \t- f1_score = 0.8611810567767121\n",
      "  \t- val_f1_score = 0.7748302340507507\n",
      " \n"
     ]
    },
    {
     "name": "stderr",
     "output_type": "stream",
     "text": [
      "Epoch 14/40 Training: 100%|██████████| 86/86 [00:13<00:00,  6.29it/s, loss=0.141, acc=0.954, f1_score=0.87] \n",
      "Epoch 14/40 Validation: 100%|██████████| 5/5 [00:00<00:00, 16.16it/s, val_loss=0.225]\n"
     ]
    },
    {
     "name": "stdout",
     "output_type": "stream",
     "text": [
      "\t- loss = 0.14053186358407485\n",
      "  \t- val_loss = 0.2247159719467163\n",
      "  \t- acc = 0.9537122748618903\n",
      "  \t- val_acc = 0.9215725421905517\n",
      "  \t- f1_score = 0.8696992210177488\n",
      "  \t- val_f1_score = 0.7819162845611572\n",
      " \n"
     ]
    },
    {
     "name": "stderr",
     "output_type": "stream",
     "text": [
      "Epoch 15/40 Training: 100%|██████████| 86/86 [00:13<00:00,  6.54it/s, loss=0.135, acc=0.956, f1_score=0.875]\n",
      "Epoch 15/40 Validation: 100%|██████████| 5/5 [00:00<00:00, 17.58it/s, val_loss=0.219]\n"
     ]
    },
    {
     "name": "stdout",
     "output_type": "stream",
     "text": [
      "\t- loss = 0.13474487634592278\n",
      "  \t- val_loss = 0.21941699981689453\n",
      "  \t- acc = 0.9556390372819679\n",
      "  \t- val_acc = 0.9238887071609497\n",
      "  \t- f1_score = 0.874814968469531\n",
      "  \t- val_f1_score = 0.7861679792404175\n",
      " \n"
     ]
    },
    {
     "name": "stderr",
     "output_type": "stream",
     "text": [
      "Epoch 16/40 Training: 100%|██████████| 86/86 [00:12<00:00,  6.72it/s, loss=0.13, acc=0.957, f1_score=0.879] \n",
      "Epoch 16/40 Validation: 100%|██████████| 5/5 [00:00<00:00, 16.97it/s, val_loss=0.218]\n"
     ]
    },
    {
     "name": "stdout",
     "output_type": "stream",
     "text": [
      "\t- loss = 0.12983112903528435\n",
      "  \t- val_loss = 0.2175115466117859\n",
      "  \t- acc = 0.9569755848063979\n",
      "  \t- val_acc = 0.9212000012397766\n",
      "  \t- f1_score = 0.8786303733670434\n",
      "  \t- val_f1_score = 0.7886451482772827\n",
      " \n"
     ]
    },
    {
     "name": "stderr",
     "output_type": "stream",
     "text": [
      "Epoch 17/40 Training: 100%|██████████| 86/86 [00:13<00:00,  6.49it/s, loss=0.123, acc=0.959, f1_score=0.885]\n",
      "Epoch 17/40 Validation: 100%|██████████| 5/5 [00:00<00:00, 17.10it/s, val_loss=0.212]\n"
     ]
    },
    {
     "name": "stdout",
     "output_type": "stream",
     "text": [
      "\t- loss = 0.1230268651662871\n",
      "  \t- val_loss = 0.21230219602584838\n",
      "  \t- acc = 0.9594055552815282\n",
      "  \t- val_acc = 0.9249290347099304\n",
      "  \t- f1_score = 0.8846192942109219\n",
      "  \t- val_f1_score = 0.7928627490997314\n",
      " \n"
     ]
    },
    {
     "name": "stderr",
     "output_type": "stream",
     "text": [
      "Epoch 18/40 Training: 100%|██████████| 86/86 [00:13<00:00,  6.57it/s, loss=0.116, acc=0.961, f1_score=0.891]\n",
      "Epoch 18/40 Validation: 100%|██████████| 5/5 [00:00<00:00, 17.10it/s, val_loss=0.217]\n"
     ]
    },
    {
     "name": "stdout",
     "output_type": "stream",
     "text": [
      "\t- loss = 0.11621087858843249\n",
      "  \t- val_loss = 0.21679289340972902\n",
      "  \t- acc = 0.9613530018994975\n",
      "  \t- val_acc = 0.9251867413520813\n",
      "  \t- f1_score = 0.8906120207420615\n",
      "  \t- val_f1_score = 0.7876402020454407\n",
      " \n"
     ]
    },
    {
     "name": "stderr",
     "output_type": "stream",
     "text": [
      "Epoch 19/40 Training: 100%|██████████| 86/86 [00:13<00:00,  6.60it/s, loss=0.114, acc=0.962, f1_score=0.892] \n",
      "Epoch 19/40 Validation: 100%|██████████| 5/5 [00:00<00:00, 17.35it/s, val_loss=0.212]\n"
     ]
    },
    {
     "name": "stdout",
     "output_type": "stream",
     "text": [
      "\t- loss = 0.11447768086610838\n",
      "  \t- val_loss = 0.21167181730270385\n",
      "  \t- acc = 0.9621948239415191\n",
      "  \t- val_acc = 0.9261158347129822\n",
      "  \t- f1_score = 0.891737257325372\n",
      "  \t- val_f1_score = 0.792465090751648\n",
      " \n"
     ]
    },
    {
     "name": "stderr",
     "output_type": "stream",
     "text": [
      "Epoch 20/40 Training: 100%|██████████| 86/86 [00:12<00:00,  6.70it/s, loss=0.11, acc=0.963, f1_score=0.896]  \n",
      "Epoch 20/40 Validation: 100%|██████████| 5/5 [00:00<00:00, 17.55it/s, val_loss=0.21] \n"
     ]
    },
    {
     "name": "stdout",
     "output_type": "stream",
     "text": [
      "\t- loss = 0.11006278492683588\n",
      "  \t- val_loss = 0.20965638160705566\n",
      "  \t- acc = 0.9630401938460594\n",
      "  \t- val_acc = 0.9258581161499023\n",
      "  \t- f1_score = 0.895639045293941\n",
      "  \t- val_f1_score = 0.7942906260490418\n",
      " \n"
     ]
    },
    {
     "name": "stderr",
     "output_type": "stream",
     "text": [
      "Epoch 21/40 Training: 100%|██████████| 86/86 [00:13<00:00,  6.53it/s, loss=0.107, acc=0.964, f1_score=0.898] \n",
      "Epoch 21/40 Validation: 100%|██████████| 5/5 [00:00<00:00, 17.48it/s, val_loss=0.214]\n"
     ]
    },
    {
     "name": "stdout",
     "output_type": "stream",
     "text": [
      "\t- loss = 0.10704405155292777\n",
      "  \t- val_loss = 0.21366623640060425\n",
      "  \t- acc = 0.9640371847984402\n",
      "  \t- val_acc = 0.9244927406311035\n",
      "  \t- f1_score = 0.8981546482374502\n",
      "  \t- val_f1_score = 0.7894168257713318\n",
      " \n"
     ]
    },
    {
     "name": "stderr",
     "output_type": "stream",
     "text": [
      "Epoch 22/40 Training: 100%|██████████| 86/86 [00:12<00:00,  6.72it/s, loss=0.103, acc=0.965, f1_score=0.902]\n",
      "Epoch 22/40 Validation: 100%|██████████| 5/5 [00:00<00:00, 17.33it/s, val_loss=0.212]\n"
     ]
    },
    {
     "name": "stdout",
     "output_type": "stream",
     "text": [
      "\t- loss = 0.10314904118693152\n",
      "  \t- val_loss = 0.21209135055541992\n",
      "  \t- acc = 0.9654086849024129\n",
      "  \t- val_acc = 0.925028944015503\n",
      "  \t- f1_score = 0.9016977105029794\n",
      "  \t- val_f1_score = 0.7912079572677613\n",
      " \n"
     ]
    },
    {
     "name": "stderr",
     "output_type": "stream",
     "text": [
      "Epoch 23/40 Training: 100%|██████████| 86/86 [00:13<00:00,  6.55it/s, loss=0.0974, acc=0.967, f1_score=0.907]\n",
      "Epoch 23/40 Validation: 100%|██████████| 5/5 [00:00<00:00, 17.25it/s, val_loss=0.205]\n"
     ]
    },
    {
     "name": "stdout",
     "output_type": "stream",
     "text": [
      "\t- loss = 0.09736886967060178\n",
      "  \t- val_loss = 0.20510066747665406\n",
      "  \t- acc = 0.9670914376890937\n",
      "  \t- val_acc = 0.92723388671875\n",
      "  \t- f1_score = 0.9069853127002716\n",
      "  \t- val_f1_score = 0.797891640663147\n",
      " \n"
     ]
    },
    {
     "name": "stderr",
     "output_type": "stream",
     "text": [
      "Epoch 24/40 Training: 100%|██████████| 86/86 [00:13<00:00,  6.54it/s, loss=0.0951, acc=0.968, f1_score=0.909]\n",
      "Epoch 24/40 Validation: 100%|██████████| 5/5 [00:00<00:00, 16.17it/s, val_loss=0.211]\n"
     ]
    },
    {
     "name": "stdout",
     "output_type": "stream",
     "text": [
      "\t- loss = 0.09508764120035393\n",
      "  \t- val_loss = 0.21117558479309081\n",
      "  \t- acc = 0.9680952374325242\n",
      "  \t- val_acc = 0.9279025673866272\n",
      "  \t- f1_score = 0.9090318561986436\n",
      "  \t- val_f1_score = 0.7912281394004822\n",
      " \n"
     ]
    },
    {
     "name": "stderr",
     "output_type": "stream",
     "text": [
      "Epoch 25/40 Training: 100%|██████████| 86/86 [00:13<00:00,  6.53it/s, loss=0.0947, acc=0.968, f1_score=0.909]\n",
      "Epoch 25/40 Validation: 100%|██████████| 5/5 [00:00<00:00, 15.80it/s, val_loss=0.216]\n"
     ]
    },
    {
     "name": "stdout",
     "output_type": "stream",
     "text": [
      "\t- loss = 0.0946946871835132\n",
      "  \t- val_loss = 0.2158433198928833\n",
      "  \t- acc = 0.9679714566053346\n",
      "  \t- val_acc = 0.9253399968147278\n",
      "  \t- f1_score = 0.9089427985424219\n",
      "  \t- val_f1_score = 0.7867190718650818\n",
      " \n"
     ]
    },
    {
     "name": "stderr",
     "output_type": "stream",
     "text": [
      "Epoch 26/40 Training: 100%|██████████| 86/86 [00:13<00:00,  6.54it/s, loss=0.0926, acc=0.969, f1_score=0.911]\n",
      "Epoch 26/40 Validation: 100%|██████████| 5/5 [00:00<00:00, 16.71it/s, val_loss=0.209]\n"
     ]
    },
    {
     "name": "stdout",
     "output_type": "stream",
     "text": [
      "\t- loss = 0.09257713168166405\n",
      "  \t- val_loss = 0.20882058143615723\n",
      "  \t- acc = 0.968611879404201\n",
      "  \t- val_acc = 0.9256740927696228\n",
      "  \t- f1_score = 0.9109238704969717\n",
      "  \t- val_f1_score = 0.7934085249900817\n",
      " \n"
     ]
    },
    {
     "name": "stderr",
     "output_type": "stream",
     "text": [
      "Epoch 27/40 Training: 100%|██████████| 86/86 [00:13<00:00,  6.44it/s, loss=0.0921, acc=0.969, f1_score=0.911]\n",
      "Epoch 27/40 Validation: 100%|██████████| 5/5 [00:00<00:00, 17.24it/s, val_loss=0.207]\n"
     ]
    },
    {
     "name": "stdout",
     "output_type": "stream",
     "text": [
      "\t- loss = 0.0920731945093288\n",
      "  \t- val_loss = 0.20730834007263182\n",
      "  \t- acc = 0.9693035005136977\n",
      "  \t- val_acc = 0.9271565794944763\n",
      "  \t- f1_score = 0.9111644736556119\n",
      "  \t- val_f1_score = 0.7946266055107116\n",
      " \n"
     ]
    },
    {
     "name": "stderr",
     "output_type": "stream",
     "text": [
      "Epoch 28/40 Training: 100%|██████████| 86/86 [00:13<00:00,  6.61it/s, loss=0.088, acc=0.97, f1_score=0.915]  \n",
      "Epoch 28/40 Validation: 100%|██████████| 5/5 [00:00<00:00, 17.16it/s, val_loss=0.211]\n"
     ]
    },
    {
     "name": "stdout",
     "output_type": "stream",
     "text": [
      "\t- loss = 0.08797866660495136\n",
      "  \t- val_loss = 0.21123998165130614\n",
      "  \t- acc = 0.9701403608155805\n",
      "  \t- val_acc = 0.9279785275459289\n",
      "  \t- f1_score = 0.9151831934618395\n",
      "  \t- val_f1_score = 0.7901214241981507\n",
      " \n"
     ]
    },
    {
     "name": "stderr",
     "output_type": "stream",
     "text": [
      "Epoch 29/40 Training: 100%|██████████| 86/86 [00:12<00:00,  6.64it/s, loss=0.0859, acc=0.971, f1_score=0.917]\n",
      "Epoch 29/40 Validation: 100%|██████████| 5/5 [00:00<00:00, 17.41it/s, val_loss=0.206]\n"
     ]
    },
    {
     "name": "stdout",
     "output_type": "stream",
     "text": [
      "\t- loss = 0.08589525070301322\n",
      "  \t- val_loss = 0.20575640201568604\n",
      "  \t- acc = 0.9709594429925431\n",
      "  \t- val_acc = 0.9273885250091553\n",
      "  \t- f1_score = 0.9170093688853952\n",
      "  \t- val_f1_score = 0.7963523745536805\n",
      " \n"
     ]
    },
    {
     "name": "stderr",
     "output_type": "stream",
     "text": [
      "Epoch 30/40 Training: 100%|██████████| 86/86 [00:13<00:00,  6.38it/s, loss=0.0854, acc=0.971, f1_score=0.917]\n",
      "Epoch 30/40 Validation: 100%|██████████| 5/5 [00:00<00:00, 17.52it/s, val_loss=0.208]\n"
     ]
    },
    {
     "name": "stdout",
     "output_type": "stream",
     "text": [
      "\t- loss = 0.08540662083514901\n",
      "  \t- val_loss = 0.20767496824264525\n",
      "  \t- acc = 0.9712069748445998\n",
      "  \t- val_acc = 0.9265123128890991\n",
      "  \t- f1_score = 0.9173111097757206\n",
      "  \t- val_f1_score = 0.7944332718849182\n",
      " \n"
     ]
    },
    {
     "name": "stderr",
     "output_type": "stream",
     "text": [
      "Epoch 31/40 Training: 100%|██████████| 86/86 [00:12<00:00,  6.62it/s, loss=0.0827, acc=0.972, f1_score=0.92] \n",
      "Epoch 31/40 Validation: 100%|██████████| 5/5 [00:00<00:00, 15.61it/s, val_loss=0.21] \n"
     ]
    },
    {
     "name": "stdout",
     "output_type": "stream",
     "text": [
      "\t- loss = 0.08265508191530095\n",
      "  \t- val_loss = 0.20968095064163209\n",
      "  \t- acc = 0.9720716649709746\n",
      "  \t- val_acc = 0.9264892578125\n",
      "  \t- f1_score = 0.9199723053810208\n",
      "  \t- val_f1_score = 0.7922132134437561\n",
      " \n"
     ]
    },
    {
     "name": "stderr",
     "output_type": "stream",
     "text": [
      "Epoch 32/40 Training: 100%|██████████| 86/86 [00:13<00:00,  6.53it/s, loss=0.0803, acc=0.973, f1_score=0.922]\n",
      "Epoch 32/40 Validation: 100%|██████████| 5/5 [00:00<00:00, 17.06it/s, val_loss=0.205]\n"
     ]
    },
    {
     "name": "stdout",
     "output_type": "stream",
     "text": [
      "\t- loss = 0.08034288675286048\n",
      "  \t- val_loss = 0.20513172149658204\n",
      "  \t- acc = 0.9726477646550467\n",
      "  \t- val_acc = 0.9277954339981079\n",
      "  \t- f1_score = 0.9221110343933105\n",
      "  \t- val_f1_score = 0.7964548826217651\n",
      " \n"
     ]
    },
    {
     "name": "stderr",
     "output_type": "stream",
     "text": [
      "Epoch 33/40 Training: 100%|██████████| 86/86 [00:13<00:00,  6.50it/s, loss=0.079, acc=0.973, f1_score=0.923] \n",
      "Epoch 33/40 Validation: 100%|██████████| 5/5 [00:00<00:00, 16.39it/s, val_loss=0.203]\n"
     ]
    },
    {
     "name": "stdout",
     "output_type": "stream",
     "text": [
      "\t- loss = 0.07896656144497007\n",
      "  \t- val_loss = 0.20332810878753663\n",
      "  \t- acc = 0.9730392659819403\n",
      "  \t- val_acc = 0.929188358783722\n",
      "  \t- f1_score = 0.9232291918854381\n",
      "  \t- val_f1_score = 0.7983624935150146\n",
      " \n"
     ]
    },
    {
     "name": "stderr",
     "output_type": "stream",
     "text": [
      "Epoch 34/40 Training: 100%|██████████| 86/86 [00:13<00:00,  6.60it/s, loss=0.0782, acc=0.974, f1_score=0.924]\n",
      "Epoch 34/40 Validation: 100%|██████████| 5/5 [00:00<00:00, 17.75it/s, val_loss=0.215]\n"
     ]
    },
    {
     "name": "stdout",
     "output_type": "stream",
     "text": [
      "\t- loss = 0.07821599688640861\n",
      "  \t- val_loss = 0.21488264799118043\n",
      "  \t- acc = 0.9735208174516988\n",
      "  \t- val_acc = 0.9264078855514526\n",
      "  \t- f1_score = 0.9240217181139214\n",
      "  \t- val_f1_score = 0.7865850448608398\n",
      " \n"
     ]
    },
    {
     "name": "stderr",
     "output_type": "stream",
     "text": [
      "Epoch 35/40 Training: 100%|██████████| 86/86 [00:13<00:00,  6.47it/s, loss=0.0751, acc=0.974, f1_score=0.927]\n",
      "Epoch 35/40 Validation: 100%|██████████| 5/5 [00:00<00:00, 16.70it/s, val_loss=0.197]\n"
     ]
    },
    {
     "name": "stdout",
     "output_type": "stream",
     "text": [
      "\t- loss = 0.07511817993119706\n",
      "  \t- val_loss = 0.19688187837600707\n",
      "  \t- acc = 0.9743538845417111\n",
      "  \t- val_acc = 0.9290134072303772\n",
      "  \t- f1_score = 0.9269482895385387\n",
      "  \t- val_f1_score = 0.8049235224723816\n",
      " \n"
     ]
    },
    {
     "name": "stderr",
     "output_type": "stream",
     "text": [
      "Epoch 36/40 Training: 100%|██████████| 86/86 [00:12<00:00,  6.73it/s, loss=0.0737, acc=0.975, f1_score=0.928]\n",
      "Epoch 36/40 Validation: 100%|██████████| 5/5 [00:00<00:00, 15.95it/s, val_loss=0.215]\n"
     ]
    },
    {
     "name": "stdout",
     "output_type": "stream",
     "text": [
      "\t- loss = 0.07373370888621308\n",
      "  \t- val_loss = 0.21482324600219727\n",
      "  \t- acc = 0.9747911213442336\n",
      "  \t- val_acc = 0.9283072113990783\n",
      "  \t- f1_score = 0.9282533339289731\n",
      "  \t- val_f1_score = 0.7862091302871704\n",
      " \n"
     ]
    },
    {
     "name": "stderr",
     "output_type": "stream",
     "text": [
      "Epoch 37/40 Training: 100%|██████████| 86/86 [00:13<00:00,  6.59it/s, loss=0.0726, acc=0.975, f1_score=0.929]\n",
      "Epoch 37/40 Validation: 100%|██████████| 5/5 [00:00<00:00, 17.27it/s, val_loss=0.211]\n"
     ]
    },
    {
     "name": "stdout",
     "output_type": "stream",
     "text": [
      "\t- loss = 0.0725772131321042\n",
      "  \t- val_loss = 0.21111812591552734\n",
      "  \t- acc = 0.9751807222532671\n",
      "  \t- val_acc = 0.9281697630882263\n",
      "  \t- f1_score = 0.9293266423912936\n",
      "  \t- val_f1_score = 0.7896837711334228\n",
      " \n"
     ]
    },
    {
     "name": "stderr",
     "output_type": "stream",
     "text": [
      "Epoch 38/40 Training: 100%|██████████| 86/86 [00:13<00:00,  6.45it/s, loss=0.0731, acc=0.975, f1_score=0.929]\n",
      "Epoch 38/40 Validation: 100%|██████████| 5/5 [00:00<00:00, 17.13it/s, val_loss=0.199]\n"
     ]
    },
    {
     "name": "stdout",
     "output_type": "stream",
     "text": [
      "\t- loss = 0.07314331725586293\n",
      "  \t- val_loss = 0.19912219047546387\n",
      "  \t- acc = 0.9753286360308181\n",
      "  \t- val_acc = 0.9304583668708801\n",
      "  \t- f1_score = 0.9287995321806087\n",
      "  \t- val_f1_score = 0.8022729277610778\n",
      " \n"
     ]
    },
    {
     "name": "stderr",
     "output_type": "stream",
     "text": [
      "Epoch 39/40 Training: 100%|██████████| 86/86 [00:12<00:00,  6.70it/s, loss=0.0688, acc=0.976, f1_score=0.933]\n",
      "Epoch 39/40 Validation: 100%|██████████| 5/5 [00:00<00:00, 17.36it/s, val_loss=0.194]\n"
     ]
    },
    {
     "name": "stdout",
     "output_type": "stream",
     "text": [
      "\t- loss = 0.0687742649122726\n",
      "  \t- val_loss = 0.19429396390914916\n",
      "  \t- acc = 0.9764038733271665\n",
      "  \t- val_acc = 0.9302110552787781\n",
      "  \t- f1_score = 0.932926744222641\n",
      "  \t- val_f1_score = 0.8072084188461304\n",
      " \n"
     ]
    },
    {
     "name": "stderr",
     "output_type": "stream",
     "text": [
      "Epoch 40/40 Training: 100%|██████████| 86/86 [00:12<00:00,  6.70it/s, loss=0.069, acc=0.976, f1_score=0.933] \n",
      "Epoch 40/40 Validation: 100%|██████████| 5/5 [00:00<00:00, 15.28it/s, val_loss=0.203]\n"
     ]
    },
    {
     "name": "stdout",
     "output_type": "stream",
     "text": [
      "\t- loss = 0.06898277720739675\n",
      "  \t- val_loss = 0.20325053930282594\n",
      "  \t- acc = 0.976489434408587\n",
      "  \t- val_acc = 0.928682017326355\n",
      "  \t- f1_score = 0.9327499908070231\n",
      "  \t- val_f1_score = 0.7980822801589966\n",
      " \n"
     ]
    }
   ],
   "source": [
    "train_images, val_images, train_masks, val_masks = train_test_split(\n",
    "        images_org, masks_org, test_size=0.1, random_state=42, shuffle=True\n",
    "    )\n",
    "\n",
    "images_aug, masks_aug = augment.augment_data(train_images, train_masks, 1)\n",
    "\n",
    "images_aug = np.stack([img/255.0 for img in images_aug]).astype(np.float32)\n",
    "masks_aug = np.stack([mask/255.0 for mask in masks_aug]).astype(np.float32)\n",
    "\n",
    "val_images = np.stack([img/255.0 for img in val_images]).astype(np.float32)\n",
    "val_masks = np.stack([mask/255.0 for mask in val_masks]).astype(np.float32)\n",
    "\n",
    "# reshape the image to simplify the handling of skip connections and maxpooling\n",
    "train_dataset = ImageDataset(images_aug, masks_aug, device, use_patches=False, resize_to=(384, 384))\n",
    "val_dataset = ImageDataset(val_images, val_masks, device, use_patches=False, resize_to=(384, 384))\n",
    "\n",
    "    \n",
    "train_dataloader = torch.utils.data.DataLoader(train_dataset, batch_size=3, shuffle=True)\n",
    "val_dataloader = torch.utils.data.DataLoader(val_dataset, batch_size=3, shuffle=True)\n",
    "    \n",
    "model = smp.Unet(\n",
    "    encoder_name=\"resnext50_32x4d\",        # choose encoder, e.g. mobilenet_v2 or efficientnet-b7\n",
    "    encoder_weights=\"imagenet\",     # use `imagenet` pre-trained weights for encoder initialization\n",
    "    in_channels=3,                  # model input channels (1 for gray-scale images, 3 for RGB, etc.)\n",
    "    classes=1,                      # model output channels (number of classes in your dataset)\n",
    ")\n",
    "model = model.to(device)\n",
    "loss_fn = smp.losses.DiceLoss(smp.losses.BINARY_MODE, from_logits=True)\n",
    "metric_fns = {'acc': trainer.accuracy_fn,\n",
    "'f1_score': trainer.f1_score_fn}\n",
    "optimizer = torch.optim.Adam(model.parameters(), lr=1e-4)\n",
    "#scheduler = ReduceLROnPlateau(optimizer)\n",
    "train(model, optimizer, train_dataloader, val_dataloader, loss_fn, 40, None, 0, metric_fns)\n",
    "model_backs.append(model)"
   ]
  },
  {
   "cell_type": "code",
   "execution_count": 16,
   "metadata": {
    "scrolled": true
   },
   "outputs": [
    {
     "data": {
      "text/html": [
       "Finishing last run (ID:170zycon) before initializing another..."
      ],
      "text/plain": [
       "<IPython.core.display.HTML object>"
      ]
     },
     "metadata": {},
     "output_type": "display_data"
    },
    {
     "data": {
      "application/vnd.jupyter.widget-view+json": {
       "model_id": "",
       "version_major": 2,
       "version_minor": 0
      },
      "text/plain": [
       "VBox(children=(Label(value='0.003 MB of 0.003 MB uploaded\\r'), FloatProgress(value=1.0, max=1.0)))"
      ]
     },
     "metadata": {},
     "output_type": "display_data"
    },
    {
     "data": {
      "text/html": [
       "<style>\n",
       "    table.wandb td:nth-child(1) { padding: 0 10px; text-align: left ; width: auto;} td:nth-child(2) {text-align: left ; width: 100%}\n",
       "    .wandb-row { display: flex; flex-direction: row; flex-wrap: wrap; justify-content: flex-start; width: 100% }\n",
       "    .wandb-col { display: flex; flex-direction: column; flex-basis: 100%; flex: 1; padding: 10px; }\n",
       "    </style>\n",
       "<div class=\"wandb-row\"><div class=\"wandb-col\"><h3>Run history:</h3><br/><table class=\"wandb\"><tr><td>acc</td><td>▁▅▆▇▇▇▇▇▇███████████████████████████████</td></tr><tr><td>f1_score</td><td>▁▃▄▅▅▆▆▆▆▇▇▇▇▇▇▇▇▇▇▇▇███████████████████</td></tr><tr><td>loss</td><td>█▆▅▅▄▄▃▃▃▂▂▂▂▂▂▂▂▂▂▂▁▁▁▁▁▁▁▁▁▁▁▁▁▁▁▁▁▁▁▁</td></tr><tr><td>val_acc</td><td>▁▃▆▆▆▇▇▇▇███████████████████████████████</td></tr><tr><td>val_f1_score</td><td>▁▃▅▅▆▆▇▇▇▇▇▇▇▇▇▇█▇██▇▇█▇▇██▇█████▇█▇▇███</td></tr><tr><td>val_loss</td><td>█▆▅▄▃▃▂▂▂▂▂▂▂▂▂▂▁▁▁▁▁▁▁▁▁▁▁▁▁▁▁▁▁▁▁▁▁▁▁▁</td></tr></table><br/></div><div class=\"wandb-col\"><h3>Run summary:</h3><br/><table class=\"wandb\"><tr><td>acc</td><td>0.97649</td></tr><tr><td>f1_score</td><td>0.93275</td></tr><tr><td>loss</td><td>0.06898</td></tr><tr><td>val_acc</td><td>0.92868</td></tr><tr><td>val_f1_score</td><td>0.79808</td></tr><tr><td>val_loss</td><td>0.20325</td></tr></table><br/></div></div>"
      ],
      "text/plain": [
       "<IPython.core.display.HTML object>"
      ]
     },
     "metadata": {},
     "output_type": "display_data"
    },
    {
     "data": {
      "text/html": [
       " View run <strong style=\"color:#cdcd00\">breezy-gorge-97</strong> at: <a href='https://wandb.ai/besteguney/CIL/runs/170zycon' target=\"_blank\">https://wandb.ai/besteguney/CIL/runs/170zycon</a><br/> View project at: <a href='https://wandb.ai/besteguney/CIL' target=\"_blank\">https://wandb.ai/besteguney/CIL</a><br/>Synced 5 W&B file(s), 0 media file(s), 0 artifact file(s) and 0 other file(s)"
      ],
      "text/plain": [
       "<IPython.core.display.HTML object>"
      ]
     },
     "metadata": {},
     "output_type": "display_data"
    },
    {
     "data": {
      "text/html": [
       "Find logs at: <code>./wandb/run-20240721_152939-170zycon/logs</code>"
      ],
      "text/plain": [
       "<IPython.core.display.HTML object>"
      ]
     },
     "metadata": {},
     "output_type": "display_data"
    },
    {
     "data": {
      "text/html": [
       "The new W&B backend becomes opt-out in version 0.18.0; try it out with `wandb.require(\"core\")`! See https://wandb.me/wandb-core for more information."
      ],
      "text/plain": [
       "<IPython.core.display.HTML object>"
      ]
     },
     "metadata": {},
     "output_type": "display_data"
    },
    {
     "data": {
      "text/html": [
       "Successfully finished last run (ID:170zycon). Initializing new run:<br/>"
      ],
      "text/plain": [
       "<IPython.core.display.HTML object>"
      ]
     },
     "metadata": {},
     "output_type": "display_data"
    },
    {
     "data": {
      "application/vnd.jupyter.widget-view+json": {
       "model_id": "5003f0c0ab7c4ab5a579ccb0e97408bb",
       "version_major": 2,
       "version_minor": 0
      },
      "text/plain": [
       "VBox(children=(Label(value='Waiting for wandb.init()...\\r'), FloatProgress(value=0.011112968923730983, max=1.0…"
      ]
     },
     "metadata": {},
     "output_type": "display_data"
    },
    {
     "data": {
      "text/html": [
       "wandb version 0.17.5 is available!  To upgrade, please run:\n",
       " $ pip install wandb --upgrade"
      ],
      "text/plain": [
       "<IPython.core.display.HTML object>"
      ]
     },
     "metadata": {},
     "output_type": "display_data"
    },
    {
     "data": {
      "text/html": [
       "Tracking run with wandb version 0.17.4"
      ],
      "text/plain": [
       "<IPython.core.display.HTML object>"
      ]
     },
     "metadata": {},
     "output_type": "display_data"
    },
    {
     "data": {
      "text/html": [
       "Run data is saved locally in <code>/home/bgueney/CIL-2024/wandb/run-20240721_153929-sexzej2g</code>"
      ],
      "text/plain": [
       "<IPython.core.display.HTML object>"
      ]
     },
     "metadata": {},
     "output_type": "display_data"
    },
    {
     "data": {
      "text/html": [
       "Syncing run <strong><a href='https://wandb.ai/besteguney/CIL/runs/sexzej2g' target=\"_blank\">cerulean-deluge-98</a></strong> to <a href='https://wandb.ai/besteguney/CIL' target=\"_blank\">Weights & Biases</a> (<a href='https://wandb.me/run' target=\"_blank\">docs</a>)<br/>"
      ],
      "text/plain": [
       "<IPython.core.display.HTML object>"
      ]
     },
     "metadata": {},
     "output_type": "display_data"
    },
    {
     "data": {
      "text/html": [
       " View project at <a href='https://wandb.ai/besteguney/CIL' target=\"_blank\">https://wandb.ai/besteguney/CIL</a>"
      ],
      "text/plain": [
       "<IPython.core.display.HTML object>"
      ]
     },
     "metadata": {},
     "output_type": "display_data"
    },
    {
     "data": {
      "text/html": [
       " View run at <a href='https://wandb.ai/besteguney/CIL/runs/sexzej2g' target=\"_blank\">https://wandb.ai/besteguney/CIL/runs/sexzej2g</a>"
      ],
      "text/plain": [
       "<IPython.core.display.HTML object>"
      ]
     },
     "metadata": {},
     "output_type": "display_data"
    },
    {
     "name": "stderr",
     "output_type": "stream",
     "text": [
      "Epoch 1/15 Training: 100%|██████████| 129/129 [00:28<00:00,  4.49it/s, loss=0.17, acc=0.941, f1_score=0.831] \n",
      "Epoch 1/15 Validation: 100%|██████████| 5/5 [00:00<00:00, 15.69it/s, val_loss=0.194]\n"
     ]
    },
    {
     "name": "stdout",
     "output_type": "stream",
     "text": [
      "\t- loss = 0.16988279791765434\n",
      "  \t- val_loss = 0.19444148540496825\n",
      "  \t- acc = 0.9410663450411124\n",
      "  \t- val_acc = 0.9291341304779053\n",
      "  \t- f1_score = 0.8313640642535779\n",
      "  \t- val_f1_score = 0.8070642590522766\n",
      " \n"
     ]
    },
    {
     "name": "stderr",
     "output_type": "stream",
     "text": [
      "Epoch 2/15 Training: 100%|██████████| 129/129 [00:28<00:00,  4.50it/s, loss=0.167, acc=0.943, f1_score=0.834]\n",
      "Epoch 2/15 Validation: 100%|██████████| 5/5 [00:00<00:00, 14.09it/s, val_loss=0.194]\n"
     ]
    },
    {
     "name": "stdout",
     "output_type": "stream",
     "text": [
      "\t- loss = 0.16740213022675626\n",
      "  \t- val_loss = 0.19366695880889892\n",
      "  \t- acc = 0.943245811055797\n",
      "  \t- val_acc = 0.9299131155014038\n",
      "  \t- f1_score = 0.8337680304697318\n",
      "  \t- val_f1_score = 0.8078105330467225\n",
      " \n"
     ]
    },
    {
     "name": "stderr",
     "output_type": "stream",
     "text": [
      "Epoch 3/15 Training: 100%|██████████| 129/129 [00:28<00:00,  4.45it/s, loss=0.159, acc=0.945, f1_score=0.843]\n",
      "Epoch 3/15 Validation: 100%|██████████| 5/5 [00:00<00:00, 14.97it/s, val_loss=0.192]\n"
     ]
    },
    {
     "name": "stdout",
     "output_type": "stream",
     "text": [
      "\t- loss = 0.15863926881967588\n",
      "  \t- val_loss = 0.19205487966537477\n",
      "  \t- acc = 0.9453297844228818\n",
      "  \t- val_acc = 0.9303358316421508\n",
      "  \t- f1_score = 0.8425765356352163\n",
      "  \t- val_f1_score = 0.8093008041381836\n",
      " \n"
     ]
    },
    {
     "name": "stderr",
     "output_type": "stream",
     "text": [
      "Epoch 4/15 Training: 100%|██████████| 129/129 [00:28<00:00,  4.45it/s, loss=0.156, acc=0.946, f1_score=0.845]\n",
      "Epoch 4/15 Validation: 100%|██████████| 5/5 [00:00<00:00, 15.54it/s, val_loss=0.193]\n"
     ]
    },
    {
     "name": "stdout",
     "output_type": "stream",
     "text": [
      "\t- loss = 0.15627239840899326\n",
      "  \t- val_loss = 0.19290345907211304\n",
      "  \t- acc = 0.9463600922924603\n",
      "  \t- val_acc = 0.9302105903625488\n",
      "  \t- f1_score = 0.8449183439099511\n",
      "  \t- val_f1_score = 0.8085960030555726\n",
      " \n"
     ]
    },
    {
     "name": "stderr",
     "output_type": "stream",
     "text": [
      "Epoch 5/15 Training: 100%|██████████| 129/129 [00:29<00:00,  4.43it/s, loss=0.15, acc=0.949, f1_score=0.852] \n",
      "Epoch 5/15 Validation: 100%|██████████| 5/5 [00:00<00:00, 14.62it/s, val_loss=0.196]\n"
     ]
    },
    {
     "name": "stdout",
     "output_type": "stream",
     "text": [
      "\t- loss = 0.14966495415961095\n",
      "  \t- val_loss = 0.19647629261016847\n",
      "  \t- acc = 0.9485844313636307\n",
      "  \t- val_acc = 0.9308937430381775\n",
      "  \t- f1_score = 0.8515807681305464\n",
      "  \t- val_f1_score = 0.8049001693725586\n",
      " \n"
     ]
    },
    {
     "name": "stderr",
     "output_type": "stream",
     "text": [
      "Epoch 6/15 Training: 100%|██████████| 129/129 [00:28<00:00,  4.47it/s, loss=0.145, acc=0.95, f1_score=0.856] \n",
      "Epoch 6/15 Validation: 100%|██████████| 5/5 [00:00<00:00, 15.87it/s, val_loss=0.192]\n"
     ]
    },
    {
     "name": "stdout",
     "output_type": "stream",
     "text": [
      "\t- loss = 0.14524923923403718\n",
      "  \t- val_loss = 0.19197870492935182\n",
      "  \t- acc = 0.9498626659082812\n",
      "  \t- val_acc = 0.929971432685852\n",
      "  \t- f1_score = 0.8559927774030108\n",
      "  \t- val_f1_score = 0.8093623995780945\n",
      " \n"
     ]
    },
    {
     "name": "stderr",
     "output_type": "stream",
     "text": [
      "Epoch 7/15 Training: 100%|██████████| 129/129 [00:29<00:00,  4.44it/s, loss=0.142, acc=0.951, f1_score=0.86] \n",
      "Epoch 7/15 Validation: 100%|██████████| 5/5 [00:00<00:00, 16.00it/s, val_loss=0.2]  \n"
     ]
    },
    {
     "name": "stdout",
     "output_type": "stream",
     "text": [
      "\t- loss = 0.1415652641954348\n",
      "  \t- val_loss = 0.19957199096679687\n",
      "  \t- acc = 0.9511592651522437\n",
      "  \t- val_acc = 0.9307092785835266\n",
      "  \t- f1_score = 0.8596116359843764\n",
      "  \t- val_f1_score = 0.8016609072685241\n",
      " \n"
     ]
    },
    {
     "name": "stderr",
     "output_type": "stream",
     "text": [
      "Epoch 8/15 Training: 100%|██████████| 129/129 [00:29<00:00,  4.44it/s, loss=0.14, acc=0.952, f1_score=0.862] \n",
      "Epoch 8/15 Validation: 100%|██████████| 5/5 [00:00<00:00, 15.48it/s, val_loss=0.193]\n"
     ]
    },
    {
     "name": "stdout",
     "output_type": "stream",
     "text": [
      "\t- loss = 0.1396160541578781\n",
      "  \t- val_loss = 0.19258748292922973\n",
      "  \t- acc = 0.9520325619120931\n",
      "  \t- val_acc = 0.9316320419311523\n",
      "  \t- f1_score = 0.8615605784941089\n",
      "  \t- val_f1_score = 0.8084305882453918\n",
      " \n"
     ]
    },
    {
     "name": "stderr",
     "output_type": "stream",
     "text": [
      "Epoch 9/15 Training: 100%|██████████| 129/129 [00:28<00:00,  4.46it/s, loss=0.135, acc=0.953, f1_score=0.866]\n",
      "Epoch 9/15 Validation: 100%|██████████| 5/5 [00:00<00:00, 15.57it/s, val_loss=0.196]\n"
     ]
    },
    {
     "name": "stdout",
     "output_type": "stream",
     "text": [
      "\t- loss = 0.13488600882448892\n",
      "  \t- val_loss = 0.1957832932472229\n",
      "  \t- acc = 0.9530656037404556\n",
      "  \t- val_acc = 0.931507694721222\n",
      "  \t- f1_score = 0.8663155117700266\n",
      "  \t- val_f1_score = 0.8053346037864685\n",
      " \n"
     ]
    },
    {
     "name": "stderr",
     "output_type": "stream",
     "text": [
      "Epoch 10/15 Training: 100%|██████████| 129/129 [00:29<00:00,  4.37it/s, loss=0.133, acc=0.954, f1_score=0.868]\n",
      "Epoch 10/15 Validation: 100%|██████████| 5/5 [00:00<00:00, 15.68it/s, val_loss=0.192]\n"
     ]
    },
    {
     "name": "stdout",
     "output_type": "stream",
     "text": [
      "\t- loss = 0.1334614582764086\n",
      "  \t- val_loss = 0.192312490940094\n",
      "  \t- acc = 0.9538226626640143\n",
      "  \t- val_acc = 0.9312993049621582\n",
      "  \t- f1_score = 0.8677420870278233\n",
      "  \t- val_f1_score = 0.808889651298523\n",
      " \n"
     ]
    },
    {
     "name": "stderr",
     "output_type": "stream",
     "text": [
      "Epoch 11/15 Training: 100%|██████████| 129/129 [00:29<00:00,  4.38it/s, loss=0.132, acc=0.954, f1_score=0.869]\n",
      "Epoch 11/15 Validation: 100%|██████████| 5/5 [00:00<00:00, 14.72it/s, val_loss=0.192]\n"
     ]
    },
    {
     "name": "stdout",
     "output_type": "stream",
     "text": [
      "\t- loss = 0.13186985023261966\n",
      "  \t- val_loss = 0.1917772889137268\n",
      "  \t- acc = 0.9544966918553492\n",
      "  \t- val_acc = 0.9314557075500488\n",
      "  \t- f1_score = 0.8692472553992456\n",
      "  \t- val_f1_score = 0.8094753384590149\n",
      " \n"
     ]
    },
    {
     "name": "stderr",
     "output_type": "stream",
     "text": [
      "Epoch 12/15 Training: 100%|██████████| 129/129 [00:29<00:00,  4.36it/s, loss=0.128, acc=0.956, f1_score=0.873]\n",
      "Epoch 12/15 Validation: 100%|██████████| 5/5 [00:00<00:00, 13.65it/s, val_loss=0.192]\n"
     ]
    },
    {
     "name": "stdout",
     "output_type": "stream",
     "text": [
      "\t- loss = 0.12829448825629183\n",
      "  \t- val_loss = 0.19160544872283936\n",
      "  \t- acc = 0.956024240615756\n",
      "  \t- val_acc = 0.9310461044311523\n",
      "  \t- f1_score = 0.8728932641273321\n",
      "  \t- val_f1_score = 0.8095669507980346\n",
      " \n"
     ]
    },
    {
     "name": "stderr",
     "output_type": "stream",
     "text": [
      "Epoch 13/15 Training: 100%|██████████| 129/129 [00:29<00:00,  4.34it/s, loss=0.126, acc=0.956, f1_score=0.875]\n",
      "Epoch 13/15 Validation: 100%|██████████| 5/5 [00:00<00:00, 15.35it/s, val_loss=0.194]\n"
     ]
    },
    {
     "name": "stdout",
     "output_type": "stream",
     "text": [
      "\t- loss = 0.12635480987933256\n",
      "  \t- val_loss = 0.19429898262023926\n",
      "  \t- acc = 0.9563399617986161\n",
      "  \t- val_acc = 0.9313806533813477\n",
      "  \t- f1_score = 0.8748454178950583\n",
      "  \t- val_f1_score = 0.8067174315452575\n",
      " \n"
     ]
    },
    {
     "name": "stderr",
     "output_type": "stream",
     "text": [
      "Epoch 14/15 Training: 100%|██████████| 129/129 [00:29<00:00,  4.40it/s, loss=0.124, acc=0.958, f1_score=0.877]\n",
      "Epoch 14/15 Validation: 100%|██████████| 5/5 [00:00<00:00, 15.91it/s, val_loss=0.192]\n"
     ]
    },
    {
     "name": "stdout",
     "output_type": "stream",
     "text": [
      "\t- loss = 0.12420518499936244\n",
      "  \t- val_loss = 0.19193248748779296\n",
      "  \t- acc = 0.9576719227687333\n",
      "  \t- val_acc = 0.931222426891327\n",
      "  \t- f1_score = 0.8769450737524402\n",
      "  \t- val_f1_score = 0.8090379357337951\n",
      " \n"
     ]
    },
    {
     "name": "stderr",
     "output_type": "stream",
     "text": [
      "Epoch 15/15 Training: 100%|██████████| 129/129 [00:29<00:00,  4.42it/s, loss=0.123, acc=0.958, f1_score=0.878]\n",
      "Epoch 15/15 Validation: 100%|██████████| 5/5 [00:00<00:00, 15.43it/s, val_loss=0.194]\n"
     ]
    },
    {
     "name": "stdout",
     "output_type": "stream",
     "text": [
      "\t- loss = 0.12305983323459477\n",
      "  \t- val_loss = 0.1944963216781616\n",
      "  \t- acc = 0.9575247940166977\n",
      "  \t- val_acc = 0.9313815712928772\n",
      "  \t- f1_score = 0.878090409345405\n",
      "  \t- val_f1_score = 0.8065284848213196\n",
      " \n"
     ]
    },
    {
     "data": {
      "text/html": [
       "Finishing last run (ID:sexzej2g) before initializing another..."
      ],
      "text/plain": [
       "<IPython.core.display.HTML object>"
      ]
     },
     "metadata": {},
     "output_type": "display_data"
    },
    {
     "data": {
      "application/vnd.jupyter.widget-view+json": {
       "model_id": "",
       "version_major": 2,
       "version_minor": 0
      },
      "text/plain": [
       "VBox(children=(Label(value='0.003 MB of 0.003 MB uploaded\\r'), FloatProgress(value=1.0, max=1.0)))"
      ]
     },
     "metadata": {},
     "output_type": "display_data"
    },
    {
     "data": {
      "text/html": [
       "<style>\n",
       "    table.wandb td:nth-child(1) { padding: 0 10px; text-align: left ; width: auto;} td:nth-child(2) {text-align: left ; width: 100%}\n",
       "    .wandb-row { display: flex; flex-direction: row; flex-wrap: wrap; justify-content: flex-start; width: 100% }\n",
       "    .wandb-col { display: flex; flex-direction: column; flex-basis: 100%; flex: 1; padding: 10px; }\n",
       "    </style>\n",
       "<div class=\"wandb-row\"><div class=\"wandb-col\"><h3>Run history:</h3><br/><table class=\"wandb\"><tr><td>acc</td><td>▁▂▃▃▄▅▅▆▆▆▇▇▇██</td></tr><tr><td>f1_score</td><td>▁▁▃▃▄▅▅▆▆▆▇▇███</td></tr><tr><td>loss</td><td>██▆▆▅▄▄▃▃▃▂▂▁▁▁</td></tr><tr><td>val_acc</td><td>▁▃▄▄▆▃▅██▇█▆▇▇▇</td></tr><tr><td>val_f1_score</td><td>▆▆█▇▄█▁▇▄▇██▅█▅</td></tr><tr><td>val_loss</td><td>▃▃▁▂▅▁█▂▅▂▁▁▃▁▄</td></tr></table><br/></div><div class=\"wandb-col\"><h3>Run summary:</h3><br/><table class=\"wandb\"><tr><td>acc</td><td>0.95752</td></tr><tr><td>f1_score</td><td>0.87809</td></tr><tr><td>loss</td><td>0.12306</td></tr><tr><td>val_acc</td><td>0.93138</td></tr><tr><td>val_f1_score</td><td>0.80653</td></tr><tr><td>val_loss</td><td>0.1945</td></tr></table><br/></div></div>"
      ],
      "text/plain": [
       "<IPython.core.display.HTML object>"
      ]
     },
     "metadata": {},
     "output_type": "display_data"
    },
    {
     "data": {
      "text/html": [
       " View run <strong style=\"color:#cdcd00\">cerulean-deluge-98</strong> at: <a href='https://wandb.ai/besteguney/CIL/runs/sexzej2g' target=\"_blank\">https://wandb.ai/besteguney/CIL/runs/sexzej2g</a><br/> View project at: <a href='https://wandb.ai/besteguney/CIL' target=\"_blank\">https://wandb.ai/besteguney/CIL</a><br/>Synced 5 W&B file(s), 0 media file(s), 0 artifact file(s) and 0 other file(s)"
      ],
      "text/plain": [
       "<IPython.core.display.HTML object>"
      ]
     },
     "metadata": {},
     "output_type": "display_data"
    },
    {
     "data": {
      "text/html": [
       "Find logs at: <code>./wandb/run-20240721_153929-sexzej2g/logs</code>"
      ],
      "text/plain": [
       "<IPython.core.display.HTML object>"
      ]
     },
     "metadata": {},
     "output_type": "display_data"
    },
    {
     "data": {
      "text/html": [
       "The new W&B backend becomes opt-out in version 0.18.0; try it out with `wandb.require(\"core\")`! See https://wandb.me/wandb-core for more information."
      ],
      "text/plain": [
       "<IPython.core.display.HTML object>"
      ]
     },
     "metadata": {},
     "output_type": "display_data"
    },
    {
     "data": {
      "text/html": [
       "Successfully finished last run (ID:sexzej2g). Initializing new run:<br/>"
      ],
      "text/plain": [
       "<IPython.core.display.HTML object>"
      ]
     },
     "metadata": {},
     "output_type": "display_data"
    },
    {
     "data": {
      "application/vnd.jupyter.widget-view+json": {
       "model_id": "766a216814d747378e833bef2b06b1ac",
       "version_major": 2,
       "version_minor": 0
      },
      "text/plain": [
       "VBox(children=(Label(value='Waiting for wandb.init()...\\r'), FloatProgress(value=0.011112893797043296, max=1.0…"
      ]
     },
     "metadata": {},
     "output_type": "display_data"
    },
    {
     "data": {
      "text/html": [
       "wandb version 0.17.5 is available!  To upgrade, please run:\n",
       " $ pip install wandb --upgrade"
      ],
      "text/plain": [
       "<IPython.core.display.HTML object>"
      ]
     },
     "metadata": {},
     "output_type": "display_data"
    },
    {
     "data": {
      "text/html": [
       "Tracking run with wandb version 0.17.4"
      ],
      "text/plain": [
       "<IPython.core.display.HTML object>"
      ]
     },
     "metadata": {},
     "output_type": "display_data"
    },
    {
     "data": {
      "text/html": [
       "Run data is saved locally in <code>/home/bgueney/CIL-2024/wandb/run-20240721_154702-je76nkw7</code>"
      ],
      "text/plain": [
       "<IPython.core.display.HTML object>"
      ]
     },
     "metadata": {},
     "output_type": "display_data"
    },
    {
     "data": {
      "text/html": [
       "Syncing run <strong><a href='https://wandb.ai/besteguney/CIL/runs/je76nkw7' target=\"_blank\">serene-wind-99</a></strong> to <a href='https://wandb.ai/besteguney/CIL' target=\"_blank\">Weights & Biases</a> (<a href='https://wandb.me/run' target=\"_blank\">docs</a>)<br/>"
      ],
      "text/plain": [
       "<IPython.core.display.HTML object>"
      ]
     },
     "metadata": {},
     "output_type": "display_data"
    },
    {
     "data": {
      "text/html": [
       " View project at <a href='https://wandb.ai/besteguney/CIL' target=\"_blank\">https://wandb.ai/besteguney/CIL</a>"
      ],
      "text/plain": [
       "<IPython.core.display.HTML object>"
      ]
     },
     "metadata": {},
     "output_type": "display_data"
    },
    {
     "data": {
      "text/html": [
       " View run at <a href='https://wandb.ai/besteguney/CIL/runs/je76nkw7' target=\"_blank\">https://wandb.ai/besteguney/CIL/runs/je76nkw7</a>"
      ],
      "text/plain": [
       "<IPython.core.display.HTML object>"
      ]
     },
     "metadata": {},
     "output_type": "display_data"
    },
    {
     "name": "stderr",
     "output_type": "stream",
     "text": [
      "Epoch 1/15 Training: 100%|██████████| 129/129 [00:19<00:00,  6.55it/s, loss=0.171, acc=0.942, f1_score=0.83] \n",
      "Epoch 1/15 Validation: 100%|██████████| 5/5 [00:00<00:00, 17.14it/s, val_loss=0.195]\n"
     ]
    },
    {
     "name": "stdout",
     "output_type": "stream",
     "text": [
      "\t- loss = 0.17098148802454158\n",
      "  \t- val_loss = 0.19478650093078614\n",
      "  \t- acc = 0.9417050545529801\n",
      "  \t- val_acc = 0.9296432137489319\n",
      "  \t- f1_score = 0.8302488322405852\n",
      "  \t- val_f1_score = 0.8068413138389587\n",
      " \n"
     ]
    },
    {
     "name": "stderr",
     "output_type": "stream",
     "text": [
      "Epoch 2/15 Training: 100%|██████████| 129/129 [00:19<00:00,  6.64it/s, loss=0.155, acc=0.947, f1_score=0.846]\n",
      "Epoch 2/15 Validation: 100%|██████████| 5/5 [00:00<00:00, 16.68it/s, val_loss=0.195]\n"
     ]
    },
    {
     "name": "stdout",
     "output_type": "stream",
     "text": [
      "\t- loss = 0.1554325356963993\n",
      "  \t- val_loss = 0.19482557773590087\n",
      "  \t- acc = 0.9472798427870107\n",
      "  \t- val_acc = 0.9294239282608032\n",
      "  \t- f1_score = 0.8458226438640624\n",
      "  \t- val_f1_score = 0.8070352911949158\n",
      " \n"
     ]
    },
    {
     "name": "stderr",
     "output_type": "stream",
     "text": [
      "Epoch 3/15 Training: 100%|██████████| 129/129 [00:19<00:00,  6.64it/s, loss=0.141, acc=0.951, f1_score=0.86] \n",
      "Epoch 3/15 Validation: 100%|██████████| 5/5 [00:00<00:00, 17.40it/s, val_loss=0.193]\n"
     ]
    },
    {
     "name": "stdout",
     "output_type": "stream",
     "text": [
      "\t- loss = 0.14119878341985304\n",
      "  \t- val_loss = 0.19316033124923707\n",
      "  \t- acc = 0.951292446417402\n",
      "  \t- val_acc = 0.9308358669281006\n",
      "  \t- f1_score = 0.8600153710490973\n",
      "  \t- val_f1_score = 0.8084362387657166\n",
      " \n"
     ]
    },
    {
     "name": "stderr",
     "output_type": "stream",
     "text": [
      "Epoch 4/15 Training: 100%|██████████| 129/129 [00:19<00:00,  6.53it/s, loss=0.135, acc=0.954, f1_score=0.866]\n",
      "Epoch 4/15 Validation: 100%|██████████| 5/5 [00:00<00:00, 14.74it/s, val_loss=0.198]\n"
     ]
    },
    {
     "name": "stdout",
     "output_type": "stream",
     "text": [
      "\t- loss = 0.13531399096629415\n",
      "  \t- val_loss = 0.1977112412452698\n",
      "  \t- acc = 0.9538075009057688\n",
      "  \t- val_acc = 0.9302232742309571\n",
      "  \t- f1_score = 0.8659478952718336\n",
      "  \t- val_f1_score = 0.8039034366607666\n",
      " \n"
     ]
    },
    {
     "name": "stderr",
     "output_type": "stream",
     "text": [
      "Epoch 5/15 Training: 100%|██████████| 129/129 [00:19<00:00,  6.54it/s, loss=0.129, acc=0.956, f1_score=0.873]\n",
      "Epoch 5/15 Validation: 100%|██████████| 5/5 [00:00<00:00, 17.33it/s, val_loss=0.194]\n"
     ]
    },
    {
     "name": "stdout",
     "output_type": "stream",
     "text": [
      "\t- loss = 0.12863578768663628\n",
      "  \t- val_loss = 0.19446560144424438\n",
      "  \t- acc = 0.9561179021532221\n",
      "  \t- val_acc = 0.9306966185569763\n",
      "  \t- f1_score = 0.8725425369979799\n",
      "  \t- val_f1_score = 0.8069751381874084\n",
      " \n"
     ]
    },
    {
     "name": "stderr",
     "output_type": "stream",
     "text": [
      "Epoch 6/15 Training: 100%|██████████| 129/129 [00:19<00:00,  6.51it/s, loss=0.12, acc=0.959, f1_score=0.881] \n",
      "Epoch 6/15 Validation: 100%|██████████| 5/5 [00:00<00:00, 16.67it/s, val_loss=0.196]\n"
     ]
    },
    {
     "name": "stdout",
     "output_type": "stream",
     "text": [
      "\t- loss = 0.12003782553266185\n",
      "  \t- val_loss = 0.19561029672622682\n",
      "  \t- acc = 0.9587660556615785\n",
      "  \t- val_acc = 0.9293832421302796\n",
      "  \t- f1_score = 0.8812010597813037\n",
      "  \t- val_f1_score = 0.805881917476654\n",
      " \n"
     ]
    },
    {
     "name": "stderr",
     "output_type": "stream",
     "text": [
      "Epoch 7/15 Training: 100%|██████████| 129/129 [00:19<00:00,  6.58it/s, loss=0.117, acc=0.96, f1_score=0.884] \n",
      "Epoch 7/15 Validation: 100%|██████████| 5/5 [00:00<00:00, 15.32it/s, val_loss=0.192]\n"
     ]
    },
    {
     "name": "stdout",
     "output_type": "stream",
     "text": [
      "\t- loss = 0.11720170392546543\n",
      "  \t- val_loss = 0.19195163249969482\n",
      "  \t- acc = 0.9602820845537408\n",
      "  \t- val_acc = 0.9297914981842041\n",
      "  \t- f1_score = 0.8840229733045711\n",
      "  \t- val_f1_score = 0.810007917881012\n",
      " \n"
     ]
    },
    {
     "name": "stderr",
     "output_type": "stream",
     "text": [
      "Epoch 8/15 Training: 100%|██████████| 129/129 [00:19<00:00,  6.46it/s, loss=0.111, acc=0.962, f1_score=0.89] \n",
      "Epoch 8/15 Validation: 100%|██████████| 5/5 [00:00<00:00, 16.55it/s, val_loss=0.199]\n"
     ]
    },
    {
     "name": "stdout",
     "output_type": "stream",
     "text": [
      "\t- loss = 0.11139248230660609\n",
      "  \t- val_loss = 0.1992597222328186\n",
      "  \t- acc = 0.9619457171868908\n",
      "  \t- val_acc = 0.9282050251960754\n",
      "  \t- f1_score = 0.8898767389992411\n",
      "  \t- val_f1_score = 0.8022672533988953\n",
      " \n"
     ]
    },
    {
     "name": "stderr",
     "output_type": "stream",
     "text": [
      "Epoch 9/15 Training: 100%|██████████| 129/129 [00:19<00:00,  6.53it/s, loss=0.107, acc=0.963, f1_score=0.894]\n",
      "Epoch 9/15 Validation: 100%|██████████| 5/5 [00:00<00:00, 15.89it/s, val_loss=0.193]\n"
     ]
    },
    {
     "name": "stdout",
     "output_type": "stream",
     "text": [
      "\t- loss = 0.10700193255446679\n",
      "  \t- val_loss = 0.1926785707473755\n",
      "  \t- acc = 0.9633727956187818\n",
      "  \t- val_acc = 0.9307761907577514\n",
      "  \t- f1_score = 0.8941887145818666\n",
      "  \t- val_f1_score = 0.8087724924087525\n",
      " \n"
     ]
    },
    {
     "name": "stderr",
     "output_type": "stream",
     "text": [
      "Epoch 10/15 Training: 100%|██████████| 129/129 [00:19<00:00,  6.57it/s, loss=0.103, acc=0.965, f1_score=0.898]\n",
      "Epoch 10/15 Validation: 100%|██████████| 5/5 [00:00<00:00, 16.96it/s, val_loss=0.193]\n"
     ]
    },
    {
     "name": "stdout",
     "output_type": "stream",
     "text": [
      "\t- loss = 0.10300449206847553\n",
      "  \t- val_loss = 0.19344011545181275\n",
      "  \t- acc = 0.9647536661273749\n",
      "  \t- val_acc = 0.9303959608078003\n",
      "  \t- f1_score = 0.8982220809589061\n",
      "  \t- val_f1_score = 0.8080408096313476\n",
      " \n"
     ]
    },
    {
     "name": "stderr",
     "output_type": "stream",
     "text": [
      "Epoch 11/15 Training: 100%|██████████| 129/129 [00:19<00:00,  6.61it/s, loss=0.0985, acc=0.966, f1_score=0.903]\n",
      "Epoch 11/15 Validation: 100%|██████████| 5/5 [00:00<00:00, 17.23it/s, val_loss=0.198]\n"
     ]
    },
    {
     "name": "stdout",
     "output_type": "stream",
     "text": [
      "\t- loss = 0.09851404724195022\n",
      "  \t- val_loss = 0.198138964176178\n",
      "  \t- acc = 0.9661863709605018\n",
      "  \t- val_acc = 0.9304669618606567\n",
      "  \t- f1_score = 0.9027095686557681\n",
      "  \t- val_f1_score = 0.8033964991569519\n",
      " \n"
     ]
    },
    {
     "name": "stderr",
     "output_type": "stream",
     "text": [
      "Epoch 12/15 Training: 100%|██████████| 129/129 [00:19<00:00,  6.47it/s, loss=0.0945, acc=0.967, f1_score=0.907]\n",
      "Epoch 12/15 Validation: 100%|██████████| 5/5 [00:00<00:00, 17.44it/s, val_loss=0.199]\n"
     ]
    },
    {
     "name": "stdout",
     "output_type": "stream",
     "text": [
      "\t- loss = 0.09450824547183606\n",
      "  \t- val_loss = 0.19889665842056276\n",
      "  \t- acc = 0.9674245137576909\n",
      "  \t- val_acc = 0.9305465340614318\n",
      "  \t- f1_score = 0.9066826627236004\n",
      "  \t- val_f1_score = 0.8026326179504395\n",
      " \n"
     ]
    },
    {
     "name": "stderr",
     "output_type": "stream",
     "text": [
      "Epoch 13/15 Training: 100%|██████████| 129/129 [00:19<00:00,  6.64it/s, loss=0.092, acc=0.968, f1_score=0.909] \n",
      "Epoch 13/15 Validation: 100%|██████████| 5/5 [00:00<00:00, 17.19it/s, val_loss=0.201]\n"
     ]
    },
    {
     "name": "stdout",
     "output_type": "stream",
     "text": [
      "\t- loss = 0.09201058445050735\n",
      "  \t- val_loss = 0.20067498683929444\n",
      "  \t- acc = 0.9684674892314645\n",
      "  \t- val_acc = 0.9303828477859497\n",
      "  \t- f1_score = 0.909173588882121\n",
      "  \t- val_f1_score = 0.8008015751838684\n",
      " \n"
     ]
    },
    {
     "name": "stderr",
     "output_type": "stream",
     "text": [
      "Epoch 14/15 Training: 100%|██████████| 129/129 [00:19<00:00,  6.55it/s, loss=0.0894, acc=0.97, f1_score=0.912] \n",
      "Epoch 14/15 Validation: 100%|██████████| 5/5 [00:00<00:00, 16.96it/s, val_loss=0.196]\n"
     ]
    },
    {
     "name": "stdout",
     "output_type": "stream",
     "text": [
      "\t- loss = 0.08942192608071853\n",
      "  \t- val_loss = 0.19596179723739623\n",
      "  \t- acc = 0.9695234668347262\n",
      "  \t- val_acc = 0.9306577563285827\n",
      "  \t- f1_score = 0.9117350467415744\n",
      "  \t- val_f1_score = 0.8056256413459778\n",
      " \n"
     ]
    },
    {
     "name": "stderr",
     "output_type": "stream",
     "text": [
      "Epoch 15/15 Training: 100%|██████████| 129/129 [00:19<00:00,  6.48it/s, loss=0.0874, acc=0.97, f1_score=0.914] \n",
      "Epoch 15/15 Validation: 100%|██████████| 5/5 [00:00<00:00, 16.54it/s, val_loss=0.193]\n"
     ]
    },
    {
     "name": "stdout",
     "output_type": "stream",
     "text": [
      "\t- loss = 0.08737908269083777\n",
      "  \t- val_loss = 0.1929005742073059\n",
      "  \t- acc = 0.970093707705653\n",
      "  \t- val_acc = 0.9306283473968506\n",
      "  \t- f1_score = 0.9137768491294033\n",
      "  \t- val_f1_score = 0.8085163950920105\n",
      " \n"
     ]
    }
   ],
   "source": [
    "for model_b in model_backs[-2:]:\n",
    "    train_images, val_images, train_masks, val_masks = train_test_split(\n",
    "        images_org, masks_org, test_size=0.1, random_state=42, shuffle=True\n",
    "    )\n",
    "\n",
    "    images_aug, masks_aug = augment.augment_data(train_images, train_masks, 2)\n",
    "    \n",
    "    images_aug = np.stack([img/255.0 for img in images_aug]).astype(np.float32)\n",
    "    masks_aug = np.stack([mask/255.0 for mask in masks_aug]).astype(np.float32)\n",
    "    \n",
    "    val_images = np.stack([img/255.0 for img in val_images]).astype(np.float32)\n",
    "    val_masks = np.stack([mask/255.0 for mask in val_masks]).astype(np.float32)\n",
    "    \n",
    "    # reshape the image to simplify the handling of skip connections and maxpooling\n",
    "    train_dataset = ImageDataset(images_aug, masks_aug, device, use_patches=False, resize_to=(384, 384))\n",
    "    val_dataset = ImageDataset(val_images, val_masks, device, use_patches=False, resize_to=(384, 384))\n",
    "    \n",
    "        \n",
    "    train_dataloader = torch.utils.data.DataLoader(train_dataset, batch_size=3, shuffle=True)\n",
    "    val_dataloader = torch.utils.data.DataLoader(val_dataset, batch_size=3, shuffle=True)\n",
    "        \n",
    "    loss_fn = smp.losses.DiceLoss(smp.losses.BINARY_MODE, from_logits=True)\n",
    "    metric_fns = {'acc': trainer.accuracy_fn,\n",
    "    'f1_score': trainer.f1_score_fn}\n",
    "    optimizer = torch.optim.Adam(model_b.parameters(), lr=1e-5)\n",
    "    #scheduler = ReduceLROnPlateau(optimizer)\n",
    "    train(model_b, optimizer, train_dataloader, val_dataloader, loss_fn, 15, None, 0, metric_fns)\n",
    "    models.append(model_b)"
   ]
  },
  {
   "cell_type": "code",
   "execution_count": 19,
   "metadata": {
    "scrolled": true
   },
   "outputs": [
    {
     "data": {
      "text/html": [
       "Finishing last run (ID:je76nkw7) before initializing another..."
      ],
      "text/plain": [
       "<IPython.core.display.HTML object>"
      ]
     },
     "metadata": {},
     "output_type": "display_data"
    },
    {
     "data": {
      "application/vnd.jupyter.widget-view+json": {
       "model_id": "",
       "version_major": 2,
       "version_minor": 0
      },
      "text/plain": [
       "VBox(children=(Label(value='0.003 MB of 0.003 MB uploaded\\r'), FloatProgress(value=1.0, max=1.0)))"
      ]
     },
     "metadata": {},
     "output_type": "display_data"
    },
    {
     "data": {
      "text/html": [
       "<style>\n",
       "    table.wandb td:nth-child(1) { padding: 0 10px; text-align: left ; width: auto;} td:nth-child(2) {text-align: left ; width: 100%}\n",
       "    .wandb-row { display: flex; flex-direction: row; flex-wrap: wrap; justify-content: flex-start; width: 100% }\n",
       "    .wandb-col { display: flex; flex-direction: column; flex-basis: 100%; flex: 1; padding: 10px; }\n",
       "    </style>\n",
       "<div class=\"wandb-row\"><div class=\"wandb-col\"><h3>Run history:</h3><br/><table class=\"wandb\"><tr><td>acc</td><td>▁▂▃▄▅▅▆▆▆▇▇▇███</td></tr><tr><td>f1_score</td><td>▁▂▃▄▅▅▆▆▆▇▇▇███</td></tr><tr><td>loss</td><td>█▇▆▅▄▄▃▃▃▂▂▂▁▁▁</td></tr><tr><td>val_acc</td><td>▅▄█▆█▄▅▁█▇▇▇▇█▇</td></tr><tr><td>val_f1_score</td><td>▆▆▇▃▆▅█▂▇▇▃▂▁▅▇</td></tr><tr><td>val_loss</td><td>▃▃▂▆▃▄▁▇▂▂▆▇█▄▂</td></tr></table><br/></div><div class=\"wandb-col\"><h3>Run summary:</h3><br/><table class=\"wandb\"><tr><td>acc</td><td>0.97009</td></tr><tr><td>f1_score</td><td>0.91378</td></tr><tr><td>loss</td><td>0.08738</td></tr><tr><td>val_acc</td><td>0.93063</td></tr><tr><td>val_f1_score</td><td>0.80852</td></tr><tr><td>val_loss</td><td>0.1929</td></tr></table><br/></div></div>"
      ],
      "text/plain": [
       "<IPython.core.display.HTML object>"
      ]
     },
     "metadata": {},
     "output_type": "display_data"
    },
    {
     "data": {
      "text/html": [
       " View run <strong style=\"color:#cdcd00\">serene-wind-99</strong> at: <a href='https://wandb.ai/besteguney/CIL/runs/je76nkw7' target=\"_blank\">https://wandb.ai/besteguney/CIL/runs/je76nkw7</a><br/> View project at: <a href='https://wandb.ai/besteguney/CIL' target=\"_blank\">https://wandb.ai/besteguney/CIL</a><br/>Synced 5 W&B file(s), 0 media file(s), 0 artifact file(s) and 0 other file(s)"
      ],
      "text/plain": [
       "<IPython.core.display.HTML object>"
      ]
     },
     "metadata": {},
     "output_type": "display_data"
    },
    {
     "data": {
      "text/html": [
       "Find logs at: <code>./wandb/run-20240721_154702-je76nkw7/logs</code>"
      ],
      "text/plain": [
       "<IPython.core.display.HTML object>"
      ]
     },
     "metadata": {},
     "output_type": "display_data"
    },
    {
     "data": {
      "text/html": [
       "The new W&B backend becomes opt-out in version 0.18.0; try it out with `wandb.require(\"core\")`! See https://wandb.me/wandb-core for more information."
      ],
      "text/plain": [
       "<IPython.core.display.HTML object>"
      ]
     },
     "metadata": {},
     "output_type": "display_data"
    },
    {
     "data": {
      "text/html": [
       "Successfully finished last run (ID:je76nkw7). Initializing new run:<br/>"
      ],
      "text/plain": [
       "<IPython.core.display.HTML object>"
      ]
     },
     "metadata": {},
     "output_type": "display_data"
    },
    {
     "data": {
      "application/vnd.jupyter.widget-view+json": {
       "model_id": "18b57628eb7e4f319dd3a0e0d7d333aa",
       "version_major": 2,
       "version_minor": 0
      },
      "text/plain": [
       "VBox(children=(Label(value='Waiting for wandb.init()...\\r'), FloatProgress(value=0.011112911399039957, max=1.0…"
      ]
     },
     "metadata": {},
     "output_type": "display_data"
    },
    {
     "data": {
      "text/html": [
       "wandb version 0.17.5 is available!  To upgrade, please run:\n",
       " $ pip install wandb --upgrade"
      ],
      "text/plain": [
       "<IPython.core.display.HTML object>"
      ]
     },
     "metadata": {},
     "output_type": "display_data"
    },
    {
     "data": {
      "text/html": [
       "Tracking run with wandb version 0.17.4"
      ],
      "text/plain": [
       "<IPython.core.display.HTML object>"
      ]
     },
     "metadata": {},
     "output_type": "display_data"
    },
    {
     "data": {
      "text/html": [
       "Run data is saved locally in <code>/home/bgueney/CIL-2024/wandb/run-20240721_155638-kfahaqxi</code>"
      ],
      "text/plain": [
       "<IPython.core.display.HTML object>"
      ]
     },
     "metadata": {},
     "output_type": "display_data"
    },
    {
     "data": {
      "text/html": [
       "Syncing run <strong><a href='https://wandb.ai/besteguney/CIL/runs/kfahaqxi' target=\"_blank\">stellar-meadow-100</a></strong> to <a href='https://wandb.ai/besteguney/CIL' target=\"_blank\">Weights & Biases</a> (<a href='https://wandb.me/run' target=\"_blank\">docs</a>)<br/>"
      ],
      "text/plain": [
       "<IPython.core.display.HTML object>"
      ]
     },
     "metadata": {},
     "output_type": "display_data"
    },
    {
     "data": {
      "text/html": [
       " View project at <a href='https://wandb.ai/besteguney/CIL' target=\"_blank\">https://wandb.ai/besteguney/CIL</a>"
      ],
      "text/plain": [
       "<IPython.core.display.HTML object>"
      ]
     },
     "metadata": {},
     "output_type": "display_data"
    },
    {
     "data": {
      "text/html": [
       " View run at <a href='https://wandb.ai/besteguney/CIL/runs/kfahaqxi' target=\"_blank\">https://wandb.ai/besteguney/CIL/runs/kfahaqxi</a>"
      ],
      "text/plain": [
       "<IPython.core.display.HTML object>"
      ]
     },
     "metadata": {},
     "output_type": "display_data"
    },
    {
     "name": "stderr",
     "output_type": "stream",
     "text": [
      "Epoch 1/40 Training: 100%|██████████| 86/86 [00:11<00:00,  7.23it/s, loss=0.598, acc=0.504, f1_score=0.467]\n",
      "Epoch 1/40 Validation: 100%|██████████| 5/5 [00:00<00:00, 19.54it/s, val_loss=0.453]\n"
     ]
    },
    {
     "name": "stdout",
     "output_type": "stream",
     "text": [
      "\t- loss = 0.5975693124671315\n",
      "  \t- val_loss = 0.45328282117843627\n",
      "  \t- acc = 0.5037622867628585\n",
      "  \t- val_acc = 0.7963727116584778\n",
      "  \t- f1_score = 0.4674729502998119\n",
      "  \t- val_f1_score = 0.6777179718017579\n",
      " \n"
     ]
    },
    {
     "name": "stderr",
     "output_type": "stream",
     "text": [
      "Epoch 2/40 Training: 100%|██████████| 86/86 [00:12<00:00,  7.14it/s, loss=0.438, acc=0.804, f1_score=0.643]\n",
      "Epoch 2/40 Validation: 100%|██████████| 5/5 [00:00<00:00, 20.90it/s, val_loss=0.374]\n"
     ]
    },
    {
     "name": "stdout",
     "output_type": "stream",
     "text": [
      "\t- loss = 0.43759031212607097\n",
      "  \t- val_loss = 0.37424545288085936\n",
      "  \t- acc = 0.8041376395280971\n",
      "  \t- val_acc = 0.8376279473304749\n",
      "  \t- f1_score = 0.6425883790781332\n",
      "  \t- val_f1_score = 0.6966404795646668\n",
      " \n"
     ]
    },
    {
     "name": "stderr",
     "output_type": "stream",
     "text": [
      "Epoch 3/40 Training: 100%|██████████| 86/86 [00:11<00:00,  7.29it/s, loss=0.36, acc=0.871, f1_score=0.703] \n",
      "Epoch 3/40 Validation: 100%|██████████| 5/5 [00:00<00:00, 22.46it/s, val_loss=0.317]\n"
     ]
    },
    {
     "name": "stdout",
     "output_type": "stream",
     "text": [
      "\t- loss = 0.35982942303945853\n",
      "  \t- val_loss = 0.3167565822601318\n",
      "  \t- acc = 0.8706666418286257\n",
      "  \t- val_acc = 0.8978131294250489\n",
      "  \t- f1_score = 0.7026318983976231\n",
      "  \t- val_f1_score = 0.7351886868476868\n",
      " \n"
     ]
    },
    {
     "name": "stderr",
     "output_type": "stream",
     "text": [
      "Epoch 4/40 Training: 100%|██████████| 86/86 [00:12<00:00,  7.08it/s, loss=0.315, acc=0.891, f1_score=0.731]\n",
      "Epoch 4/40 Validation: 100%|██████████| 5/5 [00:00<00:00, 18.56it/s, val_loss=0.281]\n"
     ]
    },
    {
     "name": "stdout",
     "output_type": "stream",
     "text": [
      "\t- loss = 0.31541128075400066\n",
      "  \t- val_loss = 0.28064876794815063\n",
      "  \t- acc = 0.8914816545885663\n",
      "  \t- val_acc = 0.8957139730453492\n",
      "  \t- f1_score = 0.7305446627528168\n",
      "  \t- val_f1_score = 0.7586414098739624\n",
      " \n"
     ]
    },
    {
     "name": "stderr",
     "output_type": "stream",
     "text": [
      "Epoch 5/40 Training: 100%|██████████| 86/86 [00:12<00:00,  7.02it/s, loss=0.278, acc=0.908, f1_score=0.756]\n",
      "Epoch 5/40 Validation: 100%|██████████| 5/5 [00:00<00:00, 19.04it/s, val_loss=0.253]\n"
     ]
    },
    {
     "name": "stdout",
     "output_type": "stream",
     "text": [
      "\t- loss = 0.27844842506009476\n",
      "  \t- val_loss = 0.25283768177032473\n",
      "  \t- acc = 0.9080908915331197\n",
      "  \t- val_acc = 0.9210092186927795\n",
      "  \t- f1_score = 0.7562799772550893\n",
      "  \t- val_f1_score = 0.7734474420547486\n",
      " \n"
     ]
    },
    {
     "name": "stderr",
     "output_type": "stream",
     "text": [
      "Epoch 6/40 Training: 100%|██████████| 86/86 [00:12<00:00,  7.07it/s, loss=0.245, acc=0.919, f1_score=0.783]\n",
      "Epoch 6/40 Validation: 100%|██████████| 5/5 [00:00<00:00, 21.15it/s, val_loss=0.237]\n"
     ]
    },
    {
     "name": "stdout",
     "output_type": "stream",
     "text": [
      "\t- loss = 0.2445051683936008\n",
      "  \t- val_loss = 0.2365104913711548\n",
      "  \t- acc = 0.9192449214846589\n",
      "  \t- val_acc = 0.917626965045929\n",
      "  \t- f1_score = 0.7832780085330786\n",
      "  \t- val_f1_score = 0.7852251410484314\n",
      " \n"
     ]
    },
    {
     "name": "stderr",
     "output_type": "stream",
     "text": [
      "Epoch 7/40 Training: 100%|██████████| 86/86 [00:12<00:00,  7.15it/s, loss=0.238, acc=0.92, f1_score=0.783] \n",
      "Epoch 7/40 Validation: 100%|██████████| 5/5 [00:00<00:00, 19.33it/s, val_loss=0.229]\n"
     ]
    },
    {
     "name": "stdout",
     "output_type": "stream",
     "text": [
      "\t- loss = 0.23838347057963527\n",
      "  \t- val_loss = 0.22913202047348022\n",
      "  \t- acc = 0.9199537683364957\n",
      "  \t- val_acc = 0.9192170381546021\n",
      "  \t- f1_score = 0.7825104816015377\n",
      "  \t- val_f1_score = 0.7891881108283997\n",
      " \n"
     ]
    },
    {
     "name": "stderr",
     "output_type": "stream",
     "text": [
      "Epoch 8/40 Training: 100%|██████████| 86/86 [00:11<00:00,  7.24it/s, loss=0.207, acc=0.932, f1_score=0.811]\n",
      "Epoch 8/40 Validation: 100%|██████████| 5/5 [00:00<00:00, 21.53it/s, val_loss=0.232]\n"
     ]
    },
    {
     "name": "stdout",
     "output_type": "stream",
     "text": [
      "\t- loss = 0.20692897050879722\n",
      "  \t- val_loss = 0.23150715827941895\n",
      "  \t- acc = 0.9318406117516894\n",
      "  \t- val_acc = 0.9147953748703003\n",
      "  \t- f1_score = 0.811214804649353\n",
      "  \t- val_f1_score = 0.7819581866264343\n",
      " \n"
     ]
    },
    {
     "name": "stderr",
     "output_type": "stream",
     "text": [
      "Epoch 9/40 Training: 100%|██████████| 86/86 [00:12<00:00,  7.05it/s, loss=0.191, acc=0.937, f1_score=0.825]\n",
      "Epoch 9/40 Validation: 100%|██████████| 5/5 [00:00<00:00, 20.05it/s, val_loss=0.22] \n"
     ]
    },
    {
     "name": "stdout",
     "output_type": "stream",
     "text": [
      "\t- loss = 0.1907747360162957\n",
      "  \t- val_loss = 0.22036550045013428\n",
      "  \t- acc = 0.9368805857591851\n",
      "  \t- val_acc = 0.9239235401153565\n",
      "  \t- f1_score = 0.8245039644629456\n",
      "  \t- val_f1_score = 0.7913707017898559\n",
      " \n"
     ]
    },
    {
     "name": "stderr",
     "output_type": "stream",
     "text": [
      "Epoch 10/40 Training: 100%|██████████| 86/86 [00:12<00:00,  7.14it/s, loss=0.172, acc=0.943, f1_score=0.841]\n",
      "Epoch 10/40 Validation: 100%|██████████| 5/5 [00:00<00:00, 22.19it/s, val_loss=0.206]\n"
     ]
    },
    {
     "name": "stdout",
     "output_type": "stream",
     "text": [
      "\t- loss = 0.17230539474376413\n",
      "  \t- val_loss = 0.20581005811691283\n",
      "  \t- acc = 0.9432425145492997\n",
      "  \t- val_acc = 0.9272406816482544\n",
      "  \t- f1_score = 0.8410136942253557\n",
      "  \t- val_f1_score = 0.8050871610641479\n",
      " \n"
     ]
    },
    {
     "name": "stderr",
     "output_type": "stream",
     "text": [
      "Epoch 11/40 Training: 100%|██████████| 86/86 [00:12<00:00,  7.10it/s, loss=0.156, acc=0.948, f1_score=0.855]\n",
      "Epoch 11/40 Validation: 100%|██████████| 5/5 [00:00<00:00, 20.65it/s, val_loss=0.209]\n"
     ]
    },
    {
     "name": "stdout",
     "output_type": "stream",
     "text": [
      "\t- loss = 0.15595567988794903\n",
      "  \t- val_loss = 0.20874799489974977\n",
      "  \t- acc = 0.9483502264632735\n",
      "  \t- val_acc = 0.928181529045105\n",
      "  \t- f1_score = 0.8554220657015956\n",
      "  \t- val_f1_score = 0.798960018157959\n",
      " \n"
     ]
    },
    {
     "name": "stderr",
     "output_type": "stream",
     "text": [
      "Epoch 12/40 Training: 100%|██████████| 86/86 [00:11<00:00,  7.28it/s, loss=0.151, acc=0.95, f1_score=0.858] \n",
      "Epoch 12/40 Validation: 100%|██████████| 5/5 [00:00<00:00, 21.70it/s, val_loss=0.22] \n"
     ]
    },
    {
     "name": "stdout",
     "output_type": "stream",
     "text": [
      "\t- loss = 0.1513967548691949\n",
      "  \t- val_loss = 0.22037237882614136\n",
      "  \t- acc = 0.9496509980323703\n",
      "  \t- val_acc = 0.9256840467453002\n",
      "  \t- f1_score = 0.8583187627237897\n",
      "  \t- val_f1_score = 0.7862249970436096\n",
      " \n"
     ]
    },
    {
     "name": "stderr",
     "output_type": "stream",
     "text": [
      "Epoch 13/40 Training: 100%|██████████| 86/86 [00:12<00:00,  7.14it/s, loss=0.142, acc=0.953, f1_score=0.867]\n",
      "Epoch 13/40 Validation: 100%|██████████| 5/5 [00:00<00:00, 14.26it/s, val_loss=0.21] \n"
     ]
    },
    {
     "name": "stdout",
     "output_type": "stream",
     "text": [
      "\t- loss = 0.14166983476904935\n",
      "  \t- val_loss = 0.21031708717346193\n",
      "  \t- acc = 0.9526153809802477\n",
      "  \t- val_acc = 0.9218876600265503\n",
      "  \t- f1_score = 0.8669316290422927\n",
      "  \t- val_f1_score = 0.7960994005203247\n",
      " \n"
     ]
    },
    {
     "name": "stderr",
     "output_type": "stream",
     "text": [
      "Epoch 14/40 Training: 100%|██████████| 86/86 [00:12<00:00,  6.85it/s, loss=0.136, acc=0.955, f1_score=0.872]\n",
      "Epoch 14/40 Validation: 100%|██████████| 5/5 [00:00<00:00, 21.33it/s, val_loss=0.213]\n"
     ]
    },
    {
     "name": "stdout",
     "output_type": "stream",
     "text": [
      "\t- loss = 0.1357846377893936\n",
      "  \t- val_loss = 0.2127737045288086\n",
      "  \t- acc = 0.9550638600837352\n",
      "  \t- val_acc = 0.9287914276123047\n",
      "  \t- f1_score = 0.8719485533791919\n",
      "  \t- val_f1_score = 0.7920577168464661\n",
      " \n"
     ]
    },
    {
     "name": "stderr",
     "output_type": "stream",
     "text": [
      "Epoch 15/40 Training: 100%|██████████| 86/86 [00:12<00:00,  7.11it/s, loss=0.127, acc=0.958, f1_score=0.88] \n",
      "Epoch 15/40 Validation: 100%|██████████| 5/5 [00:00<00:00, 22.14it/s, val_loss=0.207]\n"
     ]
    },
    {
     "name": "stdout",
     "output_type": "stream",
     "text": [
      "\t- loss = 0.1269604009251262\n",
      "  \t- val_loss = 0.20683004856109619\n",
      "  \t- acc = 0.957748356946679\n",
      "  \t- val_acc = 0.9282321572303772\n",
      "  \t- f1_score = 0.8798373715822086\n",
      "  \t- val_f1_score = 0.7978820443153382\n",
      " \n"
     ]
    },
    {
     "name": "stderr",
     "output_type": "stream",
     "text": [
      "Epoch 16/40 Training: 100%|██████████| 86/86 [00:12<00:00,  6.90it/s, loss=0.121, acc=0.959, f1_score=0.885]\n",
      "Epoch 16/40 Validation: 100%|██████████| 5/5 [00:00<00:00, 19.15it/s, val_loss=0.203]\n"
     ]
    },
    {
     "name": "stdout",
     "output_type": "stream",
     "text": [
      "\t- loss = 0.1208864783131799\n",
      "  \t- val_loss = 0.20271778106689453\n",
      "  \t- acc = 0.9594802371291227\n",
      "  \t- val_acc = 0.9275946736335754\n",
      "  \t- f1_score = 0.885462609141372\n",
      "  \t- val_f1_score = 0.8017632603645325\n",
      " \n"
     ]
    },
    {
     "name": "stderr",
     "output_type": "stream",
     "text": [
      "Epoch 17/40 Training: 100%|██████████| 86/86 [00:11<00:00,  7.17it/s, loss=0.112, acc=0.962, f1_score=0.894]\n",
      "Epoch 17/40 Validation: 100%|██████████| 5/5 [00:00<00:00, 19.81it/s, val_loss=0.204]\n"
     ]
    },
    {
     "name": "stdout",
     "output_type": "stream",
     "text": [
      "\t- loss = 0.11189141592314077\n",
      "  \t- val_loss = 0.20377917289733888\n",
      "  \t- acc = 0.9623682838539744\n",
      "  \t- val_acc = 0.9240700006484985\n",
      "  \t- f1_score = 0.8937334875727809\n",
      "  \t- val_f1_score = 0.8007009267807007\n",
      " \n"
     ]
    },
    {
     "name": "stderr",
     "output_type": "stream",
     "text": [
      "Epoch 18/40 Training: 100%|██████████| 86/86 [00:12<00:00,  7.00it/s, loss=0.108, acc=0.964, f1_score=0.897]\n",
      "Epoch 18/40 Validation: 100%|██████████| 5/5 [00:00<00:00, 17.91it/s, val_loss=0.211]\n"
     ]
    },
    {
     "name": "stdout",
     "output_type": "stream",
     "text": [
      "\t- loss = 0.10844236750935399\n",
      "  \t- val_loss = 0.2110882043838501\n",
      "  \t- acc = 0.9638523944588595\n",
      "  \t- val_acc = 0.9237598657608033\n",
      "  \t- f1_score = 0.8967873398647752\n",
      "  \t- val_f1_score = 0.7934556007385254\n",
      " \n"
     ]
    },
    {
     "name": "stderr",
     "output_type": "stream",
     "text": [
      "Epoch 19/40 Training: 100%|██████████| 86/86 [00:12<00:00,  6.92it/s, loss=0.105, acc=0.965, f1_score=0.9]  \n",
      "Epoch 19/40 Validation: 100%|██████████| 5/5 [00:00<00:00, 19.90it/s, val_loss=0.206]\n"
     ]
    },
    {
     "name": "stdout",
     "output_type": "stream",
     "text": [
      "\t- loss = 0.1046406391055085\n",
      "  \t- val_loss = 0.2056793212890625\n",
      "  \t- acc = 0.9648141077784604\n",
      "  \t- val_acc = 0.9256528615951538\n",
      "  \t- f1_score = 0.900025091892065\n",
      "  \t- val_f1_score = 0.7976483821868896\n",
      " \n"
     ]
    },
    {
     "name": "stderr",
     "output_type": "stream",
     "text": [
      "Epoch 20/40 Training: 100%|██████████| 86/86 [00:11<00:00,  7.32it/s, loss=0.0983, acc=0.967, f1_score=0.906]\n",
      "Epoch 20/40 Validation: 100%|██████████| 5/5 [00:00<00:00, 20.65it/s, val_loss=0.212]\n"
     ]
    },
    {
     "name": "stdout",
     "output_type": "stream",
     "text": [
      "\t- loss = 0.09834480493567711\n",
      "  \t- val_loss = 0.21205835342407225\n",
      "  \t- acc = 0.9670166816822318\n",
      "  \t- val_acc = 0.927316176891327\n",
      "  \t- f1_score = 0.9060678807801978\n",
      "  \t- val_f1_score = 0.7908250689506531\n",
      " \n"
     ]
    },
    {
     "name": "stderr",
     "output_type": "stream",
     "text": [
      "Epoch 21/40 Training: 100%|██████████| 86/86 [00:12<00:00,  6.99it/s, loss=0.0966, acc=0.968, f1_score=0.908]\n",
      "Epoch 21/40 Validation: 100%|██████████| 5/5 [00:00<00:00, 21.35it/s, val_loss=0.193]\n"
     ]
    },
    {
     "name": "stdout",
     "output_type": "stream",
     "text": [
      "\t- loss = 0.09657587700111922\n",
      "  \t- val_loss = 0.19279439449310304\n",
      "  \t- acc = 0.9680221572864888\n",
      "  \t- val_acc = 0.9281561970710754\n",
      "  \t- f1_score = 0.9076579282450121\n",
      "  \t- val_f1_score = 0.8104182600975036\n",
      " \n"
     ]
    },
    {
     "name": "stderr",
     "output_type": "stream",
     "text": [
      "Epoch 22/40 Training: 100%|██████████| 86/86 [00:12<00:00,  7.15it/s, loss=0.0956, acc=0.968, f1_score=0.908]\n",
      "Epoch 22/40 Validation: 100%|██████████| 5/5 [00:00<00:00, 21.24it/s, val_loss=0.196]\n"
     ]
    },
    {
     "name": "stdout",
     "output_type": "stream",
     "text": [
      "\t- loss = 0.09562124277270118\n",
      "  \t- val_loss = 0.19569845199584962\n",
      "  \t- acc = 0.9681186786917753\n",
      "  \t- val_acc = 0.9299158215522766\n",
      "  \t- f1_score = 0.9082719136116116\n",
      "  \t- val_f1_score = 0.8065933585166931\n",
      " \n"
     ]
    },
    {
     "name": "stderr",
     "output_type": "stream",
     "text": [
      "Epoch 23/40 Training: 100%|██████████| 86/86 [00:11<00:00,  7.18it/s, loss=0.0933, acc=0.969, f1_score=0.91] \n",
      "Epoch 23/40 Validation: 100%|██████████| 5/5 [00:00<00:00, 21.07it/s, val_loss=0.208]\n"
     ]
    },
    {
     "name": "stdout",
     "output_type": "stream",
     "text": [
      "\t- loss = 0.09329011135323104\n",
      "  \t- val_loss = 0.20756183862686156\n",
      "  \t- acc = 0.9686817422855732\n",
      "  \t- val_acc = 0.927835214138031\n",
      "  \t- f1_score = 0.9101575301137081\n",
      "  \t- val_f1_score = 0.7948845028877258\n",
      " \n"
     ]
    },
    {
     "name": "stderr",
     "output_type": "stream",
     "text": [
      "Epoch 24/40 Training: 100%|██████████| 86/86 [00:12<00:00,  6.96it/s, loss=0.0895, acc=0.97, f1_score=0.914] \n",
      "Epoch 24/40 Validation: 100%|██████████| 5/5 [00:00<00:00, 20.95it/s, val_loss=0.205]\n"
     ]
    },
    {
     "name": "stdout",
     "output_type": "stream",
     "text": [
      "\t- loss = 0.0895081335722014\n",
      "  \t- val_loss = 0.20497448444366456\n",
      "  \t- acc = 0.9702320660269538\n",
      "  \t- val_acc = 0.9304208397865296\n",
      "  \t- f1_score = 0.9140461600104044\n",
      "  \t- val_f1_score = 0.7962196469306946\n",
      " \n"
     ]
    },
    {
     "name": "stderr",
     "output_type": "stream",
     "text": [
      "Epoch 25/40 Training: 100%|██████████| 86/86 [00:12<00:00,  7.04it/s, loss=0.0843, acc=0.972, f1_score=0.919]\n",
      "Epoch 25/40 Validation: 100%|██████████| 5/5 [00:00<00:00, 20.47it/s, val_loss=0.202]\n"
     ]
    },
    {
     "name": "stdout",
     "output_type": "stream",
     "text": [
      "\t- loss = 0.08431175073911977\n",
      "  \t- val_loss = 0.201837956905365\n",
      "  \t- acc = 0.9717693016972653\n",
      "  \t- val_acc = 0.92835693359375\n",
      "  \t- f1_score = 0.918779288613519\n",
      "  \t- val_f1_score = 0.8002463936805725\n",
      " \n"
     ]
    },
    {
     "name": "stderr",
     "output_type": "stream",
     "text": [
      "Epoch 26/40 Training: 100%|██████████| 86/86 [00:12<00:00,  7.00it/s, loss=0.0825, acc=0.972, f1_score=0.92] \n",
      "Epoch 26/40 Validation: 100%|██████████| 5/5 [00:00<00:00, 22.30it/s, val_loss=0.245]\n"
     ]
    },
    {
     "name": "stdout",
     "output_type": "stream",
     "text": [
      "\t- loss = 0.08248339004294816\n",
      "  \t- val_loss = 0.24467160701751708\n",
      "  \t- acc = 0.9721507561761279\n",
      "  \t- val_acc = 0.8929190278053284\n",
      "  \t- f1_score = 0.9204635315163191\n",
      "  \t- val_f1_score = 0.759985888004303\n",
      " \n"
     ]
    },
    {
     "name": "stderr",
     "output_type": "stream",
     "text": [
      "Epoch 27/40 Training: 100%|██████████| 86/86 [00:12<00:00,  7.11it/s, loss=0.0828, acc=0.972, f1_score=0.92] \n",
      "Epoch 27/40 Validation: 100%|██████████| 5/5 [00:00<00:00, 21.83it/s, val_loss=0.197]\n"
     ]
    },
    {
     "name": "stdout",
     "output_type": "stream",
     "text": [
      "\t- loss = 0.08281856012898822\n",
      "  \t- val_loss = 0.19743040800094605\n",
      "  \t- acc = 0.9721329330011855\n",
      "  \t- val_acc = 0.9294166922569275\n",
      "  \t- f1_score = 0.9198953883592472\n",
      "  \t- val_f1_score = 0.8042443275451661\n",
      " \n"
     ]
    },
    {
     "name": "stderr",
     "output_type": "stream",
     "text": [
      "Epoch 28/40 Training: 100%|██████████| 86/86 [00:12<00:00,  6.89it/s, loss=0.0769, acc=0.974, f1_score=0.926]\n",
      "Epoch 28/40 Validation: 100%|██████████| 5/5 [00:00<00:00, 20.85it/s, val_loss=0.205]\n"
     ]
    },
    {
     "name": "stdout",
     "output_type": "stream",
     "text": [
      "\t- loss = 0.07688366049943968\n",
      "  \t- val_loss = 0.2048824429512024\n",
      "  \t- acc = 0.9739803969860077\n",
      "  \t- val_acc = 0.9289980411529541\n",
      "  \t- f1_score = 0.9257036995056064\n",
      "  \t- val_f1_score = 0.7967915177345276\n",
      " \n"
     ]
    },
    {
     "name": "stderr",
     "output_type": "stream",
     "text": [
      "Epoch 29/40 Training: 100%|██████████| 86/86 [00:12<00:00,  6.97it/s, loss=0.0738, acc=0.975, f1_score=0.929]\n",
      "Epoch 29/40 Validation: 100%|██████████| 5/5 [00:00<00:00, 21.85it/s, val_loss=0.206]\n"
     ]
    },
    {
     "name": "stdout",
     "output_type": "stream",
     "text": [
      "\t- loss = 0.07376978355784748\n",
      "  \t- val_loss = 0.20575591325759887\n",
      "  \t- acc = 0.9754883196464804\n",
      "  \t- val_acc = 0.9294537663459778\n",
      "  \t- f1_score = 0.9288176914980245\n",
      "  \t- val_f1_score = 0.7959815740585328\n",
      " \n"
     ]
    },
    {
     "name": "stderr",
     "output_type": "stream",
     "text": [
      "Epoch 30/40 Training: 100%|██████████| 86/86 [00:12<00:00,  7.05it/s, loss=0.0704, acc=0.976, f1_score=0.932]\n",
      "Epoch 30/40 Validation: 100%|██████████| 5/5 [00:00<00:00, 22.06it/s, val_loss=0.197]\n"
     ]
    },
    {
     "name": "stdout",
     "output_type": "stream",
     "text": [
      "\t- loss = 0.07039150041203167\n",
      "  \t- val_loss = 0.1969705581665039\n",
      "  \t- acc = 0.9764170431813528\n",
      "  \t- val_acc = 0.9305216550827027\n",
      "  \t- f1_score = 0.9321702926657921\n",
      "  \t- val_f1_score = 0.8048076748847961\n",
      " \n"
     ]
    },
    {
     "name": "stderr",
     "output_type": "stream",
     "text": [
      "Epoch 31/40 Training: 100%|██████████| 86/86 [00:12<00:00,  6.81it/s, loss=0.0694, acc=0.977, f1_score=0.933]\n",
      "Epoch 31/40 Validation: 100%|██████████| 5/5 [00:00<00:00, 21.68it/s, val_loss=0.196]\n"
     ]
    },
    {
     "name": "stdout",
     "output_type": "stream",
     "text": [
      "\t- loss = 0.06936857381532359\n",
      "  \t- val_loss = 0.19621409177780152\n",
      "  \t- acc = 0.9767139131246612\n",
      "  \t- val_acc = 0.9287466526031494\n",
      "  \t- f1_score = 0.9328844387863957\n",
      "  \t- val_f1_score = 0.8055832862854004\n",
      " \n"
     ]
    },
    {
     "name": "stderr",
     "output_type": "stream",
     "text": [
      "Epoch 32/40 Training: 100%|██████████| 86/86 [00:12<00:00,  6.80it/s, loss=0.0686, acc=0.977, f1_score=0.933]\n",
      "Epoch 32/40 Validation: 100%|██████████| 5/5 [00:00<00:00, 16.11it/s, val_loss=0.198]\n"
     ]
    },
    {
     "name": "stdout",
     "output_type": "stream",
     "text": [
      "\t- loss = 0.06859662158544673\n",
      "  \t- val_loss = 0.19834357500076294\n",
      "  \t- acc = 0.9766316656456437\n",
      "  \t- val_acc = 0.9306428074836731\n",
      "  \t- f1_score = 0.9334644793077956\n",
      "  \t- val_f1_score = 0.8032302498817444\n",
      " \n"
     ]
    },
    {
     "name": "stderr",
     "output_type": "stream",
     "text": [
      "Epoch 33/40 Training: 100%|██████████| 86/86 [00:12<00:00,  6.86it/s, loss=0.0679, acc=0.977, f1_score=0.934]\n",
      "Epoch 33/40 Validation: 100%|██████████| 5/5 [00:00<00:00, 20.06it/s, val_loss=0.209]\n"
     ]
    },
    {
     "name": "stdout",
     "output_type": "stream",
     "text": [
      "\t- loss = 0.06788444172504336\n",
      "  \t- val_loss = 0.20918534994125365\n",
      "  \t- acc = 0.9769681234692418\n",
      "  \t- val_acc = 0.929379153251648\n",
      "  \t- f1_score = 0.9342015129189158\n",
      "  \t- val_f1_score = 0.7918829202651978\n",
      " \n"
     ]
    },
    {
     "name": "stderr",
     "output_type": "stream",
     "text": [
      "Epoch 34/40 Training: 100%|██████████| 86/86 [00:12<00:00,  6.86it/s, loss=0.0691, acc=0.977, f1_score=0.933]\n",
      "Epoch 34/40 Validation: 100%|██████████| 5/5 [00:00<00:00, 17.66it/s, val_loss=0.199]\n"
     ]
    },
    {
     "name": "stdout",
     "output_type": "stream",
     "text": [
      "\t- loss = 0.0691041981064996\n",
      "  \t- val_loss = 0.19914278984069825\n",
      "  \t- acc = 0.9766885478829228\n",
      "  \t- val_acc = 0.9305912852287292\n",
      "  \t- f1_score = 0.9328960707021314\n",
      "  \t- val_f1_score = 0.8021652460098266\n",
      " \n"
     ]
    },
    {
     "name": "stderr",
     "output_type": "stream",
     "text": [
      "Epoch 35/40 Training: 100%|██████████| 86/86 [00:12<00:00,  6.94it/s, loss=0.0657, acc=0.978, f1_score=0.936]\n",
      "Epoch 35/40 Validation: 100%|██████████| 5/5 [00:00<00:00, 19.01it/s, val_loss=0.199]\n"
     ]
    },
    {
     "name": "stdout",
     "output_type": "stream",
     "text": [
      "\t- loss = 0.06568688916605572\n",
      "  \t- val_loss = 0.19865478277206422\n",
      "  \t- acc = 0.9778838566569394\n",
      "  \t- val_acc = 0.9291246175765991\n",
      "  \t- f1_score = 0.9361758939055509\n",
      "  \t- val_f1_score = 0.8028229832649231\n",
      " \n"
     ]
    },
    {
     "name": "stderr",
     "output_type": "stream",
     "text": [
      "Epoch 36/40 Training: 100%|██████████| 86/86 [00:12<00:00,  6.95it/s, loss=0.0619, acc=0.979, f1_score=0.94] \n",
      "Epoch 36/40 Validation: 100%|██████████| 5/5 [00:00<00:00, 21.30it/s, val_loss=0.191]\n"
     ]
    },
    {
     "name": "stdout",
     "output_type": "stream",
     "text": [
      "\t- loss = 0.0619372988856116\n",
      "  \t- val_loss = 0.19131253957748412\n",
      "  \t- acc = 0.9788817125697469\n",
      "  \t- val_acc = 0.9313567042350769\n",
      "  \t- f1_score = 0.939826546020286\n",
      "  \t- val_f1_score = 0.8103541970252991\n",
      " \n"
     ]
    },
    {
     "name": "stderr",
     "output_type": "stream",
     "text": [
      "Epoch 37/40 Training: 100%|██████████| 86/86 [00:12<00:00,  6.89it/s, loss=0.063, acc=0.979, f1_score=0.939] \n",
      "Epoch 37/40 Validation: 100%|██████████| 5/5 [00:00<00:00, 16.01it/s, val_loss=0.199]\n"
     ]
    },
    {
     "name": "stdout",
     "output_type": "stream",
     "text": [
      "\t- loss = 0.06300684255222942\n",
      "  \t- val_loss = 0.19851914644241334\n",
      "  \t- acc = 0.9785374208938243\n",
      "  \t- val_acc = 0.9297937631607056\n",
      "  \t- f1_score = 0.9387281530125197\n",
      "  \t- val_f1_score = 0.8027442574501038\n",
      " \n"
     ]
    },
    {
     "name": "stderr",
     "output_type": "stream",
     "text": [
      "Epoch 38/40 Training: 100%|██████████| 86/86 [00:12<00:00,  6.95it/s, loss=0.0611, acc=0.979, f1_score=0.94] \n",
      "Epoch 38/40 Validation: 100%|██████████| 5/5 [00:00<00:00, 21.17it/s, val_loss=0.197]\n"
     ]
    },
    {
     "name": "stdout",
     "output_type": "stream",
     "text": [
      "\t- loss = 0.06114772100781286\n",
      "  \t- val_loss = 0.19675853252410888\n",
      "  \t- acc = 0.9790939155013062\n",
      "  \t- val_acc = 0.9301477551460267\n",
      "  \t- f1_score = 0.9404491913873095\n",
      "  \t- val_f1_score = 0.8045575499534607\n",
      " \n"
     ]
    },
    {
     "name": "stderr",
     "output_type": "stream",
     "text": [
      "Epoch 39/40 Training: 100%|██████████| 86/86 [00:12<00:00,  7.06it/s, loss=0.0618, acc=0.979, f1_score=0.94] \n",
      "Epoch 39/40 Validation: 100%|██████████| 5/5 [00:00<00:00, 21.47it/s, val_loss=0.198]\n"
     ]
    },
    {
     "name": "stdout",
     "output_type": "stream",
     "text": [
      "\t- loss = 0.06176572414331658\n",
      "  \t- val_loss = 0.19794124364852905\n",
      "  \t- acc = 0.979144673014796\n",
      "  \t- val_acc = 0.930644178390503\n",
      "  \t- f1_score = 0.93984910221987\n",
      "  \t- val_f1_score = 0.8035508751869201\n",
      " \n"
     ]
    },
    {
     "name": "stderr",
     "output_type": "stream",
     "text": [
      "Epoch 40/40 Training: 100%|██████████| 86/86 [00:12<00:00,  6.87it/s, loss=0.0607, acc=0.979, f1_score=0.941]\n",
      "Epoch 40/40 Validation: 100%|██████████| 5/5 [00:00<00:00, 21.48it/s, val_loss=0.195]\n"
     ]
    },
    {
     "name": "stdout",
     "output_type": "stream",
     "text": [
      "\t- loss = 0.06066068521765775\n",
      "  \t- val_loss = 0.1945432662963867\n",
      "  \t- acc = 0.9791689868583235\n",
      "  \t- val_acc = 0.931929087638855\n",
      "  \t- f1_score = 0.9408157024272653\n",
      "  \t- val_f1_score = 0.8064455032348633\n",
      " \n"
     ]
    },
    {
     "data": {
      "text/plain": [
       "{0: {'loss': 0.5975693124671315,\n",
       "  'val_loss': 0.45328282117843627,\n",
       "  'acc': 0.5037622867628585,\n",
       "  'val_acc': 0.7963727116584778,\n",
       "  'f1_score': 0.4674729502998119,\n",
       "  'val_f1_score': 0.6777179718017579},\n",
       " 1: {'loss': 0.43759031212607097,\n",
       "  'val_loss': 0.37424545288085936,\n",
       "  'acc': 0.8041376395280971,\n",
       "  'val_acc': 0.8376279473304749,\n",
       "  'f1_score': 0.6425883790781332,\n",
       "  'val_f1_score': 0.6966404795646668},\n",
       " 2: {'loss': 0.35982942303945853,\n",
       "  'val_loss': 0.3167565822601318,\n",
       "  'acc': 0.8706666418286257,\n",
       "  'val_acc': 0.8978131294250489,\n",
       "  'f1_score': 0.7026318983976231,\n",
       "  'val_f1_score': 0.7351886868476868},\n",
       " 3: {'loss': 0.31541128075400066,\n",
       "  'val_loss': 0.28064876794815063,\n",
       "  'acc': 0.8914816545885663,\n",
       "  'val_acc': 0.8957139730453492,\n",
       "  'f1_score': 0.7305446627528168,\n",
       "  'val_f1_score': 0.7586414098739624},\n",
       " 4: {'loss': 0.27844842506009476,\n",
       "  'val_loss': 0.25283768177032473,\n",
       "  'acc': 0.9080908915331197,\n",
       "  'val_acc': 0.9210092186927795,\n",
       "  'f1_score': 0.7562799772550893,\n",
       "  'val_f1_score': 0.7734474420547486},\n",
       " 5: {'loss': 0.2445051683936008,\n",
       "  'val_loss': 0.2365104913711548,\n",
       "  'acc': 0.9192449214846589,\n",
       "  'val_acc': 0.917626965045929,\n",
       "  'f1_score': 0.7832780085330786,\n",
       "  'val_f1_score': 0.7852251410484314},\n",
       " 6: {'loss': 0.23838347057963527,\n",
       "  'val_loss': 0.22913202047348022,\n",
       "  'acc': 0.9199537683364957,\n",
       "  'val_acc': 0.9192170381546021,\n",
       "  'f1_score': 0.7825104816015377,\n",
       "  'val_f1_score': 0.7891881108283997},\n",
       " 7: {'loss': 0.20692897050879722,\n",
       "  'val_loss': 0.23150715827941895,\n",
       "  'acc': 0.9318406117516894,\n",
       "  'val_acc': 0.9147953748703003,\n",
       "  'f1_score': 0.811214804649353,\n",
       "  'val_f1_score': 0.7819581866264343},\n",
       " 8: {'loss': 0.1907747360162957,\n",
       "  'val_loss': 0.22036550045013428,\n",
       "  'acc': 0.9368805857591851,\n",
       "  'val_acc': 0.9239235401153565,\n",
       "  'f1_score': 0.8245039644629456,\n",
       "  'val_f1_score': 0.7913707017898559},\n",
       " 9: {'loss': 0.17230539474376413,\n",
       "  'val_loss': 0.20581005811691283,\n",
       "  'acc': 0.9432425145492997,\n",
       "  'val_acc': 0.9272406816482544,\n",
       "  'f1_score': 0.8410136942253557,\n",
       "  'val_f1_score': 0.8050871610641479},\n",
       " 10: {'loss': 0.15595567988794903,\n",
       "  'val_loss': 0.20874799489974977,\n",
       "  'acc': 0.9483502264632735,\n",
       "  'val_acc': 0.928181529045105,\n",
       "  'f1_score': 0.8554220657015956,\n",
       "  'val_f1_score': 0.798960018157959},\n",
       " 11: {'loss': 0.1513967548691949,\n",
       "  'val_loss': 0.22037237882614136,\n",
       "  'acc': 0.9496509980323703,\n",
       "  'val_acc': 0.9256840467453002,\n",
       "  'f1_score': 0.8583187627237897,\n",
       "  'val_f1_score': 0.7862249970436096},\n",
       " 12: {'loss': 0.14166983476904935,\n",
       "  'val_loss': 0.21031708717346193,\n",
       "  'acc': 0.9526153809802477,\n",
       "  'val_acc': 0.9218876600265503,\n",
       "  'f1_score': 0.8669316290422927,\n",
       "  'val_f1_score': 0.7960994005203247},\n",
       " 13: {'loss': 0.1357846377893936,\n",
       "  'val_loss': 0.2127737045288086,\n",
       "  'acc': 0.9550638600837352,\n",
       "  'val_acc': 0.9287914276123047,\n",
       "  'f1_score': 0.8719485533791919,\n",
       "  'val_f1_score': 0.7920577168464661},\n",
       " 14: {'loss': 0.1269604009251262,\n",
       "  'val_loss': 0.20683004856109619,\n",
       "  'acc': 0.957748356946679,\n",
       "  'val_acc': 0.9282321572303772,\n",
       "  'f1_score': 0.8798373715822086,\n",
       "  'val_f1_score': 0.7978820443153382},\n",
       " 15: {'loss': 0.1208864783131799,\n",
       "  'val_loss': 0.20271778106689453,\n",
       "  'acc': 0.9594802371291227,\n",
       "  'val_acc': 0.9275946736335754,\n",
       "  'f1_score': 0.885462609141372,\n",
       "  'val_f1_score': 0.8017632603645325},\n",
       " 16: {'loss': 0.11189141592314077,\n",
       "  'val_loss': 0.20377917289733888,\n",
       "  'acc': 0.9623682838539744,\n",
       "  'val_acc': 0.9240700006484985,\n",
       "  'f1_score': 0.8937334875727809,\n",
       "  'val_f1_score': 0.8007009267807007},\n",
       " 17: {'loss': 0.10844236750935399,\n",
       "  'val_loss': 0.2110882043838501,\n",
       "  'acc': 0.9638523944588595,\n",
       "  'val_acc': 0.9237598657608033,\n",
       "  'f1_score': 0.8967873398647752,\n",
       "  'val_f1_score': 0.7934556007385254},\n",
       " 18: {'loss': 0.1046406391055085,\n",
       "  'val_loss': 0.2056793212890625,\n",
       "  'acc': 0.9648141077784604,\n",
       "  'val_acc': 0.9256528615951538,\n",
       "  'f1_score': 0.900025091892065,\n",
       "  'val_f1_score': 0.7976483821868896},\n",
       " 19: {'loss': 0.09834480493567711,\n",
       "  'val_loss': 0.21205835342407225,\n",
       "  'acc': 0.9670166816822318,\n",
       "  'val_acc': 0.927316176891327,\n",
       "  'f1_score': 0.9060678807801978,\n",
       "  'val_f1_score': 0.7908250689506531},\n",
       " 20: {'loss': 0.09657587700111922,\n",
       "  'val_loss': 0.19279439449310304,\n",
       "  'acc': 0.9680221572864888,\n",
       "  'val_acc': 0.9281561970710754,\n",
       "  'f1_score': 0.9076579282450121,\n",
       "  'val_f1_score': 0.8104182600975036},\n",
       " 21: {'loss': 0.09562124277270118,\n",
       "  'val_loss': 0.19569845199584962,\n",
       "  'acc': 0.9681186786917753,\n",
       "  'val_acc': 0.9299158215522766,\n",
       "  'f1_score': 0.9082719136116116,\n",
       "  'val_f1_score': 0.8065933585166931},\n",
       " 22: {'loss': 0.09329011135323104,\n",
       "  'val_loss': 0.20756183862686156,\n",
       "  'acc': 0.9686817422855732,\n",
       "  'val_acc': 0.927835214138031,\n",
       "  'f1_score': 0.9101575301137081,\n",
       "  'val_f1_score': 0.7948845028877258},\n",
       " 23: {'loss': 0.0895081335722014,\n",
       "  'val_loss': 0.20497448444366456,\n",
       "  'acc': 0.9702320660269538,\n",
       "  'val_acc': 0.9304208397865296,\n",
       "  'f1_score': 0.9140461600104044,\n",
       "  'val_f1_score': 0.7962196469306946},\n",
       " 24: {'loss': 0.08431175073911977,\n",
       "  'val_loss': 0.201837956905365,\n",
       "  'acc': 0.9717693016972653,\n",
       "  'val_acc': 0.92835693359375,\n",
       "  'f1_score': 0.918779288613519,\n",
       "  'val_f1_score': 0.8002463936805725},\n",
       " 25: {'loss': 0.08248339004294816,\n",
       "  'val_loss': 0.24467160701751708,\n",
       "  'acc': 0.9721507561761279,\n",
       "  'val_acc': 0.8929190278053284,\n",
       "  'f1_score': 0.9204635315163191,\n",
       "  'val_f1_score': 0.759985888004303},\n",
       " 26: {'loss': 0.08281856012898822,\n",
       "  'val_loss': 0.19743040800094605,\n",
       "  'acc': 0.9721329330011855,\n",
       "  'val_acc': 0.9294166922569275,\n",
       "  'f1_score': 0.9198953883592472,\n",
       "  'val_f1_score': 0.8042443275451661},\n",
       " 27: {'loss': 0.07688366049943968,\n",
       "  'val_loss': 0.2048824429512024,\n",
       "  'acc': 0.9739803969860077,\n",
       "  'val_acc': 0.9289980411529541,\n",
       "  'f1_score': 0.9257036995056064,\n",
       "  'val_f1_score': 0.7967915177345276},\n",
       " 28: {'loss': 0.07376978355784748,\n",
       "  'val_loss': 0.20575591325759887,\n",
       "  'acc': 0.9754883196464804,\n",
       "  'val_acc': 0.9294537663459778,\n",
       "  'f1_score': 0.9288176914980245,\n",
       "  'val_f1_score': 0.7959815740585328},\n",
       " 29: {'loss': 0.07039150041203167,\n",
       "  'val_loss': 0.1969705581665039,\n",
       "  'acc': 0.9764170431813528,\n",
       "  'val_acc': 0.9305216550827027,\n",
       "  'f1_score': 0.9321702926657921,\n",
       "  'val_f1_score': 0.8048076748847961},\n",
       " 30: {'loss': 0.06936857381532359,\n",
       "  'val_loss': 0.19621409177780152,\n",
       "  'acc': 0.9767139131246612,\n",
       "  'val_acc': 0.9287466526031494,\n",
       "  'f1_score': 0.9328844387863957,\n",
       "  'val_f1_score': 0.8055832862854004},\n",
       " 31: {'loss': 0.06859662158544673,\n",
       "  'val_loss': 0.19834357500076294,\n",
       "  'acc': 0.9766316656456437,\n",
       "  'val_acc': 0.9306428074836731,\n",
       "  'f1_score': 0.9334644793077956,\n",
       "  'val_f1_score': 0.8032302498817444},\n",
       " 32: {'loss': 0.06788444172504336,\n",
       "  'val_loss': 0.20918534994125365,\n",
       "  'acc': 0.9769681234692418,\n",
       "  'val_acc': 0.929379153251648,\n",
       "  'f1_score': 0.9342015129189158,\n",
       "  'val_f1_score': 0.7918829202651978},\n",
       " 33: {'loss': 0.0691041981064996,\n",
       "  'val_loss': 0.19914278984069825,\n",
       "  'acc': 0.9766885478829228,\n",
       "  'val_acc': 0.9305912852287292,\n",
       "  'f1_score': 0.9328960707021314,\n",
       "  'val_f1_score': 0.8021652460098266},\n",
       " 34: {'loss': 0.06568688916605572,\n",
       "  'val_loss': 0.19865478277206422,\n",
       "  'acc': 0.9778838566569394,\n",
       "  'val_acc': 0.9291246175765991,\n",
       "  'f1_score': 0.9361758939055509,\n",
       "  'val_f1_score': 0.8028229832649231},\n",
       " 35: {'loss': 0.0619372988856116,\n",
       "  'val_loss': 0.19131253957748412,\n",
       "  'acc': 0.9788817125697469,\n",
       "  'val_acc': 0.9313567042350769,\n",
       "  'f1_score': 0.939826546020286,\n",
       "  'val_f1_score': 0.8103541970252991},\n",
       " 36: {'loss': 0.06300684255222942,\n",
       "  'val_loss': 0.19851914644241334,\n",
       "  'acc': 0.9785374208938243,\n",
       "  'val_acc': 0.9297937631607056,\n",
       "  'f1_score': 0.9387281530125197,\n",
       "  'val_f1_score': 0.8027442574501038},\n",
       " 37: {'loss': 0.06114772100781286,\n",
       "  'val_loss': 0.19675853252410888,\n",
       "  'acc': 0.9790939155013062,\n",
       "  'val_acc': 0.9301477551460267,\n",
       "  'f1_score': 0.9404491913873095,\n",
       "  'val_f1_score': 0.8045575499534607},\n",
       " 38: {'loss': 0.06176572414331658,\n",
       "  'val_loss': 0.19794124364852905,\n",
       "  'acc': 0.979144673014796,\n",
       "  'val_acc': 0.930644178390503,\n",
       "  'f1_score': 0.93984910221987,\n",
       "  'val_f1_score': 0.8035508751869201},\n",
       " 39: {'loss': 0.06066068521765775,\n",
       "  'val_loss': 0.1945432662963867,\n",
       "  'acc': 0.9791689868583235,\n",
       "  'val_acc': 0.931929087638855,\n",
       "  'f1_score': 0.9408157024272653,\n",
       "  'val_f1_score': 0.8064455032348633}}"
      ]
     },
     "execution_count": 19,
     "metadata": {},
     "output_type": "execute_result"
    }
   ],
   "source": [
    "train_images, val_images, train_masks, val_masks = train_test_split(\n",
    "        images_org, masks_org, test_size=0.1, random_state=42, shuffle=True\n",
    "    )\n",
    "\n",
    "images_aug, masks_aug = augment.augment_data(train_images, train_masks, 1)\n",
    "\n",
    "images_aug = np.stack([img/255.0 for img in images_aug]).astype(np.float32)\n",
    "masks_aug = np.stack([mask/255.0 for mask in masks_aug]).astype(np.float32)\n",
    "\n",
    "val_images = np.stack([img/255.0 for img in val_images]).astype(np.float32)\n",
    "val_masks = np.stack([mask/255.0 for mask in val_masks]).astype(np.float32)\n",
    "\n",
    "# reshape the image to simplify the handling of skip connections and maxpooling\n",
    "train_dataset = ImageDataset(images_aug, masks_aug, device, use_patches=False, resize_to=(384, 384))\n",
    "val_dataset = ImageDataset(val_images, val_masks, device, use_patches=False, resize_to=(384, 384))\n",
    "\n",
    "    \n",
    "train_dataloader = torch.utils.data.DataLoader(train_dataset, batch_size=3, shuffle=True)\n",
    "val_dataloader = torch.utils.data.DataLoader(val_dataset, batch_size=3, shuffle=True)\n",
    "    \n",
    "model = smp.Unet(\n",
    "    encoder_name=\"vgg19\",        # choose encoder, e.g. mobilenet_v2 or efficientnet-b7\n",
    "    encoder_weights=\"imagenet\",     # use `imagenet` pre-trained weights for encoder initialization\n",
    "    in_channels=3,                  # model input channels (1 for gray-scale images, 3 for RGB, etc.)\n",
    "    classes=1,                      # model output channels (number of classes in your dataset)\n",
    ")\n",
    "model = model.to(device)\n",
    "loss_fn = smp.losses.DiceLoss(smp.losses.BINARY_MODE, from_logits=True)\n",
    "metric_fns = {'acc': trainer.accuracy_fn,\n",
    "'f1_score': trainer.f1_score_fn}\n",
    "optimizer = torch.optim.AdamW(model.parameters(), lr=1e-4)\n",
    "#scheduler = ReduceLROnPlateau(optimizer)\n",
    "train(model, optimizer, train_dataloader, val_dataloader, loss_fn, 40, None, 0, metric_fns)"
   ]
  },
  {
   "cell_type": "code",
   "execution_count": null,
   "metadata": {},
   "outputs": [],
   "source": [
    "model4 = smp.Unet(\n",
    "    encoder_name=\"resnet50\",        # choose encoder, e.g. mobilenet_v2 or efficientnet-b7\n",
    "    encoder_weights=\"imagenet\",     # use `imagenet` pre-trained weights for encoder initialization\n",
    "    in_channels=3,                  # model input channels (1 for gray-scale images, 3 for RGB, etc.)\n",
    "    classes=1,                      # model output channels (number of classes in your dataset)\n",
    ")\n",
    "model4 = model4.to(device)\n",
    "\n",
    "checkpoint = torch.load('checkpoints/lively-surf-85/epoch_40.pt')\n",
    "model4.load_state_dict(checkpoint['model_state_dict'])"
   ]
  },
  {
   "cell_type": "code",
   "execution_count": null,
   "metadata": {
    "scrolled": true
   },
   "outputs": [],
   "source": [
    "optimizer = torch.optim.Adam(model.parameters(), lr=1e-4)\n",
    "#scheduler = ReduceLROnPlateau(optimizer)\n",
    "train2(model4, optimizer, images_org, masks_org, loss_fn, 15, None, 0, metric_fns)"
   ]
  },
  {
   "cell_type": "code",
   "execution_count": null,
   "metadata": {},
   "outputs": [],
   "source": [
    "model1 = smp.Unet(\n",
    "    encoder_name=\"resnet50\",        # choose encoder, e.g. mobilenet_v2 or efficientnet-b7\n",
    "    encoder_weights=\"imagenet\",     # use `imagenet` pre-trained weights for encoder initialization\n",
    "    in_channels=3,                  # model input channels (1 for gray-scale images, 3 for RGB, etc.)\n",
    "    classes=1,                      # model output channels (number of classes in your dataset)\n",
    ")\n",
    "model1 = model1.to(device)\n",
    "model2 = smp.Unet(\n",
    "    encoder_name=\"resnet50\",        # choose encoder, e.g. mobilenet_v2 or efficientnet-b7\n",
    "    encoder_weights=\"imagenet\",     # use `imagenet` pre-trained weights for encoder initialization\n",
    "    in_channels=3,                  # model input channels (1 for gray-scale images, 3 for RGB, etc.)\n",
    "    classes=1,                      # model output channels (number of classes in your dataset)\n",
    ")\n",
    "model2 = model2.to(device)\n",
    "\n",
    "model3 = smp.Unet(\n",
    "    encoder_name=\"resnet50\",        # choose encoder, e.g. mobilenet_v2 or efficientnet-b7\n",
    "    encoder_weights=\"imagenet\",     # use `imagenet` pre-trained weights for encoder initialization\n",
    "    in_channels=3,                  # model input channels (1 for gray-scale images, 3 for RGB, etc.)\n",
    "    classes=1,                      # model output channels (number of classes in your dataset)\n",
    ")\n",
    "model3 = model3.to(device)"
   ]
  },
  {
   "cell_type": "code",
   "execution_count": null,
   "metadata": {},
   "outputs": [],
   "source": [
    "checkpoint = torch.load('checkpoints/divine-thunder-64/epoch_15.pt')\n",
    "model1.load_state_dict(checkpoint['model_state_dict'])\n",
    "\n",
    "checkpoint = torch.load('checkpoints/worldly-snow-83/epoch_15.pt')\n",
    "model2.load_state_dict(checkpoint['model_state_dict'])\n",
    "\n",
    "checkpoint = torch.load('checkpoints/dutiful-donkey-84/epoch_15.pt')\n",
    "model3.load_state_dict(checkpoint['model_state_dict'])\n",
    "\n"
   ]
  },
  {
   "cell_type": "code",
   "execution_count": null,
   "metadata": {},
   "outputs": [],
   "source": [
    "utils.create_submission(\"test\", \"images\",'worldly_snow.csv', model2, device)"
   ]
  },
  {
   "cell_type": "code",
   "execution_count": 12,
   "metadata": {},
   "outputs": [
    {
     "data": {
      "text/plain": [
       "3"
      ]
     },
     "execution_count": 12,
     "metadata": {},
     "output_type": "execute_result"
    }
   ],
   "source": [
    "len(models)"
   ]
  },
  {
   "cell_type": "code",
   "execution_count": 18,
   "metadata": {},
   "outputs": [],
   "source": [
    "# Making prediction\n",
    "test_path = os.path.join(params.ROOT_PATH, \"test\", \"images\")\n",
    "test_filenames = (glob(test_path + '/*.png'))\n",
    "test_images = utils.load_all_from_path(test_path)\n",
    "batch_size = test_images.shape[0]\n",
    "size = test_images.shape[1:3]\n",
    "\n",
    "test_images = np.stack([cv2.resize(img, dsize=(384, 384)) for img in test_images], 0)\n",
    "test_images = test_images[:, :, :, :3]\n",
    "test_images = utils.np_to_tensor(np.moveaxis(test_images, -1, 1), device)\n",
    "\n",
    "preds = utils.ensemble_predict(models, [1,1,1,1,1], test_images)\n",
    "\n",
    "test_pred = np.stack([cv2.resize(img, dsize=size) for img in preds], 0)  # resize to original shape\n",
    "# now compute labels\n",
    "test_pred = test_pred.reshape((-1, size[0] // params.PATCH_SIZE, params.PATCH_SIZE, size[0] // params.PATCH_SIZE, params.PATCH_SIZE))\n",
    "test_pred = np.moveaxis(test_pred, 2, 3)\n",
    "test_pred = np.round(np.mean(test_pred, (-1, -2)) > params.CUTOFF)\n",
    "with open(\"ensemble_staged_training_5_diff.csv\", 'w') as f:\n",
    "        f.write('id,prediction\\n')\n",
    "        for fn, patch_array in zip(sorted(test_filenames), test_pred):\n",
    "            img_number = int(re.search(r\"satimage_(\\d+)\", fn).group(1))\n",
    "            for i in range(patch_array.shape[0]):\n",
    "                for j in range(patch_array.shape[1]):\n",
    "                    f.write(\"{:03d}_{}_{},{}\\n\".format(img_number, j*params.PATCH_SIZE, i*params.PATCH_SIZE, int(patch_array[i, j])))\n",
    "                    "
   ]
  },
  {
   "cell_type": "code",
   "execution_count": null,
   "metadata": {},
   "outputs": [],
   "source": [
    "train_images, val_images, train_masks, val_masks = train_test_split(\n",
    "        images_org, masks_org, test_size=0.1, random_state=42, shuffle=True\n",
    "    )\n",
    "\n",
    "images_aug, masks_aug = augment.augment_data(train_images, train_masks, 1)\n",
    "\n",
    "images_aug = np.stack([img/255.0 for img in images_aug]).astype(np.float32)\n",
    "masks_aug = np.stack([mask/255.0 for mask in masks_aug]).astype(np.float32)\n",
    "\n",
    "val_images = np.stack([img/255.0 for img in val_images]).astype(np.float32)\n",
    "val_masks = np.stack([mask/255.0 for mask in val_masks]).astype(np.float32)\n",
    "\n",
    "# reshape the image to simplify the handling of skip connections and maxpooling\n",
    "train_dataset = ImageDataset(images_aug, masks_aug, device, use_patches=False, resize_to=(384, 384))\n",
    "val_dataset = ImageDataset(val_images, val_masks, device, use_patches=False, resize_to=(384, 384))\n",
    "\n",
    "train_dataloader = torch.utils.data.DataLoader(train_dataset, batch_size=2, shuffle=True)\n",
    "val_dataloader = torch.utils.data.DataLoader(val_dataset, batch_size=2, shuffle=True)\n",
    "    \n",
    "model2 = smp.Unet(\n",
    "    encoder_name=\"resnet50\",        # choose encoder, e.g. mobilenet_v2 or efficientnet-b7\n",
    "    encoder_weights=\"imagenet\",     # use `imagenet` pre-trained weights for encoder initialization\n",
    "    in_channels=3,                  # model input channels (1 for gray-scale images, 3 for RGB, etc.)\n",
    "    classes=1,                      # model output channels (number of classes in your dataset)\n",
    ")\n",
    "model2 = model2.to(device)\n",
    "loss_fn = smp.losses.DiceLoss(smp.losses.BINARY_MODE, from_logits=True)\n",
    "metric_fns = {'acc': trainer.accuracy_fn,\n",
    "'f1_score': trainer.f1_score_fn}\n",
    "optimizer = torch.optim.Adam(model2.parameters(), lr=1e-4)\n",
    "#scheduler = ReduceLROnPlateau(optimizer)\n",
    "train(model2, optimizer, train_dataloader, val_dataloader, loss_fn, 20, None, 0, metric_fns)"
   ]
  },
  {
   "cell_type": "code",
   "execution_count": null,
   "metadata": {},
   "outputs": [],
   "source": [
    "train_images, val_images, train_masks, val_masks = train_test_split(\n",
    "        images_org, masks_org, test_size=0.1, random_state=42, shuffle=True\n",
    "    )\n",
    "\n",
    "images_aug, masks_aug = augment.augment_data(train_images, train_masks, 2)\n",
    "\n",
    "images_aug = np.stack([img/255.0 for img in images_aug]).astype(np.float32)\n",
    "masks_aug = np.stack([mask/255.0 for mask in masks_aug]).astype(np.float32)\n",
    "\n",
    "val_images = np.stack([img/255.0 for img in val_images]).astype(np.float32)\n",
    "val_masks = np.stack([mask/255.0 for mask in val_masks]).astype(np.float32)\n",
    "\n",
    "# reshape the image to simplify the handling of skip connections and maxpooling\n",
    "train_dataset = ImageDataset(images_aug, masks_aug, device, use_patches=False, resize_to=(384, 384))\n",
    "val_dataset = ImageDataset(val_images, val_masks, device, use_patches=False, resize_to=(384, 384))\n",
    "\n",
    "train_dataloader = torch.utils.data.DataLoader(train_dataset, batch_size=2, shuffle=True)\n",
    "val_dataloader = torch.utils.data.DataLoader(val_dataset, batch_size=2, shuffle=True)\n",
    "    \n",
    "loss_fn = smp.losses.DiceLoss(smp.losses.BINARY_MODE, from_logits=True)\n",
    "metric_fns = {'acc': trainer.accuracy_fn,\n",
    "'f1_score': trainer.f1_score_fn}\n",
    "optimizer = torch.optim.Adam(model2.parameters(), lr=1e-5)\n",
    "#scheduler = ReduceLROnPlateau(optimizer)\n",
    "train(model2, optimizer, train_dataloader, val_dataloader, loss_fn, 15, None, 0, metric_fns)"
   ]
  },
  {
   "cell_type": "code",
   "execution_count": null,
   "metadata": {},
   "outputs": [],
   "source": [
    "train_images, val_images, train_masks, val_masks = train_test_split(\n",
    "        images_org, masks_org, test_size=0.1, random_state=42, shuffle=True\n",
    "    )\n",
    "\n",
    "images_aug, masks_aug = augment.augment_data(train_images, train_masks, 3)\n",
    "\n",
    "images_aug = np.stack([img/255.0 for img in images_aug]).astype(np.float32)\n",
    "masks_aug = np.stack([mask/255.0 for mask in masks_aug]).astype(np.float32)\n",
    "\n",
    "val_images = np.stack([img/255.0 for img in val_images]).astype(np.float32)\n",
    "val_masks = np.stack([mask/255.0 for mask in val_masks]).astype(np.float32)\n",
    "\n",
    "# reshape the image to simplify the handling of skip connections and maxpooling\n",
    "train_dataset = ImageDataset(images_aug, masks_aug, device, use_patches=False, resize_to=(384, 384))\n",
    "val_dataset = ImageDataset(val_images, val_masks, device, use_patches=False, resize_to=(384, 384))\n",
    "\n",
    "train_dataloader = torch.utils.data.DataLoader(train_dataset, batch_size=2, shuffle=True)\n",
    "val_dataloader = torch.utils.data.DataLoader(val_dataset, batch_size=2, shuffle=True)\n",
    "    \n",
    "loss_fn = smp.losses.DiceLoss(smp.losses.BINARY_MODE, from_logits=True)\n",
    "metric_fns = {'acc': trainer.accuracy_fn,\n",
    "'f1_score': trainer.f1_score_fn}\n",
    "optimizer = torch.optim.Adam(model2.parameters(), lr=1e-5)\n",
    "#scheduler = ReduceLROnPlateau(optimizer)\n",
    "train(model2, optimizer, train_dataloader, val_dataloader, loss_fn, 15, None, 0, metric_fns)"
   ]
  },
  {
   "cell_type": "code",
   "execution_count": null,
   "metadata": {},
   "outputs": [],
   "source": [
    "train_images, val_images, train_masks, val_masks = train_test_split(\n",
    "        images_org, masks_org, test_size=0.1, random_state=42, shuffle=True\n",
    "    )\n",
    "\n",
    "images_aug, masks_aug = augment.augment_data(train_images, train_masks, 1)\n",
    "\n",
    "images_aug = np.stack([img/255.0 for img in images_aug]).astype(np.float32)\n",
    "masks_aug = np.stack([mask/255.0 for mask in masks_aug]).astype(np.float32)\n",
    "\n",
    "val_images = np.stack([img/255.0 for img in val_images]).astype(np.float32)\n",
    "val_masks = np.stack([mask/255.0 for mask in val_masks]).astype(np.float32)\n",
    "\n",
    "# reshape the image to simplify the handling of skip connections and maxpooling\n",
    "train_dataset = ImageDataset(images_aug, masks_aug, device, use_patches=False, resize_to=(384, 384))\n",
    "val_dataset = ImageDataset(val_images, val_masks, device, use_patches=False, resize_to=(384, 384))\n",
    "\n",
    "    \n",
    "train_dataloader = torch.utils.data.DataLoader(train_dataset, batch_size=3, shuffle=True)\n",
    "val_dataloader = torch.utils.data.DataLoader(val_dataset, batch_size=3, shuffle=True)\n",
    "    \n",
    "model = smp.Unet(\n",
    "    encoder_name=\"resnet101\",        # choose encoder, e.g. mobilenet_v2 or efficientnet-b7\n",
    "    encoder_weights=\"imagenet\",     # use `imagenet` pre-trained weights for encoder initialization\n",
    "    in_channels=3,                  # model input channels (1 for gray-scale images, 3 for RGB, etc.)\n",
    "    classes=1,                      # model output channels (number of classes in your dataset)\n",
    ")\n",
    "model = model.to(device)\n",
    "loss_fn = smp.losses.DiceLoss(smp.losses.BINARY_MODE, from_logits=True)\n",
    "metric_fns = {'acc': trainer.accuracy_fn,\n",
    "'f1_score': trainer.f1_score_fn}\n",
    "optimizer = torch.optim.Adam(model.parameters(), lr=1e-3)\n",
    "#scheduler = ReduceLROnPlateau(optimizer)\n",
    "train(model, optimizer, train_dataloader, val_dataloader, loss_fn, 20, None, 0, metric_fns)"
   ]
  },
  {
   "cell_type": "code",
   "execution_count": null,
   "metadata": {
    "scrolled": true
   },
   "outputs": [],
   "source": [
    "train_images, val_images, train_masks, val_masks = train_test_split(\n",
    "        images_org, masks_org, test_size=0.1, random_state=42, shuffle=True\n",
    "    )\n",
    "\n",
    "images_aug, masks_aug = augment.augment_data(train_images, train_masks, 2)\n",
    "\n",
    "images_aug = np.stack([img/255.0 for img in images_aug]).astype(np.float32)\n",
    "masks_aug = np.stack([mask/255.0 for mask in masks_aug]).astype(np.float32)\n",
    "\n",
    "val_images = np.stack([img/255.0 for img in val_images]).astype(np.float32)\n",
    "val_masks = np.stack([mask/255.0 for mask in val_masks]).astype(np.float32)\n",
    "\n",
    "# reshape the image to simplify the handling of skip connections and maxpooling\n",
    "train_dataset = ImageDataset(images_aug, masks_aug, device, use_patches=False, resize_to=(384, 384))\n",
    "val_dataset = ImageDataset(val_images, val_masks, device, use_patches=False, resize_to=(384, 384))\n",
    "\n",
    "    \n",
    "train_dataloader = torch.utils.data.DataLoader(train_dataset, batch_size=3, shuffle=True)\n",
    "val_dataloader = torch.utils.data.DataLoader(val_dataset, batch_size=3, shuffle=True)\n",
    "\n",
    "loss_fn = smp.losses.DiceLoss(smp.losses.BINARY_MODE, from_logits=True)\n",
    "metric_fns = {'acc': trainer.accuracy_fn,\n",
    "'f1_score': trainer.f1_score_fn}\n",
    "optimizer = torch.optim.Adam(model.parameters(), lr=1e-4)\n",
    "#scheduler = ReduceLROnPlateau(optimizer)\n",
    "train(model, optimizer, train_dataloader, val_dataloader, loss_fn, 20, None, 0, metric_fns)"
   ]
  },
  {
   "cell_type": "code",
   "execution_count": null,
   "metadata": {
    "scrolled": true
   },
   "outputs": [],
   "source": [
    "train_images, val_images, train_masks, val_masks = train_test_split(\n",
    "        images_org, masks_org, test_size=0.1, random_state=42, shuffle=True\n",
    "    )\n",
    "\n",
    "images_aug, masks_aug = augment.augment_data(train_images, train_masks, 1)\n",
    "\n",
    "images_aug = np.stack([img/255.0 for img in images_aug]).astype(np.float32)\n",
    "masks_aug = np.stack([mask/255.0 for mask in masks_aug]).astype(np.float32)\n",
    "\n",
    "val_images = np.stack([img/255.0 for img in val_images]).astype(np.float32)\n",
    "val_masks = np.stack([mask/255.0 for mask in val_masks]).astype(np.float32)\n",
    "\n",
    "# reshape the image to simplify the handling of skip connections and maxpooling\n",
    "train_dataset = ImageDataset(images_aug, masks_aug, device, use_patches=False, resize_to=(384, 384))\n",
    "val_dataset = ImageDataset(val_images, val_masks, device, use_patches=False, resize_to=(384, 384))\n",
    "\n",
    "    \n",
    "train_dataloader = torch.utils.data.DataLoader(train_dataset, batch_size=3, shuffle=True)\n",
    "val_dataloader = torch.utils.data.DataLoader(val_dataset, batch_size=3, shuffle=True)\n",
    "    \n",
    "model = smp.Unet(\n",
    "    encoder_name=\"resnet50\",        # choose encoder, e.g. mobilenet_v2 or efficientnet-b7\n",
    "    encoder_weights=\"imagenet\",     # use `imagenet` pre-trained weights for encoder initialization\n",
    "    in_channels=3,                  # model input channels (1 for gray-scale images, 3 for RGB, etc.)\n",
    "    classes=1,                      # model output channels (number of classes in your dataset)\n",
    ")\n",
    "model = model.to(device)\n",
    "loss_fn = smp.losses.DiceLoss(smp.losses.BINARY_MODE, from_logits=True)\n",
    "metric_fns = {'acc': trainer.accuracy_fn,\n",
    "'f1_score': trainer.f1_score_fn}\n",
    "optimizer = torch.optim.Adam(model.parameters(), lr=1e-3)\n",
    "#scheduler = ReduceLROnPlateau(optimizer)\n",
    "train(model, optimizer, train_dataloader, val_dataloader, loss_fn, 40, None, 0, metric_fns)"
   ]
  },
  {
   "cell_type": "code",
   "execution_count": null,
   "metadata": {},
   "outputs": [],
   "source": [
    "from torch.optim.lr_scheduler import ReduceLROnPlateau"
   ]
  },
  {
   "cell_type": "code",
   "execution_count": null,
   "metadata": {},
   "outputs": [],
   "source": [
    "train_images, val_images, train_masks, val_masks = train_test_split(\n",
    "        images_org, masks_org, test_size=0.1, random_state=42, shuffle=True\n",
    "    )\n",
    "\n",
    "images_aug, masks_aug = augment.augment_data(train_images, train_masks, 2)\n",
    "\n",
    "images_aug = np.stack([img/255.0 for img in images_aug]).astype(np.float32)\n",
    "masks_aug = np.stack([mask/255.0 for mask in masks_aug]).astype(np.float32)\n",
    "\n",
    "val_images = np.stack([img/255.0 for img in val_images]).astype(np.float32)\n",
    "val_masks = np.stack([mask/255.0 for mask in val_masks]).astype(np.float32)\n",
    "\n",
    "# reshape the image to simplify the handling of skip connections and maxpooling\n",
    "train_dataset = ImageDataset(images_aug, masks_aug, device, use_patches=False, resize_to=(384, 384))\n",
    "val_dataset = ImageDataset(val_images, val_masks, device, use_patches=False, resize_to=(384, 384))\n",
    "\n",
    "    \n",
    "train_dataloader = torch.utils.data.DataLoader(train_dataset, batch_size=2, shuffle=True)\n",
    "val_dataloader = torch.utils.data.DataLoader(val_dataset, batch_size=2, shuffle=True)\n",
    "    \n",
    "loss_fn = smp.losses.DiceLoss(smp.losses.BINARY_MODE, from_logits=True)\n",
    "metric_fns = {'acc': trainer.accuracy_fn,\n",
    "'f1_score': trainer.f1_score_fn}\n",
    "optimizer = torch.optim.Adam(model.parameters(), lr=1e-4)\n",
    "#scheduler = ReduceLROnPlateau(optimizer)\n",
    "train(model, optimizer, train_dataloader, val_dataloader, loss_fn, 15, None, 0, metric_fns)"
   ]
  },
  {
   "cell_type": "code",
   "execution_count": null,
   "metadata": {},
   "outputs": [],
   "source": [
    "train_images, val_images, train_masks, val_masks = train_test_split(\n",
    "        images_org, masks_org, test_size=0.1, random_state=42, shuffle=True\n",
    "    )\n",
    "\n",
    "images_aug, masks_aug = augment.augment_data(train_images, train_masks, 2)\n",
    "\n",
    "images_aug = np.stack([img/255.0 for img in images_aug]).astype(np.float32)\n",
    "masks_aug = np.stack([mask/255.0 for mask in masks_aug]).astype(np.float32)\n",
    "\n",
    "val_images = np.stack([img/255.0 for img in val_images]).astype(np.float32)\n",
    "val_masks = np.stack([mask/255.0 for mask in val_masks]).astype(np.float32)\n",
    "\n",
    "# reshape the image to simplify the handling of skip connections and maxpooling\n",
    "train_dataset = ImageDataset(images_aug, masks_aug, device, use_patches=False, resize_to=(384, 384))\n",
    "val_dataset = ImageDataset(val_images, val_masks, device, use_patches=False, resize_to=(384, 384))\n",
    "\n",
    "train_dataloader = torch.utils.data.DataLoader(train_dataset, batch_size=2, shuffle=True)\n",
    "val_dataloader = torch.utils.data.DataLoader(val_dataset, batch_size=2, shuffle=True)\n",
    "\n",
    "optimizer = torch.optim.Adam(model.parameters(), lr=1e-5)\n",
    "#scheduler = ReduceLROnPlateau(optimizer)\n",
    "train(model, optimizer, train_dataloader, val_dataloader, loss_fn, 20, None, 0, metric_fns)"
   ]
  },
  {
   "cell_type": "code",
   "execution_count": null,
   "metadata": {},
   "outputs": [],
   "source": []
  },
  {
   "cell_type": "code",
   "execution_count": null,
   "metadata": {},
   "outputs": [],
   "source": [
    "import ttach as tta\n",
    "\n",
    "transforms = tta.Compose(\n",
    "    [\n",
    "        tta.HorizontalFlip(),\n",
    "        tta.VerticalFlip(),\n",
    "        tta.Rotate90([0,90])\n",
    "    ]\n",
    ")\n",
    "\n",
    "tta_models = []\n",
    "for i in range(5):\n",
    "    tta_models.append(tta.SegmentationTTAWrapper(models[i], transforms))\n",
    "\n",
    "preds = utils.ensemble_predict(tta_models, [1,1,1,1,1], test_images)\n",
    "test_pred = np.stack([cv2.resize(img, dsize=size) for img in preds], 0)  # resize to original shape\n",
    "# now compute labels\n",
    "test_pred = test_pred.reshape((-1, size[0] // params.PATCH_SIZE, params.PATCH_SIZE, size[0] // params.PATCH_SIZE, params.PATCH_SIZE))\n",
    "test_pred = np.moveaxis(test_pred, 2, 3)\n",
    "test_pred = np.round(np.mean(test_pred, (-1, -2)) > params.CUTOFF)\n",
    "with open(\"ensemble_resunet_50_5_aug_tta.csv\", 'w') as f:\n",
    "        f.write('id,prediction\\n')\n",
    "        for fn, patch_array in zip(sorted(test_filenames), test_pred):\n",
    "            img_number = int(re.search(r\"satimage_(\\d+)\", fn).group(1))\n",
    "            for i in range(patch_array.shape[0]):\n",
    "                for j in range(patch_array.shape[1]):\n",
    "                    f.write(\"{:03d}_{}_{},{}\\n\".format(img_number, j*params.PATCH_SIZE, i*params.PATCH_SIZE, int(patch_array[i, j])))"
   ]
  },
  {
   "cell_type": "code",
   "execution_count": null,
   "metadata": {},
   "outputs": [],
   "source": [
    "models.append(model)"
   ]
  },
  {
   "cell_type": "code",
   "execution_count": null,
   "metadata": {},
   "outputs": [],
   "source": [
    "models.append(model)"
   ]
  },
  {
   "cell_type": "code",
   "execution_count": null,
   "metadata": {},
   "outputs": [],
   "source": [
    "utils.create_submission(\"test\", \"images\",'resnet_trained_further.csv', model, device)"
   ]
  },
  {
   "cell_type": "code",
   "execution_count": null,
   "metadata": {},
   "outputs": [],
   "source": [
    "from torch.optim.lr_scheduler import CosineAnnealingLR"
   ]
  },
  {
   "cell_type": "code",
   "execution_count": null,
   "metadata": {},
   "outputs": [],
   "source": [
    "train_images, val_images, train_masks, val_masks = train_test_split(\n",
    "        images_org, masks_org, test_size=0.1, random_state=42, shuffle=True\n",
    ")\n",
    "\n",
    "images_aug, masks_aug = augment.augment_data(train_images, train_masks, 2)\n",
    "\n",
    "images_aug = np.stack([img/255.0 for img in images_aug]).astype(np.float32)\n",
    "masks_aug = np.stack([mask/255.0 for mask in masks_aug]).astype(np.float32)\n",
    "\n",
    "val_images = np.stack([img/255.0 for img in val_images]).astype(np.float32)\n",
    "val_masks = np.stack([mask/255.0 for mask in val_masks]).astype(np.float32)\n",
    "\n",
    "# reshape the image to simplify the handling of skip connections and maxpooling\n",
    "train_dataset = ImageDataset(images_aug, masks_aug, device, use_patches=False, resize_to=(384, 384))\n",
    "val_dataset = ImageDataset(val_images, val_masks, device, use_patches=False, resize_to=(384, 384))\n",
    "\n",
    "    \n",
    "train_dataloader = torch.utils.data.DataLoader(train_dataset, batch_size=2, shuffle=True)\n",
    "val_dataloader = torch.utils.data.DataLoader(val_dataset, batch_size=2, shuffle=True)\n",
    "    \n",
    "\n",
    "model = models[0].to(device)\n",
    "loss_fn = smp.losses.DiceLoss(smp.losses.BINARY_MODE, from_logits=True)\n",
    "metric_fns = {'acc': trainer.accuracy_fn,'f1_score': trainer.f1_score_fn}\n",
    "optimizer = torch.optim.Adam(model.parameters(), lr=1e-5)\n",
    "scheduler = CosineAnnealingLR(optimizer, T_max=10, eta_min=1e-6)\n",
    "train(model, optimizer, train_dataloader, val_dataloader, loss_fn, 20, scheduler, 0, metric_fns)"
   ]
  },
  {
   "cell_type": "code",
   "execution_count": null,
   "metadata": {},
   "outputs": [],
   "source": [
    "utils.create_submission(\"test\", \"images\",'resnet_trained_even_further.csv', model, device)"
   ]
  },
  {
   "cell_type": "code",
   "execution_count": null,
   "metadata": {},
   "outputs": [],
   "source": [
    "from torch.optim.lr_scheduler import ReduceLROnPlateau"
   ]
  },
  {
   "cell_type": "code",
   "execution_count": null,
   "metadata": {},
   "outputs": [],
   "source": [
    "train_images, val_images, train_masks, val_masks = train_test_split(\n",
    "        images_org, masks_org, test_size=0.1, random_state=42, shuffle=True\n",
    ")\n",
    "\n",
    "images_aug, masks_aug = augment.augment_data(train_images, train_masks, 2)\n",
    "\n",
    "images_aug = np.stack([img/255.0 for img in images_aug]).astype(np.float32)\n",
    "masks_aug = np.stack([mask/255.0 for mask in masks_aug]).astype(np.float32)\n",
    "\n",
    "val_images = np.stack([img/255.0 for img in val_images]).astype(np.float32)\n",
    "val_masks = np.stack([mask/255.0 for mask in val_masks]).astype(np.float32)\n",
    "\n",
    "# reshape the image to simplify the handling of skip connections and maxpooling\n",
    "train_dataset = ImageDataset(images_aug, masks_aug, device, use_patches=False, resize_to=(384, 384))\n",
    "val_dataset = ImageDataset(val_images, val_masks, device, use_patches=False, resize_to=(384, 384))\n",
    "\n",
    "    \n",
    "train_dataloader = torch.utils.data.DataLoader(train_dataset, batch_size=2, shuffle=True)\n",
    "val_dataloader = torch.utils.data.DataLoader(val_dataset, batch_size=2, shuffle=True)\n",
    "    \n",
    "\n",
    "model = models[1].to(device)\n",
    "loss_fn = smp.losses.DiceLoss(smp.losses.BINARY_MODE, from_logits=True)\n",
    "metric_fns = {'acc': trainer.accuracy_fn,'f1_score': trainer.f1_score_fn}\n",
    "optimizer = torch.optim.Adam(model.parameters(), lr=1e-5)\n",
    "scheduler = ReduceLROnPlateau(optimizer)\n",
    "train(model, optimizer, train_dataloader, val_dataloader, loss_fn, 15, scheduler, 0, metric_fns)"
   ]
  },
  {
   "cell_type": "code",
   "execution_count": null,
   "metadata": {},
   "outputs": [],
   "source": []
  }
 ],
 "metadata": {
  "accelerator": "GPU",
  "colab": {
   "gpuType": "T4",
   "provenance": []
  },
  "kernelspec": {
   "display_name": "Python 3 (ipykernel)",
   "language": "python",
   "name": "python3"
  },
  "language_info": {
   "codemirror_mode": {
    "name": "ipython",
    "version": 3
   },
   "file_extension": ".py",
   "mimetype": "text/x-python",
   "name": "python",
   "nbconvert_exporter": "python",
   "pygments_lexer": "ipython3",
   "version": "3.10.12"
  },
  "widgets": {
   "application/vnd.jupyter.widget-state+json": {
    "0356dacdf3244561981c3c3296064c75": {
     "model_module": "@jupyter-widgets/controls",
     "model_module_version": "1.5.0",
     "model_name": "HTMLModel",
     "state": {
      "_dom_classes": [],
      "_model_module": "@jupyter-widgets/controls",
      "_model_module_version": "1.5.0",
      "_model_name": "HTMLModel",
      "_view_count": null,
      "_view_module": "@jupyter-widgets/controls",
      "_view_module_version": "1.5.0",
      "_view_name": "HTMLView",
      "description": "",
      "description_tooltip": null,
      "layout": "IPY_MODEL_5b60d5aa9743440bb56cb0d1a2d55ef3",
      "placeholder": "​",
      "style": "IPY_MODEL_66588237979c4f37b0388d8f7935959a",
      "value": " 29/29 [00:14&lt;00:00,  2.12it/s, loss=0.349, acc=0.845, patch_acc=0.804]"
     }
    },
    "07545bbbe26846a8a71584d78aeabe8d": {
     "model_module": "@jupyter-widgets/controls",
     "model_module_version": "1.5.0",
     "model_name": "HTMLModel",
     "state": {
      "_dom_classes": [],
      "_model_module": "@jupyter-widgets/controls",
      "_model_module_version": "1.5.0",
      "_model_name": "HTMLModel",
      "_view_count": null,
      "_view_module": "@jupyter-widgets/controls",
      "_view_module_version": "1.5.0",
      "_view_name": "HTMLView",
      "description": "",
      "description_tooltip": null,
      "layout": "IPY_MODEL_d0d20d0c0edf4ddd82d020c610b0e521",
      "placeholder": "​",
      "style": "IPY_MODEL_c017935d04394cb6b204fe70237475f7",
      "value": " 29/29 [00:07&lt;00:00,  4.29it/s, loss=0.389, acc=0.837, patch_acc=0.72]"
     }
    },
    "077ec395e1a94b8dbbb7401fd137e938": {
     "model_module": "@jupyter-widgets/controls",
     "model_module_version": "1.5.0",
     "model_name": "HBoxModel",
     "state": {
      "_dom_classes": [],
      "_model_module": "@jupyter-widgets/controls",
      "_model_module_version": "1.5.0",
      "_model_name": "HBoxModel",
      "_view_count": null,
      "_view_module": "@jupyter-widgets/controls",
      "_view_module_version": "1.5.0",
      "_view_name": "HBoxView",
      "box_style": "",
      "children": [
       "IPY_MODEL_bdcb03497ca74ca3b6dc83ddbc72a7cf",
       "IPY_MODEL_1a6c5e1e28a2436983d59cbd6be66b26",
       "IPY_MODEL_2f631587389a4346998862786282db3b"
      ],
      "layout": "IPY_MODEL_27e0f1464e6240e6bd5956ecd648a488"
     }
    },
    "1a453e1bd9b643ff8efe0bf42fb7fe90": {
     "model_module": "@jupyter-widgets/base",
     "model_module_version": "1.2.0",
     "model_name": "LayoutModel",
     "state": {
      "_model_module": "@jupyter-widgets/base",
      "_model_module_version": "1.2.0",
      "_model_name": "LayoutModel",
      "_view_count": null,
      "_view_module": "@jupyter-widgets/base",
      "_view_module_version": "1.2.0",
      "_view_name": "LayoutView",
      "align_content": null,
      "align_items": null,
      "align_self": null,
      "border": null,
      "bottom": null,
      "display": null,
      "flex": null,
      "flex_flow": null,
      "grid_area": null,
      "grid_auto_columns": null,
      "grid_auto_flow": null,
      "grid_auto_rows": null,
      "grid_column": null,
      "grid_gap": null,
      "grid_row": null,
      "grid_template_areas": null,
      "grid_template_columns": null,
      "grid_template_rows": null,
      "height": null,
      "justify_content": null,
      "justify_items": null,
      "left": null,
      "margin": null,
      "max_height": null,
      "max_width": null,
      "min_height": null,
      "min_width": null,
      "object_fit": null,
      "object_position": null,
      "order": null,
      "overflow": null,
      "overflow_x": null,
      "overflow_y": null,
      "padding": null,
      "right": null,
      "top": null,
      "visibility": null,
      "width": null
     }
    },
    "1a6c5e1e28a2436983d59cbd6be66b26": {
     "model_module": "@jupyter-widgets/controls",
     "model_module_version": "1.5.0",
     "model_name": "FloatProgressModel",
     "state": {
      "_dom_classes": [],
      "_model_module": "@jupyter-widgets/controls",
      "_model_module_version": "1.5.0",
      "_model_name": "FloatProgressModel",
      "_view_count": null,
      "_view_module": "@jupyter-widgets/controls",
      "_view_module_version": "1.5.0",
      "_view_name": "ProgressView",
      "bar_style": "success",
      "description": "",
      "description_tooltip": null,
      "layout": "IPY_MODEL_c5523d1c62544d249c812a061624e0e2",
      "max": 29,
      "min": 0,
      "orientation": "horizontal",
      "style": "IPY_MODEL_648b769bea8e4776a0a60a46417707b7",
      "value": 29
     }
    },
    "1aae38846f6a4e98bb6eb9aa0db9ed1e": {
     "model_module": "@jupyter-widgets/controls",
     "model_module_version": "1.5.0",
     "model_name": "HTMLModel",
     "state": {
      "_dom_classes": [],
      "_model_module": "@jupyter-widgets/controls",
      "_model_module_version": "1.5.0",
      "_model_name": "HTMLModel",
      "_view_count": null,
      "_view_module": "@jupyter-widgets/controls",
      "_view_module_version": "1.5.0",
      "_view_name": "HTMLView",
      "description": "",
      "description_tooltip": null,
      "layout": "IPY_MODEL_b7cbda34b30e4f3ebb2b9ec87b2cbf70",
      "placeholder": "​",
      "style": "IPY_MODEL_a153cff3490644ffbc8411a98b918278",
      "value": "Epoch 1/1: 100%"
     }
    },
    "1b965d02378d47d4984150f470ee0f7d": {
     "model_module": "@jupyter-widgets/controls",
     "model_module_version": "1.5.0",
     "model_name": "HTMLModel",
     "state": {
      "_dom_classes": [],
      "_model_module": "@jupyter-widgets/controls",
      "_model_module_version": "1.5.0",
      "_model_name": "HTMLModel",
      "_view_count": null,
      "_view_module": "@jupyter-widgets/controls",
      "_view_module_version": "1.5.0",
      "_view_name": "HTMLView",
      "description": "",
      "description_tooltip": null,
      "layout": "IPY_MODEL_e3b6afea44d64bd4a67d80aa2b2e26e1",
      "placeholder": "​",
      "style": "IPY_MODEL_c88dea4fcea441d482ba814e61104ad9",
      "value": "Epoch 3/5: 100%"
     }
    },
    "1ed38be279154345bec6c11343104310": {
     "model_module": "@jupyter-widgets/controls",
     "model_module_version": "1.5.0",
     "model_name": "HTMLModel",
     "state": {
      "_dom_classes": [],
      "_model_module": "@jupyter-widgets/controls",
      "_model_module_version": "1.5.0",
      "_model_name": "HTMLModel",
      "_view_count": null,
      "_view_module": "@jupyter-widgets/controls",
      "_view_module_version": "1.5.0",
      "_view_name": "HTMLView",
      "description": "",
      "description_tooltip": null,
      "layout": "IPY_MODEL_97d8800ae9664b70a2e8c2c2d498a70b",
      "placeholder": "​",
      "style": "IPY_MODEL_a84edf51e17340d98a20654bc094588e",
      "value": " 29/29 [00:14&lt;00:00,  2.19it/s, loss=0.445, acc=0.804, patch_acc=0.681]"
     }
    },
    "25f2669f1d934b85aec1c80c07cc2c49": {
     "model_module": "@jupyter-widgets/base",
     "model_module_version": "1.2.0",
     "model_name": "LayoutModel",
     "state": {
      "_model_module": "@jupyter-widgets/base",
      "_model_module_version": "1.2.0",
      "_model_name": "LayoutModel",
      "_view_count": null,
      "_view_module": "@jupyter-widgets/base",
      "_view_module_version": "1.2.0",
      "_view_name": "LayoutView",
      "align_content": null,
      "align_items": null,
      "align_self": null,
      "border": null,
      "bottom": null,
      "display": null,
      "flex": null,
      "flex_flow": null,
      "grid_area": null,
      "grid_auto_columns": null,
      "grid_auto_flow": null,
      "grid_auto_rows": null,
      "grid_column": null,
      "grid_gap": null,
      "grid_row": null,
      "grid_template_areas": null,
      "grid_template_columns": null,
      "grid_template_rows": null,
      "height": null,
      "justify_content": null,
      "justify_items": null,
      "left": null,
      "margin": null,
      "max_height": null,
      "max_width": null,
      "min_height": null,
      "min_width": null,
      "object_fit": null,
      "object_position": null,
      "order": null,
      "overflow": null,
      "overflow_x": null,
      "overflow_y": null,
      "padding": null,
      "right": null,
      "top": null,
      "visibility": null,
      "width": null
     }
    },
    "279ccf8516c24bca91440b6cefb7ec7c": {
     "model_module": "@jupyter-widgets/controls",
     "model_module_version": "1.5.0",
     "model_name": "ProgressStyleModel",
     "state": {
      "_model_module": "@jupyter-widgets/controls",
      "_model_module_version": "1.5.0",
      "_model_name": "ProgressStyleModel",
      "_view_count": null,
      "_view_module": "@jupyter-widgets/base",
      "_view_module_version": "1.2.0",
      "_view_name": "StyleView",
      "bar_color": null,
      "description_width": ""
     }
    },
    "27cf0290ada948d3a6e1c9bc585f04ba": {
     "model_module": "@jupyter-widgets/controls",
     "model_module_version": "1.5.0",
     "model_name": "DescriptionStyleModel",
     "state": {
      "_model_module": "@jupyter-widgets/controls",
      "_model_module_version": "1.5.0",
      "_model_name": "DescriptionStyleModel",
      "_view_count": null,
      "_view_module": "@jupyter-widgets/base",
      "_view_module_version": "1.2.0",
      "_view_name": "StyleView",
      "description_width": ""
     }
    },
    "27e0f1464e6240e6bd5956ecd648a488": {
     "model_module": "@jupyter-widgets/base",
     "model_module_version": "1.2.0",
     "model_name": "LayoutModel",
     "state": {
      "_model_module": "@jupyter-widgets/base",
      "_model_module_version": "1.2.0",
      "_model_name": "LayoutModel",
      "_view_count": null,
      "_view_module": "@jupyter-widgets/base",
      "_view_module_version": "1.2.0",
      "_view_name": "LayoutView",
      "align_content": null,
      "align_items": null,
      "align_self": null,
      "border": null,
      "bottom": null,
      "display": null,
      "flex": null,
      "flex_flow": null,
      "grid_area": null,
      "grid_auto_columns": null,
      "grid_auto_flow": null,
      "grid_auto_rows": null,
      "grid_column": null,
      "grid_gap": null,
      "grid_row": null,
      "grid_template_areas": null,
      "grid_template_columns": null,
      "grid_template_rows": null,
      "height": null,
      "justify_content": null,
      "justify_items": null,
      "left": null,
      "margin": null,
      "max_height": null,
      "max_width": null,
      "min_height": null,
      "min_width": null,
      "object_fit": null,
      "object_position": null,
      "order": null,
      "overflow": null,
      "overflow_x": null,
      "overflow_y": null,
      "padding": null,
      "right": null,
      "top": null,
      "visibility": null,
      "width": null
     }
    },
    "2a9d95440d4f41b49ab7d795d01e51de": {
     "model_module": "@jupyter-widgets/controls",
     "model_module_version": "1.5.0",
     "model_name": "DescriptionStyleModel",
     "state": {
      "_model_module": "@jupyter-widgets/controls",
      "_model_module_version": "1.5.0",
      "_model_name": "DescriptionStyleModel",
      "_view_count": null,
      "_view_module": "@jupyter-widgets/base",
      "_view_module_version": "1.2.0",
      "_view_name": "StyleView",
      "description_width": ""
     }
    },
    "2b0d5b96fd0b44c3b6461db9f00319f7": {
     "model_module": "@jupyter-widgets/controls",
     "model_module_version": "1.5.0",
     "model_name": "HBoxModel",
     "state": {
      "_dom_classes": [],
      "_model_module": "@jupyter-widgets/controls",
      "_model_module_version": "1.5.0",
      "_model_name": "HBoxModel",
      "_view_count": null,
      "_view_module": "@jupyter-widgets/controls",
      "_view_module_version": "1.5.0",
      "_view_name": "HBoxView",
      "box_style": "",
      "children": [
       "IPY_MODEL_2c0f2e104af14fa0972e9941c06e1c44",
       "IPY_MODEL_693243a6461a44c98b097ad4e94d6e25",
       "IPY_MODEL_c8dfc3b594d8448587c99c32cada60bc"
      ],
      "layout": "IPY_MODEL_4b73254b718b4f11b69afcc1a0a6d8eb"
     }
    },
    "2b48843e344546b2823b412e2dcf7a32": {
     "model_module": "@jupyter-widgets/base",
     "model_module_version": "1.2.0",
     "model_name": "LayoutModel",
     "state": {
      "_model_module": "@jupyter-widgets/base",
      "_model_module_version": "1.2.0",
      "_model_name": "LayoutModel",
      "_view_count": null,
      "_view_module": "@jupyter-widgets/base",
      "_view_module_version": "1.2.0",
      "_view_name": "LayoutView",
      "align_content": null,
      "align_items": null,
      "align_self": null,
      "border": null,
      "bottom": null,
      "display": null,
      "flex": null,
      "flex_flow": null,
      "grid_area": null,
      "grid_auto_columns": null,
      "grid_auto_flow": null,
      "grid_auto_rows": null,
      "grid_column": null,
      "grid_gap": null,
      "grid_row": null,
      "grid_template_areas": null,
      "grid_template_columns": null,
      "grid_template_rows": null,
      "height": null,
      "justify_content": null,
      "justify_items": null,
      "left": null,
      "margin": null,
      "max_height": null,
      "max_width": null,
      "min_height": null,
      "min_width": null,
      "object_fit": null,
      "object_position": null,
      "order": null,
      "overflow": null,
      "overflow_x": null,
      "overflow_y": null,
      "padding": null,
      "right": null,
      "top": null,
      "visibility": null,
      "width": null
     }
    },
    "2c0f2e104af14fa0972e9941c06e1c44": {
     "model_module": "@jupyter-widgets/controls",
     "model_module_version": "1.5.0",
     "model_name": "HTMLModel",
     "state": {
      "_dom_classes": [],
      "_model_module": "@jupyter-widgets/controls",
      "_model_module_version": "1.5.0",
      "_model_name": "HTMLModel",
      "_view_count": null,
      "_view_module": "@jupyter-widgets/controls",
      "_view_module_version": "1.5.0",
      "_view_name": "HTMLView",
      "description": "",
      "description_tooltip": null,
      "layout": "IPY_MODEL_5a430422ee594051aa17b5ff5d07d9bd",
      "placeholder": "​",
      "style": "IPY_MODEL_27cf0290ada948d3a6e1c9bc585f04ba",
      "value": "Epoch 2/5: 100%"
     }
    },
    "2f631587389a4346998862786282db3b": {
     "model_module": "@jupyter-widgets/controls",
     "model_module_version": "1.5.0",
     "model_name": "HTMLModel",
     "state": {
      "_dom_classes": [],
      "_model_module": "@jupyter-widgets/controls",
      "_model_module_version": "1.5.0",
      "_model_name": "HTMLModel",
      "_view_count": null,
      "_view_module": "@jupyter-widgets/controls",
      "_view_module_version": "1.5.0",
      "_view_name": "HTMLView",
      "description": "",
      "description_tooltip": null,
      "layout": "IPY_MODEL_eea1fc7b01d94b8996f2706591866901",
      "placeholder": "​",
      "style": "IPY_MODEL_7cfba533a1e44dbc87b85e6ea0f63991",
      "value": " 29/29 [00:14&lt;00:00,  2.09it/s, loss=0.345, acc=0.852, patch_acc=0.805]"
     }
    },
    "3b4ae0766045450e924828ab1ab7f93c": {
     "model_module": "@jupyter-widgets/base",
     "model_module_version": "1.2.0",
     "model_name": "LayoutModel",
     "state": {
      "_model_module": "@jupyter-widgets/base",
      "_model_module_version": "1.2.0",
      "_model_name": "LayoutModel",
      "_view_count": null,
      "_view_module": "@jupyter-widgets/base",
      "_view_module_version": "1.2.0",
      "_view_name": "LayoutView",
      "align_content": null,
      "align_items": null,
      "align_self": null,
      "border": null,
      "bottom": null,
      "display": null,
      "flex": null,
      "flex_flow": null,
      "grid_area": null,
      "grid_auto_columns": null,
      "grid_auto_flow": null,
      "grid_auto_rows": null,
      "grid_column": null,
      "grid_gap": null,
      "grid_row": null,
      "grid_template_areas": null,
      "grid_template_columns": null,
      "grid_template_rows": null,
      "height": null,
      "justify_content": null,
      "justify_items": null,
      "left": null,
      "margin": null,
      "max_height": null,
      "max_width": null,
      "min_height": null,
      "min_width": null,
      "object_fit": null,
      "object_position": null,
      "order": null,
      "overflow": null,
      "overflow_x": null,
      "overflow_y": null,
      "padding": null,
      "right": null,
      "top": null,
      "visibility": null,
      "width": null
     }
    },
    "423c20f9bfdb474eb6adc063fefa8bff": {
     "model_module": "@jupyter-widgets/controls",
     "model_module_version": "1.5.0",
     "model_name": "DescriptionStyleModel",
     "state": {
      "_model_module": "@jupyter-widgets/controls",
      "_model_module_version": "1.5.0",
      "_model_name": "DescriptionStyleModel",
      "_view_count": null,
      "_view_module": "@jupyter-widgets/base",
      "_view_module_version": "1.2.0",
      "_view_name": "StyleView",
      "description_width": ""
     }
    },
    "47739ef169734cbab8629ea09b647e3d": {
     "model_module": "@jupyter-widgets/controls",
     "model_module_version": "1.5.0",
     "model_name": "FloatProgressModel",
     "state": {
      "_dom_classes": [],
      "_model_module": "@jupyter-widgets/controls",
      "_model_module_version": "1.5.0",
      "_model_name": "FloatProgressModel",
      "_view_count": null,
      "_view_module": "@jupyter-widgets/controls",
      "_view_module_version": "1.5.0",
      "_view_name": "ProgressView",
      "bar_style": "success",
      "description": "",
      "description_tooltip": null,
      "layout": "IPY_MODEL_2b48843e344546b2823b412e2dcf7a32",
      "max": 29,
      "min": 0,
      "orientation": "horizontal",
      "style": "IPY_MODEL_b09cf406026b4503b6664668151f48d9",
      "value": 29
     }
    },
    "4824facb89cd4f999aaf242aae65804e": {
     "model_module": "@jupyter-widgets/controls",
     "model_module_version": "1.5.0",
     "model_name": "ProgressStyleModel",
     "state": {
      "_model_module": "@jupyter-widgets/controls",
      "_model_module_version": "1.5.0",
      "_model_name": "ProgressStyleModel",
      "_view_count": null,
      "_view_module": "@jupyter-widgets/base",
      "_view_module_version": "1.2.0",
      "_view_name": "StyleView",
      "bar_color": null,
      "description_width": ""
     }
    },
    "4b73254b718b4f11b69afcc1a0a6d8eb": {
     "model_module": "@jupyter-widgets/base",
     "model_module_version": "1.2.0",
     "model_name": "LayoutModel",
     "state": {
      "_model_module": "@jupyter-widgets/base",
      "_model_module_version": "1.2.0",
      "_model_name": "LayoutModel",
      "_view_count": null,
      "_view_module": "@jupyter-widgets/base",
      "_view_module_version": "1.2.0",
      "_view_name": "LayoutView",
      "align_content": null,
      "align_items": null,
      "align_self": null,
      "border": null,
      "bottom": null,
      "display": null,
      "flex": null,
      "flex_flow": null,
      "grid_area": null,
      "grid_auto_columns": null,
      "grid_auto_flow": null,
      "grid_auto_rows": null,
      "grid_column": null,
      "grid_gap": null,
      "grid_row": null,
      "grid_template_areas": null,
      "grid_template_columns": null,
      "grid_template_rows": null,
      "height": null,
      "justify_content": null,
      "justify_items": null,
      "left": null,
      "margin": null,
      "max_height": null,
      "max_width": null,
      "min_height": null,
      "min_width": null,
      "object_fit": null,
      "object_position": null,
      "order": null,
      "overflow": null,
      "overflow_x": null,
      "overflow_y": null,
      "padding": null,
      "right": null,
      "top": null,
      "visibility": null,
      "width": null
     }
    },
    "51cdd0c4cfc3482f8774b986e7c5159a": {
     "model_module": "@jupyter-widgets/controls",
     "model_module_version": "1.5.0",
     "model_name": "HTMLModel",
     "state": {
      "_dom_classes": [],
      "_model_module": "@jupyter-widgets/controls",
      "_model_module_version": "1.5.0",
      "_model_name": "HTMLModel",
      "_view_count": null,
      "_view_module": "@jupyter-widgets/controls",
      "_view_module_version": "1.5.0",
      "_view_name": "HTMLView",
      "description": "",
      "description_tooltip": null,
      "layout": "IPY_MODEL_a4b84f6c46f84522b80d04af0b057c72",
      "placeholder": "​",
      "style": "IPY_MODEL_dc4a4b17c32848929405d8236e0f74bd",
      "value": "Epoch 1/5: 100%"
     }
    },
    "534234d0fd234606b48e73cffe531520": {
     "model_module": "@jupyter-widgets/base",
     "model_module_version": "1.2.0",
     "model_name": "LayoutModel",
     "state": {
      "_model_module": "@jupyter-widgets/base",
      "_model_module_version": "1.2.0",
      "_model_name": "LayoutModel",
      "_view_count": null,
      "_view_module": "@jupyter-widgets/base",
      "_view_module_version": "1.2.0",
      "_view_name": "LayoutView",
      "align_content": null,
      "align_items": null,
      "align_self": null,
      "border": null,
      "bottom": null,
      "display": null,
      "flex": null,
      "flex_flow": null,
      "grid_area": null,
      "grid_auto_columns": null,
      "grid_auto_flow": null,
      "grid_auto_rows": null,
      "grid_column": null,
      "grid_gap": null,
      "grid_row": null,
      "grid_template_areas": null,
      "grid_template_columns": null,
      "grid_template_rows": null,
      "height": null,
      "justify_content": null,
      "justify_items": null,
      "left": null,
      "margin": null,
      "max_height": null,
      "max_width": null,
      "min_height": null,
      "min_width": null,
      "object_fit": null,
      "object_position": null,
      "order": null,
      "overflow": null,
      "overflow_x": null,
      "overflow_y": null,
      "padding": null,
      "right": null,
      "top": null,
      "visibility": null,
      "width": null
     }
    },
    "56e641bc23e3406db9bce2f685cbc594": {
     "model_module": "@jupyter-widgets/base",
     "model_module_version": "1.2.0",
     "model_name": "LayoutModel",
     "state": {
      "_model_module": "@jupyter-widgets/base",
      "_model_module_version": "1.2.0",
      "_model_name": "LayoutModel",
      "_view_count": null,
      "_view_module": "@jupyter-widgets/base",
      "_view_module_version": "1.2.0",
      "_view_name": "LayoutView",
      "align_content": null,
      "align_items": null,
      "align_self": null,
      "border": null,
      "bottom": null,
      "display": null,
      "flex": null,
      "flex_flow": null,
      "grid_area": null,
      "grid_auto_columns": null,
      "grid_auto_flow": null,
      "grid_auto_rows": null,
      "grid_column": null,
      "grid_gap": null,
      "grid_row": null,
      "grid_template_areas": null,
      "grid_template_columns": null,
      "grid_template_rows": null,
      "height": null,
      "justify_content": null,
      "justify_items": null,
      "left": null,
      "margin": null,
      "max_height": null,
      "max_width": null,
      "min_height": null,
      "min_width": null,
      "object_fit": null,
      "object_position": null,
      "order": null,
      "overflow": null,
      "overflow_x": null,
      "overflow_y": null,
      "padding": null,
      "right": null,
      "top": null,
      "visibility": null,
      "width": null
     }
    },
    "5a430422ee594051aa17b5ff5d07d9bd": {
     "model_module": "@jupyter-widgets/base",
     "model_module_version": "1.2.0",
     "model_name": "LayoutModel",
     "state": {
      "_model_module": "@jupyter-widgets/base",
      "_model_module_version": "1.2.0",
      "_model_name": "LayoutModel",
      "_view_count": null,
      "_view_module": "@jupyter-widgets/base",
      "_view_module_version": "1.2.0",
      "_view_name": "LayoutView",
      "align_content": null,
      "align_items": null,
      "align_self": null,
      "border": null,
      "bottom": null,
      "display": null,
      "flex": null,
      "flex_flow": null,
      "grid_area": null,
      "grid_auto_columns": null,
      "grid_auto_flow": null,
      "grid_auto_rows": null,
      "grid_column": null,
      "grid_gap": null,
      "grid_row": null,
      "grid_template_areas": null,
      "grid_template_columns": null,
      "grid_template_rows": null,
      "height": null,
      "justify_content": null,
      "justify_items": null,
      "left": null,
      "margin": null,
      "max_height": null,
      "max_width": null,
      "min_height": null,
      "min_width": null,
      "object_fit": null,
      "object_position": null,
      "order": null,
      "overflow": null,
      "overflow_x": null,
      "overflow_y": null,
      "padding": null,
      "right": null,
      "top": null,
      "visibility": null,
      "width": null
     }
    },
    "5b60d5aa9743440bb56cb0d1a2d55ef3": {
     "model_module": "@jupyter-widgets/base",
     "model_module_version": "1.2.0",
     "model_name": "LayoutModel",
     "state": {
      "_model_module": "@jupyter-widgets/base",
      "_model_module_version": "1.2.0",
      "_model_name": "LayoutModel",
      "_view_count": null,
      "_view_module": "@jupyter-widgets/base",
      "_view_module_version": "1.2.0",
      "_view_name": "LayoutView",
      "align_content": null,
      "align_items": null,
      "align_self": null,
      "border": null,
      "bottom": null,
      "display": null,
      "flex": null,
      "flex_flow": null,
      "grid_area": null,
      "grid_auto_columns": null,
      "grid_auto_flow": null,
      "grid_auto_rows": null,
      "grid_column": null,
      "grid_gap": null,
      "grid_row": null,
      "grid_template_areas": null,
      "grid_template_columns": null,
      "grid_template_rows": null,
      "height": null,
      "justify_content": null,
      "justify_items": null,
      "left": null,
      "margin": null,
      "max_height": null,
      "max_width": null,
      "min_height": null,
      "min_width": null,
      "object_fit": null,
      "object_position": null,
      "order": null,
      "overflow": null,
      "overflow_x": null,
      "overflow_y": null,
      "padding": null,
      "right": null,
      "top": null,
      "visibility": null,
      "width": null
     }
    },
    "5fd18f19dd6f42dbadc012a74220b5c7": {
     "model_module": "@jupyter-widgets/controls",
     "model_module_version": "1.5.0",
     "model_name": "HBoxModel",
     "state": {
      "_dom_classes": [],
      "_model_module": "@jupyter-widgets/controls",
      "_model_module_version": "1.5.0",
      "_model_name": "HBoxModel",
      "_view_count": null,
      "_view_module": "@jupyter-widgets/controls",
      "_view_module_version": "1.5.0",
      "_view_name": "HBoxView",
      "box_style": "",
      "children": [
       "IPY_MODEL_1b965d02378d47d4984150f470ee0f7d",
       "IPY_MODEL_d9fb7257a96a4397992d4d663f3a81a6",
       "IPY_MODEL_0356dacdf3244561981c3c3296064c75"
      ],
      "layout": "IPY_MODEL_f57012777045413b95cd6776d3ff7738"
     }
    },
    "61539a0719ab4f9c915507c2b6bff27a": {
     "model_module": "@jupyter-widgets/controls",
     "model_module_version": "1.5.0",
     "model_name": "HBoxModel",
     "state": {
      "_dom_classes": [],
      "_model_module": "@jupyter-widgets/controls",
      "_model_module_version": "1.5.0",
      "_model_name": "HBoxModel",
      "_view_count": null,
      "_view_module": "@jupyter-widgets/controls",
      "_view_module_version": "1.5.0",
      "_view_name": "HBoxView",
      "box_style": "",
      "children": [
       "IPY_MODEL_51cdd0c4cfc3482f8774b986e7c5159a",
       "IPY_MODEL_ff06cff8ff5846e6ab3de7535049493b",
       "IPY_MODEL_1ed38be279154345bec6c11343104310"
      ],
      "layout": "IPY_MODEL_e58c26582b4a4f7e99fee9f8f81fad7a"
     }
    },
    "648b769bea8e4776a0a60a46417707b7": {
     "model_module": "@jupyter-widgets/controls",
     "model_module_version": "1.5.0",
     "model_name": "ProgressStyleModel",
     "state": {
      "_model_module": "@jupyter-widgets/controls",
      "_model_module_version": "1.5.0",
      "_model_name": "ProgressStyleModel",
      "_view_count": null,
      "_view_module": "@jupyter-widgets/base",
      "_view_module_version": "1.2.0",
      "_view_name": "StyleView",
      "bar_color": null,
      "description_width": ""
     }
    },
    "66588237979c4f37b0388d8f7935959a": {
     "model_module": "@jupyter-widgets/controls",
     "model_module_version": "1.5.0",
     "model_name": "DescriptionStyleModel",
     "state": {
      "_model_module": "@jupyter-widgets/controls",
      "_model_module_version": "1.5.0",
      "_model_name": "DescriptionStyleModel",
      "_view_count": null,
      "_view_module": "@jupyter-widgets/base",
      "_view_module_version": "1.2.0",
      "_view_name": "StyleView",
      "description_width": ""
     }
    },
    "67440908c5034d2c9d51dd18437cf507": {
     "model_module": "@jupyter-widgets/controls",
     "model_module_version": "1.5.0",
     "model_name": "ProgressStyleModel",
     "state": {
      "_model_module": "@jupyter-widgets/controls",
      "_model_module_version": "1.5.0",
      "_model_name": "ProgressStyleModel",
      "_view_count": null,
      "_view_module": "@jupyter-widgets/base",
      "_view_module_version": "1.2.0",
      "_view_name": "StyleView",
      "bar_color": null,
      "description_width": ""
     }
    },
    "693243a6461a44c98b097ad4e94d6e25": {
     "model_module": "@jupyter-widgets/controls",
     "model_module_version": "1.5.0",
     "model_name": "FloatProgressModel",
     "state": {
      "_dom_classes": [],
      "_model_module": "@jupyter-widgets/controls",
      "_model_module_version": "1.5.0",
      "_model_name": "FloatProgressModel",
      "_view_count": null,
      "_view_module": "@jupyter-widgets/controls",
      "_view_module_version": "1.5.0",
      "_view_name": "ProgressView",
      "bar_style": "success",
      "description": "",
      "description_tooltip": null,
      "layout": "IPY_MODEL_9c8cad8c0441442ea2e8d7600b93bdbf",
      "max": 29,
      "min": 0,
      "orientation": "horizontal",
      "style": "IPY_MODEL_279ccf8516c24bca91440b6cefb7ec7c",
      "value": 29
     }
    },
    "74d643dd49304b63aea0a753515393ad": {
     "model_module": "@jupyter-widgets/base",
     "model_module_version": "1.2.0",
     "model_name": "LayoutModel",
     "state": {
      "_model_module": "@jupyter-widgets/base",
      "_model_module_version": "1.2.0",
      "_model_name": "LayoutModel",
      "_view_count": null,
      "_view_module": "@jupyter-widgets/base",
      "_view_module_version": "1.2.0",
      "_view_name": "LayoutView",
      "align_content": null,
      "align_items": null,
      "align_self": null,
      "border": null,
      "bottom": null,
      "display": null,
      "flex": null,
      "flex_flow": null,
      "grid_area": null,
      "grid_auto_columns": null,
      "grid_auto_flow": null,
      "grid_auto_rows": null,
      "grid_column": null,
      "grid_gap": null,
      "grid_row": null,
      "grid_template_areas": null,
      "grid_template_columns": null,
      "grid_template_rows": null,
      "height": null,
      "justify_content": null,
      "justify_items": null,
      "left": null,
      "margin": null,
      "max_height": null,
      "max_width": null,
      "min_height": null,
      "min_width": null,
      "object_fit": null,
      "object_position": null,
      "order": null,
      "overflow": null,
      "overflow_x": null,
      "overflow_y": null,
      "padding": null,
      "right": null,
      "top": null,
      "visibility": null,
      "width": null
     }
    },
    "7cfba533a1e44dbc87b85e6ea0f63991": {
     "model_module": "@jupyter-widgets/controls",
     "model_module_version": "1.5.0",
     "model_name": "DescriptionStyleModel",
     "state": {
      "_model_module": "@jupyter-widgets/controls",
      "_model_module_version": "1.5.0",
      "_model_name": "DescriptionStyleModel",
      "_view_count": null,
      "_view_module": "@jupyter-widgets/base",
      "_view_module_version": "1.2.0",
      "_view_name": "StyleView",
      "description_width": ""
     }
    },
    "97d8800ae9664b70a2e8c2c2d498a70b": {
     "model_module": "@jupyter-widgets/base",
     "model_module_version": "1.2.0",
     "model_name": "LayoutModel",
     "state": {
      "_model_module": "@jupyter-widgets/base",
      "_model_module_version": "1.2.0",
      "_model_name": "LayoutModel",
      "_view_count": null,
      "_view_module": "@jupyter-widgets/base",
      "_view_module_version": "1.2.0",
      "_view_name": "LayoutView",
      "align_content": null,
      "align_items": null,
      "align_self": null,
      "border": null,
      "bottom": null,
      "display": null,
      "flex": null,
      "flex_flow": null,
      "grid_area": null,
      "grid_auto_columns": null,
      "grid_auto_flow": null,
      "grid_auto_rows": null,
      "grid_column": null,
      "grid_gap": null,
      "grid_row": null,
      "grid_template_areas": null,
      "grid_template_columns": null,
      "grid_template_rows": null,
      "height": null,
      "justify_content": null,
      "justify_items": null,
      "left": null,
      "margin": null,
      "max_height": null,
      "max_width": null,
      "min_height": null,
      "min_width": null,
      "object_fit": null,
      "object_position": null,
      "order": null,
      "overflow": null,
      "overflow_x": null,
      "overflow_y": null,
      "padding": null,
      "right": null,
      "top": null,
      "visibility": null,
      "width": null
     }
    },
    "989ea4893a8244ae99ce87316e473132": {
     "model_module": "@jupyter-widgets/controls",
     "model_module_version": "1.5.0",
     "model_name": "HTMLModel",
     "state": {
      "_dom_classes": [],
      "_model_module": "@jupyter-widgets/controls",
      "_model_module_version": "1.5.0",
      "_model_name": "HTMLModel",
      "_view_count": null,
      "_view_module": "@jupyter-widgets/controls",
      "_view_module_version": "1.5.0",
      "_view_name": "HTMLView",
      "description": "",
      "description_tooltip": null,
      "layout": "IPY_MODEL_534234d0fd234606b48e73cffe531520",
      "placeholder": "​",
      "style": "IPY_MODEL_b3f4b83f179d4aae87985421f95e4fac",
      "value": "Epoch 5/5: 100%"
     }
    },
    "9c8cad8c0441442ea2e8d7600b93bdbf": {
     "model_module": "@jupyter-widgets/base",
     "model_module_version": "1.2.0",
     "model_name": "LayoutModel",
     "state": {
      "_model_module": "@jupyter-widgets/base",
      "_model_module_version": "1.2.0",
      "_model_name": "LayoutModel",
      "_view_count": null,
      "_view_module": "@jupyter-widgets/base",
      "_view_module_version": "1.2.0",
      "_view_name": "LayoutView",
      "align_content": null,
      "align_items": null,
      "align_self": null,
      "border": null,
      "bottom": null,
      "display": null,
      "flex": null,
      "flex_flow": null,
      "grid_area": null,
      "grid_auto_columns": null,
      "grid_auto_flow": null,
      "grid_auto_rows": null,
      "grid_column": null,
      "grid_gap": null,
      "grid_row": null,
      "grid_template_areas": null,
      "grid_template_columns": null,
      "grid_template_rows": null,
      "height": null,
      "justify_content": null,
      "justify_items": null,
      "left": null,
      "margin": null,
      "max_height": null,
      "max_width": null,
      "min_height": null,
      "min_width": null,
      "object_fit": null,
      "object_position": null,
      "order": null,
      "overflow": null,
      "overflow_x": null,
      "overflow_y": null,
      "padding": null,
      "right": null,
      "top": null,
      "visibility": null,
      "width": null
     }
    },
    "a0ef0392622f41669fe810c57e3ff320": {
     "model_module": "@jupyter-widgets/base",
     "model_module_version": "1.2.0",
     "model_name": "LayoutModel",
     "state": {
      "_model_module": "@jupyter-widgets/base",
      "_model_module_version": "1.2.0",
      "_model_name": "LayoutModel",
      "_view_count": null,
      "_view_module": "@jupyter-widgets/base",
      "_view_module_version": "1.2.0",
      "_view_name": "LayoutView",
      "align_content": null,
      "align_items": null,
      "align_self": null,
      "border": null,
      "bottom": null,
      "display": null,
      "flex": null,
      "flex_flow": null,
      "grid_area": null,
      "grid_auto_columns": null,
      "grid_auto_flow": null,
      "grid_auto_rows": null,
      "grid_column": null,
      "grid_gap": null,
      "grid_row": null,
      "grid_template_areas": null,
      "grid_template_columns": null,
      "grid_template_rows": null,
      "height": null,
      "justify_content": null,
      "justify_items": null,
      "left": null,
      "margin": null,
      "max_height": null,
      "max_width": null,
      "min_height": null,
      "min_width": null,
      "object_fit": null,
      "object_position": null,
      "order": null,
      "overflow": null,
      "overflow_x": null,
      "overflow_y": null,
      "padding": null,
      "right": null,
      "top": null,
      "visibility": null,
      "width": null
     }
    },
    "a153cff3490644ffbc8411a98b918278": {
     "model_module": "@jupyter-widgets/controls",
     "model_module_version": "1.5.0",
     "model_name": "DescriptionStyleModel",
     "state": {
      "_model_module": "@jupyter-widgets/controls",
      "_model_module_version": "1.5.0",
      "_model_name": "DescriptionStyleModel",
      "_view_count": null,
      "_view_module": "@jupyter-widgets/base",
      "_view_module_version": "1.2.0",
      "_view_name": "StyleView",
      "description_width": ""
     }
    },
    "a4b84f6c46f84522b80d04af0b057c72": {
     "model_module": "@jupyter-widgets/base",
     "model_module_version": "1.2.0",
     "model_name": "LayoutModel",
     "state": {
      "_model_module": "@jupyter-widgets/base",
      "_model_module_version": "1.2.0",
      "_model_name": "LayoutModel",
      "_view_count": null,
      "_view_module": "@jupyter-widgets/base",
      "_view_module_version": "1.2.0",
      "_view_name": "LayoutView",
      "align_content": null,
      "align_items": null,
      "align_self": null,
      "border": null,
      "bottom": null,
      "display": null,
      "flex": null,
      "flex_flow": null,
      "grid_area": null,
      "grid_auto_columns": null,
      "grid_auto_flow": null,
      "grid_auto_rows": null,
      "grid_column": null,
      "grid_gap": null,
      "grid_row": null,
      "grid_template_areas": null,
      "grid_template_columns": null,
      "grid_template_rows": null,
      "height": null,
      "justify_content": null,
      "justify_items": null,
      "left": null,
      "margin": null,
      "max_height": null,
      "max_width": null,
      "min_height": null,
      "min_width": null,
      "object_fit": null,
      "object_position": null,
      "order": null,
      "overflow": null,
      "overflow_x": null,
      "overflow_y": null,
      "padding": null,
      "right": null,
      "top": null,
      "visibility": null,
      "width": null
     }
    },
    "a84edf51e17340d98a20654bc094588e": {
     "model_module": "@jupyter-widgets/controls",
     "model_module_version": "1.5.0",
     "model_name": "DescriptionStyleModel",
     "state": {
      "_model_module": "@jupyter-widgets/controls",
      "_model_module_version": "1.5.0",
      "_model_name": "DescriptionStyleModel",
      "_view_count": null,
      "_view_module": "@jupyter-widgets/base",
      "_view_module_version": "1.2.0",
      "_view_name": "StyleView",
      "description_width": ""
     }
    },
    "a89d48bbf0964f6cbb79681c6514e2ad": {
     "model_module": "@jupyter-widgets/controls",
     "model_module_version": "1.5.0",
     "model_name": "ProgressStyleModel",
     "state": {
      "_model_module": "@jupyter-widgets/controls",
      "_model_module_version": "1.5.0",
      "_model_name": "ProgressStyleModel",
      "_view_count": null,
      "_view_module": "@jupyter-widgets/base",
      "_view_module_version": "1.2.0",
      "_view_name": "StyleView",
      "bar_color": null,
      "description_width": ""
     }
    },
    "ab84a877a6f54163920eefadebc62aac": {
     "model_module": "@jupyter-widgets/controls",
     "model_module_version": "1.5.0",
     "model_name": "HBoxModel",
     "state": {
      "_dom_classes": [],
      "_model_module": "@jupyter-widgets/controls",
      "_model_module_version": "1.5.0",
      "_model_name": "HBoxModel",
      "_view_count": null,
      "_view_module": "@jupyter-widgets/controls",
      "_view_module_version": "1.5.0",
      "_view_name": "HBoxView",
      "box_style": "",
      "children": [
       "IPY_MODEL_989ea4893a8244ae99ce87316e473132",
       "IPY_MODEL_b970c5ad54054df3930e6a87072ac8ca",
       "IPY_MODEL_d9193e4e55c34e11b14deb10fd7d4d20"
      ],
      "layout": "IPY_MODEL_1a453e1bd9b643ff8efe0bf42fb7fe90"
     }
    },
    "b09cf406026b4503b6664668151f48d9": {
     "model_module": "@jupyter-widgets/controls",
     "model_module_version": "1.5.0",
     "model_name": "ProgressStyleModel",
     "state": {
      "_model_module": "@jupyter-widgets/controls",
      "_model_module_version": "1.5.0",
      "_model_name": "ProgressStyleModel",
      "_view_count": null,
      "_view_module": "@jupyter-widgets/base",
      "_view_module_version": "1.2.0",
      "_view_name": "StyleView",
      "bar_color": null,
      "description_width": ""
     }
    },
    "b3f4b83f179d4aae87985421f95e4fac": {
     "model_module": "@jupyter-widgets/controls",
     "model_module_version": "1.5.0",
     "model_name": "DescriptionStyleModel",
     "state": {
      "_model_module": "@jupyter-widgets/controls",
      "_model_module_version": "1.5.0",
      "_model_name": "DescriptionStyleModel",
      "_view_count": null,
      "_view_module": "@jupyter-widgets/base",
      "_view_module_version": "1.2.0",
      "_view_name": "StyleView",
      "description_width": ""
     }
    },
    "b7cbda34b30e4f3ebb2b9ec87b2cbf70": {
     "model_module": "@jupyter-widgets/base",
     "model_module_version": "1.2.0",
     "model_name": "LayoutModel",
     "state": {
      "_model_module": "@jupyter-widgets/base",
      "_model_module_version": "1.2.0",
      "_model_name": "LayoutModel",
      "_view_count": null,
      "_view_module": "@jupyter-widgets/base",
      "_view_module_version": "1.2.0",
      "_view_name": "LayoutView",
      "align_content": null,
      "align_items": null,
      "align_self": null,
      "border": null,
      "bottom": null,
      "display": null,
      "flex": null,
      "flex_flow": null,
      "grid_area": null,
      "grid_auto_columns": null,
      "grid_auto_flow": null,
      "grid_auto_rows": null,
      "grid_column": null,
      "grid_gap": null,
      "grid_row": null,
      "grid_template_areas": null,
      "grid_template_columns": null,
      "grid_template_rows": null,
      "height": null,
      "justify_content": null,
      "justify_items": null,
      "left": null,
      "margin": null,
      "max_height": null,
      "max_width": null,
      "min_height": null,
      "min_width": null,
      "object_fit": null,
      "object_position": null,
      "order": null,
      "overflow": null,
      "overflow_x": null,
      "overflow_y": null,
      "padding": null,
      "right": null,
      "top": null,
      "visibility": null,
      "width": null
     }
    },
    "b970c5ad54054df3930e6a87072ac8ca": {
     "model_module": "@jupyter-widgets/controls",
     "model_module_version": "1.5.0",
     "model_name": "FloatProgressModel",
     "state": {
      "_dom_classes": [],
      "_model_module": "@jupyter-widgets/controls",
      "_model_module_version": "1.5.0",
      "_model_name": "FloatProgressModel",
      "_view_count": null,
      "_view_module": "@jupyter-widgets/controls",
      "_view_module_version": "1.5.0",
      "_view_name": "ProgressView",
      "bar_style": "success",
      "description": "",
      "description_tooltip": null,
      "layout": "IPY_MODEL_3b4ae0766045450e924828ab1ab7f93c",
      "max": 29,
      "min": 0,
      "orientation": "horizontal",
      "style": "IPY_MODEL_67440908c5034d2c9d51dd18437cf507",
      "value": 29
     }
    },
    "bdcb03497ca74ca3b6dc83ddbc72a7cf": {
     "model_module": "@jupyter-widgets/controls",
     "model_module_version": "1.5.0",
     "model_name": "HTMLModel",
     "state": {
      "_dom_classes": [],
      "_model_module": "@jupyter-widgets/controls",
      "_model_module_version": "1.5.0",
      "_model_name": "HTMLModel",
      "_view_count": null,
      "_view_module": "@jupyter-widgets/controls",
      "_view_module_version": "1.5.0",
      "_view_name": "HTMLView",
      "description": "",
      "description_tooltip": null,
      "layout": "IPY_MODEL_25f2669f1d934b85aec1c80c07cc2c49",
      "placeholder": "​",
      "style": "IPY_MODEL_423c20f9bfdb474eb6adc063fefa8bff",
      "value": "Epoch 4/5: 100%"
     }
    },
    "bf6c4c21f6b84304bfca7d513133d6d9": {
     "model_module": "@jupyter-widgets/base",
     "model_module_version": "1.2.0",
     "model_name": "LayoutModel",
     "state": {
      "_model_module": "@jupyter-widgets/base",
      "_model_module_version": "1.2.0",
      "_model_name": "LayoutModel",
      "_view_count": null,
      "_view_module": "@jupyter-widgets/base",
      "_view_module_version": "1.2.0",
      "_view_name": "LayoutView",
      "align_content": null,
      "align_items": null,
      "align_self": null,
      "border": null,
      "bottom": null,
      "display": null,
      "flex": null,
      "flex_flow": null,
      "grid_area": null,
      "grid_auto_columns": null,
      "grid_auto_flow": null,
      "grid_auto_rows": null,
      "grid_column": null,
      "grid_gap": null,
      "grid_row": null,
      "grid_template_areas": null,
      "grid_template_columns": null,
      "grid_template_rows": null,
      "height": null,
      "justify_content": null,
      "justify_items": null,
      "left": null,
      "margin": null,
      "max_height": null,
      "max_width": null,
      "min_height": null,
      "min_width": null,
      "object_fit": null,
      "object_position": null,
      "order": null,
      "overflow": null,
      "overflow_x": null,
      "overflow_y": null,
      "padding": null,
      "right": null,
      "top": null,
      "visibility": null,
      "width": null
     }
    },
    "c017935d04394cb6b204fe70237475f7": {
     "model_module": "@jupyter-widgets/controls",
     "model_module_version": "1.5.0",
     "model_name": "DescriptionStyleModel",
     "state": {
      "_model_module": "@jupyter-widgets/controls",
      "_model_module_version": "1.5.0",
      "_model_name": "DescriptionStyleModel",
      "_view_count": null,
      "_view_module": "@jupyter-widgets/base",
      "_view_module_version": "1.2.0",
      "_view_name": "StyleView",
      "description_width": ""
     }
    },
    "c5523d1c62544d249c812a061624e0e2": {
     "model_module": "@jupyter-widgets/base",
     "model_module_version": "1.2.0",
     "model_name": "LayoutModel",
     "state": {
      "_model_module": "@jupyter-widgets/base",
      "_model_module_version": "1.2.0",
      "_model_name": "LayoutModel",
      "_view_count": null,
      "_view_module": "@jupyter-widgets/base",
      "_view_module_version": "1.2.0",
      "_view_name": "LayoutView",
      "align_content": null,
      "align_items": null,
      "align_self": null,
      "border": null,
      "bottom": null,
      "display": null,
      "flex": null,
      "flex_flow": null,
      "grid_area": null,
      "grid_auto_columns": null,
      "grid_auto_flow": null,
      "grid_auto_rows": null,
      "grid_column": null,
      "grid_gap": null,
      "grid_row": null,
      "grid_template_areas": null,
      "grid_template_columns": null,
      "grid_template_rows": null,
      "height": null,
      "justify_content": null,
      "justify_items": null,
      "left": null,
      "margin": null,
      "max_height": null,
      "max_width": null,
      "min_height": null,
      "min_width": null,
      "object_fit": null,
      "object_position": null,
      "order": null,
      "overflow": null,
      "overflow_x": null,
      "overflow_y": null,
      "padding": null,
      "right": null,
      "top": null,
      "visibility": null,
      "width": null
     }
    },
    "c88dea4fcea441d482ba814e61104ad9": {
     "model_module": "@jupyter-widgets/controls",
     "model_module_version": "1.5.0",
     "model_name": "DescriptionStyleModel",
     "state": {
      "_model_module": "@jupyter-widgets/controls",
      "_model_module_version": "1.5.0",
      "_model_name": "DescriptionStyleModel",
      "_view_count": null,
      "_view_module": "@jupyter-widgets/base",
      "_view_module_version": "1.2.0",
      "_view_name": "StyleView",
      "description_width": ""
     }
    },
    "c8dfc3b594d8448587c99c32cada60bc": {
     "model_module": "@jupyter-widgets/controls",
     "model_module_version": "1.5.0",
     "model_name": "HTMLModel",
     "state": {
      "_dom_classes": [],
      "_model_module": "@jupyter-widgets/controls",
      "_model_module_version": "1.5.0",
      "_model_name": "HTMLModel",
      "_view_count": null,
      "_view_module": "@jupyter-widgets/controls",
      "_view_module_version": "1.5.0",
      "_view_name": "HTMLView",
      "description": "",
      "description_tooltip": null,
      "layout": "IPY_MODEL_e198ffc23a994842831607f60301d752",
      "placeholder": "​",
      "style": "IPY_MODEL_cc4e4b5cfbb74d69b5e6fcb25c8cbf41",
      "value": " 29/29 [00:14&lt;00:00,  2.14it/s, loss=0.376, acc=0.839, patch_acc=0.789]"
     }
    },
    "cc4e4b5cfbb74d69b5e6fcb25c8cbf41": {
     "model_module": "@jupyter-widgets/controls",
     "model_module_version": "1.5.0",
     "model_name": "DescriptionStyleModel",
     "state": {
      "_model_module": "@jupyter-widgets/controls",
      "_model_module_version": "1.5.0",
      "_model_name": "DescriptionStyleModel",
      "_view_count": null,
      "_view_module": "@jupyter-widgets/base",
      "_view_module_version": "1.2.0",
      "_view_name": "StyleView",
      "description_width": ""
     }
    },
    "d0d20d0c0edf4ddd82d020c610b0e521": {
     "model_module": "@jupyter-widgets/base",
     "model_module_version": "1.2.0",
     "model_name": "LayoutModel",
     "state": {
      "_model_module": "@jupyter-widgets/base",
      "_model_module_version": "1.2.0",
      "_model_name": "LayoutModel",
      "_view_count": null,
      "_view_module": "@jupyter-widgets/base",
      "_view_module_version": "1.2.0",
      "_view_name": "LayoutView",
      "align_content": null,
      "align_items": null,
      "align_self": null,
      "border": null,
      "bottom": null,
      "display": null,
      "flex": null,
      "flex_flow": null,
      "grid_area": null,
      "grid_auto_columns": null,
      "grid_auto_flow": null,
      "grid_auto_rows": null,
      "grid_column": null,
      "grid_gap": null,
      "grid_row": null,
      "grid_template_areas": null,
      "grid_template_columns": null,
      "grid_template_rows": null,
      "height": null,
      "justify_content": null,
      "justify_items": null,
      "left": null,
      "margin": null,
      "max_height": null,
      "max_width": null,
      "min_height": null,
      "min_width": null,
      "object_fit": null,
      "object_position": null,
      "order": null,
      "overflow": null,
      "overflow_x": null,
      "overflow_y": null,
      "padding": null,
      "right": null,
      "top": null,
      "visibility": null,
      "width": null
     }
    },
    "d355a1a2a252455f90d5a2ef861f2d15": {
     "model_module": "@jupyter-widgets/controls",
     "model_module_version": "1.5.0",
     "model_name": "HBoxModel",
     "state": {
      "_dom_classes": [],
      "_model_module": "@jupyter-widgets/controls",
      "_model_module_version": "1.5.0",
      "_model_name": "HBoxModel",
      "_view_count": null,
      "_view_module": "@jupyter-widgets/controls",
      "_view_module_version": "1.5.0",
      "_view_name": "HBoxView",
      "box_style": "",
      "children": [
       "IPY_MODEL_1aae38846f6a4e98bb6eb9aa0db9ed1e",
       "IPY_MODEL_47739ef169734cbab8629ea09b647e3d",
       "IPY_MODEL_07545bbbe26846a8a71584d78aeabe8d"
      ],
      "layout": "IPY_MODEL_bf6c4c21f6b84304bfca7d513133d6d9"
     }
    },
    "d9193e4e55c34e11b14deb10fd7d4d20": {
     "model_module": "@jupyter-widgets/controls",
     "model_module_version": "1.5.0",
     "model_name": "HTMLModel",
     "state": {
      "_dom_classes": [],
      "_model_module": "@jupyter-widgets/controls",
      "_model_module_version": "1.5.0",
      "_model_name": "HTMLModel",
      "_view_count": null,
      "_view_module": "@jupyter-widgets/controls",
      "_view_module_version": "1.5.0",
      "_view_name": "HTMLView",
      "description": "",
      "description_tooltip": null,
      "layout": "IPY_MODEL_74d643dd49304b63aea0a753515393ad",
      "placeholder": "​",
      "style": "IPY_MODEL_2a9d95440d4f41b49ab7d795d01e51de",
      "value": " 29/29 [00:14&lt;00:00,  2.08it/s, loss=0.329, acc=0.853, patch_acc=0.814]"
     }
    },
    "d9fb7257a96a4397992d4d663f3a81a6": {
     "model_module": "@jupyter-widgets/controls",
     "model_module_version": "1.5.0",
     "model_name": "FloatProgressModel",
     "state": {
      "_dom_classes": [],
      "_model_module": "@jupyter-widgets/controls",
      "_model_module_version": "1.5.0",
      "_model_name": "FloatProgressModel",
      "_view_count": null,
      "_view_module": "@jupyter-widgets/controls",
      "_view_module_version": "1.5.0",
      "_view_name": "ProgressView",
      "bar_style": "success",
      "description": "",
      "description_tooltip": null,
      "layout": "IPY_MODEL_56e641bc23e3406db9bce2f685cbc594",
      "max": 29,
      "min": 0,
      "orientation": "horizontal",
      "style": "IPY_MODEL_a89d48bbf0964f6cbb79681c6514e2ad",
      "value": 29
     }
    },
    "dc4a4b17c32848929405d8236e0f74bd": {
     "model_module": "@jupyter-widgets/controls",
     "model_module_version": "1.5.0",
     "model_name": "DescriptionStyleModel",
     "state": {
      "_model_module": "@jupyter-widgets/controls",
      "_model_module_version": "1.5.0",
      "_model_name": "DescriptionStyleModel",
      "_view_count": null,
      "_view_module": "@jupyter-widgets/base",
      "_view_module_version": "1.2.0",
      "_view_name": "StyleView",
      "description_width": ""
     }
    },
    "e198ffc23a994842831607f60301d752": {
     "model_module": "@jupyter-widgets/base",
     "model_module_version": "1.2.0",
     "model_name": "LayoutModel",
     "state": {
      "_model_module": "@jupyter-widgets/base",
      "_model_module_version": "1.2.0",
      "_model_name": "LayoutModel",
      "_view_count": null,
      "_view_module": "@jupyter-widgets/base",
      "_view_module_version": "1.2.0",
      "_view_name": "LayoutView",
      "align_content": null,
      "align_items": null,
      "align_self": null,
      "border": null,
      "bottom": null,
      "display": null,
      "flex": null,
      "flex_flow": null,
      "grid_area": null,
      "grid_auto_columns": null,
      "grid_auto_flow": null,
      "grid_auto_rows": null,
      "grid_column": null,
      "grid_gap": null,
      "grid_row": null,
      "grid_template_areas": null,
      "grid_template_columns": null,
      "grid_template_rows": null,
      "height": null,
      "justify_content": null,
      "justify_items": null,
      "left": null,
      "margin": null,
      "max_height": null,
      "max_width": null,
      "min_height": null,
      "min_width": null,
      "object_fit": null,
      "object_position": null,
      "order": null,
      "overflow": null,
      "overflow_x": null,
      "overflow_y": null,
      "padding": null,
      "right": null,
      "top": null,
      "visibility": null,
      "width": null
     }
    },
    "e3b6afea44d64bd4a67d80aa2b2e26e1": {
     "model_module": "@jupyter-widgets/base",
     "model_module_version": "1.2.0",
     "model_name": "LayoutModel",
     "state": {
      "_model_module": "@jupyter-widgets/base",
      "_model_module_version": "1.2.0",
      "_model_name": "LayoutModel",
      "_view_count": null,
      "_view_module": "@jupyter-widgets/base",
      "_view_module_version": "1.2.0",
      "_view_name": "LayoutView",
      "align_content": null,
      "align_items": null,
      "align_self": null,
      "border": null,
      "bottom": null,
      "display": null,
      "flex": null,
      "flex_flow": null,
      "grid_area": null,
      "grid_auto_columns": null,
      "grid_auto_flow": null,
      "grid_auto_rows": null,
      "grid_column": null,
      "grid_gap": null,
      "grid_row": null,
      "grid_template_areas": null,
      "grid_template_columns": null,
      "grid_template_rows": null,
      "height": null,
      "justify_content": null,
      "justify_items": null,
      "left": null,
      "margin": null,
      "max_height": null,
      "max_width": null,
      "min_height": null,
      "min_width": null,
      "object_fit": null,
      "object_position": null,
      "order": null,
      "overflow": null,
      "overflow_x": null,
      "overflow_y": null,
      "padding": null,
      "right": null,
      "top": null,
      "visibility": null,
      "width": null
     }
    },
    "e58c26582b4a4f7e99fee9f8f81fad7a": {
     "model_module": "@jupyter-widgets/base",
     "model_module_version": "1.2.0",
     "model_name": "LayoutModel",
     "state": {
      "_model_module": "@jupyter-widgets/base",
      "_model_module_version": "1.2.0",
      "_model_name": "LayoutModel",
      "_view_count": null,
      "_view_module": "@jupyter-widgets/base",
      "_view_module_version": "1.2.0",
      "_view_name": "LayoutView",
      "align_content": null,
      "align_items": null,
      "align_self": null,
      "border": null,
      "bottom": null,
      "display": null,
      "flex": null,
      "flex_flow": null,
      "grid_area": null,
      "grid_auto_columns": null,
      "grid_auto_flow": null,
      "grid_auto_rows": null,
      "grid_column": null,
      "grid_gap": null,
      "grid_row": null,
      "grid_template_areas": null,
      "grid_template_columns": null,
      "grid_template_rows": null,
      "height": null,
      "justify_content": null,
      "justify_items": null,
      "left": null,
      "margin": null,
      "max_height": null,
      "max_width": null,
      "min_height": null,
      "min_width": null,
      "object_fit": null,
      "object_position": null,
      "order": null,
      "overflow": null,
      "overflow_x": null,
      "overflow_y": null,
      "padding": null,
      "right": null,
      "top": null,
      "visibility": null,
      "width": null
     }
    },
    "eea1fc7b01d94b8996f2706591866901": {
     "model_module": "@jupyter-widgets/base",
     "model_module_version": "1.2.0",
     "model_name": "LayoutModel",
     "state": {
      "_model_module": "@jupyter-widgets/base",
      "_model_module_version": "1.2.0",
      "_model_name": "LayoutModel",
      "_view_count": null,
      "_view_module": "@jupyter-widgets/base",
      "_view_module_version": "1.2.0",
      "_view_name": "LayoutView",
      "align_content": null,
      "align_items": null,
      "align_self": null,
      "border": null,
      "bottom": null,
      "display": null,
      "flex": null,
      "flex_flow": null,
      "grid_area": null,
      "grid_auto_columns": null,
      "grid_auto_flow": null,
      "grid_auto_rows": null,
      "grid_column": null,
      "grid_gap": null,
      "grid_row": null,
      "grid_template_areas": null,
      "grid_template_columns": null,
      "grid_template_rows": null,
      "height": null,
      "justify_content": null,
      "justify_items": null,
      "left": null,
      "margin": null,
      "max_height": null,
      "max_width": null,
      "min_height": null,
      "min_width": null,
      "object_fit": null,
      "object_position": null,
      "order": null,
      "overflow": null,
      "overflow_x": null,
      "overflow_y": null,
      "padding": null,
      "right": null,
      "top": null,
      "visibility": null,
      "width": null
     }
    },
    "f57012777045413b95cd6776d3ff7738": {
     "model_module": "@jupyter-widgets/base",
     "model_module_version": "1.2.0",
     "model_name": "LayoutModel",
     "state": {
      "_model_module": "@jupyter-widgets/base",
      "_model_module_version": "1.2.0",
      "_model_name": "LayoutModel",
      "_view_count": null,
      "_view_module": "@jupyter-widgets/base",
      "_view_module_version": "1.2.0",
      "_view_name": "LayoutView",
      "align_content": null,
      "align_items": null,
      "align_self": null,
      "border": null,
      "bottom": null,
      "display": null,
      "flex": null,
      "flex_flow": null,
      "grid_area": null,
      "grid_auto_columns": null,
      "grid_auto_flow": null,
      "grid_auto_rows": null,
      "grid_column": null,
      "grid_gap": null,
      "grid_row": null,
      "grid_template_areas": null,
      "grid_template_columns": null,
      "grid_template_rows": null,
      "height": null,
      "justify_content": null,
      "justify_items": null,
      "left": null,
      "margin": null,
      "max_height": null,
      "max_width": null,
      "min_height": null,
      "min_width": null,
      "object_fit": null,
      "object_position": null,
      "order": null,
      "overflow": null,
      "overflow_x": null,
      "overflow_y": null,
      "padding": null,
      "right": null,
      "top": null,
      "visibility": null,
      "width": null
     }
    },
    "ff06cff8ff5846e6ab3de7535049493b": {
     "model_module": "@jupyter-widgets/controls",
     "model_module_version": "1.5.0",
     "model_name": "FloatProgressModel",
     "state": {
      "_dom_classes": [],
      "_model_module": "@jupyter-widgets/controls",
      "_model_module_version": "1.5.0",
      "_model_name": "FloatProgressModel",
      "_view_count": null,
      "_view_module": "@jupyter-widgets/controls",
      "_view_module_version": "1.5.0",
      "_view_name": "ProgressView",
      "bar_style": "success",
      "description": "",
      "description_tooltip": null,
      "layout": "IPY_MODEL_a0ef0392622f41669fe810c57e3ff320",
      "max": 29,
      "min": 0,
      "orientation": "horizontal",
      "style": "IPY_MODEL_4824facb89cd4f999aaf242aae65804e",
      "value": 29
     }
    }
   }
  }
 },
 "nbformat": 4,
 "nbformat_minor": 4
}
